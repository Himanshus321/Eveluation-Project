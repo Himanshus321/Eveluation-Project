{
 "cells": [
  {
   "cell_type": "markdown",
   "id": "c61010da",
   "metadata": {},
   "source": [
    "# Census Income Project"
   ]
  },
  {
   "cell_type": "markdown",
   "id": "ce53facc",
   "metadata": {},
   "source": [
    "# Importing necessary libraries :"
   ]
  },
  {
   "cell_type": "code",
   "execution_count": 1,
   "id": "a398ce7e",
   "metadata": {},
   "outputs": [],
   "source": [
    "import numpy as np\n",
    "import pandas as pd\n",
    "import seaborn as sns\n",
    "import matplotlib.pyplot as plt\n",
    "%matplotlib inline"
   ]
  },
  {
   "cell_type": "markdown",
   "id": "910819a3",
   "metadata": {},
   "source": [
    "# Importing dataset from GitHub Raw link"
   ]
  },
  {
   "cell_type": "code",
   "execution_count": 2,
   "id": "e13c82f8",
   "metadata": {},
   "outputs": [
    {
     "data": {
      "text/html": [
       "<div>\n",
       "<style scoped>\n",
       "    .dataframe tbody tr th:only-of-type {\n",
       "        vertical-align: middle;\n",
       "    }\n",
       "\n",
       "    .dataframe tbody tr th {\n",
       "        vertical-align: top;\n",
       "    }\n",
       "\n",
       "    .dataframe thead th {\n",
       "        text-align: right;\n",
       "    }\n",
       "</style>\n",
       "<table border=\"1\" class=\"dataframe\">\n",
       "  <thead>\n",
       "    <tr style=\"text-align: right;\">\n",
       "      <th></th>\n",
       "      <th>Age</th>\n",
       "      <th>Workclass</th>\n",
       "      <th>Fnlwgt</th>\n",
       "      <th>Education</th>\n",
       "      <th>Education_num</th>\n",
       "      <th>Marital_status</th>\n",
       "      <th>Occupation</th>\n",
       "      <th>Relationship</th>\n",
       "      <th>Race</th>\n",
       "      <th>Sex</th>\n",
       "      <th>Capital_gain</th>\n",
       "      <th>Capital_loss</th>\n",
       "      <th>Hours_per_week</th>\n",
       "      <th>Native_country</th>\n",
       "      <th>Income</th>\n",
       "    </tr>\n",
       "  </thead>\n",
       "  <tbody>\n",
       "    <tr>\n",
       "      <th>0</th>\n",
       "      <td>50</td>\n",
       "      <td>Self-emp-not-inc</td>\n",
       "      <td>83311</td>\n",
       "      <td>Bachelors</td>\n",
       "      <td>13</td>\n",
       "      <td>Married-civ-spouse</td>\n",
       "      <td>Exec-managerial</td>\n",
       "      <td>Husband</td>\n",
       "      <td>White</td>\n",
       "      <td>Male</td>\n",
       "      <td>0</td>\n",
       "      <td>0</td>\n",
       "      <td>13</td>\n",
       "      <td>United-States</td>\n",
       "      <td>&lt;=50K</td>\n",
       "    </tr>\n",
       "    <tr>\n",
       "      <th>1</th>\n",
       "      <td>38</td>\n",
       "      <td>Private</td>\n",
       "      <td>215646</td>\n",
       "      <td>HS-grad</td>\n",
       "      <td>9</td>\n",
       "      <td>Divorced</td>\n",
       "      <td>Handlers-cleaners</td>\n",
       "      <td>Not-in-family</td>\n",
       "      <td>White</td>\n",
       "      <td>Male</td>\n",
       "      <td>0</td>\n",
       "      <td>0</td>\n",
       "      <td>40</td>\n",
       "      <td>United-States</td>\n",
       "      <td>&lt;=50K</td>\n",
       "    </tr>\n",
       "    <tr>\n",
       "      <th>2</th>\n",
       "      <td>53</td>\n",
       "      <td>Private</td>\n",
       "      <td>234721</td>\n",
       "      <td>11th</td>\n",
       "      <td>7</td>\n",
       "      <td>Married-civ-spouse</td>\n",
       "      <td>Handlers-cleaners</td>\n",
       "      <td>Husband</td>\n",
       "      <td>Black</td>\n",
       "      <td>Male</td>\n",
       "      <td>0</td>\n",
       "      <td>0</td>\n",
       "      <td>40</td>\n",
       "      <td>United-States</td>\n",
       "      <td>&lt;=50K</td>\n",
       "    </tr>\n",
       "    <tr>\n",
       "      <th>3</th>\n",
       "      <td>28</td>\n",
       "      <td>Private</td>\n",
       "      <td>338409</td>\n",
       "      <td>Bachelors</td>\n",
       "      <td>13</td>\n",
       "      <td>Married-civ-spouse</td>\n",
       "      <td>Prof-specialty</td>\n",
       "      <td>Wife</td>\n",
       "      <td>Black</td>\n",
       "      <td>Female</td>\n",
       "      <td>0</td>\n",
       "      <td>0</td>\n",
       "      <td>40</td>\n",
       "      <td>Cuba</td>\n",
       "      <td>&lt;=50K</td>\n",
       "    </tr>\n",
       "    <tr>\n",
       "      <th>4</th>\n",
       "      <td>37</td>\n",
       "      <td>Private</td>\n",
       "      <td>284582</td>\n",
       "      <td>Masters</td>\n",
       "      <td>14</td>\n",
       "      <td>Married-civ-spouse</td>\n",
       "      <td>Exec-managerial</td>\n",
       "      <td>Wife</td>\n",
       "      <td>White</td>\n",
       "      <td>Female</td>\n",
       "      <td>0</td>\n",
       "      <td>0</td>\n",
       "      <td>40</td>\n",
       "      <td>United-States</td>\n",
       "      <td>&lt;=50K</td>\n",
       "    </tr>\n",
       "  </tbody>\n",
       "</table>\n",
       "</div>"
      ],
      "text/plain": [
       "   Age          Workclass  Fnlwgt   Education  Education_num  \\\n",
       "0   50   Self-emp-not-inc   83311   Bachelors             13   \n",
       "1   38            Private  215646     HS-grad              9   \n",
       "2   53            Private  234721        11th              7   \n",
       "3   28            Private  338409   Bachelors             13   \n",
       "4   37            Private  284582     Masters             14   \n",
       "\n",
       "        Marital_status          Occupation    Relationship    Race      Sex  \\\n",
       "0   Married-civ-spouse     Exec-managerial         Husband   White     Male   \n",
       "1             Divorced   Handlers-cleaners   Not-in-family   White     Male   \n",
       "2   Married-civ-spouse   Handlers-cleaners         Husband   Black     Male   \n",
       "3   Married-civ-spouse      Prof-specialty            Wife   Black   Female   \n",
       "4   Married-civ-spouse     Exec-managerial            Wife   White   Female   \n",
       "\n",
       "   Capital_gain  Capital_loss  Hours_per_week  Native_country  Income  \n",
       "0             0             0              13   United-States   <=50K  \n",
       "1             0             0              40   United-States   <=50K  \n",
       "2             0             0              40   United-States   <=50K  \n",
       "3             0             0              40            Cuba   <=50K  \n",
       "4             0             0              40   United-States   <=50K  "
      ]
     },
     "execution_count": 2,
     "metadata": {},
     "output_type": "execute_result"
    }
   ],
   "source": [
    "df=pd.read_csv('https://raw.githubusercontent.com/dsrscientist/dataset1/master/census_income.csv')\n",
    "df.head() # Checking top 5 rows."
   ]
  },
  {
   "cell_type": "code",
   "execution_count": 3,
   "id": "94b14619",
   "metadata": {},
   "outputs": [
    {
     "data": {
      "text/plain": [
       "(32560, 15)"
      ]
     },
     "execution_count": 3,
     "metadata": {},
     "output_type": "execute_result"
    }
   ],
   "source": [
    "df.shape # Checking shape of this data set."
   ]
  },
  {
   "cell_type": "code",
   "execution_count": 4,
   "id": "923b9c29",
   "metadata": {},
   "outputs": [
    {
     "data": {
      "text/plain": [
       "Index(['Age', 'Workclass', 'Fnlwgt', 'Education', 'Education_num',\n",
       "       'Marital_status', 'Occupation', 'Relationship', 'Race', 'Sex',\n",
       "       'Capital_gain', 'Capital_loss', 'Hours_per_week', 'Native_country',\n",
       "       'Income'],\n",
       "      dtype='object')"
      ]
     },
     "execution_count": 4,
     "metadata": {},
     "output_type": "execute_result"
    }
   ],
   "source": [
    "df.columns # Checking column name."
   ]
  },
  {
   "cell_type": "raw",
   "id": "8755d1e7",
   "metadata": {},
   "source": [
    "Observation:\n",
    "\n",
    "1.Age: Age of the people\n",
    "2.Workclass: Type of Job\n",
    "3.Fnlwgt:Final Weight\n",
    "4.Education:Education Status\n",
    "5.Education_num:Total No. of years in Education\n",
    "6.Marital_status: Married or Not\n",
    "7.Occupation:Occupation\n",
    "8.Relationship:Relationship\n",
    "9.Race:Residential segregation\n",
    "10.Sex: Gender\n",
    "11.Capital_gain:Capital gain is the profit one Earns\n",
    "12.Capital_loss:Capital gain is the profit one Loose\n",
    "13.Hours_per_week:Earning rate as per Hrs.\n",
    "14.Native_country: Name of Country\n",
    "15.Income: Income (Our Target Variable)\n"
   ]
  },
  {
   "cell_type": "markdown",
   "id": "42bb6e2d",
   "metadata": {},
   "source": [
    "# Exploratory Data Analysis (EDA)"
   ]
  },
  {
   "cell_type": "code",
   "execution_count": 5,
   "id": "b06629fb",
   "metadata": {},
   "outputs": [
    {
     "name": "stdout",
     "output_type": "stream",
     "text": [
      "<class 'pandas.core.frame.DataFrame'>\n",
      "RangeIndex: 32560 entries, 0 to 32559\n",
      "Data columns (total 15 columns):\n",
      " #   Column          Non-Null Count  Dtype \n",
      "---  ------          --------------  ----- \n",
      " 0   Age             32560 non-null  int64 \n",
      " 1   Workclass       32560 non-null  object\n",
      " 2   Fnlwgt          32560 non-null  int64 \n",
      " 3   Education       32560 non-null  object\n",
      " 4   Education_num   32560 non-null  int64 \n",
      " 5   Marital_status  32560 non-null  object\n",
      " 6   Occupation      32560 non-null  object\n",
      " 7   Relationship    32560 non-null  object\n",
      " 8   Race            32560 non-null  object\n",
      " 9   Sex             32560 non-null  object\n",
      " 10  Capital_gain    32560 non-null  int64 \n",
      " 11  Capital_loss    32560 non-null  int64 \n",
      " 12  Hours_per_week  32560 non-null  int64 \n",
      " 13  Native_country  32560 non-null  object\n",
      " 14  Income          32560 non-null  object\n",
      "dtypes: int64(6), object(9)\n",
      "memory usage: 3.7+ MB\n"
     ]
    }
   ],
   "source": [
    "df.info() # Checking dataset information."
   ]
  },
  {
   "cell_type": "raw",
   "id": "314ee049",
   "metadata": {},
   "source": [
    "Observations: \n",
    "\n",
    "1. The dataset contains 32560 rows and 14 feature. from which 6 features are integar and 9 are categorical.\n",
    "2. As per problem statement our target variable is Income column in which we need to predict the income is below 50K or beyond.\n",
    "3. We can see many columns having categorical data so we have to convert these into continuous data to find the prediction.\n",
    "4. Data set usage 3.7 + MB memoray so we can say its a slight big data."
   ]
  },
  {
   "cell_type": "code",
   "execution_count": 6,
   "id": "f14b4d59",
   "metadata": {},
   "outputs": [
    {
     "data": {
      "text/plain": [
       "Age               0\n",
       "Workclass         0\n",
       "Fnlwgt            0\n",
       "Education         0\n",
       "Education_num     0\n",
       "Marital_status    0\n",
       "Occupation        0\n",
       "Relationship      0\n",
       "Race              0\n",
       "Sex               0\n",
       "Capital_gain      0\n",
       "Capital_loss      0\n",
       "Hours_per_week    0\n",
       "Native_country    0\n",
       "Income            0\n",
       "dtype: int64"
      ]
     },
     "execution_count": 6,
     "metadata": {},
     "output_type": "execute_result"
    }
   ],
   "source": [
    "df.isnull().sum() # Checking Null values from data set."
   ]
  },
  {
   "cell_type": "markdown",
   "id": "2b66836a",
   "metadata": {},
   "source": [
    "We can check from .isnull method that there is no any nan present in this dataset"
   ]
  },
  {
   "cell_type": "markdown",
   "id": "252cdcec",
   "metadata": {},
   "source": [
    "# Checking Unique Values of Each Column"
   ]
  },
  {
   "cell_type": "code",
   "execution_count": 7,
   "id": "0e31ca65",
   "metadata": {},
   "outputs": [
    {
     "data": {
      "text/plain": [
       "Age                  73\n",
       "Workclass             9\n",
       "Fnlwgt            21647\n",
       "Education            16\n",
       "Education_num        16\n",
       "Marital_status        7\n",
       "Occupation           15\n",
       "Relationship          6\n",
       "Race                  5\n",
       "Sex                   2\n",
       "Capital_gain        119\n",
       "Capital_loss         92\n",
       "Hours_per_week       94\n",
       "Native_country       42\n",
       "Income                2\n",
       "dtype: int64"
      ]
     },
     "execution_count": 7,
     "metadata": {},
     "output_type": "execute_result"
    }
   ],
   "source": [
    "df.nunique()"
   ]
  },
  {
   "cell_type": "code",
   "execution_count": 8,
   "id": "9687312c",
   "metadata": {},
   "outputs": [
    {
     "data": {
      "text/plain": [
       "array([50, 38, 53, 28, 37, 49, 52, 31, 42, 30, 23, 32, 40, 34, 25, 43, 54,\n",
       "       35, 59, 56, 19, 39, 20, 45, 22, 48, 21, 24, 57, 44, 41, 29, 18, 47,\n",
       "       46, 36, 79, 27, 67, 33, 76, 17, 55, 61, 70, 64, 71, 68, 66, 51, 58,\n",
       "       26, 60, 90, 75, 65, 77, 62, 63, 80, 72, 74, 69, 73, 81, 78, 88, 82,\n",
       "       83, 84, 85, 86, 87], dtype=int64)"
      ]
     },
     "execution_count": 8,
     "metadata": {},
     "output_type": "execute_result"
    }
   ],
   "source": [
    "df['Age'].unique()"
   ]
  },
  {
   "cell_type": "code",
   "execution_count": 9,
   "id": "c68558a2",
   "metadata": {},
   "outputs": [
    {
     "data": {
      "text/plain": [
       "array([' Self-emp-not-inc', ' Private', ' State-gov', ' Federal-gov',\n",
       "       ' Local-gov', ' ?', ' Self-emp-inc', ' Without-pay',\n",
       "       ' Never-worked'], dtype=object)"
      ]
     },
     "execution_count": 9,
     "metadata": {},
     "output_type": "execute_result"
    }
   ],
   "source": [
    "df['Workclass'].unique()"
   ]
  },
  {
   "cell_type": "raw",
   "id": "1afe4e55",
   "metadata": {},
   "source": [
    "Observation:\n",
    "\n",
    "There is ? present this feature which can be missing values in this feature."
   ]
  },
  {
   "cell_type": "code",
   "execution_count": 10,
   "id": "ac4c0bdd",
   "metadata": {},
   "outputs": [
    {
     "data": {
      "text/plain": [
       "array([ 83311, 215646, 234721, ...,  34066,  84661, 257302], dtype=int64)"
      ]
     },
     "execution_count": 10,
     "metadata": {},
     "output_type": "execute_result"
    }
   ],
   "source": [
    "df['Fnlwgt'].unique()"
   ]
  },
  {
   "cell_type": "code",
   "execution_count": 11,
   "id": "6bb6d5fa",
   "metadata": {},
   "outputs": [
    {
     "data": {
      "text/plain": [
       "array([' Bachelors', ' HS-grad', ' 11th', ' Masters', ' 9th',\n",
       "       ' Some-college', ' Assoc-acdm', ' Assoc-voc', ' 7th-8th',\n",
       "       ' Doctorate', ' Prof-school', ' 5th-6th', ' 10th', ' 1st-4th',\n",
       "       ' Preschool', ' 12th'], dtype=object)"
      ]
     },
     "execution_count": 11,
     "metadata": {},
     "output_type": "execute_result"
    }
   ],
   "source": [
    "df['Education'].unique()"
   ]
  },
  {
   "cell_type": "code",
   "execution_count": 12,
   "id": "bb1d4266",
   "metadata": {},
   "outputs": [
    {
     "data": {
      "text/plain": [
       "array([13,  9,  7, 14,  5, 10, 12, 11,  4, 16, 15,  3,  6,  2,  1,  8],\n",
       "      dtype=int64)"
      ]
     },
     "execution_count": 12,
     "metadata": {},
     "output_type": "execute_result"
    }
   ],
   "source": [
    "df['Education_num'].unique()"
   ]
  },
  {
   "cell_type": "code",
   "execution_count": 13,
   "id": "2bc73f00",
   "metadata": {},
   "outputs": [
    {
     "data": {
      "text/plain": [
       "array([' Married-civ-spouse', ' Divorced', ' Married-spouse-absent',\n",
       "       ' Never-married', ' Separated', ' Married-AF-spouse', ' Widowed'],\n",
       "      dtype=object)"
      ]
     },
     "execution_count": 13,
     "metadata": {},
     "output_type": "execute_result"
    }
   ],
   "source": [
    "df['Marital_status'].unique()"
   ]
  },
  {
   "cell_type": "code",
   "execution_count": 14,
   "id": "4155f3d0",
   "metadata": {},
   "outputs": [
    {
     "data": {
      "text/plain": [
       "array([' Exec-managerial', ' Handlers-cleaners', ' Prof-specialty',\n",
       "       ' Other-service', ' Adm-clerical', ' Sales', ' Craft-repair',\n",
       "       ' Transport-moving', ' Farming-fishing', ' Machine-op-inspct',\n",
       "       ' Tech-support', ' ?', ' Protective-serv', ' Armed-Forces',\n",
       "       ' Priv-house-serv'], dtype=object)"
      ]
     },
     "execution_count": 14,
     "metadata": {},
     "output_type": "execute_result"
    }
   ],
   "source": [
    "df['Occupation'].unique()"
   ]
  },
  {
   "cell_type": "raw",
   "id": "84536aaf",
   "metadata": {},
   "source": [
    "Observation:\n",
    "\n",
    "There is ? present this feature which can be missing values in this feature."
   ]
  },
  {
   "cell_type": "code",
   "execution_count": 15,
   "id": "38431080",
   "metadata": {},
   "outputs": [
    {
     "data": {
      "text/plain": [
       "array([' Husband', ' Not-in-family', ' Wife', ' Own-child', ' Unmarried',\n",
       "       ' Other-relative'], dtype=object)"
      ]
     },
     "execution_count": 15,
     "metadata": {},
     "output_type": "execute_result"
    }
   ],
   "source": [
    "df['Relationship'].unique()"
   ]
  },
  {
   "cell_type": "code",
   "execution_count": 16,
   "id": "0c702dc5",
   "metadata": {},
   "outputs": [
    {
     "data": {
      "text/plain": [
       "array([' White', ' Black', ' Asian-Pac-Islander', ' Amer-Indian-Eskimo',\n",
       "       ' Other'], dtype=object)"
      ]
     },
     "execution_count": 16,
     "metadata": {},
     "output_type": "execute_result"
    }
   ],
   "source": [
    "df['Race'].unique()"
   ]
  },
  {
   "cell_type": "code",
   "execution_count": 17,
   "id": "99b5e9df",
   "metadata": {},
   "outputs": [
    {
     "data": {
      "text/plain": [
       "array([' Male', ' Female'], dtype=object)"
      ]
     },
     "execution_count": 17,
     "metadata": {},
     "output_type": "execute_result"
    }
   ],
   "source": [
    "df['Sex'].unique()"
   ]
  },
  {
   "cell_type": "code",
   "execution_count": 18,
   "id": "3b4323fd",
   "metadata": {},
   "outputs": [
    {
     "data": {
      "text/plain": [
       "array([    0, 14084,  5178,  5013,  2407, 14344, 15024,  7688, 34095,\n",
       "        4064,  4386,  7298,  1409,  3674,  1055,  3464,  2050,  2176,\n",
       "        2174,   594, 20051,  6849,  4101,  1111,  8614,  3411,  2597,\n",
       "       25236,  4650,  9386,  2463,  3103, 10605,  2964,  3325,  2580,\n",
       "        3471,  4865, 99999,  6514,  1471,  2329,  2105,  2885, 25124,\n",
       "       10520,  2202,  2961, 27828,  6767,  2228,  1506, 13550,  2635,\n",
       "        5556,  4787,  3781,  3137,  3818,  3942,   914,   401,  2829,\n",
       "        2977,  4934,  2062,  2354,  5455, 15020,  1424,  3273, 22040,\n",
       "        4416,  3908, 10566,   991,  4931,  1086,  7430,  6497,   114,\n",
       "        7896,  2346,  3418,  3432,  2907,  1151,  2414,  2290, 15831,\n",
       "       41310,  4508,  2538,  3456,  6418,  1848,  3887,  5721,  9562,\n",
       "        1455,  2036,  1831, 11678,  2936,  2993,  7443,  6360,  1797,\n",
       "        1173,  4687,  6723,  2009,  6097,  2653,  1639, 18481,  7978,\n",
       "        2387,  5060], dtype=int64)"
      ]
     },
     "execution_count": 18,
     "metadata": {},
     "output_type": "execute_result"
    }
   ],
   "source": [
    "df['Capital_gain'].unique()"
   ]
  },
  {
   "cell_type": "code",
   "execution_count": 19,
   "id": "a75deed6",
   "metadata": {},
   "outputs": [
    {
     "data": {
      "text/plain": [
       "array([   0, 2042, 1408, 1902, 1573, 1887, 1719, 1762, 1564, 2179, 1816,\n",
       "       1980, 1977, 1876, 1340, 2206, 1741, 1485, 2339, 2415, 1380, 1721,\n",
       "       2051, 2377, 1669, 2352, 1672,  653, 2392, 1504, 2001, 1590, 1651,\n",
       "       1628, 1848, 1740, 2002, 1579, 2258, 1602,  419, 2547, 2174, 2205,\n",
       "       1726, 2444, 1138, 2238,  625,  213, 1539,  880, 1668, 1092, 1594,\n",
       "       3004, 2231, 1844,  810, 2824, 2559, 2057, 1974,  974, 2149, 1825,\n",
       "       1735, 1258, 2129, 2603, 2282,  323, 4356, 2246, 1617, 1648, 2489,\n",
       "       3770, 1755, 3683, 2267, 2080, 2457,  155, 3900, 2201, 1944, 2467,\n",
       "       2163, 2754, 2472, 1411], dtype=int64)"
      ]
     },
     "execution_count": 19,
     "metadata": {},
     "output_type": "execute_result"
    }
   ],
   "source": [
    "df['Capital_loss'].unique()"
   ]
  },
  {
   "cell_type": "code",
   "execution_count": 20,
   "id": "ff871b87",
   "metadata": {},
   "outputs": [
    {
     "data": {
      "text/plain": [
       "array([13, 40, 16, 45, 50, 80, 30, 35, 60, 20, 52, 44, 15, 25, 38, 43, 55,\n",
       "       48, 58, 32, 70,  2, 22, 56, 41, 28, 36, 24, 46, 42, 12, 65,  1, 10,\n",
       "       34, 75, 98, 33, 54,  8,  6, 64, 19, 18, 72,  5,  9, 47, 37, 21, 26,\n",
       "       14,  4, 59,  7, 99, 53, 39, 62, 57, 78, 90, 66, 11, 49, 84,  3, 17,\n",
       "       68, 27, 85, 31, 51, 77, 63, 23, 87, 88, 73, 89, 97, 94, 29, 96, 67,\n",
       "       82, 86, 91, 81, 76, 92, 61, 74, 95], dtype=int64)"
      ]
     },
     "execution_count": 20,
     "metadata": {},
     "output_type": "execute_result"
    }
   ],
   "source": [
    "df['Hours_per_week'].unique()"
   ]
  },
  {
   "cell_type": "code",
   "execution_count": 21,
   "id": "99406bb2",
   "metadata": {},
   "outputs": [
    {
     "data": {
      "text/plain": [
       "array([' United-States', ' Cuba', ' Jamaica', ' India', ' ?', ' Mexico',\n",
       "       ' South', ' Puerto-Rico', ' Honduras', ' England', ' Canada',\n",
       "       ' Germany', ' Iran', ' Philippines', ' Italy', ' Poland',\n",
       "       ' Columbia', ' Cambodia', ' Thailand', ' Ecuador', ' Laos',\n",
       "       ' Taiwan', ' Haiti', ' Portugal', ' Dominican-Republic',\n",
       "       ' El-Salvador', ' France', ' Guatemala', ' China', ' Japan',\n",
       "       ' Yugoslavia', ' Peru', ' Outlying-US(Guam-USVI-etc)', ' Scotland',\n",
       "       ' Trinadad&Tobago', ' Greece', ' Nicaragua', ' Vietnam', ' Hong',\n",
       "       ' Ireland', ' Hungary', ' Holand-Netherlands'], dtype=object)"
      ]
     },
     "execution_count": 21,
     "metadata": {},
     "output_type": "execute_result"
    }
   ],
   "source": [
    "df['Native_country'].unique()"
   ]
  },
  {
   "cell_type": "raw",
   "id": "bcb81a74",
   "metadata": {},
   "source": [
    "Observation:\n",
    "\n",
    "There is ? present this feature which can be missing values in this feature."
   ]
  },
  {
   "cell_type": "code",
   "execution_count": 22,
   "id": "9dbda186",
   "metadata": {},
   "outputs": [
    {
     "data": {
      "text/plain": [
       "array([' <=50K', ' >50K'], dtype=object)"
      ]
     },
     "execution_count": 22,
     "metadata": {},
     "output_type": "execute_result"
    }
   ],
   "source": [
    "df['Income'].unique()"
   ]
  },
  {
   "cell_type": "raw",
   "id": "cfa63062",
   "metadata": {},
   "source": [
    "Observation:\n",
    "    \n",
    "There are two variable in our target. 1. Below 50K 2. Above 50K"
   ]
  },
  {
   "cell_type": "markdown",
   "id": "6db28b4f",
   "metadata": {},
   "source": [
    "# Preprocessing"
   ]
  },
  {
   "cell_type": "code",
   "execution_count": 23,
   "id": "86db675c",
   "metadata": {},
   "outputs": [],
   "source": [
    "# Now we will  remove ? from features.\n",
    "\n",
    "df['Native_country']=df['Native_country'].replace(' ?',np.nan)\n",
    "df['Occupation']=df['Occupation'].replace(' ?',np.nan)\n",
    "df['Workclass']=df['Workclass'].replace(' ?',np.nan)\n"
   ]
  },
  {
   "cell_type": "code",
   "execution_count": 24,
   "id": "47b81c14",
   "metadata": {},
   "outputs": [
    {
     "data": {
      "text/plain": [
       "Age                  0\n",
       "Workclass         1836\n",
       "Fnlwgt               0\n",
       "Education            0\n",
       "Education_num        0\n",
       "Marital_status       0\n",
       "Occupation        1843\n",
       "Relationship         0\n",
       "Race                 0\n",
       "Sex                  0\n",
       "Capital_gain         0\n",
       "Capital_loss         0\n",
       "Hours_per_week       0\n",
       "Native_country     583\n",
       "Income               0\n",
       "dtype: int64"
      ]
     },
     "execution_count": 24,
     "metadata": {},
     "output_type": "execute_result"
    }
   ],
   "source": [
    "# Now again check Null Values in Data set.\n",
    "df.isnull().sum()"
   ]
  },
  {
   "cell_type": "code",
   "execution_count": 25,
   "id": "fb5e52f1",
   "metadata": {},
   "outputs": [
    {
     "data": {
      "text/plain": [
       "24"
      ]
     },
     "execution_count": 25,
     "metadata": {},
     "output_type": "execute_result"
    }
   ],
   "source": [
    "df.duplicated().sum() # Checking duplicates in dataset."
   ]
  },
  {
   "cell_type": "code",
   "execution_count": 26,
   "id": "678f85c8",
   "metadata": {},
   "outputs": [],
   "source": [
    "df=df.drop_duplicates() # Dropping duplicates"
   ]
  },
  {
   "cell_type": "code",
   "execution_count": 27,
   "id": "a10d3475",
   "metadata": {},
   "outputs": [
    {
     "data": {
      "text/plain": [
       "(32536, 15)"
      ]
     },
     "execution_count": 27,
     "metadata": {},
     "output_type": "execute_result"
    }
   ],
   "source": [
    "df.shape # Check again shape"
   ]
  },
  {
   "cell_type": "code",
   "execution_count": 28,
   "id": "7bddd740",
   "metadata": {},
   "outputs": [],
   "source": [
    "df['Native_country']=df['Native_country'].fillna(df['Native_country'].mode()[0])\n",
    "df['Occupation']=df['Occupation'].fillna(df['Occupation'].mode()[0])\n",
    "df['Workclass']=df['Workclass'].fillna(df['Workclass'].mode()[0])\n",
    "# remove nan from dataset using mode method because these features belong to categorical data type."
   ]
  },
  {
   "cell_type": "code",
   "execution_count": 29,
   "id": "87e0b25e",
   "metadata": {},
   "outputs": [
    {
     "data": {
      "text/plain": [
       "Age               0\n",
       "Workclass         0\n",
       "Fnlwgt            0\n",
       "Education         0\n",
       "Education_num     0\n",
       "Marital_status    0\n",
       "Occupation        0\n",
       "Relationship      0\n",
       "Race              0\n",
       "Sex               0\n",
       "Capital_gain      0\n",
       "Capital_loss      0\n",
       "Hours_per_week    0\n",
       "Native_country    0\n",
       "Income            0\n",
       "dtype: int64"
      ]
     },
     "execution_count": 29,
     "metadata": {},
     "output_type": "execute_result"
    }
   ],
   "source": [
    "df.isnull().sum() # checking again after remove nan."
   ]
  },
  {
   "cell_type": "code",
   "execution_count": 30,
   "id": "e943ce6a",
   "metadata": {},
   "outputs": [
    {
     "data": {
      "text/html": [
       "<div>\n",
       "<style scoped>\n",
       "    .dataframe tbody tr th:only-of-type {\n",
       "        vertical-align: middle;\n",
       "    }\n",
       "\n",
       "    .dataframe tbody tr th {\n",
       "        vertical-align: top;\n",
       "    }\n",
       "\n",
       "    .dataframe thead th {\n",
       "        text-align: right;\n",
       "    }\n",
       "</style>\n",
       "<table border=\"1\" class=\"dataframe\">\n",
       "  <thead>\n",
       "    <tr style=\"text-align: right;\">\n",
       "      <th></th>\n",
       "      <th>count</th>\n",
       "      <th>mean</th>\n",
       "      <th>std</th>\n",
       "      <th>min</th>\n",
       "      <th>25%</th>\n",
       "      <th>50%</th>\n",
       "      <th>75%</th>\n",
       "      <th>max</th>\n",
       "    </tr>\n",
       "  </thead>\n",
       "  <tbody>\n",
       "    <tr>\n",
       "      <th>Age</th>\n",
       "      <td>32536.0</td>\n",
       "      <td>38.585536</td>\n",
       "      <td>13.638193</td>\n",
       "      <td>17.0</td>\n",
       "      <td>28.0</td>\n",
       "      <td>37.0</td>\n",
       "      <td>48.00</td>\n",
       "      <td>90.0</td>\n",
       "    </tr>\n",
       "    <tr>\n",
       "      <th>Fnlwgt</th>\n",
       "      <td>32536.0</td>\n",
       "      <td>189784.298992</td>\n",
       "      <td>105556.258211</td>\n",
       "      <td>12285.0</td>\n",
       "      <td>117831.5</td>\n",
       "      <td>178356.0</td>\n",
       "      <td>236993.25</td>\n",
       "      <td>1484705.0</td>\n",
       "    </tr>\n",
       "    <tr>\n",
       "      <th>Education_num</th>\n",
       "      <td>32536.0</td>\n",
       "      <td>10.081725</td>\n",
       "      <td>2.571622</td>\n",
       "      <td>1.0</td>\n",
       "      <td>9.0</td>\n",
       "      <td>10.0</td>\n",
       "      <td>12.00</td>\n",
       "      <td>16.0</td>\n",
       "    </tr>\n",
       "    <tr>\n",
       "      <th>Capital_gain</th>\n",
       "      <td>32536.0</td>\n",
       "      <td>1078.410069</td>\n",
       "      <td>7388.068465</td>\n",
       "      <td>0.0</td>\n",
       "      <td>0.0</td>\n",
       "      <td>0.0</td>\n",
       "      <td>0.00</td>\n",
       "      <td>99999.0</td>\n",
       "    </tr>\n",
       "    <tr>\n",
       "      <th>Capital_loss</th>\n",
       "      <td>32536.0</td>\n",
       "      <td>87.370912</td>\n",
       "      <td>403.107737</td>\n",
       "      <td>0.0</td>\n",
       "      <td>0.0</td>\n",
       "      <td>0.0</td>\n",
       "      <td>0.00</td>\n",
       "      <td>4356.0</td>\n",
       "    </tr>\n",
       "    <tr>\n",
       "      <th>Hours_per_week</th>\n",
       "      <td>32536.0</td>\n",
       "      <td>40.440343</td>\n",
       "      <td>12.347079</td>\n",
       "      <td>1.0</td>\n",
       "      <td>40.0</td>\n",
       "      <td>40.0</td>\n",
       "      <td>45.00</td>\n",
       "      <td>99.0</td>\n",
       "    </tr>\n",
       "  </tbody>\n",
       "</table>\n",
       "</div>"
      ],
      "text/plain": [
       "                  count           mean            std      min       25%  \\\n",
       "Age             32536.0      38.585536      13.638193     17.0      28.0   \n",
       "Fnlwgt          32536.0  189784.298992  105556.258211  12285.0  117831.5   \n",
       "Education_num   32536.0      10.081725       2.571622      1.0       9.0   \n",
       "Capital_gain    32536.0    1078.410069    7388.068465      0.0       0.0   \n",
       "Capital_loss    32536.0      87.370912     403.107737      0.0       0.0   \n",
       "Hours_per_week  32536.0      40.440343      12.347079      1.0      40.0   \n",
       "\n",
       "                     50%        75%        max  \n",
       "Age                 37.0      48.00       90.0  \n",
       "Fnlwgt          178356.0  236993.25  1484705.0  \n",
       "Education_num       10.0      12.00       16.0  \n",
       "Capital_gain         0.0       0.00    99999.0  \n",
       "Capital_loss         0.0       0.00     4356.0  \n",
       "Hours_per_week      40.0      45.00       99.0  "
      ]
     },
     "execution_count": 30,
     "metadata": {},
     "output_type": "execute_result"
    }
   ],
   "source": [
    "df.describe().T # Checking Stats of continuous features."
   ]
  },
  {
   "cell_type": "raw",
   "id": "3e3df2a9",
   "metadata": {},
   "source": [
    "Observation:\n",
    "\n",
    "1. No Nulls\n",
    "2. fnlwgt column looking fine\n",
    "3. Capital gain and loss should not be Zero in minimum , 25%, 50 % and 75%. because Gain and loss could not be zero.\n",
    "4. Also mean and Std deviation in Capital gain & Capital loss looking abnormal.\n",
    "5. All the features are on different scales. will do on same scale before model building.\n"
   ]
  },
  {
   "cell_type": "markdown",
   "id": "dfd83c74",
   "metadata": {},
   "source": [
    "# Visualization: "
   ]
  },
  {
   "cell_type": "code",
   "execution_count": 31,
   "id": "2e83d11d",
   "metadata": {},
   "outputs": [
    {
     "name": "stdout",
     "output_type": "stream",
     "text": [
      " <=50K    24697\n",
      " >50K      7839\n",
      "Name: Income, dtype: int64\n"
     ]
    },
    {
     "data": {
      "image/png": "[encoded data removed]",
      "text/plain": [
       "<Figure size 432x288 with 1 Axes>"
      ]
     },
     "metadata": {
      "needs_background": "light"
     },
     "output_type": "display_data"
    }
   ],
   "source": [
    "sns.countplot(x='Income',data=df) # Checking counts of target variable with the help of countplot.\n",
    "print(df['Income'].value_counts())"
   ]
  },
  {
   "cell_type": "raw",
   "id": "a31d455b",
   "metadata": {},
   "source": [
    "Observation: \n",
    "    \n",
    "We can say that out of total 24697 (85%) getting below 50K salary and 7839 (15%) getting above 50 K Salary.\n"
   ]
  },
  {
   "cell_type": "code",
   "execution_count": 32,
   "id": "a81af3c6",
   "metadata": {},
   "outputs": [
    {
     "name": "stdout",
     "output_type": "stream",
     "text": [
      " Private             24509\n",
      " Self-emp-not-inc     2540\n",
      " Local-gov            2093\n",
      " State-gov            1297\n",
      " Self-emp-inc         1116\n",
      " Federal-gov           960\n",
      " Without-pay            14\n",
      " Never-worked            7\n",
      "Name: Workclass, dtype: int64\n"
     ]
    },
    {
     "data": {
      "image/png": "[encoded data removed]",
      "text/plain": [
       "<Figure size 432x288 with 1 Axes>"
      ]
     },
     "metadata": {
      "needs_background": "light"
     },
     "output_type": "display_data"
    }
   ],
   "source": [
    "sns.countplot(x='Workclass',data=df) # Checking counts of workclass with the help of countplot.\n",
    "print(df['Workclass'].value_counts())"
   ]
  },
  {
   "cell_type": "raw",
   "id": "363ca3b7",
   "metadata": {},
   "source": [
    "Observation:\n",
    "    \n",
    "we can say that maximum person have private job in this data set."
   ]
  },
  {
   "cell_type": "code",
   "execution_count": 33,
   "id": "4d9b02e9",
   "metadata": {},
   "outputs": [
    {
     "name": "stdout",
     "output_type": "stream",
     "text": [
      " HS-grad         10494\n",
      " Some-college     7282\n",
      " Bachelors        5352\n",
      " Masters          1722\n",
      " Assoc-voc        1382\n",
      " 11th             1175\n",
      " Assoc-acdm       1067\n",
      " 10th              933\n",
      " 7th-8th           645\n",
      " Prof-school       576\n",
      " 9th               514\n",
      " 12th              433\n",
      " Doctorate         413\n",
      " 5th-6th           332\n",
      " 1st-4th           166\n",
      " Preschool          50\n",
      "Name: Education, dtype: int64\n"
     ]
    },
    {
     "data": {
      "image/png": "[encoded data removed]",
      "text/plain": [
       "<Figure size 432x288 with 1 Axes>"
      ]
     },
     "metadata": {
      "needs_background": "light"
     },
     "output_type": "display_data"
    }
   ],
   "source": [
    "sns.countplot(x='Education',data=df) # Checking counts of Education with the help of countplot.\n",
    "print(df['Education'].value_counts())"
   ]
  },
  {
   "cell_type": "raw",
   "id": "6459890c",
   "metadata": {},
   "source": [
    "Observation:\n",
    "    \n",
    "    we can say that the persons having education from High School to Graduation having maximum counts."
   ]
  },
  {
   "cell_type": "code",
   "execution_count": 34,
   "id": "4139af35",
   "metadata": {},
   "outputs": [
    {
     "name": "stdout",
     "output_type": "stream",
     "text": [
      " Married-civ-spouse       14970\n",
      " Never-married            10666\n",
      " Divorced                  4441\n",
      " Separated                 1025\n",
      " Widowed                    993\n",
      " Married-spouse-absent      418\n",
      " Married-AF-spouse           23\n",
      "Name: Marital_status, dtype: int64\n"
     ]
    },
    {
     "data": {
      "image/png": "[encoded data removed]",
      "text/plain": [
       "<Figure size 432x288 with 1 Axes>"
      ]
     },
     "metadata": {
      "needs_background": "light"
     },
     "output_type": "display_data"
    }
   ],
   "source": [
    "sns.countplot(x='Marital_status',data=df) # Checking counts of Marital_status with the help of countplot.\n",
    "print(df['Marital_status'].value_counts())\n"
   ]
  },
  {
   "cell_type": "raw",
   "id": "639f9583",
   "metadata": {},
   "source": [
    "Observation:\n",
    "    \n",
    "    we can say that out of total (32536), maximum no of married-civ-spouse."
   ]
  },
  {
   "cell_type": "code",
   "execution_count": 35,
   "id": "8a860991",
   "metadata": {},
   "outputs": [
    {
     "name": "stdout",
     "output_type": "stream",
     "text": [
      " Male      21774\n",
      " Female    10762\n",
      "Name: Sex, dtype: int64\n"
     ]
    },
    {
     "data": {
      "image/png": "[encoded data removed]",
      "text/plain": [
       "<Figure size 432x288 with 1 Axes>"
      ]
     },
     "metadata": {
      "needs_background": "light"
     },
     "output_type": "display_data"
    }
   ],
   "source": [
    "sns.countplot(x='Sex',data=df) # Checking counts of workclass with the help of countplot.\n",
    "print(df['Sex'].value_counts())"
   ]
  },
  {
   "cell_type": "raw",
   "id": "09bbd9ba",
   "metadata": {},
   "source": [
    "Observation:\n",
    "    Male candidate having more number then female."
   ]
  },
  {
   "cell_type": "code",
   "execution_count": 36,
   "id": "2626bd31",
   "metadata": {},
   "outputs": [
    {
     "name": "stdout",
     "output_type": "stream",
     "text": [
      " White                 27794\n",
      " Black                  3122\n",
      " Asian-Pac-Islander     1038\n",
      " Amer-Indian-Eskimo      311\n",
      " Other                   271\n",
      "Name: Race, dtype: int64\n"
     ]
    },
    {
     "data": {
      "image/png": "[encoded data removed]",
      "text/plain": [
       "<Figure size 432x288 with 1 Axes>"
      ]
     },
     "metadata": {
      "needs_background": "light"
     },
     "output_type": "display_data"
    }
   ],
   "source": [
    "sns.countplot(x='Race',data=df)\n",
    "print(df['Race'].value_counts()) # Checking counts of Race\n"
   ]
  },
  {
   "cell_type": "raw",
   "id": "463b293d",
   "metadata": {},
   "source": [
    "Observation: \n",
    "    \n",
    "    White having more number of resedential segregation."
   ]
  },
  {
   "cell_type": "code",
   "execution_count": 37,
   "id": "ed363f8a",
   "metadata": {},
   "outputs": [
    {
     "name": "stdout",
     "output_type": "stream",
     "text": [
      " United-States                 29734\n",
      " Mexico                          639\n",
      " Philippines                     198\n",
      " Germany                         137\n",
      " Canada                          121\n",
      " Puerto-Rico                     114\n",
      " El-Salvador                     106\n",
      " India                           100\n",
      " Cuba                             95\n",
      " England                          90\n",
      " Jamaica                          81\n",
      " South                            80\n",
      " China                            75\n",
      " Italy                            73\n",
      " Dominican-Republic               70\n",
      " Vietnam                          67\n",
      " Japan                            62\n",
      " Guatemala                        62\n",
      " Poland                           60\n",
      " Columbia                         59\n",
      " Taiwan                           51\n",
      " Haiti                            44\n",
      " Iran                             43\n",
      " Portugal                         37\n",
      " Nicaragua                        34\n",
      " Peru                             31\n",
      " France                           29\n",
      " Greece                           29\n",
      " Ecuador                          28\n",
      " Ireland                          24\n",
      " Hong                             20\n",
      " Cambodia                         19\n",
      " Trinadad&Tobago                  19\n",
      " Laos                             18\n",
      " Thailand                         18\n",
      " Yugoslavia                       16\n",
      " Outlying-US(Guam-USVI-etc)       14\n",
      " Honduras                         13\n",
      " Hungary                          13\n",
      " Scotland                         12\n",
      " Holand-Netherlands                1\n",
      "Name: Native_country, dtype: int64\n"
     ]
    },
    {
     "data": {
      "image/png": "[encoded data removed]",
      "text/plain": [
       "<Figure size 432x288 with 1 Axes>"
      ]
     },
     "metadata": {
      "needs_background": "light"
     },
     "output_type": "display_data"
    }
   ],
   "source": [
    "sns.countplot(x='Native_country',data=df) # Chekcking native country of the persons in this dataset.\n",
    "print(df['Native_country'].value_counts())\n"
   ]
  },
  {
   "cell_type": "raw",
   "id": "eaa67d18",
   "metadata": {},
   "source": [
    "Observation: It is showing that maximum person are native of USA. It is approx. above 90% of total number of persons."
   ]
  },
  {
   "cell_type": "code",
   "execution_count": 38,
   "id": "207336e0",
   "metadata": {},
   "outputs": [
    {
     "name": "stdout",
     "output_type": "stream",
     "text": [
      "<class 'pandas.core.frame.DataFrame'>\n",
      "Int64Index: 32536 entries, 0 to 32559\n",
      "Data columns (total 15 columns):\n",
      " #   Column          Non-Null Count  Dtype \n",
      "---  ------          --------------  ----- \n",
      " 0   Age             32536 non-null  int64 \n",
      " 1   Workclass       32536 non-null  object\n",
      " 2   Fnlwgt          32536 non-null  int64 \n",
      " 3   Education       32536 non-null  object\n",
      " 4   Education_num   32536 non-null  int64 \n",
      " 5   Marital_status  32536 non-null  object\n",
      " 6   Occupation      32536 non-null  object\n",
      " 7   Relationship    32536 non-null  object\n",
      " 8   Race            32536 non-null  object\n",
      " 9   Sex             32536 non-null  object\n",
      " 10  Capital_gain    32536 non-null  int64 \n",
      " 11  Capital_loss    32536 non-null  int64 \n",
      " 12  Hours_per_week  32536 non-null  int64 \n",
      " 13  Native_country  32536 non-null  object\n",
      " 14  Income          32536 non-null  object\n",
      "dtypes: int64(6), object(9)\n",
      "memory usage: 4.0+ MB\n"
     ]
    }
   ],
   "source": [
    "df.info()"
   ]
  },
  {
   "cell_type": "markdown",
   "id": "cdf5bfbd",
   "metadata": {},
   "source": [
    "# Now we will check the continuous features."
   ]
  },
  {
   "cell_type": "code",
   "execution_count": 39,
   "id": "55b03c77",
   "metadata": {},
   "outputs": [
    {
     "data": {
      "text/plain": [
       "<AxesSubplot:xlabel='Age', ylabel='Income'>"
      ]
     },
     "execution_count": 39,
     "metadata": {},
     "output_type": "execute_result"
    },
    {
     "data": {
      "image/png": "[encoded data removed]",
      "text/plain": [
       "<Figure size 432x288 with 1 Axes>"
      ]
     },
     "metadata": {
      "needs_background": "light"
     },
     "output_type": "display_data"
    }
   ],
   "source": [
    "sns.scatterplot(x='Age',y='Income',data=df)"
   ]
  },
  {
   "cell_type": "raw",
   "id": "f37a7305",
   "metadata": {},
   "source": [
    "Observation: We can say that Age is looking directly propotional to Income. but some person of after age of 85 persons are getting less than 50K salary also there are some person having age below 20 getting below 50K salary."
   ]
  },
  {
   "cell_type": "code",
   "execution_count": 40,
   "id": "ef4bcdca",
   "metadata": {},
   "outputs": [
    {
     "data": {
      "text/plain": [
       "<AxesSubplot:xlabel='Fnlwgt', ylabel='Income'>"
      ]
     },
     "execution_count": 40,
     "metadata": {},
     "output_type": "execute_result"
    },
    {
     "data": {
      "image/png": "[encoded data removed]",
      "text/plain": [
       "<Figure size 432x288 with 1 Axes>"
      ]
     },
     "metadata": {
      "needs_background": "light"
     },
     "output_type": "display_data"
    }
   ],
   "source": [
    "sns.scatterplot(x='Fnlwgt',y='Income',data=df)"
   ]
  },
  {
   "cell_type": "raw",
   "id": "2d468cad",
   "metadata": {},
   "source": [
    "Observation: Final weight having above 1.2 are getting salary below 50K"
   ]
  },
  {
   "cell_type": "code",
   "execution_count": 41,
   "id": "9aaf168e",
   "metadata": {},
   "outputs": [
    {
     "data": {
      "text/plain": [
       "<AxesSubplot:xlabel='Education_num', ylabel='Income'>"
      ]
     },
     "execution_count": 41,
     "metadata": {},
     "output_type": "execute_result"
    },
    {
     "data": {
      "image/png": "[encoded data removed]",
      "text/plain": [
       "<Figure size 432x288 with 1 Axes>"
      ]
     },
     "metadata": {
      "needs_background": "light"
     },
     "output_type": "display_data"
    }
   ],
   "source": [
    "sns.scatterplot(x='Education_num',y='Income',data=df)"
   ]
  },
  {
   "cell_type": "raw",
   "id": "67895df4",
   "metadata": {},
   "source": [
    "Observation: Education having positive relationship with income"
   ]
  },
  {
   "cell_type": "code",
   "execution_count": 42,
   "id": "b5a68194",
   "metadata": {},
   "outputs": [
    {
     "data": {
      "text/plain": [
       "<AxesSubplot:xlabel='Capital_gain', ylabel='Income'>"
      ]
     },
     "execution_count": 42,
     "metadata": {},
     "output_type": "execute_result"
    },
    {
     "data": {
      "image/png": "[encoded data removed]",
      "text/plain": [
       "<Figure size 432x288 with 1 Axes>"
      ]
     },
     "metadata": {
      "needs_background": "light"
     },
     "output_type": "display_data"
    }
   ],
   "source": [
    "sns.scatterplot(x='Capital_gain',y='Income',data=df)"
   ]
  },
  {
   "cell_type": "raw",
   "id": "d1f082e5",
   "metadata": {},
   "source": [
    "Observation: This feature having some outlier. also there is zero capital gain showing against the salary of above 50K."
   ]
  },
  {
   "cell_type": "code",
   "execution_count": 43,
   "id": "92510862",
   "metadata": {},
   "outputs": [
    {
     "data": {
      "text/plain": [
       "<AxesSubplot:xlabel='Capital_loss', ylabel='Income'>"
      ]
     },
     "execution_count": 43,
     "metadata": {},
     "output_type": "execute_result"
    },
    {
     "data": {
      "image/png": "[encoded data removed]",
      "text/plain": [
       "<Figure size 432x288 with 1 Axes>"
      ]
     },
     "metadata": {
      "needs_background": "light"
     },
     "output_type": "display_data"
    }
   ],
   "source": [
    "sns.scatterplot(x='Capital_loss',y='Income',data=df)"
   ]
  },
  {
   "cell_type": "raw",
   "id": "8f415f3d",
   "metadata": {},
   "source": [
    "Observation: People getting below 50K salary against Capital_loss"
   ]
  },
  {
   "cell_type": "code",
   "execution_count": 44,
   "id": "915d7766",
   "metadata": {},
   "outputs": [
    {
     "data": {
      "text/plain": [
       "<AxesSubplot:xlabel='Hours_per_week', ylabel='Income'>"
      ]
     },
     "execution_count": 44,
     "metadata": {},
     "output_type": "execute_result"
    },
    {
     "data": {
      "image/png": "[encoded data removed]",
      "text/plain": [
       "<Figure size 432x288 with 1 Axes>"
      ]
     },
     "metadata": {
      "needs_background": "light"
     },
     "output_type": "display_data"
    }
   ],
   "source": [
    "sns.scatterplot(x='Hours_per_week',y='Income',data=df)"
   ]
  },
  {
   "cell_type": "raw",
   "id": "68db4e4a",
   "metadata": {},
   "source": [
    "Observation: This feature have positive relationship with target variable. "
   ]
  },
  {
   "cell_type": "code",
   "execution_count": 45,
   "id": "d5ac8bc1",
   "metadata": {},
   "outputs": [
    {
     "data": {
      "text/html": [
       "<div>\n",
       "<style scoped>\n",
       "    .dataframe tbody tr th:only-of-type {\n",
       "        vertical-align: middle;\n",
       "    }\n",
       "\n",
       "    .dataframe tbody tr th {\n",
       "        vertical-align: top;\n",
       "    }\n",
       "\n",
       "    .dataframe thead th {\n",
       "        text-align: right;\n",
       "    }\n",
       "</style>\n",
       "<table border=\"1\" class=\"dataframe\">\n",
       "  <thead>\n",
       "    <tr style=\"text-align: right;\">\n",
       "      <th></th>\n",
       "      <th>Age</th>\n",
       "      <th>Fnlwgt</th>\n",
       "      <th>Education_num</th>\n",
       "      <th>Capital_gain</th>\n",
       "      <th>Capital_loss</th>\n",
       "      <th>Hours_per_week</th>\n",
       "    </tr>\n",
       "  </thead>\n",
       "  <tbody>\n",
       "    <tr>\n",
       "      <th>Age</th>\n",
       "      <td>1.000000</td>\n",
       "      <td>-0.076448</td>\n",
       "      <td>0.036224</td>\n",
       "      <td>0.077676</td>\n",
       "      <td>0.057745</td>\n",
       "      <td>0.068515</td>\n",
       "    </tr>\n",
       "    <tr>\n",
       "      <th>Fnlwgt</th>\n",
       "      <td>-0.076448</td>\n",
       "      <td>1.000000</td>\n",
       "      <td>-0.043353</td>\n",
       "      <td>0.000433</td>\n",
       "      <td>-0.010267</td>\n",
       "      <td>-0.018900</td>\n",
       "    </tr>\n",
       "    <tr>\n",
       "      <th>Education_num</th>\n",
       "      <td>0.036224</td>\n",
       "      <td>-0.043353</td>\n",
       "      <td>1.000000</td>\n",
       "      <td>0.122661</td>\n",
       "      <td>0.079901</td>\n",
       "      <td>0.148426</td>\n",
       "    </tr>\n",
       "    <tr>\n",
       "      <th>Capital_gain</th>\n",
       "      <td>0.077676</td>\n",
       "      <td>0.000433</td>\n",
       "      <td>0.122661</td>\n",
       "      <td>1.000000</td>\n",
       "      <td>-0.031638</td>\n",
       "      <td>0.078408</td>\n",
       "    </tr>\n",
       "    <tr>\n",
       "      <th>Capital_loss</th>\n",
       "      <td>0.057745</td>\n",
       "      <td>-0.010267</td>\n",
       "      <td>0.079901</td>\n",
       "      <td>-0.031638</td>\n",
       "      <td>1.000000</td>\n",
       "      <td>0.054229</td>\n",
       "    </tr>\n",
       "    <tr>\n",
       "      <th>Hours_per_week</th>\n",
       "      <td>0.068515</td>\n",
       "      <td>-0.018900</td>\n",
       "      <td>0.148426</td>\n",
       "      <td>0.078408</td>\n",
       "      <td>0.054229</td>\n",
       "      <td>1.000000</td>\n",
       "    </tr>\n",
       "  </tbody>\n",
       "</table>\n",
       "</div>"
      ],
      "text/plain": [
       "                     Age    Fnlwgt  Education_num  Capital_gain  Capital_loss  \\\n",
       "Age             1.000000 -0.076448       0.036224      0.077676      0.057745   \n",
       "Fnlwgt         -0.076448  1.000000      -0.043353      0.000433     -0.010267   \n",
       "Education_num   0.036224 -0.043353       1.000000      0.122661      0.079901   \n",
       "Capital_gain    0.077676  0.000433       0.122661      1.000000     -0.031638   \n",
       "Capital_loss    0.057745 -0.010267       0.079901     -0.031638      1.000000   \n",
       "Hours_per_week  0.068515 -0.018900       0.148426      0.078408      0.054229   \n",
       "\n",
       "                Hours_per_week  \n",
       "Age                   0.068515  \n",
       "Fnlwgt               -0.018900  \n",
       "Education_num         0.148426  \n",
       "Capital_gain          0.078408  \n",
       "Capital_loss          0.054229  \n",
       "Hours_per_week        1.000000  "
      ]
     },
     "execution_count": 45,
     "metadata": {},
     "output_type": "execute_result"
    }
   ],
   "source": [
    "df.corr() # Checking correlation of continuous features."
   ]
  },
  {
   "cell_type": "markdown",
   "id": "1df92bde",
   "metadata": {},
   "source": [
    "# Encoding of Categorical Features:"
   ]
  },
  {
   "cell_type": "code",
   "execution_count": 46,
   "id": "4dd8c782",
   "metadata": {},
   "outputs": [],
   "source": [
    "from sklearn.preprocessing import LabelEncoder # Importing labelencoder for encode the categorical features."
   ]
  },
  {
   "cell_type": "code",
   "execution_count": 47,
   "id": "09e65f11",
   "metadata": {},
   "outputs": [],
   "source": [
    "cols=['Workclass','Education','Marital_status','Occupation','Relationship','Race','Sex','Native_country'] # keep all the categorical features in one variable."
   ]
  },
  {
   "cell_type": "code",
   "execution_count": 48,
   "id": "578ede9b",
   "metadata": {},
   "outputs": [],
   "source": [
    "le=LabelEncoder() # intiliazed label encoder."
   ]
  },
  {
   "cell_type": "code",
   "execution_count": 49,
   "id": "5183035c",
   "metadata": {},
   "outputs": [],
   "source": [
    "for col in cols:\n",
    "    df[col]=le.fit_transform(df[col]) # Apply for loop."
   ]
  },
  {
   "cell_type": "code",
   "execution_count": 50,
   "id": "aa8a51e5",
   "metadata": {},
   "outputs": [
    {
     "data": {
      "text/html": [
       "<div>\n",
       "<style scoped>\n",
       "    .dataframe tbody tr th:only-of-type {\n",
       "        vertical-align: middle;\n",
       "    }\n",
       "\n",
       "    .dataframe tbody tr th {\n",
       "        vertical-align: top;\n",
       "    }\n",
       "\n",
       "    .dataframe thead th {\n",
       "        text-align: right;\n",
       "    }\n",
       "</style>\n",
       "<table border=\"1\" class=\"dataframe\">\n",
       "  <thead>\n",
       "    <tr style=\"text-align: right;\">\n",
       "      <th></th>\n",
       "      <th>Age</th>\n",
       "      <th>Workclass</th>\n",
       "      <th>Fnlwgt</th>\n",
       "      <th>Education</th>\n",
       "      <th>Education_num</th>\n",
       "      <th>Marital_status</th>\n",
       "      <th>Occupation</th>\n",
       "      <th>Relationship</th>\n",
       "      <th>Race</th>\n",
       "      <th>Sex</th>\n",
       "      <th>Capital_gain</th>\n",
       "      <th>Capital_loss</th>\n",
       "      <th>Hours_per_week</th>\n",
       "      <th>Native_country</th>\n",
       "      <th>Income</th>\n",
       "    </tr>\n",
       "  </thead>\n",
       "  <tbody>\n",
       "    <tr>\n",
       "      <th>0</th>\n",
       "      <td>50</td>\n",
       "      <td>5</td>\n",
       "      <td>83311</td>\n",
       "      <td>9</td>\n",
       "      <td>13</td>\n",
       "      <td>2</td>\n",
       "      <td>3</td>\n",
       "      <td>0</td>\n",
       "      <td>4</td>\n",
       "      <td>1</td>\n",
       "      <td>0</td>\n",
       "      <td>0</td>\n",
       "      <td>13</td>\n",
       "      <td>38</td>\n",
       "      <td>&lt;=50K</td>\n",
       "    </tr>\n",
       "    <tr>\n",
       "      <th>1</th>\n",
       "      <td>38</td>\n",
       "      <td>3</td>\n",
       "      <td>215646</td>\n",
       "      <td>11</td>\n",
       "      <td>9</td>\n",
       "      <td>0</td>\n",
       "      <td>5</td>\n",
       "      <td>1</td>\n",
       "      <td>4</td>\n",
       "      <td>1</td>\n",
       "      <td>0</td>\n",
       "      <td>0</td>\n",
       "      <td>40</td>\n",
       "      <td>38</td>\n",
       "      <td>&lt;=50K</td>\n",
       "    </tr>\n",
       "    <tr>\n",
       "      <th>2</th>\n",
       "      <td>53</td>\n",
       "      <td>3</td>\n",
       "      <td>234721</td>\n",
       "      <td>1</td>\n",
       "      <td>7</td>\n",
       "      <td>2</td>\n",
       "      <td>5</td>\n",
       "      <td>0</td>\n",
       "      <td>2</td>\n",
       "      <td>1</td>\n",
       "      <td>0</td>\n",
       "      <td>0</td>\n",
       "      <td>40</td>\n",
       "      <td>38</td>\n",
       "      <td>&lt;=50K</td>\n",
       "    </tr>\n",
       "    <tr>\n",
       "      <th>3</th>\n",
       "      <td>28</td>\n",
       "      <td>3</td>\n",
       "      <td>338409</td>\n",
       "      <td>9</td>\n",
       "      <td>13</td>\n",
       "      <td>2</td>\n",
       "      <td>9</td>\n",
       "      <td>5</td>\n",
       "      <td>2</td>\n",
       "      <td>0</td>\n",
       "      <td>0</td>\n",
       "      <td>0</td>\n",
       "      <td>40</td>\n",
       "      <td>4</td>\n",
       "      <td>&lt;=50K</td>\n",
       "    </tr>\n",
       "    <tr>\n",
       "      <th>4</th>\n",
       "      <td>37</td>\n",
       "      <td>3</td>\n",
       "      <td>284582</td>\n",
       "      <td>12</td>\n",
       "      <td>14</td>\n",
       "      <td>2</td>\n",
       "      <td>3</td>\n",
       "      <td>5</td>\n",
       "      <td>4</td>\n",
       "      <td>0</td>\n",
       "      <td>0</td>\n",
       "      <td>0</td>\n",
       "      <td>40</td>\n",
       "      <td>38</td>\n",
       "      <td>&lt;=50K</td>\n",
       "    </tr>\n",
       "  </tbody>\n",
       "</table>\n",
       "</div>"
      ],
      "text/plain": [
       "   Age  Workclass  Fnlwgt  Education  Education_num  Marital_status  \\\n",
       "0   50          5   83311          9             13               2   \n",
       "1   38          3  215646         11              9               0   \n",
       "2   53          3  234721          1              7               2   \n",
       "3   28          3  338409          9             13               2   \n",
       "4   37          3  284582         12             14               2   \n",
       "\n",
       "   Occupation  Relationship  Race  Sex  Capital_gain  Capital_loss  \\\n",
       "0           3             0     4    1             0             0   \n",
       "1           5             1     4    1             0             0   \n",
       "2           5             0     2    1             0             0   \n",
       "3           9             5     2    0             0             0   \n",
       "4           3             5     4    0             0             0   \n",
       "\n",
       "   Hours_per_week  Native_country  Income  \n",
       "0              13              38   <=50K  \n",
       "1              40              38   <=50K  \n",
       "2              40              38   <=50K  \n",
       "3              40               4   <=50K  \n",
       "4              40              38   <=50K  "
      ]
     },
     "execution_count": 50,
     "metadata": {},
     "output_type": "execute_result"
    }
   ],
   "source": [
    "df.head() # Recheck."
   ]
  },
  {
   "cell_type": "code",
   "execution_count": 51,
   "id": "48e241fa",
   "metadata": {},
   "outputs": [
    {
     "name": "stdout",
     "output_type": "stream",
     "text": [
      "<class 'pandas.core.frame.DataFrame'>\n",
      "Int64Index: 32536 entries, 0 to 32559\n",
      "Data columns (total 15 columns):\n",
      " #   Column          Non-Null Count  Dtype \n",
      "---  ------          --------------  ----- \n",
      " 0   Age             32536 non-null  int64 \n",
      " 1   Workclass       32536 non-null  int32 \n",
      " 2   Fnlwgt          32536 non-null  int64 \n",
      " 3   Education       32536 non-null  int32 \n",
      " 4   Education_num   32536 non-null  int64 \n",
      " 5   Marital_status  32536 non-null  int32 \n",
      " 6   Occupation      32536 non-null  int32 \n",
      " 7   Relationship    32536 non-null  int32 \n",
      " 8   Race            32536 non-null  int32 \n",
      " 9   Sex             32536 non-null  int32 \n",
      " 10  Capital_gain    32536 non-null  int64 \n",
      " 11  Capital_loss    32536 non-null  int64 \n",
      " 12  Hours_per_week  32536 non-null  int64 \n",
      " 13  Native_country  32536 non-null  int32 \n",
      " 14  Income          32536 non-null  object\n",
      "dtypes: int32(8), int64(6), object(1)\n",
      "memory usage: 3.0+ MB\n"
     ]
    }
   ],
   "source": [
    "df.info() # Rechecking the data type of features after encoding."
   ]
  },
  {
   "cell_type": "code",
   "execution_count": 52,
   "id": "1be3cbac",
   "metadata": {},
   "outputs": [
    {
     "data": {
      "text/html": [
       "<div>\n",
       "<style scoped>\n",
       "    .dataframe tbody tr th:only-of-type {\n",
       "        vertical-align: middle;\n",
       "    }\n",
       "\n",
       "    .dataframe tbody tr th {\n",
       "        vertical-align: top;\n",
       "    }\n",
       "\n",
       "    .dataframe thead th {\n",
       "        text-align: right;\n",
       "    }\n",
       "</style>\n",
       "<table border=\"1\" class=\"dataframe\">\n",
       "  <thead>\n",
       "    <tr style=\"text-align: right;\">\n",
       "      <th></th>\n",
       "      <th>Age</th>\n",
       "      <th>Workclass</th>\n",
       "      <th>Fnlwgt</th>\n",
       "      <th>Education</th>\n",
       "      <th>Education_num</th>\n",
       "      <th>Marital_status</th>\n",
       "      <th>Occupation</th>\n",
       "      <th>Relationship</th>\n",
       "      <th>Race</th>\n",
       "      <th>Sex</th>\n",
       "      <th>Capital_gain</th>\n",
       "      <th>Capital_loss</th>\n",
       "      <th>Hours_per_week</th>\n",
       "      <th>Native_country</th>\n",
       "    </tr>\n",
       "  </thead>\n",
       "  <tbody>\n",
       "    <tr>\n",
       "      <th>Age</th>\n",
       "      <td>1.000000</td>\n",
       "      <td>0.040463</td>\n",
       "      <td>-0.076448</td>\n",
       "      <td>-0.010551</td>\n",
       "      <td>0.036224</td>\n",
       "      <td>-0.266142</td>\n",
       "      <td>0.001756</td>\n",
       "      <td>-0.263744</td>\n",
       "      <td>0.029116</td>\n",
       "      <td>0.088708</td>\n",
       "      <td>0.077676</td>\n",
       "      <td>0.057745</td>\n",
       "      <td>0.068515</td>\n",
       "      <td>-0.000659</td>\n",
       "    </tr>\n",
       "    <tr>\n",
       "      <th>Workclass</th>\n",
       "      <td>0.040463</td>\n",
       "      <td>1.000000</td>\n",
       "      <td>-0.024189</td>\n",
       "      <td>0.004852</td>\n",
       "      <td>0.003412</td>\n",
       "      <td>-0.020506</td>\n",
       "      <td>0.007285</td>\n",
       "      <td>-0.057904</td>\n",
       "      <td>0.048322</td>\n",
       "      <td>0.071522</td>\n",
       "      <td>0.031497</td>\n",
       "      <td>0.002661</td>\n",
       "      <td>0.042208</td>\n",
       "      <td>-0.001691</td>\n",
       "    </tr>\n",
       "    <tr>\n",
       "      <th>Fnlwgt</th>\n",
       "      <td>-0.076448</td>\n",
       "      <td>-0.024189</td>\n",
       "      <td>1.000000</td>\n",
       "      <td>-0.028065</td>\n",
       "      <td>-0.043353</td>\n",
       "      <td>0.028154</td>\n",
       "      <td>-0.000073</td>\n",
       "      <td>0.008859</td>\n",
       "      <td>-0.021484</td>\n",
       "      <td>0.027113</td>\n",
       "      <td>0.000433</td>\n",
       "      <td>-0.010267</td>\n",
       "      <td>-0.018900</td>\n",
       "      <td>-0.063073</td>\n",
       "    </tr>\n",
       "    <tr>\n",
       "      <th>Education</th>\n",
       "      <td>-0.010551</td>\n",
       "      <td>0.004852</td>\n",
       "      <td>-0.028065</td>\n",
       "      <td>1.000000</td>\n",
       "      <td>0.359105</td>\n",
       "      <td>-0.038413</td>\n",
       "      <td>-0.041258</td>\n",
       "      <td>-0.011060</td>\n",
       "      <td>0.014307</td>\n",
       "      <td>-0.027426</td>\n",
       "      <td>0.030086</td>\n",
       "      <td>0.016790</td>\n",
       "      <td>0.055991</td>\n",
       "      <td>0.075498</td>\n",
       "    </tr>\n",
       "    <tr>\n",
       "      <th>Education_num</th>\n",
       "      <td>0.036224</td>\n",
       "      <td>0.003412</td>\n",
       "      <td>-0.043353</td>\n",
       "      <td>0.359105</td>\n",
       "      <td>1.000000</td>\n",
       "      <td>-0.069196</td>\n",
       "      <td>0.070965</td>\n",
       "      <td>-0.094424</td>\n",
       "      <td>0.031998</td>\n",
       "      <td>0.012181</td>\n",
       "      <td>0.122661</td>\n",
       "      <td>0.079901</td>\n",
       "      <td>0.148426</td>\n",
       "      <td>0.088044</td>\n",
       "    </tr>\n",
       "    <tr>\n",
       "      <th>Marital_status</th>\n",
       "      <td>-0.266142</td>\n",
       "      <td>-0.020506</td>\n",
       "      <td>0.028154</td>\n",
       "      <td>-0.038413</td>\n",
       "      <td>-0.069196</td>\n",
       "      <td>1.000000</td>\n",
       "      <td>0.034901</td>\n",
       "      <td>0.185542</td>\n",
       "      <td>-0.067942</td>\n",
       "      <td>-0.129425</td>\n",
       "      <td>-0.043373</td>\n",
       "      <td>-0.034134</td>\n",
       "      <td>-0.190433</td>\n",
       "      <td>-0.020892</td>\n",
       "    </tr>\n",
       "    <tr>\n",
       "      <th>Occupation</th>\n",
       "      <td>0.001756</td>\n",
       "      <td>0.007285</td>\n",
       "      <td>-0.000073</td>\n",
       "      <td>-0.041258</td>\n",
       "      <td>0.070965</td>\n",
       "      <td>0.034901</td>\n",
       "      <td>1.000000</td>\n",
       "      <td>-0.037443</td>\n",
       "      <td>-0.004789</td>\n",
       "      <td>0.047683</td>\n",
       "      <td>0.018013</td>\n",
       "      <td>0.009644</td>\n",
       "      <td>-0.012851</td>\n",
       "      <td>-0.002124</td>\n",
       "    </tr>\n",
       "    <tr>\n",
       "      <th>Relationship</th>\n",
       "      <td>-0.263744</td>\n",
       "      <td>-0.057904</td>\n",
       "      <td>0.008859</td>\n",
       "      <td>-0.011060</td>\n",
       "      <td>-0.094424</td>\n",
       "      <td>0.185542</td>\n",
       "      <td>-0.037443</td>\n",
       "      <td>1.000000</td>\n",
       "      <td>-0.116048</td>\n",
       "      <td>-0.582593</td>\n",
       "      <td>-0.057945</td>\n",
       "      <td>-0.061100</td>\n",
       "      <td>-0.248876</td>\n",
       "      <td>-0.010838</td>\n",
       "    </tr>\n",
       "    <tr>\n",
       "      <th>Race</th>\n",
       "      <td>0.029116</td>\n",
       "      <td>0.048322</td>\n",
       "      <td>-0.021484</td>\n",
       "      <td>0.014307</td>\n",
       "      <td>0.031998</td>\n",
       "      <td>-0.067942</td>\n",
       "      <td>-0.004789</td>\n",
       "      <td>-0.116048</td>\n",
       "      <td>1.000000</td>\n",
       "      <td>0.087464</td>\n",
       "      <td>0.011152</td>\n",
       "      <td>0.018916</td>\n",
       "      <td>0.041921</td>\n",
       "      <td>0.116848</td>\n",
       "    </tr>\n",
       "    <tr>\n",
       "      <th>Sex</th>\n",
       "      <td>0.088708</td>\n",
       "      <td>0.071522</td>\n",
       "      <td>0.027113</td>\n",
       "      <td>-0.027426</td>\n",
       "      <td>0.012181</td>\n",
       "      <td>-0.129425</td>\n",
       "      <td>0.047683</td>\n",
       "      <td>-0.582593</td>\n",
       "      <td>0.087464</td>\n",
       "      <td>1.000000</td>\n",
       "      <td>0.048486</td>\n",
       "      <td>0.045576</td>\n",
       "      <td>0.229190</td>\n",
       "      <td>0.001745</td>\n",
       "    </tr>\n",
       "    <tr>\n",
       "      <th>Capital_gain</th>\n",
       "      <td>0.077676</td>\n",
       "      <td>0.031497</td>\n",
       "      <td>0.000433</td>\n",
       "      <td>0.030086</td>\n",
       "      <td>0.122661</td>\n",
       "      <td>-0.043373</td>\n",
       "      <td>0.018013</td>\n",
       "      <td>-0.057945</td>\n",
       "      <td>0.011152</td>\n",
       "      <td>0.048486</td>\n",
       "      <td>1.000000</td>\n",
       "      <td>-0.031638</td>\n",
       "      <td>0.078408</td>\n",
       "      <td>0.008776</td>\n",
       "    </tr>\n",
       "    <tr>\n",
       "      <th>Capital_loss</th>\n",
       "      <td>0.057745</td>\n",
       "      <td>0.002661</td>\n",
       "      <td>-0.010267</td>\n",
       "      <td>0.016790</td>\n",
       "      <td>0.079901</td>\n",
       "      <td>-0.034134</td>\n",
       "      <td>0.009644</td>\n",
       "      <td>-0.061100</td>\n",
       "      <td>0.018916</td>\n",
       "      <td>0.045576</td>\n",
       "      <td>-0.031638</td>\n",
       "      <td>1.000000</td>\n",
       "      <td>0.054229</td>\n",
       "      <td>0.009337</td>\n",
       "    </tr>\n",
       "    <tr>\n",
       "      <th>Hours_per_week</th>\n",
       "      <td>0.068515</td>\n",
       "      <td>0.042208</td>\n",
       "      <td>-0.018900</td>\n",
       "      <td>0.055991</td>\n",
       "      <td>0.148426</td>\n",
       "      <td>-0.190433</td>\n",
       "      <td>-0.012851</td>\n",
       "      <td>-0.248876</td>\n",
       "      <td>0.041921</td>\n",
       "      <td>0.229190</td>\n",
       "      <td>0.078408</td>\n",
       "      <td>0.054229</td>\n",
       "      <td>1.000000</td>\n",
       "      <td>0.006802</td>\n",
       "    </tr>\n",
       "    <tr>\n",
       "      <th>Native_country</th>\n",
       "      <td>-0.000659</td>\n",
       "      <td>-0.001691</td>\n",
       "      <td>-0.063073</td>\n",
       "      <td>0.075498</td>\n",
       "      <td>0.088044</td>\n",
       "      <td>-0.020892</td>\n",
       "      <td>-0.002124</td>\n",
       "      <td>-0.010838</td>\n",
       "      <td>0.116848</td>\n",
       "      <td>0.001745</td>\n",
       "      <td>0.008776</td>\n",
       "      <td>0.009337</td>\n",
       "      <td>0.006802</td>\n",
       "      <td>1.000000</td>\n",
       "    </tr>\n",
       "  </tbody>\n",
       "</table>\n",
       "</div>"
      ],
      "text/plain": [
       "                     Age  Workclass    Fnlwgt  Education  Education_num  \\\n",
       "Age             1.000000   0.040463 -0.076448  -0.010551       0.036224   \n",
       "Workclass       0.040463   1.000000 -0.024189   0.004852       0.003412   \n",
       "Fnlwgt         -0.076448  -0.024189  1.000000  -0.028065      -0.043353   \n",
       "Education      -0.010551   0.004852 -0.028065   1.000000       0.359105   \n",
       "Education_num   0.036224   0.003412 -0.043353   0.359105       1.000000   \n",
       "Marital_status -0.266142  -0.020506  0.028154  -0.038413      -0.069196   \n",
       "Occupation      0.001756   0.007285 -0.000073  -0.041258       0.070965   \n",
       "Relationship   -0.263744  -0.057904  0.008859  -0.011060      -0.094424   \n",
       "Race            0.029116   0.048322 -0.021484   0.014307       0.031998   \n",
       "Sex             0.088708   0.071522  0.027113  -0.027426       0.012181   \n",
       "Capital_gain    0.077676   0.031497  0.000433   0.030086       0.122661   \n",
       "Capital_loss    0.057745   0.002661 -0.010267   0.016790       0.079901   \n",
       "Hours_per_week  0.068515   0.042208 -0.018900   0.055991       0.148426   \n",
       "Native_country -0.000659  -0.001691 -0.063073   0.075498       0.088044   \n",
       "\n",
       "                Marital_status  Occupation  Relationship      Race       Sex  \\\n",
       "Age                  -0.266142    0.001756     -0.263744  0.029116  0.088708   \n",
       "Workclass            -0.020506    0.007285     -0.057904  0.048322  0.071522   \n",
       "Fnlwgt                0.028154   -0.000073      0.008859 -0.021484  0.027113   \n",
       "Education            -0.038413   -0.041258     -0.011060  0.014307 -0.027426   \n",
       "Education_num        -0.069196    0.070965     -0.094424  0.031998  0.012181   \n",
       "Marital_status        1.000000    0.034901      0.185542 -0.067942 -0.129425   \n",
       "Occupation            0.034901    1.000000     -0.037443 -0.004789  0.047683   \n",
       "Relationship          0.185542   -0.037443      1.000000 -0.116048 -0.582593   \n",
       "Race                 -0.067942   -0.004789     -0.116048  1.000000  0.087464   \n",
       "Sex                  -0.129425    0.047683     -0.582593  0.087464  1.000000   \n",
       "Capital_gain         -0.043373    0.018013     -0.057945  0.011152  0.048486   \n",
       "Capital_loss         -0.034134    0.009644     -0.061100  0.018916  0.045576   \n",
       "Hours_per_week       -0.190433   -0.012851     -0.248876  0.041921  0.229190   \n",
       "Native_country       -0.020892   -0.002124     -0.010838  0.116848  0.001745   \n",
       "\n",
       "                Capital_gain  Capital_loss  Hours_per_week  Native_country  \n",
       "Age                 0.077676      0.057745        0.068515       -0.000659  \n",
       "Workclass           0.031497      0.002661        0.042208       -0.001691  \n",
       "Fnlwgt              0.000433     -0.010267       -0.018900       -0.063073  \n",
       "Education           0.030086      0.016790        0.055991        0.075498  \n",
       "Education_num       0.122661      0.079901        0.148426        0.088044  \n",
       "Marital_status     -0.043373     -0.034134       -0.190433       -0.020892  \n",
       "Occupation          0.018013      0.009644       -0.012851       -0.002124  \n",
       "Relationship       -0.057945     -0.061100       -0.248876       -0.010838  \n",
       "Race                0.011152      0.018916        0.041921        0.116848  \n",
       "Sex                 0.048486      0.045576        0.229190        0.001745  \n",
       "Capital_gain        1.000000     -0.031638        0.078408        0.008776  \n",
       "Capital_loss       -0.031638      1.000000        0.054229        0.009337  \n",
       "Hours_per_week      0.078408      0.054229        1.000000        0.006802  \n",
       "Native_country      0.008776      0.009337        0.006802        1.000000  "
      ]
     },
     "execution_count": 52,
     "metadata": {},
     "output_type": "execute_result"
    }
   ],
   "source": [
    "df.corr()"
   ]
  },
  {
   "cell_type": "markdown",
   "id": "28c1ca89",
   "metadata": {},
   "source": [
    "# Splitting the dataset into 2 variables namely 'X' and 'Y' for feature and label"
   ]
  },
  {
   "cell_type": "code",
   "execution_count": 53,
   "id": "7b49ab51",
   "metadata": {},
   "outputs": [],
   "source": [
    "feature=df.drop(['Income'],axis=1)\n",
    "label=df['Income']"
   ]
  },
  {
   "cell_type": "code",
   "execution_count": 54,
   "id": "7b9b3abd",
   "metadata": {},
   "outputs": [
    {
     "name": "stdout",
     "output_type": "stream",
     "text": [
      "(array([    3,     9,    10, ..., 32508, 32526, 32528], dtype=int64), array([13, 12,  8, ...,  8,  8,  8], dtype=int64))\n"
     ]
    }
   ],
   "source": [
    "from scipy.stats import zscore\n",
    "z=np.abs(zscore(feature))\n",
    "threshold=3 # taking thresold 3 & Checking outliers.\n",
    "print(np.where(z>3))"
   ]
  },
  {
   "cell_type": "code",
   "execution_count": 55,
   "id": "53166766",
   "metadata": {},
   "outputs": [],
   "source": [
    "df_new=df[(z<3).all(axis=1)]"
   ]
  },
  {
   "cell_type": "code",
   "execution_count": 56,
   "id": "8b369b07",
   "metadata": {},
   "outputs": [
    {
     "data": {
      "text/plain": [
       "(32536, 15)"
      ]
     },
     "execution_count": 56,
     "metadata": {},
     "output_type": "execute_result"
    }
   ],
   "source": [
    "df.shape # Checking shape again"
   ]
  },
  {
   "cell_type": "code",
   "execution_count": 57,
   "id": "6b4d4bd9",
   "metadata": {},
   "outputs": [
    {
     "data": {
      "text/plain": [
       "(27751, 15)"
      ]
     },
     "execution_count": 57,
     "metadata": {},
     "output_type": "execute_result"
    }
   ],
   "source": [
    "df_new.shape # Checking shape after filtering the outliers."
   ]
  },
  {
   "cell_type": "code",
   "execution_count": 58,
   "id": "e12b89b7",
   "metadata": {},
   "outputs": [
    {
     "name": "stdout",
     "output_type": "stream",
     "text": [
      "Data Loss is  14.706786328989427 %\n"
     ]
    }
   ],
   "source": [
    "Data_loss=(32536-27751)*100/32536\n",
    "print ('Data Loss is ',Data_loss,'%')"
   ]
  },
  {
   "cell_type": "code",
   "execution_count": 59,
   "id": "886a4514",
   "metadata": {},
   "outputs": [
    {
     "data": {
      "text/html": [
       "<div>\n",
       "<style scoped>\n",
       "    .dataframe tbody tr th:only-of-type {\n",
       "        vertical-align: middle;\n",
       "    }\n",
       "\n",
       "    .dataframe tbody tr th {\n",
       "        vertical-align: top;\n",
       "    }\n",
       "\n",
       "    .dataframe thead th {\n",
       "        text-align: right;\n",
       "    }\n",
       "</style>\n",
       "<table border=\"1\" class=\"dataframe\">\n",
       "  <thead>\n",
       "    <tr style=\"text-align: right;\">\n",
       "      <th></th>\n",
       "      <th>Age</th>\n",
       "      <th>Workclass</th>\n",
       "      <th>Fnlwgt</th>\n",
       "      <th>Education</th>\n",
       "      <th>Education_num</th>\n",
       "      <th>Marital_status</th>\n",
       "      <th>Occupation</th>\n",
       "      <th>Relationship</th>\n",
       "      <th>Race</th>\n",
       "      <th>Sex</th>\n",
       "      <th>Capital_gain</th>\n",
       "      <th>Capital_loss</th>\n",
       "      <th>Hours_per_week</th>\n",
       "      <th>Native_country</th>\n",
       "    </tr>\n",
       "  </thead>\n",
       "  <tbody>\n",
       "    <tr>\n",
       "      <th>Age</th>\n",
       "      <td>1.000000</td>\n",
       "      <td>0.030416</td>\n",
       "      <td>-0.077342</td>\n",
       "      <td>-0.003984</td>\n",
       "      <td>0.044602</td>\n",
       "      <td>-0.286029</td>\n",
       "      <td>-0.001196</td>\n",
       "      <td>-0.270566</td>\n",
       "      <td>0.020581</td>\n",
       "      <td>0.089817</td>\n",
       "      <td>0.132521</td>\n",
       "      <td>0.023470</td>\n",
       "      <td>0.090644</td>\n",
       "      <td>0.035621</td>\n",
       "    </tr>\n",
       "    <tr>\n",
       "      <th>Workclass</th>\n",
       "      <td>0.030416</td>\n",
       "      <td>1.000000</td>\n",
       "      <td>-0.026825</td>\n",
       "      <td>0.001559</td>\n",
       "      <td>-0.001812</td>\n",
       "      <td>-0.016039</td>\n",
       "      <td>0.008068</td>\n",
       "      <td>-0.057876</td>\n",
       "      <td>0.066438</td>\n",
       "      <td>0.069649</td>\n",
       "      <td>0.011463</td>\n",
       "      <td>-0.010714</td>\n",
       "      <td>0.028328</td>\n",
       "      <td>0.002607</td>\n",
       "    </tr>\n",
       "    <tr>\n",
       "      <th>Fnlwgt</th>\n",
       "      <td>-0.077342</td>\n",
       "      <td>-0.026825</td>\n",
       "      <td>1.000000</td>\n",
       "      <td>-0.021254</td>\n",
       "      <td>-0.040000</td>\n",
       "      <td>0.029528</td>\n",
       "      <td>-0.002084</td>\n",
       "      <td>0.015059</td>\n",
       "      <td>-0.102369</td>\n",
       "      <td>0.023150</td>\n",
       "      <td>-0.003736</td>\n",
       "      <td>0.003214</td>\n",
       "      <td>-0.018497</td>\n",
       "      <td>-0.105660</td>\n",
       "    </tr>\n",
       "    <tr>\n",
       "      <th>Education</th>\n",
       "      <td>-0.003984</td>\n",
       "      <td>0.001559</td>\n",
       "      <td>-0.021254</td>\n",
       "      <td>1.000000</td>\n",
       "      <td>0.346921</td>\n",
       "      <td>-0.037165</td>\n",
       "      <td>-0.042268</td>\n",
       "      <td>-0.009515</td>\n",
       "      <td>0.026706</td>\n",
       "      <td>-0.031634</td>\n",
       "      <td>0.026657</td>\n",
       "      <td>-0.000323</td>\n",
       "      <td>0.059634</td>\n",
       "      <td>0.091185</td>\n",
       "    </tr>\n",
       "    <tr>\n",
       "      <th>Education_num</th>\n",
       "      <td>0.044602</td>\n",
       "      <td>-0.001812</td>\n",
       "      <td>-0.040000</td>\n",
       "      <td>0.346921</td>\n",
       "      <td>1.000000</td>\n",
       "      <td>-0.058419</td>\n",
       "      <td>0.072769</td>\n",
       "      <td>-0.092841</td>\n",
       "      <td>0.082854</td>\n",
       "      <td>0.003962</td>\n",
       "      <td>0.157647</td>\n",
       "      <td>0.007343</td>\n",
       "      <td>0.156044</td>\n",
       "      <td>0.147551</td>\n",
       "    </tr>\n",
       "    <tr>\n",
       "      <th>Marital_status</th>\n",
       "      <td>-0.286029</td>\n",
       "      <td>-0.016039</td>\n",
       "      <td>0.029528</td>\n",
       "      <td>-0.037165</td>\n",
       "      <td>-0.058419</td>\n",
       "      <td>1.000000</td>\n",
       "      <td>0.036733</td>\n",
       "      <td>0.183957</td>\n",
       "      <td>-0.084552</td>\n",
       "      <td>-0.126222</td>\n",
       "      <td>-0.069563</td>\n",
       "      <td>-0.016472</td>\n",
       "      <td>-0.196855</td>\n",
       "      <td>-0.032029</td>\n",
       "    </tr>\n",
       "    <tr>\n",
       "      <th>Occupation</th>\n",
       "      <td>-0.001196</td>\n",
       "      <td>0.008068</td>\n",
       "      <td>-0.002084</td>\n",
       "      <td>-0.042268</td>\n",
       "      <td>0.072769</td>\n",
       "      <td>0.036733</td>\n",
       "      <td>1.000000</td>\n",
       "      <td>-0.038658</td>\n",
       "      <td>0.001550</td>\n",
       "      <td>0.050484</td>\n",
       "      <td>0.009435</td>\n",
       "      <td>-0.004829</td>\n",
       "      <td>-0.022046</td>\n",
       "      <td>0.018782</td>\n",
       "    </tr>\n",
       "    <tr>\n",
       "      <th>Relationship</th>\n",
       "      <td>-0.270566</td>\n",
       "      <td>-0.057876</td>\n",
       "      <td>0.015059</td>\n",
       "      <td>-0.009515</td>\n",
       "      <td>-0.092841</td>\n",
       "      <td>0.183957</td>\n",
       "      <td>-0.038658</td>\n",
       "      <td>1.000000</td>\n",
       "      <td>-0.146544</td>\n",
       "      <td>-0.576987</td>\n",
       "      <td>-0.090042</td>\n",
       "      <td>0.030292</td>\n",
       "      <td>-0.262870</td>\n",
       "      <td>-0.012233</td>\n",
       "    </tr>\n",
       "    <tr>\n",
       "      <th>Race</th>\n",
       "      <td>0.020581</td>\n",
       "      <td>0.066438</td>\n",
       "      <td>-0.102369</td>\n",
       "      <td>0.026706</td>\n",
       "      <td>0.082854</td>\n",
       "      <td>-0.084552</td>\n",
       "      <td>0.001550</td>\n",
       "      <td>-0.146544</td>\n",
       "      <td>1.000000</td>\n",
       "      <td>0.125261</td>\n",
       "      <td>0.031085</td>\n",
       "      <td>-0.000082</td>\n",
       "      <td>0.057207</td>\n",
       "      <td>0.021478</td>\n",
       "    </tr>\n",
       "    <tr>\n",
       "      <th>Sex</th>\n",
       "      <td>0.089817</td>\n",
       "      <td>0.069649</td>\n",
       "      <td>0.023150</td>\n",
       "      <td>-0.031634</td>\n",
       "      <td>0.003962</td>\n",
       "      <td>-0.126222</td>\n",
       "      <td>0.050484</td>\n",
       "      <td>-0.576987</td>\n",
       "      <td>0.125261</td>\n",
       "      <td>1.000000</td>\n",
       "      <td>0.069899</td>\n",
       "      <td>-0.027452</td>\n",
       "      <td>0.236827</td>\n",
       "      <td>-0.009278</td>\n",
       "    </tr>\n",
       "    <tr>\n",
       "      <th>Capital_gain</th>\n",
       "      <td>0.132521</td>\n",
       "      <td>0.011463</td>\n",
       "      <td>-0.003736</td>\n",
       "      <td>0.026657</td>\n",
       "      <td>0.157647</td>\n",
       "      <td>-0.069563</td>\n",
       "      <td>0.009435</td>\n",
       "      <td>-0.090042</td>\n",
       "      <td>0.031085</td>\n",
       "      <td>0.069899</td>\n",
       "      <td>1.000000</td>\n",
       "      <td>-0.009123</td>\n",
       "      <td>0.098397</td>\n",
       "      <td>0.019123</td>\n",
       "    </tr>\n",
       "    <tr>\n",
       "      <th>Capital_loss</th>\n",
       "      <td>0.023470</td>\n",
       "      <td>-0.010714</td>\n",
       "      <td>0.003214</td>\n",
       "      <td>-0.000323</td>\n",
       "      <td>0.007343</td>\n",
       "      <td>-0.016472</td>\n",
       "      <td>-0.004829</td>\n",
       "      <td>0.030292</td>\n",
       "      <td>-0.000082</td>\n",
       "      <td>-0.027452</td>\n",
       "      <td>-0.009123</td>\n",
       "      <td>1.000000</td>\n",
       "      <td>-0.003470</td>\n",
       "      <td>0.002836</td>\n",
       "    </tr>\n",
       "    <tr>\n",
       "      <th>Hours_per_week</th>\n",
       "      <td>0.090644</td>\n",
       "      <td>0.028328</td>\n",
       "      <td>-0.018497</td>\n",
       "      <td>0.059634</td>\n",
       "      <td>0.156044</td>\n",
       "      <td>-0.196855</td>\n",
       "      <td>-0.022046</td>\n",
       "      <td>-0.262870</td>\n",
       "      <td>0.057207</td>\n",
       "      <td>0.236827</td>\n",
       "      <td>0.098397</td>\n",
       "      <td>-0.003470</td>\n",
       "      <td>1.000000</td>\n",
       "      <td>0.005027</td>\n",
       "    </tr>\n",
       "    <tr>\n",
       "      <th>Native_country</th>\n",
       "      <td>0.035621</td>\n",
       "      <td>0.002607</td>\n",
       "      <td>-0.105660</td>\n",
       "      <td>0.091185</td>\n",
       "      <td>0.147551</td>\n",
       "      <td>-0.032029</td>\n",
       "      <td>0.018782</td>\n",
       "      <td>-0.012233</td>\n",
       "      <td>0.021478</td>\n",
       "      <td>-0.009278</td>\n",
       "      <td>0.019123</td>\n",
       "      <td>0.002836</td>\n",
       "      <td>0.005027</td>\n",
       "      <td>1.000000</td>\n",
       "    </tr>\n",
       "  </tbody>\n",
       "</table>\n",
       "</div>"
      ],
      "text/plain": [
       "                     Age  Workclass    Fnlwgt  Education  Education_num  \\\n",
       "Age             1.000000   0.030416 -0.077342  -0.003984       0.044602   \n",
       "Workclass       0.030416   1.000000 -0.026825   0.001559      -0.001812   \n",
       "Fnlwgt         -0.077342  -0.026825  1.000000  -0.021254      -0.040000   \n",
       "Education      -0.003984   0.001559 -0.021254   1.000000       0.346921   \n",
       "Education_num   0.044602  -0.001812 -0.040000   0.346921       1.000000   \n",
       "Marital_status -0.286029  -0.016039  0.029528  -0.037165      -0.058419   \n",
       "Occupation     -0.001196   0.008068 -0.002084  -0.042268       0.072769   \n",
       "Relationship   -0.270566  -0.057876  0.015059  -0.009515      -0.092841   \n",
       "Race            0.020581   0.066438 -0.102369   0.026706       0.082854   \n",
       "Sex             0.089817   0.069649  0.023150  -0.031634       0.003962   \n",
       "Capital_gain    0.132521   0.011463 -0.003736   0.026657       0.157647   \n",
       "Capital_loss    0.023470  -0.010714  0.003214  -0.000323       0.007343   \n",
       "Hours_per_week  0.090644   0.028328 -0.018497   0.059634       0.156044   \n",
       "Native_country  0.035621   0.002607 -0.105660   0.091185       0.147551   \n",
       "\n",
       "                Marital_status  Occupation  Relationship      Race       Sex  \\\n",
       "Age                  -0.286029   -0.001196     -0.270566  0.020581  0.089817   \n",
       "Workclass            -0.016039    0.008068     -0.057876  0.066438  0.069649   \n",
       "Fnlwgt                0.029528   -0.002084      0.015059 -0.102369  0.023150   \n",
       "Education            -0.037165   -0.042268     -0.009515  0.026706 -0.031634   \n",
       "Education_num        -0.058419    0.072769     -0.092841  0.082854  0.003962   \n",
       "Marital_status        1.000000    0.036733      0.183957 -0.084552 -0.126222   \n",
       "Occupation            0.036733    1.000000     -0.038658  0.001550  0.050484   \n",
       "Relationship          0.183957   -0.038658      1.000000 -0.146544 -0.576987   \n",
       "Race                 -0.084552    0.001550     -0.146544  1.000000  0.125261   \n",
       "Sex                  -0.126222    0.050484     -0.576987  0.125261  1.000000   \n",
       "Capital_gain         -0.069563    0.009435     -0.090042  0.031085  0.069899   \n",
       "Capital_loss         -0.016472   -0.004829      0.030292 -0.000082 -0.027452   \n",
       "Hours_per_week       -0.196855   -0.022046     -0.262870  0.057207  0.236827   \n",
       "Native_country       -0.032029    0.018782     -0.012233  0.021478 -0.009278   \n",
       "\n",
       "                Capital_gain  Capital_loss  Hours_per_week  Native_country  \n",
       "Age                 0.132521      0.023470        0.090644        0.035621  \n",
       "Workclass           0.011463     -0.010714        0.028328        0.002607  \n",
       "Fnlwgt             -0.003736      0.003214       -0.018497       -0.105660  \n",
       "Education           0.026657     -0.000323        0.059634        0.091185  \n",
       "Education_num       0.157647      0.007343        0.156044        0.147551  \n",
       "Marital_status     -0.069563     -0.016472       -0.196855       -0.032029  \n",
       "Occupation          0.009435     -0.004829       -0.022046        0.018782  \n",
       "Relationship       -0.090042      0.030292       -0.262870       -0.012233  \n",
       "Race                0.031085     -0.000082        0.057207        0.021478  \n",
       "Sex                 0.069899     -0.027452        0.236827       -0.009278  \n",
       "Capital_gain        1.000000     -0.009123        0.098397        0.019123  \n",
       "Capital_loss       -0.009123      1.000000       -0.003470        0.002836  \n",
       "Hours_per_week      0.098397     -0.003470        1.000000        0.005027  \n",
       "Native_country      0.019123      0.002836        0.005027        1.000000  "
      ]
     },
     "execution_count": 59,
     "metadata": {},
     "output_type": "execute_result"
    }
   ],
   "source": [
    "df_new.corr()"
   ]
  },
  {
   "cell_type": "code",
   "execution_count": 60,
   "id": "7d4f0d10",
   "metadata": {},
   "outputs": [
    {
     "data": {
      "image/png": "[encoded data removed]",
      "text/plain": [
       "<Figure size 1440x1080 with 2 Axes>"
      ]
     },
     "metadata": {
      "needs_background": "light"
     },
     "output_type": "display_data"
    }
   ],
   "source": [
    "df_corr=df_new.corr().abs()\n",
    "plt.figure(figsize=(20,15))\n",
    "sns.heatmap(df_corr,annot=True, annot_kws={'size':15})\n",
    "plt.show()"
   ]
  },
  {
   "cell_type": "markdown",
   "id": "08beadea",
   "metadata": {},
   "source": [
    "# Standardization of Features"
   ]
  },
  {
   "cell_type": "code",
   "execution_count": 61,
   "id": "57b2e636",
   "metadata": {},
   "outputs": [],
   "source": [
    "from sklearn.preprocessing import StandardScaler\n",
    "scaler=StandardScaler()"
   ]
  },
  {
   "cell_type": "code",
   "execution_count": 62,
   "id": "55aa1ec2",
   "metadata": {},
   "outputs": [],
   "source": [
    "x=df_new.drop(['Income'],axis=1)\n",
    "y=df_new['Income']"
   ]
  },
  {
   "cell_type": "code",
   "execution_count": 63,
   "id": "d47ec27c",
   "metadata": {},
   "outputs": [
    {
     "data": {
      "text/html": [
       "<div>\n",
       "<style scoped>\n",
       "    .dataframe tbody tr th:only-of-type {\n",
       "        vertical-align: middle;\n",
       "    }\n",
       "\n",
       "    .dataframe tbody tr th {\n",
       "        vertical-align: top;\n",
       "    }\n",
       "\n",
       "    .dataframe thead th {\n",
       "        text-align: right;\n",
       "    }\n",
       "</style>\n",
       "<table border=\"1\" class=\"dataframe\">\n",
       "  <thead>\n",
       "    <tr style=\"text-align: right;\">\n",
       "      <th></th>\n",
       "      <th>Age</th>\n",
       "      <th>Workclass</th>\n",
       "      <th>Fnlwgt</th>\n",
       "      <th>Education</th>\n",
       "      <th>Education_num</th>\n",
       "      <th>Marital_status</th>\n",
       "      <th>Occupation</th>\n",
       "      <th>Relationship</th>\n",
       "      <th>Race</th>\n",
       "      <th>Sex</th>\n",
       "      <th>Capital_gain</th>\n",
       "      <th>Capital_loss</th>\n",
       "      <th>Hours_per_week</th>\n",
       "      <th>Native_country</th>\n",
       "    </tr>\n",
       "  </thead>\n",
       "  <tbody>\n",
       "    <tr>\n",
       "      <th>0</th>\n",
       "      <td>0.884109</td>\n",
       "      <td>1.738685</td>\n",
       "      <td>-1.087657</td>\n",
       "      <td>-0.344860</td>\n",
       "      <td>1.212364</td>\n",
       "      <td>-0.404580</td>\n",
       "      <td>-0.776933</td>\n",
       "      <td>-0.914099</td>\n",
       "      <td>0.344865</td>\n",
       "      <td>0.713231</td>\n",
       "      <td>-0.245069</td>\n",
       "      <td>-0.037227</td>\n",
       "      <td>-2.416395</td>\n",
       "      <td>0.188257</td>\n",
       "    </tr>\n",
       "    <tr>\n",
       "      <th>1</th>\n",
       "      <td>-0.011742</td>\n",
       "      <td>-0.077180</td>\n",
       "      <td>0.310200</td>\n",
       "      <td>0.171277</td>\n",
       "      <td>-0.440797</td>\n",
       "      <td>-1.721355</td>\n",
       "      <td>-0.276482</td>\n",
       "      <td>-0.291332</td>\n",
       "      <td>0.344865</td>\n",
       "      <td>0.713231</td>\n",
       "      <td>-0.245069</td>\n",
       "      <td>-0.037227</td>\n",
       "      <td>0.006234</td>\n",
       "      <td>0.188257</td>\n",
       "    </tr>\n",
       "    <tr>\n",
       "      <th>2</th>\n",
       "      <td>1.108072</td>\n",
       "      <td>-0.077180</td>\n",
       "      <td>0.511690</td>\n",
       "      <td>-2.409407</td>\n",
       "      <td>-1.267378</td>\n",
       "      <td>-0.404580</td>\n",
       "      <td>-0.276482</td>\n",
       "      <td>-0.914099</td>\n",
       "      <td>-2.958105</td>\n",
       "      <td>0.713231</td>\n",
       "      <td>-0.245069</td>\n",
       "      <td>-0.037227</td>\n",
       "      <td>0.006234</td>\n",
       "      <td>0.188257</td>\n",
       "    </tr>\n",
       "    <tr>\n",
       "      <th>3</th>\n",
       "      <td>-0.086397</td>\n",
       "      <td>-0.077180</td>\n",
       "      <td>1.038373</td>\n",
       "      <td>0.429345</td>\n",
       "      <td>1.625655</td>\n",
       "      <td>-0.404580</td>\n",
       "      <td>-0.776933</td>\n",
       "      <td>2.199735</td>\n",
       "      <td>0.344865</td>\n",
       "      <td>-1.402070</td>\n",
       "      <td>-0.245069</td>\n",
       "      <td>-0.037227</td>\n",
       "      <td>0.006234</td>\n",
       "      <td>0.188257</td>\n",
       "    </tr>\n",
       "    <tr>\n",
       "      <th>4</th>\n",
       "      <td>0.809454</td>\n",
       "      <td>-0.077180</td>\n",
       "      <td>-0.275614</td>\n",
       "      <td>-1.119065</td>\n",
       "      <td>-2.093959</td>\n",
       "      <td>0.253808</td>\n",
       "      <td>0.223968</td>\n",
       "      <td>-0.291332</td>\n",
       "      <td>-2.958105</td>\n",
       "      <td>-1.402070</td>\n",
       "      <td>-0.245069</td>\n",
       "      <td>-0.037227</td>\n",
       "      <td>-2.147214</td>\n",
       "      <td>-6.377546</td>\n",
       "    </tr>\n",
       "  </tbody>\n",
       "</table>\n",
       "</div>"
      ],
      "text/plain": [
       "        Age  Workclass    Fnlwgt  Education  Education_num  Marital_status  \\\n",
       "0  0.884109   1.738685 -1.087657  -0.344860       1.212364       -0.404580   \n",
       "1 -0.011742  -0.077180  0.310200   0.171277      -0.440797       -1.721355   \n",
       "2  1.108072  -0.077180  0.511690  -2.409407      -1.267378       -0.404580   \n",
       "3 -0.086397  -0.077180  1.038373   0.429345       1.625655       -0.404580   \n",
       "4  0.809454  -0.077180 -0.275614  -1.119065      -2.093959        0.253808   \n",
       "\n",
       "   Occupation  Relationship      Race       Sex  Capital_gain  Capital_loss  \\\n",
       "0   -0.776933     -0.914099  0.344865  0.713231     -0.245069     -0.037227   \n",
       "1   -0.276482     -0.291332  0.344865  0.713231     -0.245069     -0.037227   \n",
       "2   -0.276482     -0.914099 -2.958105  0.713231     -0.245069     -0.037227   \n",
       "3   -0.776933      2.199735  0.344865 -1.402070     -0.245069     -0.037227   \n",
       "4    0.223968     -0.291332 -2.958105 -1.402070     -0.245069     -0.037227   \n",
       "\n",
       "   Hours_per_week  Native_country  \n",
       "0       -2.416395        0.188257  \n",
       "1        0.006234        0.188257  \n",
       "2        0.006234        0.188257  \n",
       "3        0.006234        0.188257  \n",
       "4       -2.147214       -6.377546  "
      ]
     },
     "execution_count": 63,
     "metadata": {},
     "output_type": "execute_result"
    }
   ],
   "source": [
    "x=pd.DataFrame(scaler.fit_transform(x),columns=x.columns)\n",
    "x.head()"
   ]
  },
  {
   "cell_type": "markdown",
   "id": "4bc1c2f6",
   "metadata": {},
   "source": [
    "# Creating the training and testing data sets"
   ]
  },
  {
   "cell_type": "code",
   "execution_count": 64,
   "id": "6ac84237",
   "metadata": {},
   "outputs": [],
   "source": [
    "from sklearn.model_selection import train_test_split"
   ]
  },
  {
   "cell_type": "code",
   "execution_count": 65,
   "id": "de55f512",
   "metadata": {},
   "outputs": [],
   "source": [
    "x_train,x_test,y_train,y_test=train_test_split(x,y,random_state=213,test_size=0.25)"
   ]
  },
  {
   "cell_type": "code",
   "execution_count": 66,
   "id": "9bdb8415",
   "metadata": {},
   "outputs": [
    {
     "data": {
      "text/plain": [
       "(20813, 14)"
      ]
     },
     "execution_count": 66,
     "metadata": {},
     "output_type": "execute_result"
    }
   ],
   "source": [
    "x_train.shape"
   ]
  },
  {
   "cell_type": "code",
   "execution_count": 67,
   "id": "8dd3b398",
   "metadata": {},
   "outputs": [
    {
     "data": {
      "text/plain": [
       "(20813,)"
      ]
     },
     "execution_count": 67,
     "metadata": {},
     "output_type": "execute_result"
    }
   ],
   "source": [
    "y_train.shape"
   ]
  },
  {
   "cell_type": "code",
   "execution_count": 68,
   "id": "f6518a46",
   "metadata": {},
   "outputs": [
    {
     "data": {
      "text/plain": [
       "(6938, 14)"
      ]
     },
     "execution_count": 68,
     "metadata": {},
     "output_type": "execute_result"
    }
   ],
   "source": [
    "x_test.shape"
   ]
  },
  {
   "cell_type": "code",
   "execution_count": 69,
   "id": "6d3f5d08",
   "metadata": {},
   "outputs": [
    {
     "data": {
      "text/plain": [
       "(6938,)"
      ]
     },
     "execution_count": 69,
     "metadata": {},
     "output_type": "execute_result"
    }
   ],
   "source": [
    "y_test.shape"
   ]
  },
  {
   "cell_type": "markdown",
   "id": "213d6cce",
   "metadata": {},
   "source": [
    "# Machine Learning Model for Classification and Evaluation Metrics"
   ]
  },
  {
   "cell_type": "code",
   "execution_count": 70,
   "id": "5c3682cf",
   "metadata": {},
   "outputs": [],
   "source": [
    "from sklearn import metrics\n",
    "from sklearn.metrics import classification_report\n",
    "from sklearn.metrics import accuracy_score\n",
    "from sklearn.model_selection import cross_val_score\n",
    "from sklearn.model_selection import GridSearchCV\n",
    "from sklearn.svm import SVC\n",
    "from sklearn.tree import DecisionTreeClassifier\n",
    "from sklearn.ensemble import RandomForestClassifier\n",
    "from sklearn.neighbors import KNeighborsClassifier"
   ]
  },
  {
   "cell_type": "code",
   "execution_count": 71,
   "id": "f0d1670d",
   "metadata": {},
   "outputs": [],
   "source": [
    "# Classification Model Function\n",
    "\n",
    "def classify(model, x, y):\n",
    "    x_train, x_test, y_train, y_test = train_test_split(x, y, test_size=0.25, random_state=213)\n",
    "    \n",
    "    # Training the model\n",
    "    model.fit(x_train, y_train)\n",
    "    \n",
    "    # Predicting y_test\n",
    "    pred = model.predict(x_test)\n",
    "    \n",
    "    # Accuracy Score\n",
    "    acc_score = (accuracy_score(y_test, pred))\n",
    "    print(\"Accuracy Score:\", acc_score)\n",
    "    \n",
    "    # Classification Report\n",
    "    class_report = classification_report(y_test, pred)\n",
    "    print(\"\\nClassification Report:\\n\", class_report)\n",
    "    \n",
    "    # Cross Validation Score\n",
    "    cv_score = (cross_val_score(model, x, y, cv=5).mean())\n",
    "    print(\"Cross Validation Score:\", cv_score)\n",
    "    \n",
    "    # Result of accuracy minus cv scores\n",
    "    result = acc_score - cv_score\n",
    "    print(\"\\nAccuracy Score - Cross Validation Score is\", result)"
   ]
  },
  {
   "cell_type": "code",
   "execution_count": 72,
   "id": "402f71e9",
   "metadata": {},
   "outputs": [
    {
     "name": "stdout",
     "output_type": "stream",
     "text": [
      "Accuracy Score: 0.8521187662150476\n",
      "\n",
      "Classification Report:\n",
      "               precision    recall  f1-score   support\n",
      "\n",
      "       <=50K       0.87      0.95      0.91      5375\n",
      "        >50K       0.76      0.50      0.61      1563\n",
      "\n",
      "    accuracy                           0.85      6938\n",
      "   macro avg       0.81      0.73      0.76      6938\n",
      "weighted avg       0.84      0.85      0.84      6938\n",
      "\n",
      "Cross Validation Score: 0.8502037551873617\n",
      "\n",
      "Accuracy Score - Cross Validation Score is 0.0019150110276858756\n"
     ]
    }
   ],
   "source": [
    "model=SVC(C=1.0, kernel='rbf', gamma='auto', random_state=42)\n",
    "classify(model, x, y)"
   ]
  },
  {
   "cell_type": "code",
   "execution_count": 73,
   "id": "019fcc34",
   "metadata": {},
   "outputs": [
    {
     "name": "stdout",
     "output_type": "stream",
     "text": [
      "Accuracy Score: 0.8539925050446815\n",
      "\n",
      "Classification Report:\n",
      "               precision    recall  f1-score   support\n",
      "\n",
      "       <=50K       0.88      0.94      0.91      5375\n",
      "        >50K       0.73      0.56      0.63      1563\n",
      "\n",
      "    accuracy                           0.85      6938\n",
      "   macro avg       0.80      0.75      0.77      6938\n",
      "weighted avg       0.85      0.85      0.85      6938\n",
      "\n",
      "Cross Validation Score: 0.849987551954765\n",
      "\n",
      "Accuracy Score - Cross Validation Score is 0.004004953089916441\n"
     ]
    }
   ],
   "source": [
    "# Decision Tree Classifier\n",
    "\n",
    "model=DecisionTreeClassifier(random_state=21, max_depth=10)\n",
    "classify(model, x, y)"
   ]
  },
  {
   "cell_type": "code",
   "execution_count": 74,
   "id": "cb7f03d6",
   "metadata": {},
   "outputs": [
    {
     "name": "stdout",
     "output_type": "stream",
     "text": [
      "Accuracy Score: 0.858316517728452\n",
      "\n",
      "Classification Report:\n",
      "               precision    recall  f1-score   support\n",
      "\n",
      "       <=50K       0.87      0.96      0.91      5375\n",
      "        >50K       0.79      0.51      0.62      1563\n",
      "\n",
      "    accuracy                           0.86      6938\n",
      "   macro avg       0.83      0.73      0.76      6938\n",
      "weighted avg       0.85      0.86      0.85      6938\n",
      "\n",
      "Cross Validation Score: 0.8570143582602598\n",
      "\n",
      "Accuracy Score - Cross Validation Score is 0.0013021594681921211\n"
     ]
    }
   ],
   "source": [
    "# Random Forest Classifier\n",
    "\n",
    "model=RandomForestClassifier(max_depth=10, random_state=111)\n",
    "classify(model, x, y)"
   ]
  },
  {
   "cell_type": "code",
   "execution_count": 75,
   "id": "92a42927",
   "metadata": {},
   "outputs": [
    {
     "name": "stdout",
     "output_type": "stream",
     "text": [
      "Accuracy Score: 0.8466416834822715\n",
      "\n",
      "Classification Report:\n",
      "               precision    recall  f1-score   support\n",
      "\n",
      "       <=50K       0.87      0.94      0.90      5375\n",
      "        >50K       0.71      0.53      0.61      1563\n",
      "\n",
      "    accuracy                           0.85      6938\n",
      "   macro avg       0.79      0.74      0.76      6938\n",
      "weighted avg       0.84      0.85      0.84      6938\n",
      "\n",
      "Cross Validation Score: 0.8428527089510695\n",
      "\n",
      "Accuracy Score - Cross Validation Score is 0.003788974531202083\n"
     ]
    }
   ],
   "source": [
    "# K Neighbors Classifier\n",
    "\n",
    "model=KNeighborsClassifier(n_neighbors=10)\n",
    "classify(model, x, y)"
   ]
  },
  {
   "cell_type": "markdown",
   "id": "35705c94",
   "metadata": {},
   "source": [
    "# Hyper Parameter Tuning using GridSearchCV"
   ]
  },
  {
   "cell_type": "code",
   "execution_count": 76,
   "id": "5ef94fad",
   "metadata": {},
   "outputs": [
    {
     "data": {
      "text/html": [
       "<style>#sk-container-id-1 {color: black;background-color: white;}#sk-container-id-1 pre{padding: 0;}#sk-container-id-1 div.sk-toggleable {background-color: white;}#sk-container-id-1 label.sk-toggleable__label {cursor: pointer;display: block;width: 100%;margin-bottom: 0;padding: 0.3em;box-sizing: border-box;text-align: center;}#sk-container-id-1 label.sk-toggleable__label-arrow:before {content: \"▸\";float: left;margin-right: 0.25em;color: #696969;}#sk-container-id-1 label.sk-toggleable__label-arrow:hover:before {color: black;}#sk-container-id-1 div.sk-estimator:hover label.sk-toggleable__label-arrow:before {color: black;}#sk-container-id-1 div.sk-toggleable__content {max-height: 0;max-width: 0;overflow: hidden;text-align: left;background-color: #f0f8ff;}#sk-container-id-1 div.sk-toggleable__content pre {margin: 0.2em;color: black;border-radius: 0.25em;background-color: #f0f8ff;}#sk-container-id-1 input.sk-toggleable__control:checked~div.sk-toggleable__content {max-height: 200px;max-width: 100%;overflow: auto;}#sk-container-id-1 input.sk-toggleable__control:checked~label.sk-toggleable__label-arrow:before {content: \"▾\";}#sk-container-id-1 div.sk-estimator input.sk-toggleable__control:checked~label.sk-toggleable__label {background-color: #d4ebff;}#sk-container-id-1 div.sk-label input.sk-toggleable__control:checked~label.sk-toggleable__label {background-color: #d4ebff;}#sk-container-id-1 input.sk-hidden--visually {border: 0;clip: rect(1px 1px 1px 1px);clip: rect(1px, 1px, 1px, 1px);height: 1px;margin: -1px;overflow: hidden;padding: 0;position: absolute;width: 1px;}#sk-container-id-1 div.sk-estimator {font-family: monospace;background-color: #f0f8ff;border: 1px dotted black;border-radius: 0.25em;box-sizing: border-box;margin-bottom: 0.5em;}#sk-container-id-1 div.sk-estimator:hover {background-color: #d4ebff;}#sk-container-id-1 div.sk-parallel-item::after {content: \"\";width: 100%;border-bottom: 1px solid gray;flex-grow: 1;}#sk-container-id-1 div.sk-label:hover label.sk-toggleable__label {background-color: #d4ebff;}#sk-container-id-1 div.sk-serial::before {content: \"\";position: absolute;border-left: 1px solid gray;box-sizing: border-box;top: 0;bottom: 0;left: 50%;z-index: 0;}#sk-container-id-1 div.sk-serial {display: flex;flex-direction: column;align-items: center;background-color: white;padding-right: 0.2em;padding-left: 0.2em;position: relative;}#sk-container-id-1 div.sk-item {position: relative;z-index: 1;}#sk-container-id-1 div.sk-parallel {display: flex;align-items: stretch;justify-content: center;background-color: white;position: relative;}#sk-container-id-1 div.sk-item::before, #sk-container-id-1 div.sk-parallel-item::before {content: \"\";position: absolute;border-left: 1px solid gray;box-sizing: border-box;top: 0;bottom: 0;left: 50%;z-index: -1;}#sk-container-id-1 div.sk-parallel-item {display: flex;flex-direction: column;z-index: 1;position: relative;background-color: white;}#sk-container-id-1 div.sk-parallel-item:first-child::after {align-self: flex-end;width: 50%;}#sk-container-id-1 div.sk-parallel-item:last-child::after {align-self: flex-start;width: 50%;}#sk-container-id-1 div.sk-parallel-item:only-child::after {width: 0;}#sk-container-id-1 div.sk-dashed-wrapped {border: 1px dashed gray;margin: 0 0.4em 0.5em 0.4em;box-sizing: border-box;padding-bottom: 0.4em;background-color: white;}#sk-container-id-1 div.sk-label label {font-family: monospace;font-weight: bold;display: inline-block;line-height: 1.2em;}#sk-container-id-1 div.sk-label-container {text-align: center;}#sk-container-id-1 div.sk-container {/* jupyter's `normalize.less` sets `[hidden] { display: none; }` but bootstrap.min.css set `[hidden] { display: none !important; }` so we also need the `!important` here to be able to override the default hidden behavior on the sphinx rendered scikit-learn.org. See: https://github.com/scikit-learn/scikit-learn/issues/21755 */display: inline-block !important;position: relative;}#sk-container-id-1 div.sk-text-repr-fallback {display: none;}</style><div id=\"sk-container-id-1\" class=\"sk-top-container\"><div class=\"sk-text-repr-fallback\"><pre>RandomForestClassifier()</pre><b>In a Jupyter environment, please rerun this cell to show the HTML representation or trust the notebook. <br />On GitHub, the HTML representation is unable to render, please try loading this page with nbviewer.org.</b></div><div class=\"sk-container\" hidden><div class=\"sk-item\"><div class=\"sk-estimator sk-toggleable\"><input class=\"sk-toggleable__control sk-hidden--visually\" id=\"sk-estimator-id-1\" type=\"checkbox\" checked><label for=\"sk-estimator-id-1\" class=\"sk-toggleable__label sk-toggleable__label-arrow\">RandomForestClassifier</label><div class=\"sk-toggleable__content\"><pre>RandomForestClassifier()</pre></div></div></div></div></div>"
      ],
      "text/plain": [
       "RandomForestClassifier()"
      ]
     },
     "execution_count": 76,
     "metadata": {},
     "output_type": "execute_result"
    }
   ],
   "source": [
    "RandomForestClassifier()"
   ]
  },
  {
   "cell_type": "code",
   "execution_count": 77,
   "id": "abc07d16",
   "metadata": {},
   "outputs": [],
   "source": [
    "from sklearn.model_selection import GridSearchCV\n",
    "\n",
    "# Creating parameter list to pass in GridSearchCV\n",
    "\n",
    "parameters={'max_features':['auto','sqrt','log2'],\n",
    "           'max_depth':[4,5,6,7,8],\n",
    "           'criterion':['gini','entropy'],\n",
    "           'n_estimators':[100,200,300,400,500]}\n"
   ]
  },
  {
   "cell_type": "code",
   "execution_count": 78,
   "id": "0e13bbe1",
   "metadata": {},
   "outputs": [],
   "source": [
    "import warnings\n",
    "warnings.filterwarnings('ignore')"
   ]
  },
  {
   "cell_type": "code",
   "execution_count": 79,
   "id": "3cb91550",
   "metadata": {},
   "outputs": [],
   "source": [
    "GCV=GridSearchCV(estimator=RandomForestClassifier(),\n",
    "                param_grid=parameters,\n",
    "                cv=5,\n",
    "                scoring='accuracy')"
   ]
  },
  {
   "cell_type": "code",
   "execution_count": 80,
   "id": "1d65132a",
   "metadata": {},
   "outputs": [
    {
     "data": {
      "text/plain": [
       "{'criterion': 'entropy',\n",
       " 'max_depth': 8,\n",
       " 'max_features': 'log2',\n",
       " 'n_estimators': 500}"
      ]
     },
     "execution_count": 80,
     "metadata": {},
     "output_type": "execute_result"
    }
   ],
   "source": [
    "GCV.fit(x_train,y_train) # Fitting the model\n",
    "GCV.best_params_ # Printing the best parameter found by GridSearchCV"
   ]
  },
  {
   "cell_type": "code",
   "execution_count": 81,
   "id": "f0da5040",
   "metadata": {},
   "outputs": [
    {
     "data": {
      "text/plain": [
       "sklearn.model_selection._search.GridSearchCV"
      ]
     },
     "execution_count": 81,
     "metadata": {},
     "output_type": "execute_result"
    }
   ],
   "source": [
    "type(GCV)"
   ]
  },
  {
   "cell_type": "code",
   "execution_count": 82,
   "id": "98d7cf2f",
   "metadata": {},
   "outputs": [
    {
     "data": {
      "text/html": [
       "<style>#sk-container-id-2 {color: black;background-color: white;}#sk-container-id-2 pre{padding: 0;}#sk-container-id-2 div.sk-toggleable {background-color: white;}#sk-container-id-2 label.sk-toggleable__label {cursor: pointer;display: block;width: 100%;margin-bottom: 0;padding: 0.3em;box-sizing: border-box;text-align: center;}#sk-container-id-2 label.sk-toggleable__label-arrow:before {content: \"▸\";float: left;margin-right: 0.25em;color: #696969;}#sk-container-id-2 label.sk-toggleable__label-arrow:hover:before {color: black;}#sk-container-id-2 div.sk-estimator:hover label.sk-toggleable__label-arrow:before {color: black;}#sk-container-id-2 div.sk-toggleable__content {max-height: 0;max-width: 0;overflow: hidden;text-align: left;background-color: #f0f8ff;}#sk-container-id-2 div.sk-toggleable__content pre {margin: 0.2em;color: black;border-radius: 0.25em;background-color: #f0f8ff;}#sk-container-id-2 input.sk-toggleable__control:checked~div.sk-toggleable__content {max-height: 200px;max-width: 100%;overflow: auto;}#sk-container-id-2 input.sk-toggleable__control:checked~label.sk-toggleable__label-arrow:before {content: \"▾\";}#sk-container-id-2 div.sk-estimator input.sk-toggleable__control:checked~label.sk-toggleable__label {background-color: #d4ebff;}#sk-container-id-2 div.sk-label input.sk-toggleable__control:checked~label.sk-toggleable__label {background-color: #d4ebff;}#sk-container-id-2 input.sk-hidden--visually {border: 0;clip: rect(1px 1px 1px 1px);clip: rect(1px, 1px, 1px, 1px);height: 1px;margin: -1px;overflow: hidden;padding: 0;position: absolute;width: 1px;}#sk-container-id-2 div.sk-estimator {font-family: monospace;background-color: #f0f8ff;border: 1px dotted black;border-radius: 0.25em;box-sizing: border-box;margin-bottom: 0.5em;}#sk-container-id-2 div.sk-estimator:hover {background-color: #d4ebff;}#sk-container-id-2 div.sk-parallel-item::after {content: \"\";width: 100%;border-bottom: 1px solid gray;flex-grow: 1;}#sk-container-id-2 div.sk-label:hover label.sk-toggleable__label {background-color: #d4ebff;}#sk-container-id-2 div.sk-serial::before {content: \"\";position: absolute;border-left: 1px solid gray;box-sizing: border-box;top: 0;bottom: 0;left: 50%;z-index: 0;}#sk-container-id-2 div.sk-serial {display: flex;flex-direction: column;align-items: center;background-color: white;padding-right: 0.2em;padding-left: 0.2em;position: relative;}#sk-container-id-2 div.sk-item {position: relative;z-index: 1;}#sk-container-id-2 div.sk-parallel {display: flex;align-items: stretch;justify-content: center;background-color: white;position: relative;}#sk-container-id-2 div.sk-item::before, #sk-container-id-2 div.sk-parallel-item::before {content: \"\";position: absolute;border-left: 1px solid gray;box-sizing: border-box;top: 0;bottom: 0;left: 50%;z-index: -1;}#sk-container-id-2 div.sk-parallel-item {display: flex;flex-direction: column;z-index: 1;position: relative;background-color: white;}#sk-container-id-2 div.sk-parallel-item:first-child::after {align-self: flex-end;width: 50%;}#sk-container-id-2 div.sk-parallel-item:last-child::after {align-self: flex-start;width: 50%;}#sk-container-id-2 div.sk-parallel-item:only-child::after {width: 0;}#sk-container-id-2 div.sk-dashed-wrapped {border: 1px dashed gray;margin: 0 0.4em 0.5em 0.4em;box-sizing: border-box;padding-bottom: 0.4em;background-color: white;}#sk-container-id-2 div.sk-label label {font-family: monospace;font-weight: bold;display: inline-block;line-height: 1.2em;}#sk-container-id-2 div.sk-label-container {text-align: center;}#sk-container-id-2 div.sk-container {/* jupyter's `normalize.less` sets `[hidden] { display: none; }` but bootstrap.min.css set `[hidden] { display: none !important; }` so we also need the `!important` here to be able to override the default hidden behavior on the sphinx rendered scikit-learn.org. See: https://github.com/scikit-learn/scikit-learn/issues/21755 */display: inline-block !important;position: relative;}#sk-container-id-2 div.sk-text-repr-fallback {display: none;}</style><div id=\"sk-container-id-2\" class=\"sk-top-container\"><div class=\"sk-text-repr-fallback\"><pre>RandomForestClassifier()</pre><b>In a Jupyter environment, please rerun this cell to show the HTML representation or trust the notebook. <br />On GitHub, the HTML representation is unable to render, please try loading this page with nbviewer.org.</b></div><div class=\"sk-container\" hidden><div class=\"sk-item\"><div class=\"sk-estimator sk-toggleable\"><input class=\"sk-toggleable__control sk-hidden--visually\" id=\"sk-estimator-id-2\" type=\"checkbox\" checked><label for=\"sk-estimator-id-2\" class=\"sk-toggleable__label sk-toggleable__label-arrow\">RandomForestClassifier</label><div class=\"sk-toggleable__content\"><pre>RandomForestClassifier()</pre></div></div></div></div></div>"
      ],
      "text/plain": [
       "RandomForestClassifier()"
      ]
     },
     "execution_count": 82,
     "metadata": {},
     "output_type": "execute_result"
    }
   ],
   "source": [
    "RandomForestClassifier()"
   ]
  },
  {
   "cell_type": "code",
   "execution_count": 83,
   "id": "460561ff",
   "metadata": {},
   "outputs": [
    {
     "data": {
      "text/html": [
       "<style>#sk-container-id-3 {color: black;background-color: white;}#sk-container-id-3 pre{padding: 0;}#sk-container-id-3 div.sk-toggleable {background-color: white;}#sk-container-id-3 label.sk-toggleable__label {cursor: pointer;display: block;width: 100%;margin-bottom: 0;padding: 0.3em;box-sizing: border-box;text-align: center;}#sk-container-id-3 label.sk-toggleable__label-arrow:before {content: \"▸\";float: left;margin-right: 0.25em;color: #696969;}#sk-container-id-3 label.sk-toggleable__label-arrow:hover:before {color: black;}#sk-container-id-3 div.sk-estimator:hover label.sk-toggleable__label-arrow:before {color: black;}#sk-container-id-3 div.sk-toggleable__content {max-height: 0;max-width: 0;overflow: hidden;text-align: left;background-color: #f0f8ff;}#sk-container-id-3 div.sk-toggleable__content pre {margin: 0.2em;color: black;border-radius: 0.25em;background-color: #f0f8ff;}#sk-container-id-3 input.sk-toggleable__control:checked~div.sk-toggleable__content {max-height: 200px;max-width: 100%;overflow: auto;}#sk-container-id-3 input.sk-toggleable__control:checked~label.sk-toggleable__label-arrow:before {content: \"▾\";}#sk-container-id-3 div.sk-estimator input.sk-toggleable__control:checked~label.sk-toggleable__label {background-color: #d4ebff;}#sk-container-id-3 div.sk-label input.sk-toggleable__control:checked~label.sk-toggleable__label {background-color: #d4ebff;}#sk-container-id-3 input.sk-hidden--visually {border: 0;clip: rect(1px 1px 1px 1px);clip: rect(1px, 1px, 1px, 1px);height: 1px;margin: -1px;overflow: hidden;padding: 0;position: absolute;width: 1px;}#sk-container-id-3 div.sk-estimator {font-family: monospace;background-color: #f0f8ff;border: 1px dotted black;border-radius: 0.25em;box-sizing: border-box;margin-bottom: 0.5em;}#sk-container-id-3 div.sk-estimator:hover {background-color: #d4ebff;}#sk-container-id-3 div.sk-parallel-item::after {content: \"\";width: 100%;border-bottom: 1px solid gray;flex-grow: 1;}#sk-container-id-3 div.sk-label:hover label.sk-toggleable__label {background-color: #d4ebff;}#sk-container-id-3 div.sk-serial::before {content: \"\";position: absolute;border-left: 1px solid gray;box-sizing: border-box;top: 0;bottom: 0;left: 50%;z-index: 0;}#sk-container-id-3 div.sk-serial {display: flex;flex-direction: column;align-items: center;background-color: white;padding-right: 0.2em;padding-left: 0.2em;position: relative;}#sk-container-id-3 div.sk-item {position: relative;z-index: 1;}#sk-container-id-3 div.sk-parallel {display: flex;align-items: stretch;justify-content: center;background-color: white;position: relative;}#sk-container-id-3 div.sk-item::before, #sk-container-id-3 div.sk-parallel-item::before {content: \"\";position: absolute;border-left: 1px solid gray;box-sizing: border-box;top: 0;bottom: 0;left: 50%;z-index: -1;}#sk-container-id-3 div.sk-parallel-item {display: flex;flex-direction: column;z-index: 1;position: relative;background-color: white;}#sk-container-id-3 div.sk-parallel-item:first-child::after {align-self: flex-end;width: 50%;}#sk-container-id-3 div.sk-parallel-item:last-child::after {align-self: flex-start;width: 50%;}#sk-container-id-3 div.sk-parallel-item:only-child::after {width: 0;}#sk-container-id-3 div.sk-dashed-wrapped {border: 1px dashed gray;margin: 0 0.4em 0.5em 0.4em;box-sizing: border-box;padding-bottom: 0.4em;background-color: white;}#sk-container-id-3 div.sk-label label {font-family: monospace;font-weight: bold;display: inline-block;line-height: 1.2em;}#sk-container-id-3 div.sk-label-container {text-align: center;}#sk-container-id-3 div.sk-container {/* jupyter's `normalize.less` sets `[hidden] { display: none; }` but bootstrap.min.css set `[hidden] { display: none !important; }` so we also need the `!important` here to be able to override the default hidden behavior on the sphinx rendered scikit-learn.org. See: https://github.com/scikit-learn/scikit-learn/issues/21755 */display: inline-block !important;position: relative;}#sk-container-id-3 div.sk-text-repr-fallback {display: none;}</style><div id=\"sk-container-id-3\" class=\"sk-top-container\"><div class=\"sk-text-repr-fallback\"><pre>RandomForestClassifier(criterion=&#x27;entropy&#x27;, max_depth=8, max_features=&#x27;log2&#x27;,\n",
       "                       n_estimators=500)</pre><b>In a Jupyter environment, please rerun this cell to show the HTML representation or trust the notebook. <br />On GitHub, the HTML representation is unable to render, please try loading this page with nbviewer.org.</b></div><div class=\"sk-container\" hidden><div class=\"sk-item\"><div class=\"sk-estimator sk-toggleable\"><input class=\"sk-toggleable__control sk-hidden--visually\" id=\"sk-estimator-id-3\" type=\"checkbox\" checked><label for=\"sk-estimator-id-3\" class=\"sk-toggleable__label sk-toggleable__label-arrow\">RandomForestClassifier</label><div class=\"sk-toggleable__content\"><pre>RandomForestClassifier(criterion=&#x27;entropy&#x27;, max_depth=8, max_features=&#x27;log2&#x27;,\n",
       "                       n_estimators=500)</pre></div></div></div></div></div>"
      ],
      "text/plain": [
       "RandomForestClassifier(criterion='entropy', max_depth=8, max_features='log2',\n",
       "                       n_estimators=500)"
      ]
     },
     "execution_count": 83,
     "metadata": {},
     "output_type": "execute_result"
    }
   ],
   "source": [
    "GCV.best_estimator_"
   ]
  },
  {
   "cell_type": "code",
   "execution_count": 85,
   "id": "55d15b28",
   "metadata": {},
   "outputs": [
    {
     "data": {
      "text/plain": [
       "0.8551455750936869"
      ]
     },
     "execution_count": 85,
     "metadata": {},
     "output_type": "execute_result"
    }
   ],
   "source": [
    "GCV_pred=GCV.best_estimator_.predict(x_test)      # Predicting with best parameter\n",
    "accuracy_score(y_test,GCV_pred)   # Checking Final Accuracy"
   ]
  },
  {
   "cell_type": "markdown",
   "id": "9657e598",
   "metadata": {},
   "source": [
    "# RUC AUC Plot"
   ]
  },
  {
   "cell_type": "code",
   "execution_count": 86,
   "id": "8a5f6150",
   "metadata": {},
   "outputs": [
    {
     "data": {
      "image/png": "[encoded data removed]",
      "text/plain": [
       "<Figure size 432x288 with 1 Axes>"
      ]
     },
     "metadata": {
      "needs_background": "light"
     },
     "output_type": "display_data"
    }
   ],
   "source": [
    "from sklearn.metrics import plot_roc_curve\n",
    "plot_roc_curve(GCV.best_estimator_,x_test,y_test)\n",
    "plt.title('ROC AUC Curve',fontsize=14)\n",
    "plt.show()"
   ]
  },
  {
   "cell_type": "markdown",
   "id": "4056faf9",
   "metadata": {},
   "source": [
    "Finally Accuracy is approx. 86% and AUC Score is 91% which is pretty good."
   ]
  },
  {
   "cell_type": "markdown",
   "id": "17435ae7",
   "metadata": {},
   "source": [
    "# Saving the Model in pickle format"
   ]
  },
  {
   "cell_type": "code",
   "execution_count": 87,
   "id": "926185a1",
   "metadata": {},
   "outputs": [
    {
     "data": {
      "text/plain": [
       "['Census Income Project.pkl']"
      ]
     },
     "execution_count": 87,
     "metadata": {},
     "output_type": "execute_result"
    }
   ],
   "source": [
    "import joblib\n",
    "joblib.dump(GCV.best_estimator_,'Census Income Project.pkl')"
   ]
  },
  {
   "cell_type": "code",
   "execution_count": null,
   "id": "a8f64a68",
   "metadata": {},
   "outputs": [],
   "source": []
  }
 ],
 "metadata": {
  "kernelspec": {
   "display_name": "Python 3 (ipykernel)",
   "language": "python",
   "name": "python3"
  },
  "language_info": {
   "codemirror_mode": {
    "name": "ipython",
    "version": 3
   },
   "file_extension": ".py",
   "mimetype": "text/x-python",
   "name": "python",
   "nbconvert_exporter": "python",
   "pygments_lexer": "ipython3",
   "version": "3.9.12"
  }
 },
 "nbformat": 4,
 "nbformat_minor": 5
}

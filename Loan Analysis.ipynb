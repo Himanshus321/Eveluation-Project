{
 "cells": [
  {
   "cell_type": "code",
   "execution_count": 693,
   "id": "f4333604",
   "metadata": {},
   "outputs": [],
   "source": [
    "import numpy as np\n",
    "import pandas as pd"
   ]
  },
  {
   "cell_type": "code",
   "execution_count": 694,
   "id": "89869298",
   "metadata": {},
   "outputs": [
    {
     "data": {
      "text/html": [
       "<div>\n",
       "<style scoped>\n",
       "    .dataframe tbody tr th:only-of-type {\n",
       "        vertical-align: middle;\n",
       "    }\n",
       "\n",
       "    .dataframe tbody tr th {\n",
       "        vertical-align: top;\n",
       "    }\n",
       "\n",
       "    .dataframe thead th {\n",
       "        text-align: right;\n",
       "    }\n",
       "</style>\n",
       "<table border=\"1\" class=\"dataframe\">\n",
       "  <thead>\n",
       "    <tr style=\"text-align: right;\">\n",
       "      <th></th>\n",
       "      <th>Loan_ID</th>\n",
       "      <th>Gender</th>\n",
       "      <th>Married</th>\n",
       "      <th>Dependents</th>\n",
       "      <th>Education</th>\n",
       "      <th>Self_Employed</th>\n",
       "      <th>ApplicantIncome</th>\n",
       "      <th>CoapplicantIncome</th>\n",
       "      <th>LoanAmount</th>\n",
       "      <th>Loan_Amount_Term</th>\n",
       "      <th>Credit_History</th>\n",
       "      <th>Property_Area</th>\n",
       "      <th>Loan_Status</th>\n",
       "    </tr>\n",
       "  </thead>\n",
       "  <tbody>\n",
       "    <tr>\n",
       "      <th>0</th>\n",
       "      <td>LP001002</td>\n",
       "      <td>Male</td>\n",
       "      <td>No</td>\n",
       "      <td>0</td>\n",
       "      <td>Graduate</td>\n",
       "      <td>No</td>\n",
       "      <td>5849</td>\n",
       "      <td>0.0</td>\n",
       "      <td>NaN</td>\n",
       "      <td>360.0</td>\n",
       "      <td>1.0</td>\n",
       "      <td>Urban</td>\n",
       "      <td>Y</td>\n",
       "    </tr>\n",
       "    <tr>\n",
       "      <th>1</th>\n",
       "      <td>LP001003</td>\n",
       "      <td>Male</td>\n",
       "      <td>Yes</td>\n",
       "      <td>1</td>\n",
       "      <td>Graduate</td>\n",
       "      <td>No</td>\n",
       "      <td>4583</td>\n",
       "      <td>1508.0</td>\n",
       "      <td>128.0</td>\n",
       "      <td>360.0</td>\n",
       "      <td>1.0</td>\n",
       "      <td>Rural</td>\n",
       "      <td>N</td>\n",
       "    </tr>\n",
       "    <tr>\n",
       "      <th>2</th>\n",
       "      <td>LP001005</td>\n",
       "      <td>Male</td>\n",
       "      <td>Yes</td>\n",
       "      <td>0</td>\n",
       "      <td>Graduate</td>\n",
       "      <td>Yes</td>\n",
       "      <td>3000</td>\n",
       "      <td>0.0</td>\n",
       "      <td>66.0</td>\n",
       "      <td>360.0</td>\n",
       "      <td>1.0</td>\n",
       "      <td>Urban</td>\n",
       "      <td>Y</td>\n",
       "    </tr>\n",
       "    <tr>\n",
       "      <th>3</th>\n",
       "      <td>LP001006</td>\n",
       "      <td>Male</td>\n",
       "      <td>Yes</td>\n",
       "      <td>0</td>\n",
       "      <td>Not Graduate</td>\n",
       "      <td>No</td>\n",
       "      <td>2583</td>\n",
       "      <td>2358.0</td>\n",
       "      <td>120.0</td>\n",
       "      <td>360.0</td>\n",
       "      <td>1.0</td>\n",
       "      <td>Urban</td>\n",
       "      <td>Y</td>\n",
       "    </tr>\n",
       "    <tr>\n",
       "      <th>4</th>\n",
       "      <td>LP001008</td>\n",
       "      <td>Male</td>\n",
       "      <td>No</td>\n",
       "      <td>0</td>\n",
       "      <td>Graduate</td>\n",
       "      <td>No</td>\n",
       "      <td>6000</td>\n",
       "      <td>0.0</td>\n",
       "      <td>141.0</td>\n",
       "      <td>360.0</td>\n",
       "      <td>1.0</td>\n",
       "      <td>Urban</td>\n",
       "      <td>Y</td>\n",
       "    </tr>\n",
       "    <tr>\n",
       "      <th>...</th>\n",
       "      <td>...</td>\n",
       "      <td>...</td>\n",
       "      <td>...</td>\n",
       "      <td>...</td>\n",
       "      <td>...</td>\n",
       "      <td>...</td>\n",
       "      <td>...</td>\n",
       "      <td>...</td>\n",
       "      <td>...</td>\n",
       "      <td>...</td>\n",
       "      <td>...</td>\n",
       "      <td>...</td>\n",
       "      <td>...</td>\n",
       "    </tr>\n",
       "    <tr>\n",
       "      <th>609</th>\n",
       "      <td>LP002978</td>\n",
       "      <td>Female</td>\n",
       "      <td>No</td>\n",
       "      <td>0</td>\n",
       "      <td>Graduate</td>\n",
       "      <td>No</td>\n",
       "      <td>2900</td>\n",
       "      <td>0.0</td>\n",
       "      <td>71.0</td>\n",
       "      <td>360.0</td>\n",
       "      <td>1.0</td>\n",
       "      <td>Rural</td>\n",
       "      <td>Y</td>\n",
       "    </tr>\n",
       "    <tr>\n",
       "      <th>610</th>\n",
       "      <td>LP002979</td>\n",
       "      <td>Male</td>\n",
       "      <td>Yes</td>\n",
       "      <td>3+</td>\n",
       "      <td>Graduate</td>\n",
       "      <td>No</td>\n",
       "      <td>4106</td>\n",
       "      <td>0.0</td>\n",
       "      <td>40.0</td>\n",
       "      <td>180.0</td>\n",
       "      <td>1.0</td>\n",
       "      <td>Rural</td>\n",
       "      <td>Y</td>\n",
       "    </tr>\n",
       "    <tr>\n",
       "      <th>611</th>\n",
       "      <td>LP002983</td>\n",
       "      <td>Male</td>\n",
       "      <td>Yes</td>\n",
       "      <td>1</td>\n",
       "      <td>Graduate</td>\n",
       "      <td>No</td>\n",
       "      <td>8072</td>\n",
       "      <td>240.0</td>\n",
       "      <td>253.0</td>\n",
       "      <td>360.0</td>\n",
       "      <td>1.0</td>\n",
       "      <td>Urban</td>\n",
       "      <td>Y</td>\n",
       "    </tr>\n",
       "    <tr>\n",
       "      <th>612</th>\n",
       "      <td>LP002984</td>\n",
       "      <td>Male</td>\n",
       "      <td>Yes</td>\n",
       "      <td>2</td>\n",
       "      <td>Graduate</td>\n",
       "      <td>No</td>\n",
       "      <td>7583</td>\n",
       "      <td>0.0</td>\n",
       "      <td>187.0</td>\n",
       "      <td>360.0</td>\n",
       "      <td>1.0</td>\n",
       "      <td>Urban</td>\n",
       "      <td>Y</td>\n",
       "    </tr>\n",
       "    <tr>\n",
       "      <th>613</th>\n",
       "      <td>LP002990</td>\n",
       "      <td>Female</td>\n",
       "      <td>No</td>\n",
       "      <td>0</td>\n",
       "      <td>Graduate</td>\n",
       "      <td>Yes</td>\n",
       "      <td>4583</td>\n",
       "      <td>0.0</td>\n",
       "      <td>133.0</td>\n",
       "      <td>360.0</td>\n",
       "      <td>0.0</td>\n",
       "      <td>Semiurban</td>\n",
       "      <td>N</td>\n",
       "    </tr>\n",
       "  </tbody>\n",
       "</table>\n",
       "<p>614 rows × 13 columns</p>\n",
       "</div>"
      ],
      "text/plain": [
       "      Loan_ID  Gender Married Dependents     Education Self_Employed  \\\n",
       "0    LP001002    Male      No          0      Graduate            No   \n",
       "1    LP001003    Male     Yes          1      Graduate            No   \n",
       "2    LP001005    Male     Yes          0      Graduate           Yes   \n",
       "3    LP001006    Male     Yes          0  Not Graduate            No   \n",
       "4    LP001008    Male      No          0      Graduate            No   \n",
       "..        ...     ...     ...        ...           ...           ...   \n",
       "609  LP002978  Female      No          0      Graduate            No   \n",
       "610  LP002979    Male     Yes         3+      Graduate            No   \n",
       "611  LP002983    Male     Yes          1      Graduate            No   \n",
       "612  LP002984    Male     Yes          2      Graduate            No   \n",
       "613  LP002990  Female      No          0      Graduate           Yes   \n",
       "\n",
       "     ApplicantIncome  CoapplicantIncome  LoanAmount  Loan_Amount_Term  \\\n",
       "0               5849                0.0         NaN             360.0   \n",
       "1               4583             1508.0       128.0             360.0   \n",
       "2               3000                0.0        66.0             360.0   \n",
       "3               2583             2358.0       120.0             360.0   \n",
       "4               6000                0.0       141.0             360.0   \n",
       "..               ...                ...         ...               ...   \n",
       "609             2900                0.0        71.0             360.0   \n",
       "610             4106                0.0        40.0             180.0   \n",
       "611             8072              240.0       253.0             360.0   \n",
       "612             7583                0.0       187.0             360.0   \n",
       "613             4583                0.0       133.0             360.0   \n",
       "\n",
       "     Credit_History Property_Area Loan_Status  \n",
       "0               1.0         Urban           Y  \n",
       "1               1.0         Rural           N  \n",
       "2               1.0         Urban           Y  \n",
       "3               1.0         Urban           Y  \n",
       "4               1.0         Urban           Y  \n",
       "..              ...           ...         ...  \n",
       "609             1.0         Rural           Y  \n",
       "610             1.0         Rural           Y  \n",
       "611             1.0         Urban           Y  \n",
       "612             1.0         Urban           Y  \n",
       "613             0.0     Semiurban           N  \n",
       "\n",
       "[614 rows x 13 columns]"
      ]
     },
     "execution_count": 694,
     "metadata": {},
     "output_type": "execute_result"
    }
   ],
   "source": [
    "df=pd.read_csv('https://raw.githubusercontent.com/dsrscientist/DSData/master/loan_prediction.csv')\n",
    "df"
   ]
  },
  {
   "cell_type": "code",
   "execution_count": 695,
   "id": "23cf7f41",
   "metadata": {},
   "outputs": [
    {
     "data": {
      "text/plain": [
       "(614, 13)"
      ]
     },
     "execution_count": 695,
     "metadata": {},
     "output_type": "execute_result"
    }
   ],
   "source": [
    "df.shape"
   ]
  },
  {
   "cell_type": "code",
   "execution_count": 696,
   "id": "f74fd1a2",
   "metadata": {},
   "outputs": [],
   "source": [
    "# There are 614 Rows and 13 column in this data set.\n",
    "# Loan_status is our target variable and other are feature (Input variable)"
   ]
  },
  {
   "cell_type": "markdown",
   "id": "8a3d3d4a",
   "metadata": {},
   "source": [
    "# Preprocessing"
   ]
  },
  {
   "cell_type": "code",
   "execution_count": 697,
   "id": "2ae62325",
   "metadata": {},
   "outputs": [
    {
     "name": "stdout",
     "output_type": "stream",
     "text": [
      "<class 'pandas.core.frame.DataFrame'>\n",
      "RangeIndex: 614 entries, 0 to 613\n",
      "Data columns (total 13 columns):\n",
      " #   Column             Non-Null Count  Dtype  \n",
      "---  ------             --------------  -----  \n",
      " 0   Loan_ID            614 non-null    object \n",
      " 1   Gender             601 non-null    object \n",
      " 2   Married            611 non-null    object \n",
      " 3   Dependents         599 non-null    object \n",
      " 4   Education          614 non-null    object \n",
      " 5   Self_Employed      582 non-null    object \n",
      " 6   ApplicantIncome    614 non-null    int64  \n",
      " 7   CoapplicantIncome  614 non-null    float64\n",
      " 8   LoanAmount         592 non-null    float64\n",
      " 9   Loan_Amount_Term   600 non-null    float64\n",
      " 10  Credit_History     564 non-null    float64\n",
      " 11  Property_Area      614 non-null    object \n",
      " 12  Loan_Status        614 non-null    object \n",
      "dtypes: float64(4), int64(1), object(8)\n",
      "memory usage: 62.5+ KB\n"
     ]
    }
   ],
   "source": [
    "df.info()"
   ]
  },
  {
   "cell_type": "code",
   "execution_count": 698,
   "id": "7c02b0ed",
   "metadata": {},
   "outputs": [
    {
     "data": {
      "text/plain": [
       "Index(['Loan_ID', 'Gender', 'Married', 'Dependents', 'Education',\n",
       "       'Self_Employed', 'ApplicantIncome', 'CoapplicantIncome', 'LoanAmount',\n",
       "       'Loan_Amount_Term', 'Credit_History', 'Property_Area', 'Loan_Status'],\n",
       "      dtype='object')"
      ]
     },
     "execution_count": 698,
     "metadata": {},
     "output_type": "execute_result"
    }
   ],
   "source": [
    "df.columns # Checking column name "
   ]
  },
  {
   "cell_type": "code",
   "execution_count": 699,
   "id": "4f0bdc4d",
   "metadata": {},
   "outputs": [
    {
     "data": {
      "text/plain": [
       "Loan_ID              614\n",
       "Gender                 2\n",
       "Married                2\n",
       "Dependents             4\n",
       "Education              2\n",
       "Self_Employed          2\n",
       "ApplicantIncome      505\n",
       "CoapplicantIncome    287\n",
       "LoanAmount           203\n",
       "Loan_Amount_Term      10\n",
       "Credit_History         2\n",
       "Property_Area          3\n",
       "Loan_Status            2\n",
       "dtype: int64"
      ]
     },
     "execution_count": 699,
     "metadata": {},
     "output_type": "execute_result"
    }
   ],
   "source": [
    "df.nunique() # Checking total unique values"
   ]
  },
  {
   "cell_type": "code",
   "execution_count": 700,
   "id": "acf28ac4",
   "metadata": {},
   "outputs": [
    {
     "data": {
      "text/plain": [
       "array(['Y', 'N'], dtype=object)"
      ]
     },
     "execution_count": 700,
     "metadata": {},
     "output_type": "execute_result"
    }
   ],
   "source": [
    "df['Loan_Status'].unique() # Checking unique vallues of our target variable "
   ]
  },
  {
   "cell_type": "code",
   "execution_count": 701,
   "id": "a4de4491",
   "metadata": {},
   "outputs": [],
   "source": [
    "# Our target variable having only 02 class. Y or N. so this problem is classification "
   ]
  },
  {
   "cell_type": "code",
   "execution_count": 702,
   "id": "7cb75831",
   "metadata": {},
   "outputs": [
    {
     "data": {
      "text/plain": [
       "Loan_ID               0\n",
       "Gender               13\n",
       "Married               3\n",
       "Dependents           15\n",
       "Education             0\n",
       "Self_Employed        32\n",
       "ApplicantIncome       0\n",
       "CoapplicantIncome     0\n",
       "LoanAmount           22\n",
       "Loan_Amount_Term     14\n",
       "Credit_History       50\n",
       "Property_Area         0\n",
       "Loan_Status           0\n",
       "dtype: int64"
      ]
     },
     "execution_count": 702,
     "metadata": {},
     "output_type": "execute_result"
    }
   ],
   "source": [
    "df.isnull().sum()"
   ]
  },
  {
   "cell_type": "code",
   "execution_count": 703,
   "id": "154c876f",
   "metadata": {},
   "outputs": [],
   "source": [
    "# This data set has null values in maximum column. so we will deal with them first."
   ]
  },
  {
   "cell_type": "code",
   "execution_count": 704,
   "id": "061a05e7",
   "metadata": {},
   "outputs": [
    {
     "data": {
      "text/html": [
       "<div>\n",
       "<style scoped>\n",
       "    .dataframe tbody tr th:only-of-type {\n",
       "        vertical-align: middle;\n",
       "    }\n",
       "\n",
       "    .dataframe tbody tr th {\n",
       "        vertical-align: top;\n",
       "    }\n",
       "\n",
       "    .dataframe thead th {\n",
       "        text-align: right;\n",
       "    }\n",
       "</style>\n",
       "<table border=\"1\" class=\"dataframe\">\n",
       "  <thead>\n",
       "    <tr style=\"text-align: right;\">\n",
       "      <th></th>\n",
       "      <th>Gender</th>\n",
       "      <th>Married</th>\n",
       "      <th>Dependents</th>\n",
       "      <th>Education</th>\n",
       "      <th>Self_Employed</th>\n",
       "      <th>ApplicantIncome</th>\n",
       "      <th>CoapplicantIncome</th>\n",
       "      <th>LoanAmount</th>\n",
       "      <th>Loan_Amount_Term</th>\n",
       "      <th>Credit_History</th>\n",
       "      <th>Property_Area</th>\n",
       "      <th>Loan_Status</th>\n",
       "    </tr>\n",
       "  </thead>\n",
       "  <tbody>\n",
       "    <tr>\n",
       "      <th>0</th>\n",
       "      <td>Male</td>\n",
       "      <td>No</td>\n",
       "      <td>0</td>\n",
       "      <td>Graduate</td>\n",
       "      <td>No</td>\n",
       "      <td>5849</td>\n",
       "      <td>0.0</td>\n",
       "      <td>NaN</td>\n",
       "      <td>360.0</td>\n",
       "      <td>1.0</td>\n",
       "      <td>Urban</td>\n",
       "      <td>Y</td>\n",
       "    </tr>\n",
       "    <tr>\n",
       "      <th>1</th>\n",
       "      <td>Male</td>\n",
       "      <td>Yes</td>\n",
       "      <td>1</td>\n",
       "      <td>Graduate</td>\n",
       "      <td>No</td>\n",
       "      <td>4583</td>\n",
       "      <td>1508.0</td>\n",
       "      <td>128.0</td>\n",
       "      <td>360.0</td>\n",
       "      <td>1.0</td>\n",
       "      <td>Rural</td>\n",
       "      <td>N</td>\n",
       "    </tr>\n",
       "    <tr>\n",
       "      <th>2</th>\n",
       "      <td>Male</td>\n",
       "      <td>Yes</td>\n",
       "      <td>0</td>\n",
       "      <td>Graduate</td>\n",
       "      <td>Yes</td>\n",
       "      <td>3000</td>\n",
       "      <td>0.0</td>\n",
       "      <td>66.0</td>\n",
       "      <td>360.0</td>\n",
       "      <td>1.0</td>\n",
       "      <td>Urban</td>\n",
       "      <td>Y</td>\n",
       "    </tr>\n",
       "    <tr>\n",
       "      <th>3</th>\n",
       "      <td>Male</td>\n",
       "      <td>Yes</td>\n",
       "      <td>0</td>\n",
       "      <td>Not Graduate</td>\n",
       "      <td>No</td>\n",
       "      <td>2583</td>\n",
       "      <td>2358.0</td>\n",
       "      <td>120.0</td>\n",
       "      <td>360.0</td>\n",
       "      <td>1.0</td>\n",
       "      <td>Urban</td>\n",
       "      <td>Y</td>\n",
       "    </tr>\n",
       "    <tr>\n",
       "      <th>4</th>\n",
       "      <td>Male</td>\n",
       "      <td>No</td>\n",
       "      <td>0</td>\n",
       "      <td>Graduate</td>\n",
       "      <td>No</td>\n",
       "      <td>6000</td>\n",
       "      <td>0.0</td>\n",
       "      <td>141.0</td>\n",
       "      <td>360.0</td>\n",
       "      <td>1.0</td>\n",
       "      <td>Urban</td>\n",
       "      <td>Y</td>\n",
       "    </tr>\n",
       "  </tbody>\n",
       "</table>\n",
       "</div>"
      ],
      "text/plain": [
       "  Gender Married Dependents     Education Self_Employed  ApplicantIncome  \\\n",
       "0   Male      No          0      Graduate            No             5849   \n",
       "1   Male     Yes          1      Graduate            No             4583   \n",
       "2   Male     Yes          0      Graduate           Yes             3000   \n",
       "3   Male     Yes          0  Not Graduate            No             2583   \n",
       "4   Male      No          0      Graduate            No             6000   \n",
       "\n",
       "   CoapplicantIncome  LoanAmount  Loan_Amount_Term  Credit_History  \\\n",
       "0                0.0         NaN             360.0             1.0   \n",
       "1             1508.0       128.0             360.0             1.0   \n",
       "2                0.0        66.0             360.0             1.0   \n",
       "3             2358.0       120.0             360.0             1.0   \n",
       "4                0.0       141.0             360.0             1.0   \n",
       "\n",
       "  Property_Area Loan_Status  \n",
       "0         Urban           Y  \n",
       "1         Rural           N  \n",
       "2         Urban           Y  \n",
       "3         Urban           Y  \n",
       "4         Urban           Y  "
      ]
     },
     "execution_count": 704,
     "metadata": {},
     "output_type": "execute_result"
    }
   ],
   "source": [
    "# Dropping Loan ID as it is nominal featur only.\n",
    "df=df.drop(['Loan_ID'],axis=1)\n",
    "df.head()"
   ]
  },
  {
   "cell_type": "code",
   "execution_count": 705,
   "id": "1ed55407",
   "metadata": {},
   "outputs": [
    {
     "data": {
      "text/plain": [
       "0"
      ]
     },
     "execution_count": 705,
     "metadata": {},
     "output_type": "execute_result"
    }
   ],
   "source": [
    "df.duplicated().sum() # Checking duplicates."
   ]
  },
  {
   "cell_type": "code",
   "execution_count": 706,
   "id": "e1d25475",
   "metadata": {},
   "outputs": [],
   "source": [
    "# There is no any duplicate data in this data set."
   ]
  },
  {
   "cell_type": "code",
   "execution_count": 707,
   "id": "3e00e958",
   "metadata": {},
   "outputs": [],
   "source": [
    "# Now we will deal with null values with fillna method. Mean for continuous data and mode for categorical data.\n",
    "\n",
    "df['Married']=df['Married'].fillna(df['Married'].mode()[0])\n",
    "df['Dependents']=df['Dependents'].fillna(df['Dependents'].mode()[0])\n",
    "df['Self_Employed']=df['Self_Employed'].fillna(df['Self_Employed'].mode()[0])\n",
    "df['Gender']=df['Gender'].fillna(df['Gender'].mode()[0])"
   ]
  },
  {
   "cell_type": "code",
   "execution_count": 708,
   "id": "c068f0b2",
   "metadata": {},
   "outputs": [],
   "source": [
    "# NOw we will deal with continous data with mean method.\n",
    "df['LoanAmount']=df['LoanAmount'].fillna(df['LoanAmount'].mean())\n",
    "df['Loan_Amount_Term']=df['Loan_Amount_Term'].fillna(df['Loan_Amount_Term'].mean())\n",
    "df['Credit_History']=df['Credit_History'].fillna(df['Credit_History'].mean())"
   ]
  },
  {
   "cell_type": "code",
   "execution_count": 709,
   "id": "e613f775",
   "metadata": {},
   "outputs": [
    {
     "data": {
      "text/plain": [
       "Gender               0\n",
       "Married              0\n",
       "Dependents           0\n",
       "Education            0\n",
       "Self_Employed        0\n",
       "ApplicantIncome      0\n",
       "CoapplicantIncome    0\n",
       "LoanAmount           0\n",
       "Loan_Amount_Term     0\n",
       "Credit_History       0\n",
       "Property_Area        0\n",
       "Loan_Status          0\n",
       "dtype: int64"
      ]
     },
     "execution_count": 709,
     "metadata": {},
     "output_type": "execute_result"
    }
   ],
   "source": [
    "# Now again check null values in data set.\n",
    "df.isnull().sum()"
   ]
  },
  {
   "cell_type": "code",
   "execution_count": 710,
   "id": "d7e57cd2",
   "metadata": {},
   "outputs": [],
   "source": [
    "# Now there is no any null value in this data set. and we can proceed further."
   ]
  },
  {
   "cell_type": "markdown",
   "id": "4d9a2ab8",
   "metadata": {},
   "source": [
    "# EDA and Visualization"
   ]
  },
  {
   "cell_type": "code",
   "execution_count": 711,
   "id": "8145b8e2",
   "metadata": {},
   "outputs": [],
   "source": [
    "# In Exploratory Data Analysis we will plot countplot to check the counts of categorical features.\n",
    "\n",
    "# Importing necessary library\n",
    "\n",
    "import seaborn as sns\n",
    "import matplotlib.pyplot as plt\n",
    "%matplotlib inline\n",
    "import warnings\n",
    "warnings.filterwarnings('ignore')"
   ]
  },
  {
   "cell_type": "code",
   "execution_count": 712,
   "id": "d9665235",
   "metadata": {},
   "outputs": [
    {
     "name": "stdout",
     "output_type": "stream",
     "text": [
      "Male      502\n",
      "Female    112\n",
      "Name: Gender, dtype: int64\n"
     ]
    },
    {
     "data": {
      "image/png": "[encoded data removed]",
      "text/plain": [
       "<Figure size 432x288 with 1 Axes>"
      ]
     },
     "metadata": {
      "needs_background": "light"
     },
     "output_type": "display_data"
    }
   ],
   "source": [
    "# Checking Gender column\n",
    "sns.countplot(x='Gender',data=df)\n",
    "print(df['Gender'].value_counts())"
   ]
  },
  {
   "cell_type": "code",
   "execution_count": 713,
   "id": "8a6104d0",
   "metadata": {},
   "outputs": [],
   "source": [
    "# from above plot we can say that out 614 person, 502 are male and 112 are female candidate who have applied for loan"
   ]
  },
  {
   "cell_type": "code",
   "execution_count": 714,
   "id": "cb7e3fd7",
   "metadata": {},
   "outputs": [
    {
     "name": "stdout",
     "output_type": "stream",
     "text": [
      "Yes    401\n",
      "No     213\n",
      "Name: Married, dtype: int64\n"
     ]
    },
    {
     "data": {
      "image/png": "[encoded data removed]",
      "text/plain": [
       "<Figure size 432x288 with 1 Axes>"
      ]
     },
     "metadata": {
      "needs_background": "light"
     },
     "output_type": "display_data"
    }
   ],
   "source": [
    "# Checking Married column\n",
    "sns.countplot(x='Married',data=df)\n",
    "print(df['Married'].value_counts())"
   ]
  },
  {
   "cell_type": "code",
   "execution_count": 715,
   "id": "0d39dc39",
   "metadata": {},
   "outputs": [],
   "source": [
    "# from above plot we can say that out 614 person, 401 are married and 213 are unmarried  who have applied for loan.\n",
    "# Majority is married person."
   ]
  },
  {
   "cell_type": "code",
   "execution_count": 716,
   "id": "81fd6fa6",
   "metadata": {},
   "outputs": [
    {
     "name": "stdout",
     "output_type": "stream",
     "text": [
      "0     360\n",
      "1     102\n",
      "2     101\n",
      "3+     51\n",
      "Name: Dependents, dtype: int64\n"
     ]
    },
    {
     "data": {
      "image/png": "[encoded data removed]",
      "text/plain": [
       "<Figure size 432x288 with 1 Axes>"
      ]
     },
     "metadata": {
      "needs_background": "light"
     },
     "output_type": "display_data"
    }
   ],
   "source": [
    "# Checking Dependents column\n",
    "sns.countplot(x='Dependents',data=df)\n",
    "print(df['Dependents'].value_counts())"
   ]
  },
  {
   "cell_type": "code",
   "execution_count": 717,
   "id": "03874170",
   "metadata": {},
   "outputs": [],
   "source": [
    "# from above plot we can say that\n",
    "# 360 candidate has no dependent. \n",
    "# 102 candidates have 1 dependent. \n",
    "# 101 candidates have 2 dependent. \n",
    "# 51 candidates have 3+ dependent. "
   ]
  },
  {
   "cell_type": "code",
   "execution_count": 718,
   "id": "e74ee8cd",
   "metadata": {},
   "outputs": [
    {
     "name": "stdout",
     "output_type": "stream",
     "text": [
      "Graduate        480\n",
      "Not Graduate    134\n",
      "Name: Education, dtype: int64\n"
     ]
    },
    {
     "data": {
      "image/png": "[encoded data removed]",
      "text/plain": [
       "<Figure size 432x288 with 1 Axes>"
      ]
     },
     "metadata": {
      "needs_background": "light"
     },
     "output_type": "display_data"
    }
   ],
   "source": [
    "# Checking Education column\n",
    "sns.countplot(x='Education',data=df)\n",
    "print(df['Education'].value_counts())"
   ]
  },
  {
   "cell_type": "code",
   "execution_count": 719,
   "id": "e1f852a2",
   "metadata": {},
   "outputs": [],
   "source": [
    "# out of 614 candidate. 480 peoples are graduate and 134 are non graduate.\n",
    "# Majority are Graduate"
   ]
  },
  {
   "cell_type": "code",
   "execution_count": 720,
   "id": "610e7f2b",
   "metadata": {},
   "outputs": [
    {
     "name": "stdout",
     "output_type": "stream",
     "text": [
      "No     532\n",
      "Yes     82\n",
      "Name: Self_Employed, dtype: int64\n"
     ]
    },
    {
     "data": {
      "image/png": "[encoded data removed]",
      "text/plain": [
       "<Figure size 432x288 with 1 Axes>"
      ]
     },
     "metadata": {
      "needs_background": "light"
     },
     "output_type": "display_data"
    }
   ],
   "source": [
    "# Checking Self_Employed column\n",
    "sns.countplot(x='Self_Employed',data=df)\n",
    "print(df['Self_Employed'].value_counts())"
   ]
  },
  {
   "cell_type": "code",
   "execution_count": 721,
   "id": "bbeff1d5",
   "metadata": {},
   "outputs": [],
   "source": [
    "# from above plot we can say that\n",
    "# 531 candidate are not self employed.  (Majority)\n",
    "# 82 candidates have self employed."
   ]
  },
  {
   "cell_type": "code",
   "execution_count": 722,
   "id": "ce00c888",
   "metadata": {},
   "outputs": [
    {
     "name": "stdout",
     "output_type": "stream",
     "text": [
      "Semiurban    233\n",
      "Urban        202\n",
      "Rural        179\n",
      "Name: Property_Area, dtype: int64\n"
     ]
    },
    {
     "data": {
      "image/png": "[encoded data removed]",
      "text/plain": [
       "<Figure size 432x288 with 1 Axes>"
      ]
     },
     "metadata": {
      "needs_background": "light"
     },
     "output_type": "display_data"
    }
   ],
   "source": [
    "# Checking Property_Area column\n",
    "sns.countplot(x='Property_Area',data=df)\n",
    "print(df['Property_Area'].value_counts())"
   ]
  },
  {
   "cell_type": "code",
   "execution_count": 723,
   "id": "252b52a5",
   "metadata": {},
   "outputs": [],
   "source": [
    "# Property is distributed in Urban Rural and semiurban area.\n",
    "# Semiurban has major property area.\n",
    "# Urban and Rural have approx equal property area."
   ]
  },
  {
   "cell_type": "code",
   "execution_count": 724,
   "id": "544a19b3",
   "metadata": {},
   "outputs": [
    {
     "name": "stdout",
     "output_type": "stream",
     "text": [
      "Y    422\n",
      "N    192\n",
      "Name: Loan_Status, dtype: int64\n"
     ]
    },
    {
     "data": {
      "image/png": "[encoded data removed]",
      "text/plain": [
       "<Figure size 432x288 with 1 Axes>"
      ]
     },
     "metadata": {
      "needs_background": "light"
     },
     "output_type": "display_data"
    }
   ],
   "source": [
    "# we have checked all the categorical attributes. \n",
    "# Our Target Variabale is also Categorical so we will also chek the target variable counts.\n",
    "\n",
    "# Checking Loan_Status  column which is our target variable.\n",
    "sns.countplot(x='Loan_Status',data=df)\n",
    "print(df['Loan_Status'].value_counts())"
   ]
  },
  {
   "cell_type": "code",
   "execution_count": 725,
   "id": "3d8acbb0",
   "metadata": {},
   "outputs": [],
   "source": [
    "# from above plot we can say that maximum person loan as been approved (422) and 192 people could not got approval for their loan."
   ]
  },
  {
   "cell_type": "code",
   "execution_count": 726,
   "id": "2e6568ca",
   "metadata": {},
   "outputs": [],
   "source": [
    "# We have checked all categorical column by count plot.\n",
    "# Now we will check the continuous data by distplot."
   ]
  },
  {
   "cell_type": "code",
   "execution_count": 727,
   "id": "7521f411",
   "metadata": {},
   "outputs": [
    {
     "data": {
      "text/plain": [
       "<AxesSubplot:xlabel='ApplicantIncome', ylabel='Density'>"
      ]
     },
     "execution_count": 727,
     "metadata": {},
     "output_type": "execute_result"
    },
    {
     "data": {
      "image/png": "[encoded data removed]",
      "text/plain": [
       "<Figure size 432x288 with 1 Axes>"
      ]
     },
     "metadata": {
      "needs_background": "light"
     },
     "output_type": "display_data"
    }
   ],
   "source": [
    "sns.distplot(df['ApplicantIncome'])"
   ]
  },
  {
   "cell_type": "code",
   "execution_count": 728,
   "id": "96d32fd9",
   "metadata": {},
   "outputs": [],
   "source": [
    "# from above plot we can say that maximum person having their income slab between 0-15K and some are outliers.\n",
    "# Also data is not properly distributed. so we will trea it."
   ]
  },
  {
   "cell_type": "code",
   "execution_count": 729,
   "id": "b364a540",
   "metadata": {},
   "outputs": [],
   "source": [
    "# We will apply long transformation to this feature.\n",
    "df['ApplicantIncome']=np.log(df['ApplicantIncome'])"
   ]
  },
  {
   "cell_type": "code",
   "execution_count": 730,
   "id": "d65f1c6e",
   "metadata": {},
   "outputs": [
    {
     "data": {
      "text/plain": [
       "<AxesSubplot:xlabel='ApplicantIncome', ylabel='Density'>"
      ]
     },
     "execution_count": 730,
     "metadata": {},
     "output_type": "execute_result"
    },
    {
     "data": {
      "image/png": "[encoded data removed]",
      "text/plain": [
       "<Figure size 432x288 with 1 Axes>"
      ]
     },
     "metadata": {
      "needs_background": "light"
     },
     "output_type": "display_data"
    }
   ],
   "source": [
    "# Now we will again check the data distribution after apply long transformtion in this feature.\n",
    "sns.distplot(df['ApplicantIncome'])"
   ]
  },
  {
   "cell_type": "code",
   "execution_count": 731,
   "id": "ccb8effa",
   "metadata": {},
   "outputs": [],
   "source": [
    "# Now data is looking normally distributed of this feature for better training the model"
   ]
  },
  {
   "cell_type": "code",
   "execution_count": 732,
   "id": "a1f04a3a",
   "metadata": {},
   "outputs": [
    {
     "data": {
      "text/plain": [
       "<AxesSubplot:xlabel='LoanAmount', ylabel='Density'>"
      ]
     },
     "execution_count": 732,
     "metadata": {},
     "output_type": "execute_result"
    },
    {
     "data": {
      "image/png": "[encoded data removed]",
      "text/plain": [
       "<Figure size 432x288 with 1 Axes>"
      ]
     },
     "metadata": {
      "needs_background": "light"
     },
     "output_type": "display_data"
    }
   ],
   "source": [
    "sns.distplot(df['LoanAmount'])"
   ]
  },
  {
   "cell_type": "code",
   "execution_count": 733,
   "id": "a96a378d",
   "metadata": {},
   "outputs": [],
   "source": [
    "# from above plot we can say that maximum person applied for loan amount of range 0-200 and some are outliers. but why any person will apply for Zero loan. so this data is not equally distributed.\n",
    "# so we will apply log transformation method to this feature."
   ]
  },
  {
   "cell_type": "code",
   "execution_count": 734,
   "id": "b9635bf3",
   "metadata": {},
   "outputs": [
    {
     "data": {
      "text/plain": [
       "<AxesSubplot:xlabel='LoanAmount', ylabel='Density'>"
      ]
     },
     "execution_count": 734,
     "metadata": {},
     "output_type": "execute_result"
    },
    {
     "data": {
      "image/png": "[encoded data removed]",
      "text/plain": [
       "<Figure size 432x288 with 1 Axes>"
      ]
     },
     "metadata": {
      "needs_background": "light"
     },
     "output_type": "display_data"
    }
   ],
   "source": [
    "# We will apply long transformation to this feature.\n",
    "df['LoanAmount']=np.log(df['LoanAmount'])\n",
    "sns.distplot(df['LoanAmount'])"
   ]
  },
  {
   "cell_type": "code",
   "execution_count": 735,
   "id": "9ad6376e",
   "metadata": {},
   "outputs": [],
   "source": [
    "# Now this feature is looking normally distributed."
   ]
  },
  {
   "cell_type": "code",
   "execution_count": 736,
   "id": "32d859a9",
   "metadata": {},
   "outputs": [
    {
     "data": {
      "text/plain": [
       "<AxesSubplot:xlabel='Loan_Amount_Term', ylabel='Density'>"
      ]
     },
     "execution_count": 736,
     "metadata": {},
     "output_type": "execute_result"
    },
    {
     "data": {
      "image/png": "[encoded data removed]",
      "text/plain": [
       "<Figure size 432x288 with 1 Axes>"
      ]
     },
     "metadata": {
      "needs_background": "light"
     },
     "output_type": "display_data"
    }
   ],
   "source": [
    "# Checking loan amount term feature with distribution plot.\n",
    "\n",
    "sns.distplot(df['Loan_Amount_Term'])"
   ]
  },
  {
   "cell_type": "code",
   "execution_count": 737,
   "id": "98b49f37",
   "metadata": {},
   "outputs": [],
   "source": [
    "# We can see that data is not normally distributed.\n",
    "# WE can say maximum loan amount term between 300-400 which in not  looking normal."
   ]
  },
  {
   "cell_type": "code",
   "execution_count": 738,
   "id": "85777568",
   "metadata": {},
   "outputs": [
    {
     "data": {
      "text/plain": [
       "<AxesSubplot:xlabel='Loan_Amount_Term', ylabel='Density'>"
      ]
     },
     "execution_count": 738,
     "metadata": {},
     "output_type": "execute_result"
    },
    {
     "data": {
      "image/png": "[encoded data removed]",
      "text/plain": [
       "<Figure size 432x288 with 1 Axes>"
      ]
     },
     "metadata": {
      "needs_background": "light"
     },
     "output_type": "display_data"
    }
   ],
   "source": [
    "# We will apply long transformation to this feature.\n",
    "df['Loan_Amount_Term']=np.log(df['Loan_Amount_Term'])\n",
    "sns.distplot(df['Loan_Amount_Term'])"
   ]
  },
  {
   "cell_type": "code",
   "execution_count": 739,
   "id": "2838d7eb",
   "metadata": {},
   "outputs": [],
   "source": [
    "# Now we can say maximum person choose the loan term is approx. 6 years"
   ]
  },
  {
   "cell_type": "code",
   "execution_count": 740,
   "id": "cd1bcd1e",
   "metadata": {},
   "outputs": [
    {
     "data": {
      "text/plain": [
       "<AxesSubplot:xlabel='Credit_History', ylabel='Density'>"
      ]
     },
     "execution_count": 740,
     "metadata": {},
     "output_type": "execute_result"
    },
    {
     "data": {
      "image/png": "[encoded data removed]",
      "text/plain": [
       "<Figure size 432x288 with 1 Axes>"
      ]
     },
     "metadata": {
      "needs_background": "light"
     },
     "output_type": "display_data"
    }
   ],
   "source": [
    "# Checking loan amount term feature with distribution plot.\n",
    "\n",
    "sns.distplot(df['Credit_History'])"
   ]
  },
  {
   "cell_type": "code",
   "execution_count": 741,
   "id": "e1ee0db7",
   "metadata": {},
   "outputs": [],
   "source": [
    "# From above plot we can say that all credit History lies between 0-1 range. so no need to apply any transformation method to this attribute."
   ]
  },
  {
   "cell_type": "code",
   "execution_count": 742,
   "id": "c03b45b5",
   "metadata": {},
   "outputs": [
    {
     "data": {
      "text/plain": [
       "<AxesSubplot:xlabel='CoapplicantIncome', ylabel='Density'>"
      ]
     },
     "execution_count": 742,
     "metadata": {},
     "output_type": "execute_result"
    },
    {
     "data": {
      "image/png": "[encoded data removed]",
      "text/plain": [
       "<Figure size 432x288 with 1 Axes>"
      ]
     },
     "metadata": {
      "needs_background": "light"
     },
     "output_type": "display_data"
    }
   ],
   "source": [
    "sns.distplot(df['CoapplicantIncome'])"
   ]
  },
  {
   "cell_type": "code",
   "execution_count": 743,
   "id": "186b9468",
   "metadata": {},
   "outputs": [],
   "source": [
    "# from above plot we can say that how one person income can be zero. so its look that this is not normally distributed data.\n",
    "# We will use log transformation method for it"
   ]
  },
  {
   "cell_type": "code",
   "execution_count": 745,
   "id": "c9d7ec94",
   "metadata": {},
   "outputs": [
    {
     "data": {
      "text/plain": [
       "<AxesSubplot:xlabel='CoapplicantIncome', ylabel='Density'>"
      ]
     },
     "execution_count": 745,
     "metadata": {},
     "output_type": "execute_result"
    },
    {
     "data": {
      "image/png": "[encoded data removed]",
      "text/plain": [
       "<Figure size 432x288 with 1 Axes>"
      ]
     },
     "metadata": {
      "needs_background": "light"
     },
     "output_type": "display_data"
    }
   ],
   "source": [
    "df['CoapplicantIncome']=np.log(df['CoapplicantIncome'])\n",
    "sns.distplot(df['CoapplicantIncome'])"
   ]
  },
  {
   "cell_type": "code",
   "execution_count": null,
   "id": "ca6395ac",
   "metadata": {},
   "outputs": [],
   "source": [
    "# Now the income distribution looking normal."
   ]
  },
  {
   "cell_type": "code",
   "execution_count": 746,
   "id": "6abdf6b0",
   "metadata": {},
   "outputs": [
    {
     "data": {
      "text/plain": [
       "array([       nan, 1.99041079, 2.04969974, 2.12128945, 1.99113349,\n",
       "       2.05740613, 1.9920308 , 2.23030868, 1.87962997, 2.01723641,\n",
       "       2.19726456, 2.07336805, 1.94451725, 2.09930768, 2.15582096,\n",
       "       2.02226015, 2.02267497, 2.07706995, 2.04381669, 1.93830646,\n",
       "       2.03360235, 2.09462214, 2.00401474, 2.08023717, 2.03259277,\n",
       "       1.97309919, 1.98588697, 2.18416458, 2.00409557, 1.96021476,\n",
       "       2.04849192, 2.09718651, 2.04507462, 2.00214027, 1.95475543,\n",
       "       1.99770505, 2.04072834, 2.04364408, 2.07420626, 2.10920702,\n",
       "       2.09750732, 2.13211986, 2.04387417, 2.08295151, 2.01973983,\n",
       "       2.01236543, 2.13604632, 2.08114935, 2.11553835, 2.03870254,\n",
       "       2.02016367, 2.05877569, 2.02826698, 2.03578056, 2.12045771,\n",
       "       2.07599386, 2.1564163 , 2.01578154, 2.04659981, 1.93220969,\n",
       "       2.1007338 , 2.09067846, 2.10952618, 2.10217562, 1.8909096 ,\n",
       "       1.93691468, 1.9496783 , 2.10275383, 2.04832623, 2.11892076,\n",
       "       2.04552865, 1.98000759, 2.03725081, 2.06543256, 2.20857713,\n",
       "       2.0291843 , 2.00181123, 2.11091943, 2.06067556, 2.02350023,\n",
       "       2.19226208, 1.98312745, 2.03048231, 2.12926887, 1.98264523,\n",
       "       2.00393385, 1.90530029, 2.10772661, 1.93844479, 1.96775765,\n",
       "       1.98475273, 2.08694138, 2.0932986 , 2.01198807, 1.88725601,\n",
       "       2.02587441, 2.00006873, 2.23350915, 1.985132  , 2.18478719,\n",
       "       2.14355589, 2.03700706, 2.14881683, 2.06136754, 2.05008138,\n",
       "       2.07230019, 2.05720181, 1.94412144, 1.96443729, 2.08110805,\n",
       "       1.93015949, 2.01430844, 2.01244075, 2.05105692, 2.00799036,\n",
       "       2.07117689, 1.93408416, 2.00625749, 2.03176596, 2.06210427,\n",
       "       2.01274158, 1.96555408, 2.14208685, 2.02714329, 2.15737397,\n",
       "       1.96992233, 2.12742376, 2.12513351, 2.01745309, 2.0192434 ,\n",
       "       2.11217061, 2.03876264, 2.18244827, 2.03466547, 2.12282117,\n",
       "       2.04125867, 2.09743611, 1.97891632, 2.01512092, 1.99503238,\n",
       "       2.01845903, 2.04207878, 2.01738091, 2.09109435, 2.05335409,\n",
       "       1.89980813, 1.93057219, 2.08242209, 2.05282399, 2.09333558,\n",
       "       2.05927875, 2.07745481, 2.01054301, 2.01453058, 2.01888752,\n",
       "       2.05223801, 2.0367628 , 1.65665484, 1.99761976, 2.07961091,\n",
       "       2.1416869 , 2.03834132, 2.05466863, 2.01378846, 2.01672925,\n",
       "       2.12937486, 1.876987  , 2.13224881, 1.99736353, 1.9620585 ,\n",
       "       2.04816029, 2.055034  , 2.08942126, 2.0388227 , 2.13180971,\n",
       "       2.16794872, 1.8285025 , 2.08698056, 2.10500319, 2.08160264,\n",
       "       2.14815411, 2.19401883, 2.02740866, 1.9209775 , 2.14199288,\n",
       "       2.12231303, 1.99846992, 2.08575946, 2.05287711, 2.03559546,\n",
       "       2.00056919, 1.98020495, 1.82165558, 2.29288697, 2.05197065,\n",
       "       2.03041775, 2.08968914, 2.07036107, 1.98186968, 2.00814665,\n",
       "       2.12422013, 1.02247279, 2.04871248, 2.01802897, 1.94955184,\n",
       "       2.14357904, 2.0278056 , 2.20032851, 1.95986597, 1.97781516,\n",
       "       2.00744174, 1.99345267, 1.96499695, 1.98560441, 2.00923489,\n",
       "       2.05545012, 2.11801148, 2.04001742, 2.00377192, 2.07672673,\n",
       "       2.03335078, 1.98968372, 2.1334789 , 1.93465536, 2.01952733,\n",
       "       1.99872379, 2.0863126 , 2.05388173, 2.07090561, 1.95030867,\n",
       "       2.03816028, 1.91938075, 2.00665356, 2.07411832, 2.12739678,\n",
       "       2.10553353, 2.15580037, 2.14894888, 1.98812395, 2.17531125,\n",
       "       2.08077709, 1.96851965, 2.02852981, 2.03054683, 2.17529422,\n",
       "       2.10496995, 2.09675729, 2.00115042, 2.02253686, 2.00992923,\n",
       "       1.98254856, 2.18347525, 2.03385338, 1.97013671, 2.15321503,\n",
       "       2.03099747, 2.11266705, 1.83802807, 2.07358924, 2.0584222 ,\n",
       "       1.8713059 , 2.02493053, 2.01304164, 2.02931475, 2.05062438,\n",
       "       2.09018491, 2.12327084, 1.93719427, 2.06552758, 2.04682404,\n",
       "       1.70273474, 2.03240249, 1.81374893, 2.04131744, 2.06880368,\n",
       "       2.04260292, 2.34462013, 1.99167268, 2.09632638, 2.09207117,\n",
       "       1.93264473, 2.36438218, 2.07122204, 2.12424793, 2.1093348 ,\n",
       "       1.98128473, 1.70122169])"
      ]
     },
     "execution_count": 746,
     "metadata": {},
     "output_type": "execute_result"
    }
   ],
   "source": [
    "df['CoapplicantIncome'].unique()"
   ]
  },
  {
   "cell_type": "code",
   "execution_count": 747,
   "id": "b2139419",
   "metadata": {},
   "outputs": [
    {
     "data": {
      "text/plain": [
       "Gender                 0\n",
       "Married                0\n",
       "Dependents             0\n",
       "Education              0\n",
       "Self_Employed          0\n",
       "ApplicantIncome        0\n",
       "CoapplicantIncome    273\n",
       "LoanAmount             0\n",
       "Loan_Amount_Term       0\n",
       "Credit_History         0\n",
       "Property_Area          0\n",
       "Loan_Status            0\n",
       "dtype: int64"
      ]
     },
     "execution_count": 747,
     "metadata": {},
     "output_type": "execute_result"
    }
   ],
   "source": [
    "df.isnull().sum()"
   ]
  },
  {
   "cell_type": "code",
   "execution_count": 748,
   "id": "835c8dcb",
   "metadata": {},
   "outputs": [],
   "source": [
    "df['CoapplicantIncome']=df['CoapplicantIncome'].fillna(df['CoapplicantIncome'].mean())"
   ]
  },
  {
   "cell_type": "code",
   "execution_count": 749,
   "id": "85ade4fa",
   "metadata": {},
   "outputs": [
    {
     "data": {
      "text/plain": [
       "Gender               0\n",
       "Married              0\n",
       "Dependents           0\n",
       "Education            0\n",
       "Self_Employed        0\n",
       "ApplicantIncome      0\n",
       "CoapplicantIncome    0\n",
       "LoanAmount           0\n",
       "Loan_Amount_Term     0\n",
       "Credit_History       0\n",
       "Property_Area        0\n",
       "Loan_Status          0\n",
       "dtype: int64"
      ]
     },
     "execution_count": 749,
     "metadata": {},
     "output_type": "execute_result"
    }
   ],
   "source": [
    "df.isnull().sum()"
   ]
  },
  {
   "cell_type": "markdown",
   "id": "ae9f42eb",
   "metadata": {},
   "source": [
    "# Creating New Column"
   ]
  },
  {
   "cell_type": "code",
   "execution_count": null,
   "id": "c338f012",
   "metadata": {},
   "outputs": [],
   "source": [
    "# We can see, in out data, who are married having applicant and their coapplicant income. so we can add these both features.\n",
    "# we will named new column as Total_Income which will included applicant and coapplicant income.\n"
   ]
  },
  {
   "cell_type": "code",
   "execution_count": 750,
   "id": "2f69e8cf",
   "metadata": {},
   "outputs": [
    {
     "data": {
      "text/html": [
       "<div>\n",
       "<style scoped>\n",
       "    .dataframe tbody tr th:only-of-type {\n",
       "        vertical-align: middle;\n",
       "    }\n",
       "\n",
       "    .dataframe tbody tr th {\n",
       "        vertical-align: top;\n",
       "    }\n",
       "\n",
       "    .dataframe thead th {\n",
       "        text-align: right;\n",
       "    }\n",
       "</style>\n",
       "<table border=\"1\" class=\"dataframe\">\n",
       "  <thead>\n",
       "    <tr style=\"text-align: right;\">\n",
       "      <th></th>\n",
       "      <th>Gender</th>\n",
       "      <th>Married</th>\n",
       "      <th>Dependents</th>\n",
       "      <th>Education</th>\n",
       "      <th>Self_Employed</th>\n",
       "      <th>ApplicantIncome</th>\n",
       "      <th>CoapplicantIncome</th>\n",
       "      <th>LoanAmount</th>\n",
       "      <th>Loan_Amount_Term</th>\n",
       "      <th>Credit_History</th>\n",
       "      <th>Property_Area</th>\n",
       "      <th>Loan_Status</th>\n",
       "      <th>Total_Income</th>\n",
       "    </tr>\n",
       "  </thead>\n",
       "  <tbody>\n",
       "    <tr>\n",
       "      <th>0</th>\n",
       "      <td>Male</td>\n",
       "      <td>No</td>\n",
       "      <td>0</td>\n",
       "      <td>Graduate</td>\n",
       "      <td>No</td>\n",
       "      <td>8.674026</td>\n",
       "      <td>2.039835</td>\n",
       "      <td>4.986426</td>\n",
       "      <td>5.886104</td>\n",
       "      <td>1.0</td>\n",
       "      <td>Urban</td>\n",
       "      <td>Y</td>\n",
       "      <td>10.713861</td>\n",
       "    </tr>\n",
       "    <tr>\n",
       "      <th>1</th>\n",
       "      <td>Male</td>\n",
       "      <td>Yes</td>\n",
       "      <td>1</td>\n",
       "      <td>Graduate</td>\n",
       "      <td>No</td>\n",
       "      <td>8.430109</td>\n",
       "      <td>1.990411</td>\n",
       "      <td>4.852030</td>\n",
       "      <td>5.886104</td>\n",
       "      <td>1.0</td>\n",
       "      <td>Rural</td>\n",
       "      <td>N</td>\n",
       "      <td>10.420520</td>\n",
       "    </tr>\n",
       "    <tr>\n",
       "      <th>2</th>\n",
       "      <td>Male</td>\n",
       "      <td>Yes</td>\n",
       "      <td>0</td>\n",
       "      <td>Graduate</td>\n",
       "      <td>Yes</td>\n",
       "      <td>8.006368</td>\n",
       "      <td>2.039835</td>\n",
       "      <td>4.189655</td>\n",
       "      <td>5.886104</td>\n",
       "      <td>1.0</td>\n",
       "      <td>Urban</td>\n",
       "      <td>Y</td>\n",
       "      <td>10.046203</td>\n",
       "    </tr>\n",
       "    <tr>\n",
       "      <th>3</th>\n",
       "      <td>Male</td>\n",
       "      <td>Yes</td>\n",
       "      <td>0</td>\n",
       "      <td>Not Graduate</td>\n",
       "      <td>No</td>\n",
       "      <td>7.856707</td>\n",
       "      <td>2.049700</td>\n",
       "      <td>4.787492</td>\n",
       "      <td>5.886104</td>\n",
       "      <td>1.0</td>\n",
       "      <td>Urban</td>\n",
       "      <td>Y</td>\n",
       "      <td>9.906407</td>\n",
       "    </tr>\n",
       "    <tr>\n",
       "      <th>4</th>\n",
       "      <td>Male</td>\n",
       "      <td>No</td>\n",
       "      <td>0</td>\n",
       "      <td>Graduate</td>\n",
       "      <td>No</td>\n",
       "      <td>8.699515</td>\n",
       "      <td>2.039835</td>\n",
       "      <td>4.948760</td>\n",
       "      <td>5.886104</td>\n",
       "      <td>1.0</td>\n",
       "      <td>Urban</td>\n",
       "      <td>Y</td>\n",
       "      <td>10.739350</td>\n",
       "    </tr>\n",
       "  </tbody>\n",
       "</table>\n",
       "</div>"
      ],
      "text/plain": [
       "  Gender Married Dependents     Education Self_Employed  ApplicantIncome  \\\n",
       "0   Male      No          0      Graduate            No         8.674026   \n",
       "1   Male     Yes          1      Graduate            No         8.430109   \n",
       "2   Male     Yes          0      Graduate           Yes         8.006368   \n",
       "3   Male     Yes          0  Not Graduate            No         7.856707   \n",
       "4   Male      No          0      Graduate            No         8.699515   \n",
       "\n",
       "   CoapplicantIncome  LoanAmount  Loan_Amount_Term  Credit_History  \\\n",
       "0           2.039835    4.986426          5.886104             1.0   \n",
       "1           1.990411    4.852030          5.886104             1.0   \n",
       "2           2.039835    4.189655          5.886104             1.0   \n",
       "3           2.049700    4.787492          5.886104             1.0   \n",
       "4           2.039835    4.948760          5.886104             1.0   \n",
       "\n",
       "  Property_Area Loan_Status  Total_Income  \n",
       "0         Urban           Y     10.713861  \n",
       "1         Rural           N     10.420520  \n",
       "2         Urban           Y     10.046203  \n",
       "3         Urban           Y      9.906407  \n",
       "4         Urban           Y     10.739350  "
      ]
     },
     "execution_count": 750,
     "metadata": {},
     "output_type": "execute_result"
    }
   ],
   "source": [
    "df['Total_Income']=df['CoapplicantIncome']+df['ApplicantIncome']\n",
    "df.head() \n",
    "# Checking the data set after adding above features."
   ]
  },
  {
   "cell_type": "code",
   "execution_count": null,
   "id": "2fc79785",
   "metadata": {},
   "outputs": [],
   "source": [
    "# Apply Log transformation of every continuous feature."
   ]
  },
  {
   "cell_type": "code",
   "execution_count": 751,
   "id": "92011b55",
   "metadata": {},
   "outputs": [],
   "source": [
    "df['LoanAmountlog']=np.log(df['LoanAmount'])\n",
    "\n",
    "df['ApplicantIncomelog']=np.log(df['ApplicantIncome'])\n",
    "\n",
    "df['Loan_Amount_Termlog']=np.log(df['Loan_Amount_Term'])\n",
    "\n",
    "df['Total_Incomelog']=np.log(df['Total_Income'])\n",
    "\n",
    "df['CoapplicantIncomelog']=np.log(df['CoapplicantIncome'])"
   ]
  },
  {
   "cell_type": "code",
   "execution_count": 752,
   "id": "0ae82b7c",
   "metadata": {},
   "outputs": [
    {
     "data": {
      "text/plain": [
       "<AxesSubplot:xlabel='LoanAmountlog', ylabel='Density'>"
      ]
     },
     "execution_count": 752,
     "metadata": {},
     "output_type": "execute_result"
    },
    {
     "data": {
      "image/png": "[encoded data removed]",
      "text/plain": [
       "<Figure size 432x288 with 1 Axes>"
      ]
     },
     "metadata": {
      "needs_background": "light"
     },
     "output_type": "display_data"
    }
   ],
   "source": [
    "sns.distplot(df['LoanAmountlog'])"
   ]
  },
  {
   "cell_type": "code",
   "execution_count": 753,
   "id": "f5145fd0",
   "metadata": {},
   "outputs": [
    {
     "data": {
      "text/plain": [
       "<AxesSubplot:xlabel='ApplicantIncomelog', ylabel='Density'>"
      ]
     },
     "execution_count": 753,
     "metadata": {},
     "output_type": "execute_result"
    },
    {
     "data": {
      "image/png": "[encoded data removed]",
      "text/plain": [
       "<Figure size 432x288 with 1 Axes>"
      ]
     },
     "metadata": {
      "needs_background": "light"
     },
     "output_type": "display_data"
    }
   ],
   "source": [
    "sns.distplot(df['ApplicantIncomelog'])"
   ]
  },
  {
   "cell_type": "code",
   "execution_count": 754,
   "id": "79d21679",
   "metadata": {},
   "outputs": [
    {
     "data": {
      "text/plain": [
       "<AxesSubplot:xlabel='Loan_Amount_Termlog', ylabel='Density'>"
      ]
     },
     "execution_count": 754,
     "metadata": {},
     "output_type": "execute_result"
    },
    {
     "data": {
      "image/png": "[encoded data removed]",
      "text/plain": [
       "<Figure size 432x288 with 1 Axes>"
      ]
     },
     "metadata": {
      "needs_background": "light"
     },
     "output_type": "display_data"
    }
   ],
   "source": [
    "sns.distplot(df['Loan_Amount_Termlog'])"
   ]
  },
  {
   "cell_type": "code",
   "execution_count": 755,
   "id": "7ef26b0d",
   "metadata": {},
   "outputs": [
    {
     "data": {
      "text/plain": [
       "<AxesSubplot:xlabel='Total_Incomelog', ylabel='Density'>"
      ]
     },
     "execution_count": 755,
     "metadata": {},
     "output_type": "execute_result"
    },
    {
     "data": {
      "image/png": "[encoded data removed]",
      "text/plain": [
       "<Figure size 432x288 with 1 Axes>"
      ]
     },
     "metadata": {
      "needs_background": "light"
     },
     "output_type": "display_data"
    }
   ],
   "source": [
    "sns.distplot(df['Total_Incomelog'])"
   ]
  },
  {
   "cell_type": "markdown",
   "id": "a43ad8be",
   "metadata": {},
   "source": [
    "# Correlation Matrix"
   ]
  },
  {
   "cell_type": "code",
   "execution_count": 756,
   "id": "a413c5f7",
   "metadata": {},
   "outputs": [],
   "source": [
    "from matplotlib import pyplot as plt\n",
    "import matplotlib"
   ]
  },
  {
   "cell_type": "code",
   "execution_count": 757,
   "id": "c23f3cde",
   "metadata": {},
   "outputs": [],
   "source": [
    "# We will check the correlation between features vs label with heatmap."
   ]
  },
  {
   "cell_type": "code",
   "execution_count": 758,
   "id": "74b7830d",
   "metadata": {},
   "outputs": [
    {
     "data": {
      "text/plain": [
       "<AxesSubplot:>"
      ]
     },
     "execution_count": 758,
     "metadata": {},
     "output_type": "execute_result"
    },
    {
     "data": {
      "image/png": "[encoded data removed]",
      "text/plain": [
       "<Figure size 720x504 with 2 Axes>"
      ]
     },
     "metadata": {
      "needs_background": "light"
     },
     "output_type": "display_data"
    }
   ],
   "source": [
    "corr=df.corr()\n",
    "plt.figure(figsize=(10,7))\n",
    "sns.heatmap(corr,annot=True)"
   ]
  },
  {
   "cell_type": "code",
   "execution_count": 759,
   "id": "598ecb72",
   "metadata": {},
   "outputs": [],
   "source": [
    "# We will dropp some column as these are already converted in log."
   ]
  },
  {
   "cell_type": "code",
   "execution_count": 760,
   "id": "cb7b87a8",
   "metadata": {},
   "outputs": [],
   "source": [
    "# We are deleting below attributes \n",
    "# Applicantincome & coapplicantincome: We have combined both the feature in Total_income\n",
    "# loan amount: We have taken log values of this column.\n",
    "# Loan amount term: We have taken log values of this column.\n",
    "# So we are dropping them."
   ]
  },
  {
   "cell_type": "code",
   "execution_count": 761,
   "id": "3b6d9de9",
   "metadata": {},
   "outputs": [],
   "source": [
    "cols=['ApplicantIncome','CoapplicantIncome','LoanAmount','Loan_Amount_Term','Total_Income']\n",
    "df=df.drop(cols,axis=1)"
   ]
  },
  {
   "cell_type": "code",
   "execution_count": 762,
   "id": "616d4776",
   "metadata": {},
   "outputs": [
    {
     "data": {
      "text/html": [
       "<div>\n",
       "<style scoped>\n",
       "    .dataframe tbody tr th:only-of-type {\n",
       "        vertical-align: middle;\n",
       "    }\n",
       "\n",
       "    .dataframe tbody tr th {\n",
       "        vertical-align: top;\n",
       "    }\n",
       "\n",
       "    .dataframe thead th {\n",
       "        text-align: right;\n",
       "    }\n",
       "</style>\n",
       "<table border=\"1\" class=\"dataframe\">\n",
       "  <thead>\n",
       "    <tr style=\"text-align: right;\">\n",
       "      <th></th>\n",
       "      <th>Gender</th>\n",
       "      <th>Married</th>\n",
       "      <th>Dependents</th>\n",
       "      <th>Education</th>\n",
       "      <th>Self_Employed</th>\n",
       "      <th>Credit_History</th>\n",
       "      <th>Property_Area</th>\n",
       "      <th>Loan_Status</th>\n",
       "      <th>LoanAmountlog</th>\n",
       "      <th>ApplicantIncomelog</th>\n",
       "      <th>Loan_Amount_Termlog</th>\n",
       "      <th>Total_Incomelog</th>\n",
       "      <th>CoapplicantIncomelog</th>\n",
       "    </tr>\n",
       "  </thead>\n",
       "  <tbody>\n",
       "    <tr>\n",
       "      <th>0</th>\n",
       "      <td>Male</td>\n",
       "      <td>No</td>\n",
       "      <td>0</td>\n",
       "      <td>Graduate</td>\n",
       "      <td>No</td>\n",
       "      <td>1.0</td>\n",
       "      <td>Urban</td>\n",
       "      <td>Y</td>\n",
       "      <td>1.606719</td>\n",
       "      <td>2.160333</td>\n",
       "      <td>1.772594</td>\n",
       "      <td>2.371538</td>\n",
       "      <td>0.712869</td>\n",
       "    </tr>\n",
       "    <tr>\n",
       "      <th>1</th>\n",
       "      <td>Male</td>\n",
       "      <td>Yes</td>\n",
       "      <td>1</td>\n",
       "      <td>Graduate</td>\n",
       "      <td>No</td>\n",
       "      <td>1.0</td>\n",
       "      <td>Rural</td>\n",
       "      <td>N</td>\n",
       "      <td>1.579397</td>\n",
       "      <td>2.131810</td>\n",
       "      <td>1.772594</td>\n",
       "      <td>2.343777</td>\n",
       "      <td>0.688341</td>\n",
       "    </tr>\n",
       "    <tr>\n",
       "      <th>2</th>\n",
       "      <td>Male</td>\n",
       "      <td>Yes</td>\n",
       "      <td>0</td>\n",
       "      <td>Graduate</td>\n",
       "      <td>Yes</td>\n",
       "      <td>1.0</td>\n",
       "      <td>Urban</td>\n",
       "      <td>Y</td>\n",
       "      <td>1.432618</td>\n",
       "      <td>2.080237</td>\n",
       "      <td>1.772594</td>\n",
       "      <td>2.307195</td>\n",
       "      <td>0.712869</td>\n",
       "    </tr>\n",
       "    <tr>\n",
       "      <th>3</th>\n",
       "      <td>Male</td>\n",
       "      <td>Yes</td>\n",
       "      <td>0</td>\n",
       "      <td>Not Graduate</td>\n",
       "      <td>No</td>\n",
       "      <td>1.0</td>\n",
       "      <td>Urban</td>\n",
       "      <td>Y</td>\n",
       "      <td>1.566007</td>\n",
       "      <td>2.061368</td>\n",
       "      <td>1.772594</td>\n",
       "      <td>2.293182</td>\n",
       "      <td>0.717693</td>\n",
       "    </tr>\n",
       "    <tr>\n",
       "      <th>4</th>\n",
       "      <td>Male</td>\n",
       "      <td>No</td>\n",
       "      <td>0</td>\n",
       "      <td>Graduate</td>\n",
       "      <td>No</td>\n",
       "      <td>1.0</td>\n",
       "      <td>Urban</td>\n",
       "      <td>Y</td>\n",
       "      <td>1.599137</td>\n",
       "      <td>2.163267</td>\n",
       "      <td>1.772594</td>\n",
       "      <td>2.373915</td>\n",
       "      <td>0.712869</td>\n",
       "    </tr>\n",
       "  </tbody>\n",
       "</table>\n",
       "</div>"
      ],
      "text/plain": [
       "  Gender Married Dependents     Education Self_Employed  Credit_History  \\\n",
       "0   Male      No          0      Graduate            No             1.0   \n",
       "1   Male     Yes          1      Graduate            No             1.0   \n",
       "2   Male     Yes          0      Graduate           Yes             1.0   \n",
       "3   Male     Yes          0  Not Graduate            No             1.0   \n",
       "4   Male      No          0      Graduate            No             1.0   \n",
       "\n",
       "  Property_Area Loan_Status  LoanAmountlog  ApplicantIncomelog  \\\n",
       "0         Urban           Y       1.606719            2.160333   \n",
       "1         Rural           N       1.579397            2.131810   \n",
       "2         Urban           Y       1.432618            2.080237   \n",
       "3         Urban           Y       1.566007            2.061368   \n",
       "4         Urban           Y       1.599137            2.163267   \n",
       "\n",
       "   Loan_Amount_Termlog  Total_Incomelog  CoapplicantIncomelog  \n",
       "0             1.772594         2.371538              0.712869  \n",
       "1             1.772594         2.343777              0.688341  \n",
       "2             1.772594         2.307195              0.712869  \n",
       "3             1.772594         2.293182              0.717693  \n",
       "4             1.772594         2.373915              0.712869  "
      ]
     },
     "execution_count": 762,
     "metadata": {},
     "output_type": "execute_result"
    }
   ],
   "source": [
    "df.head()"
   ]
  },
  {
   "cell_type": "code",
   "execution_count": 763,
   "id": "b985d8d2",
   "metadata": {},
   "outputs": [],
   "source": [
    "df=df.drop(['CoapplicantIncomelog'],axis=1)\n"
   ]
  },
  {
   "cell_type": "code",
   "execution_count": 764,
   "id": "c085fc80",
   "metadata": {},
   "outputs": [
    {
     "data": {
      "text/html": [
       "<div>\n",
       "<style scoped>\n",
       "    .dataframe tbody tr th:only-of-type {\n",
       "        vertical-align: middle;\n",
       "    }\n",
       "\n",
       "    .dataframe tbody tr th {\n",
       "        vertical-align: top;\n",
       "    }\n",
       "\n",
       "    .dataframe thead th {\n",
       "        text-align: right;\n",
       "    }\n",
       "</style>\n",
       "<table border=\"1\" class=\"dataframe\">\n",
       "  <thead>\n",
       "    <tr style=\"text-align: right;\">\n",
       "      <th></th>\n",
       "      <th>Gender</th>\n",
       "      <th>Married</th>\n",
       "      <th>Dependents</th>\n",
       "      <th>Education</th>\n",
       "      <th>Self_Employed</th>\n",
       "      <th>Credit_History</th>\n",
       "      <th>Property_Area</th>\n",
       "      <th>Loan_Status</th>\n",
       "      <th>LoanAmountlog</th>\n",
       "      <th>ApplicantIncomelog</th>\n",
       "      <th>Loan_Amount_Termlog</th>\n",
       "      <th>Total_Incomelog</th>\n",
       "    </tr>\n",
       "  </thead>\n",
       "  <tbody>\n",
       "    <tr>\n",
       "      <th>0</th>\n",
       "      <td>Male</td>\n",
       "      <td>No</td>\n",
       "      <td>0</td>\n",
       "      <td>Graduate</td>\n",
       "      <td>No</td>\n",
       "      <td>1.0</td>\n",
       "      <td>Urban</td>\n",
       "      <td>Y</td>\n",
       "      <td>1.606719</td>\n",
       "      <td>2.160333</td>\n",
       "      <td>1.772594</td>\n",
       "      <td>2.371538</td>\n",
       "    </tr>\n",
       "    <tr>\n",
       "      <th>1</th>\n",
       "      <td>Male</td>\n",
       "      <td>Yes</td>\n",
       "      <td>1</td>\n",
       "      <td>Graduate</td>\n",
       "      <td>No</td>\n",
       "      <td>1.0</td>\n",
       "      <td>Rural</td>\n",
       "      <td>N</td>\n",
       "      <td>1.579397</td>\n",
       "      <td>2.131810</td>\n",
       "      <td>1.772594</td>\n",
       "      <td>2.343777</td>\n",
       "    </tr>\n",
       "    <tr>\n",
       "      <th>2</th>\n",
       "      <td>Male</td>\n",
       "      <td>Yes</td>\n",
       "      <td>0</td>\n",
       "      <td>Graduate</td>\n",
       "      <td>Yes</td>\n",
       "      <td>1.0</td>\n",
       "      <td>Urban</td>\n",
       "      <td>Y</td>\n",
       "      <td>1.432618</td>\n",
       "      <td>2.080237</td>\n",
       "      <td>1.772594</td>\n",
       "      <td>2.307195</td>\n",
       "    </tr>\n",
       "    <tr>\n",
       "      <th>3</th>\n",
       "      <td>Male</td>\n",
       "      <td>Yes</td>\n",
       "      <td>0</td>\n",
       "      <td>Not Graduate</td>\n",
       "      <td>No</td>\n",
       "      <td>1.0</td>\n",
       "      <td>Urban</td>\n",
       "      <td>Y</td>\n",
       "      <td>1.566007</td>\n",
       "      <td>2.061368</td>\n",
       "      <td>1.772594</td>\n",
       "      <td>2.293182</td>\n",
       "    </tr>\n",
       "    <tr>\n",
       "      <th>4</th>\n",
       "      <td>Male</td>\n",
       "      <td>No</td>\n",
       "      <td>0</td>\n",
       "      <td>Graduate</td>\n",
       "      <td>No</td>\n",
       "      <td>1.0</td>\n",
       "      <td>Urban</td>\n",
       "      <td>Y</td>\n",
       "      <td>1.599137</td>\n",
       "      <td>2.163267</td>\n",
       "      <td>1.772594</td>\n",
       "      <td>2.373915</td>\n",
       "    </tr>\n",
       "  </tbody>\n",
       "</table>\n",
       "</div>"
      ],
      "text/plain": [
       "  Gender Married Dependents     Education Self_Employed  Credit_History  \\\n",
       "0   Male      No          0      Graduate            No             1.0   \n",
       "1   Male     Yes          1      Graduate            No             1.0   \n",
       "2   Male     Yes          0      Graduate           Yes             1.0   \n",
       "3   Male     Yes          0  Not Graduate            No             1.0   \n",
       "4   Male      No          0      Graduate            No             1.0   \n",
       "\n",
       "  Property_Area Loan_Status  LoanAmountlog  ApplicantIncomelog  \\\n",
       "0         Urban           Y       1.606719            2.160333   \n",
       "1         Rural           N       1.579397            2.131810   \n",
       "2         Urban           Y       1.432618            2.080237   \n",
       "3         Urban           Y       1.566007            2.061368   \n",
       "4         Urban           Y       1.599137            2.163267   \n",
       "\n",
       "   Loan_Amount_Termlog  Total_Incomelog  \n",
       "0             1.772594         2.371538  \n",
       "1             1.772594         2.343777  \n",
       "2             1.772594         2.307195  \n",
       "3             1.772594         2.293182  \n",
       "4             1.772594         2.373915  "
      ]
     },
     "execution_count": 764,
     "metadata": {},
     "output_type": "execute_result"
    }
   ],
   "source": [
    "df.head()"
   ]
  },
  {
   "cell_type": "markdown",
   "id": "2fa1a46c",
   "metadata": {},
   "source": [
    "# Label Encoding of Categorical columns"
   ]
  },
  {
   "cell_type": "code",
   "execution_count": 765,
   "id": "bebde5ae",
   "metadata": {},
   "outputs": [],
   "source": [
    "from sklearn.preprocessing import LabelEncoder"
   ]
  },
  {
   "cell_type": "code",
   "execution_count": 766,
   "id": "35d41857",
   "metadata": {},
   "outputs": [
    {
     "data": {
      "text/plain": [
       "Index(['Gender', 'Married', 'Dependents', 'Education', 'Self_Employed',\n",
       "       'Credit_History', 'Property_Area', 'Loan_Status', 'LoanAmountlog',\n",
       "       'ApplicantIncomelog', 'Loan_Amount_Termlog', 'Total_Incomelog'],\n",
       "      dtype='object')"
      ]
     },
     "execution_count": 766,
     "metadata": {},
     "output_type": "execute_result"
    }
   ],
   "source": [
    "df.columns"
   ]
  },
  {
   "cell_type": "code",
   "execution_count": 767,
   "id": "8105f381",
   "metadata": {},
   "outputs": [],
   "source": [
    "cols=['Gender','Married','Self_Employed','Property_Area','Loan_Status','Married','Education','Dependents']\n",
    "le=LabelEncoder()\n",
    "for col in cols:\n",
    "    df[col]=le.fit_transform(df[col])"
   ]
  },
  {
   "cell_type": "code",
   "execution_count": 768,
   "id": "f09c45e0",
   "metadata": {},
   "outputs": [
    {
     "data": {
      "text/html": [
       "<div>\n",
       "<style scoped>\n",
       "    .dataframe tbody tr th:only-of-type {\n",
       "        vertical-align: middle;\n",
       "    }\n",
       "\n",
       "    .dataframe tbody tr th {\n",
       "        vertical-align: top;\n",
       "    }\n",
       "\n",
       "    .dataframe thead th {\n",
       "        text-align: right;\n",
       "    }\n",
       "</style>\n",
       "<table border=\"1\" class=\"dataframe\">\n",
       "  <thead>\n",
       "    <tr style=\"text-align: right;\">\n",
       "      <th></th>\n",
       "      <th>Gender</th>\n",
       "      <th>Married</th>\n",
       "      <th>Dependents</th>\n",
       "      <th>Education</th>\n",
       "      <th>Self_Employed</th>\n",
       "      <th>Credit_History</th>\n",
       "      <th>Property_Area</th>\n",
       "      <th>Loan_Status</th>\n",
       "      <th>LoanAmountlog</th>\n",
       "      <th>ApplicantIncomelog</th>\n",
       "      <th>Loan_Amount_Termlog</th>\n",
       "      <th>Total_Incomelog</th>\n",
       "    </tr>\n",
       "  </thead>\n",
       "  <tbody>\n",
       "    <tr>\n",
       "      <th>0</th>\n",
       "      <td>1</td>\n",
       "      <td>0</td>\n",
       "      <td>0</td>\n",
       "      <td>0</td>\n",
       "      <td>0</td>\n",
       "      <td>1.0</td>\n",
       "      <td>2</td>\n",
       "      <td>1</td>\n",
       "      <td>1.606719</td>\n",
       "      <td>2.160333</td>\n",
       "      <td>1.772594</td>\n",
       "      <td>2.371538</td>\n",
       "    </tr>\n",
       "    <tr>\n",
       "      <th>1</th>\n",
       "      <td>1</td>\n",
       "      <td>1</td>\n",
       "      <td>1</td>\n",
       "      <td>0</td>\n",
       "      <td>0</td>\n",
       "      <td>1.0</td>\n",
       "      <td>0</td>\n",
       "      <td>0</td>\n",
       "      <td>1.579397</td>\n",
       "      <td>2.131810</td>\n",
       "      <td>1.772594</td>\n",
       "      <td>2.343777</td>\n",
       "    </tr>\n",
       "    <tr>\n",
       "      <th>2</th>\n",
       "      <td>1</td>\n",
       "      <td>1</td>\n",
       "      <td>0</td>\n",
       "      <td>0</td>\n",
       "      <td>1</td>\n",
       "      <td>1.0</td>\n",
       "      <td>2</td>\n",
       "      <td>1</td>\n",
       "      <td>1.432618</td>\n",
       "      <td>2.080237</td>\n",
       "      <td>1.772594</td>\n",
       "      <td>2.307195</td>\n",
       "    </tr>\n",
       "    <tr>\n",
       "      <th>3</th>\n",
       "      <td>1</td>\n",
       "      <td>1</td>\n",
       "      <td>0</td>\n",
       "      <td>1</td>\n",
       "      <td>0</td>\n",
       "      <td>1.0</td>\n",
       "      <td>2</td>\n",
       "      <td>1</td>\n",
       "      <td>1.566007</td>\n",
       "      <td>2.061368</td>\n",
       "      <td>1.772594</td>\n",
       "      <td>2.293182</td>\n",
       "    </tr>\n",
       "    <tr>\n",
       "      <th>4</th>\n",
       "      <td>1</td>\n",
       "      <td>0</td>\n",
       "      <td>0</td>\n",
       "      <td>0</td>\n",
       "      <td>0</td>\n",
       "      <td>1.0</td>\n",
       "      <td>2</td>\n",
       "      <td>1</td>\n",
       "      <td>1.599137</td>\n",
       "      <td>2.163267</td>\n",
       "      <td>1.772594</td>\n",
       "      <td>2.373915</td>\n",
       "    </tr>\n",
       "  </tbody>\n",
       "</table>\n",
       "</div>"
      ],
      "text/plain": [
       "   Gender  Married  Dependents  Education  Self_Employed  Credit_History  \\\n",
       "0       1        0           0          0              0             1.0   \n",
       "1       1        1           1          0              0             1.0   \n",
       "2       1        1           0          0              1             1.0   \n",
       "3       1        1           0          1              0             1.0   \n",
       "4       1        0           0          0              0             1.0   \n",
       "\n",
       "   Property_Area  Loan_Status  LoanAmountlog  ApplicantIncomelog  \\\n",
       "0              2            1       1.606719            2.160333   \n",
       "1              0            0       1.579397            2.131810   \n",
       "2              2            1       1.432618            2.080237   \n",
       "3              2            1       1.566007            2.061368   \n",
       "4              2            1       1.599137            2.163267   \n",
       "\n",
       "   Loan_Amount_Termlog  Total_Incomelog  \n",
       "0             1.772594         2.371538  \n",
       "1             1.772594         2.343777  \n",
       "2             1.772594         2.307195  \n",
       "3             1.772594         2.293182  \n",
       "4             1.772594         2.373915  "
      ]
     },
     "execution_count": 768,
     "metadata": {},
     "output_type": "execute_result"
    }
   ],
   "source": [
    "df.head()"
   ]
  },
  {
   "cell_type": "markdown",
   "id": "27527a19",
   "metadata": {},
   "source": [
    "# Train Test Split "
   ]
  },
  {
   "cell_type": "code",
   "execution_count": 769,
   "id": "ba055995",
   "metadata": {},
   "outputs": [],
   "source": [
    "# Specify input and output variable\n",
    "x=df.drop(columns=['Loan_Status'],axis=1)\n",
    "y=df['Loan_Status']"
   ]
  },
  {
   "cell_type": "code",
   "execution_count": 770,
   "id": "05184cd6",
   "metadata": {},
   "outputs": [],
   "source": [
    "from sklearn.model_selection import train_test_split"
   ]
  },
  {
   "cell_type": "code",
   "execution_count": 783,
   "id": "5d812acf",
   "metadata": {},
   "outputs": [],
   "source": [
    "x_train,y_train,x_test,y_test=train_test_split(x,y,test_size=0.25,random_state=213)"
   ]
  },
  {
   "cell_type": "markdown",
   "id": "f877dbaa",
   "metadata": {},
   "source": [
    "# Model Training "
   ]
  },
  {
   "cell_type": "code",
   "execution_count": 796,
   "id": "4c71a64a",
   "metadata": {},
   "outputs": [],
   "source": [
    "from sklearn import metrics\n",
    "from sklearn.metrics import classification_report\n",
    "from sklearn.metrics import accuracy_score\n",
    "from sklearn.model_selection import cross_val_score\n",
    "from sklearn.model_selection import GridSearchCV\n",
    "\n",
    "from sklearn.linear_model import LogisticRegression\n",
    "from sklearn.svm import SVC\n",
    "from sklearn.tree import DecisionTreeClassifier\n",
    "from sklearn.ensemble import RandomForestClassifier\n",
    "from sklearn.neighbors import KNeighborsClassifier"
   ]
  },
  {
   "cell_type": "code",
   "execution_count": 811,
   "id": "64fe0ad7",
   "metadata": {},
   "outputs": [],
   "source": [
    "# Classification Model Function\n",
    "\n",
    "def classify(model, x, y):\n",
    "    x_train, x_test, y_train, y_test = train_test_split(x, y, test_size=0.25, random_state=42)\n",
    "    model.fit(x_train,y_train)\n",
    "    print(\"Accuracy Score is \", model.score(x_test,y_test)*100)\n",
    "    score=cross_val_score(model,x,y,cv=5) # taking cv=5 for better model validation\n",
    "    print (\"Cross Validation Score is\", np.mean(score)*100)"
   ]
  },
  {
   "cell_type": "code",
   "execution_count": 798,
   "id": "1619db30",
   "metadata": {},
   "outputs": [],
   "source": [
    "#I have defined a class that will perform the train-test split, training of model, predicting the label value, getting the accuracy score, generating the classification report, getting the cross validation score and the result of difference between the accuracy score and cross validation score."
   ]
  },
  {
   "cell_type": "code",
   "execution_count": 812,
   "id": "ed1dec1a",
   "metadata": {},
   "outputs": [
    {
     "name": "stdout",
     "output_type": "stream",
     "text": [
      "Accuracy Score is  77.27272727272727\n",
      "Cross Validation Score is 80.9462881514061\n"
     ]
    }
   ],
   "source": [
    "#Logistic Regression\n",
    "model=LogisticRegression()\n",
    "classify(model,x,y)"
   ]
  },
  {
   "cell_type": "code",
   "execution_count": 814,
   "id": "999b6a21",
   "metadata": {},
   "outputs": [],
   "source": [
    "#Support Vector Classifier\n",
    "from sklearn.svm import SVC"
   ]
  },
  {
   "cell_type": "code",
   "execution_count": 815,
   "id": "d11440bc",
   "metadata": {},
   "outputs": [
    {
     "name": "stdout",
     "output_type": "stream",
     "text": [
      "Accuracy Score is  77.27272727272727\n",
      "Cross Validation Score is 80.9462881514061\n"
     ]
    }
   ],
   "source": [
    "model=SVC(C=1.0, kernel='rbf', gamma='auto', random_state=42)\n",
    "classify(model, x, y)"
   ]
  },
  {
   "cell_type": "code",
   "execution_count": 816,
   "id": "7f244de2",
   "metadata": {},
   "outputs": [
    {
     "name": "stdout",
     "output_type": "stream",
     "text": [
      "Accuracy Score is  70.77922077922078\n",
      "Cross Validation Score is 71.98853791816606\n"
     ]
    }
   ],
   "source": [
    "# Decision Tree Classifier\n",
    "model=DecisionTreeClassifier(random_state=21, max_depth=15)\n",
    "classify(model, x, y)"
   ]
  },
  {
   "cell_type": "code",
   "execution_count": 817,
   "id": "792da3fc",
   "metadata": {},
   "outputs": [
    {
     "name": "stdout",
     "output_type": "stream",
     "text": [
      "Accuracy Score is  78.57142857142857\n",
      "Cross Validation Score is 78.50193256030921\n"
     ]
    }
   ],
   "source": [
    "# Random Forest Classifier\n",
    "model=RandomForestClassifier(max_depth=15, random_state=111)\n",
    "classify(model, x, y)"
   ]
  },
  {
   "cell_type": "code",
   "execution_count": 818,
   "id": "488509a5",
   "metadata": {},
   "outputs": [
    {
     "name": "stdout",
     "output_type": "stream",
     "text": [
      "Accuracy Score is  72.72727272727273\n",
      "Cross Validation Score is 76.05491136878581\n"
     ]
    }
   ],
   "source": [
    "# K Neighbors Classifier\n",
    "\n",
    "model=KNeighborsClassifier(n_neighbors=15)\n",
    "classify(model, x, y)"
   ]
  },
  {
   "cell_type": "markdown",
   "id": "85073dde",
   "metadata": {},
   "source": [
    "From all above differents models Random Forest Classifier is providing better result."
   ]
  },
  {
   "cell_type": "markdown",
   "id": "082a20c3",
   "metadata": {},
   "source": [
    "# Hyperparameter Tuning"
   ]
  },
  {
   "cell_type": "code",
   "execution_count": 824,
   "id": "863d9c0d",
   "metadata": {},
   "outputs": [
    {
     "name": "stdout",
     "output_type": "stream",
     "text": [
      "Accuracy Score is  76.62337662337663\n",
      "Cross Validation Score is 80.45715047314408\n"
     ]
    }
   ],
   "source": [
    "model=RandomForestClassifier(n_estimators=100,min_samples_split=25,max_depth=7, max_features=1)\n",
    "classify(model, x, y)"
   ]
  },
  {
   "cell_type": "code",
   "execution_count": 825,
   "id": "601f6288",
   "metadata": {},
   "outputs": [],
   "source": [
    "# We have tune the number of estimator to 100 and found the CV Score 80.46% Score."
   ]
  }
 ],
 "metadata": {
  "kernelspec": {
   "display_name": "Python 3 (ipykernel)",
   "language": "python",
   "name": "python3"
  },
  "language_info": {
   "codemirror_mode": {
    "name": "ipython",
    "version": 3
   },
   "file_extension": ".py",
   "mimetype": "text/x-python",
   "name": "python",
   "nbconvert_exporter": "python",
   "pygments_lexer": "ipython3",
   "version": "3.9.12"
  }
 },
 "nbformat": 4,
 "nbformat_minor": 5
}

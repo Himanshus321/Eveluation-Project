{
 "cells": [
  {
   "cell_type": "code",
   "execution_count": 727,
   "id": "6651f027",
   "metadata": {},
   "outputs": [],
   "source": [
    "# import necessary library\n",
    "import pandas as pd\n",
    "import numpy as np\n",
    "import seaborn as sns\n",
    "import matplotlib.pyplot as plt\n",
    "import warnings\n",
    "warnings.filterwarnings('ignore')"
   ]
  },
  {
   "cell_type": "code",
   "execution_count": 728,
   "id": "36209532",
   "metadata": {},
   "outputs": [
    {
     "data": {
      "text/html": [
       "<div>\n",
       "<style scoped>\n",
       "    .dataframe tbody tr th:only-of-type {\n",
       "        vertical-align: middle;\n",
       "    }\n",
       "\n",
       "    .dataframe tbody tr th {\n",
       "        vertical-align: top;\n",
       "    }\n",
       "\n",
       "    .dataframe thead th {\n",
       "        text-align: right;\n",
       "    }\n",
       "</style>\n",
       "<table border=\"1\" class=\"dataframe\">\n",
       "  <thead>\n",
       "    <tr style=\"text-align: right;\">\n",
       "      <th></th>\n",
       "      <th>country</th>\n",
       "      <th>country_long</th>\n",
       "      <th>name</th>\n",
       "      <th>gppd_idnr</th>\n",
       "      <th>capacity_mw</th>\n",
       "      <th>latitude</th>\n",
       "      <th>longitude</th>\n",
       "      <th>primary_fuel</th>\n",
       "      <th>other_fuel1</th>\n",
       "      <th>other_fuel2</th>\n",
       "      <th>...</th>\n",
       "      <th>year_of_capacity_data</th>\n",
       "      <th>generation_gwh_2013</th>\n",
       "      <th>generation_gwh_2014</th>\n",
       "      <th>generation_gwh_2015</th>\n",
       "      <th>generation_gwh_2016</th>\n",
       "      <th>generation_gwh_2017</th>\n",
       "      <th>generation_gwh_2018</th>\n",
       "      <th>generation_gwh_2019</th>\n",
       "      <th>generation_data_source</th>\n",
       "      <th>estimated_generation_gwh</th>\n",
       "    </tr>\n",
       "  </thead>\n",
       "  <tbody>\n",
       "    <tr>\n",
       "      <th>0</th>\n",
       "      <td>IND</td>\n",
       "      <td>India</td>\n",
       "      <td>ACME Solar Tower</td>\n",
       "      <td>WRI1020239</td>\n",
       "      <td>2.5</td>\n",
       "      <td>28.1839</td>\n",
       "      <td>73.2407</td>\n",
       "      <td>Solar</td>\n",
       "      <td>NaN</td>\n",
       "      <td>NaN</td>\n",
       "      <td>...</td>\n",
       "      <td>NaN</td>\n",
       "      <td>NaN</td>\n",
       "      <td>NaN</td>\n",
       "      <td>NaN</td>\n",
       "      <td>NaN</td>\n",
       "      <td>NaN</td>\n",
       "      <td>NaN</td>\n",
       "      <td>NaN</td>\n",
       "      <td>NaN</td>\n",
       "      <td>NaN</td>\n",
       "    </tr>\n",
       "    <tr>\n",
       "      <th>1</th>\n",
       "      <td>IND</td>\n",
       "      <td>India</td>\n",
       "      <td>ADITYA CEMENT WORKS</td>\n",
       "      <td>WRI1019881</td>\n",
       "      <td>98.0</td>\n",
       "      <td>24.7663</td>\n",
       "      <td>74.6090</td>\n",
       "      <td>Coal</td>\n",
       "      <td>NaN</td>\n",
       "      <td>NaN</td>\n",
       "      <td>...</td>\n",
       "      <td>NaN</td>\n",
       "      <td>NaN</td>\n",
       "      <td>NaN</td>\n",
       "      <td>NaN</td>\n",
       "      <td>NaN</td>\n",
       "      <td>NaN</td>\n",
       "      <td>NaN</td>\n",
       "      <td>NaN</td>\n",
       "      <td>NaN</td>\n",
       "      <td>NaN</td>\n",
       "    </tr>\n",
       "    <tr>\n",
       "      <th>2</th>\n",
       "      <td>IND</td>\n",
       "      <td>India</td>\n",
       "      <td>AES Saurashtra Windfarms</td>\n",
       "      <td>WRI1026669</td>\n",
       "      <td>39.2</td>\n",
       "      <td>21.9038</td>\n",
       "      <td>69.3732</td>\n",
       "      <td>Wind</td>\n",
       "      <td>NaN</td>\n",
       "      <td>NaN</td>\n",
       "      <td>...</td>\n",
       "      <td>NaN</td>\n",
       "      <td>NaN</td>\n",
       "      <td>NaN</td>\n",
       "      <td>NaN</td>\n",
       "      <td>NaN</td>\n",
       "      <td>NaN</td>\n",
       "      <td>NaN</td>\n",
       "      <td>NaN</td>\n",
       "      <td>NaN</td>\n",
       "      <td>NaN</td>\n",
       "    </tr>\n",
       "    <tr>\n",
       "      <th>3</th>\n",
       "      <td>IND</td>\n",
       "      <td>India</td>\n",
       "      <td>AGARTALA GT</td>\n",
       "      <td>IND0000001</td>\n",
       "      <td>135.0</td>\n",
       "      <td>23.8712</td>\n",
       "      <td>91.3602</td>\n",
       "      <td>Gas</td>\n",
       "      <td>NaN</td>\n",
       "      <td>NaN</td>\n",
       "      <td>...</td>\n",
       "      <td>2019.0</td>\n",
       "      <td>NaN</td>\n",
       "      <td>617.789264</td>\n",
       "      <td>843.747</td>\n",
       "      <td>886.004428</td>\n",
       "      <td>663.774500</td>\n",
       "      <td>626.239128</td>\n",
       "      <td>NaN</td>\n",
       "      <td>Central Electricity Authority</td>\n",
       "      <td>NaN</td>\n",
       "    </tr>\n",
       "    <tr>\n",
       "      <th>4</th>\n",
       "      <td>IND</td>\n",
       "      <td>India</td>\n",
       "      <td>AKALTARA TPP</td>\n",
       "      <td>IND0000002</td>\n",
       "      <td>1800.0</td>\n",
       "      <td>21.9603</td>\n",
       "      <td>82.4091</td>\n",
       "      <td>Coal</td>\n",
       "      <td>Oil</td>\n",
       "      <td>NaN</td>\n",
       "      <td>...</td>\n",
       "      <td>2019.0</td>\n",
       "      <td>NaN</td>\n",
       "      <td>3035.550000</td>\n",
       "      <td>5916.370</td>\n",
       "      <td>6243.000000</td>\n",
       "      <td>5385.579736</td>\n",
       "      <td>7279.000000</td>\n",
       "      <td>NaN</td>\n",
       "      <td>Central Electricity Authority</td>\n",
       "      <td>NaN</td>\n",
       "    </tr>\n",
       "  </tbody>\n",
       "</table>\n",
       "<p>5 rows × 27 columns</p>\n",
       "</div>"
      ],
      "text/plain": [
       "  country country_long                      name   gppd_idnr  capacity_mw  \\\n",
       "0     IND        India          ACME Solar Tower  WRI1020239          2.5   \n",
       "1     IND        India       ADITYA CEMENT WORKS  WRI1019881         98.0   \n",
       "2     IND        India  AES Saurashtra Windfarms  WRI1026669         39.2   \n",
       "3     IND        India               AGARTALA GT  IND0000001        135.0   \n",
       "4     IND        India              AKALTARA TPP  IND0000002       1800.0   \n",
       "\n",
       "   latitude  longitude primary_fuel other_fuel1 other_fuel2  ...  \\\n",
       "0   28.1839    73.2407        Solar         NaN         NaN  ...   \n",
       "1   24.7663    74.6090         Coal         NaN         NaN  ...   \n",
       "2   21.9038    69.3732         Wind         NaN         NaN  ...   \n",
       "3   23.8712    91.3602          Gas         NaN         NaN  ...   \n",
       "4   21.9603    82.4091         Coal         Oil         NaN  ...   \n",
       "\n",
       "   year_of_capacity_data  generation_gwh_2013 generation_gwh_2014  \\\n",
       "0                    NaN                  NaN                 NaN   \n",
       "1                    NaN                  NaN                 NaN   \n",
       "2                    NaN                  NaN                 NaN   \n",
       "3                 2019.0                  NaN          617.789264   \n",
       "4                 2019.0                  NaN         3035.550000   \n",
       "\n",
       "  generation_gwh_2015 generation_gwh_2016 generation_gwh_2017  \\\n",
       "0                 NaN                 NaN                 NaN   \n",
       "1                 NaN                 NaN                 NaN   \n",
       "2                 NaN                 NaN                 NaN   \n",
       "3             843.747          886.004428          663.774500   \n",
       "4            5916.370         6243.000000         5385.579736   \n",
       "\n",
       "   generation_gwh_2018  generation_gwh_2019         generation_data_source  \\\n",
       "0                  NaN                  NaN                            NaN   \n",
       "1                  NaN                  NaN                            NaN   \n",
       "2                  NaN                  NaN                            NaN   \n",
       "3           626.239128                  NaN  Central Electricity Authority   \n",
       "4          7279.000000                  NaN  Central Electricity Authority   \n",
       "\n",
       "   estimated_generation_gwh  \n",
       "0                       NaN  \n",
       "1                       NaN  \n",
       "2                       NaN  \n",
       "3                       NaN  \n",
       "4                       NaN  \n",
       "\n",
       "[5 rows x 27 columns]"
      ]
     },
     "execution_count": 728,
     "metadata": {},
     "output_type": "execute_result"
    }
   ],
   "source": [
    "# Import data set from raw file.\n",
    "df=pd.read_csv('https://raw.githubusercontent.com/wri/global-power-plant-database/master/source_databases_csv/database_IND.csv')\n",
    "df.head()"
   ]
  },
  {
   "cell_type": "code",
   "execution_count": 729,
   "id": "9d9b8b9a",
   "metadata": {},
   "outputs": [
    {
     "data": {
      "text/plain": [
       "(907, 27)"
      ]
     },
     "execution_count": 729,
     "metadata": {},
     "output_type": "execute_result"
    }
   ],
   "source": [
    "df.shape"
   ]
  },
  {
   "cell_type": "code",
   "execution_count": 730,
   "id": "a6b232d4",
   "metadata": {},
   "outputs": [],
   "source": [
    "# there are 907 rows and 27 columns in this data set."
   ]
  },
  {
   "cell_type": "code",
   "execution_count": 731,
   "id": "04908445",
   "metadata": {},
   "outputs": [
    {
     "name": "stdout",
     "output_type": "stream",
     "text": [
      "<class 'pandas.core.frame.DataFrame'>\n",
      "RangeIndex: 907 entries, 0 to 906\n",
      "Data columns (total 27 columns):\n",
      " #   Column                    Non-Null Count  Dtype  \n",
      "---  ------                    --------------  -----  \n",
      " 0   country                   907 non-null    object \n",
      " 1   country_long              907 non-null    object \n",
      " 2   name                      907 non-null    object \n",
      " 3   gppd_idnr                 907 non-null    object \n",
      " 4   capacity_mw               907 non-null    float64\n",
      " 5   latitude                  861 non-null    float64\n",
      " 6   longitude                 861 non-null    float64\n",
      " 7   primary_fuel              907 non-null    object \n",
      " 8   other_fuel1               198 non-null    object \n",
      " 9   other_fuel2               1 non-null      object \n",
      " 10  other_fuel3               0 non-null      float64\n",
      " 11  commissioning_year        527 non-null    float64\n",
      " 12  owner                     342 non-null    object \n",
      " 13  source                    907 non-null    object \n",
      " 14  url                       907 non-null    object \n",
      " 15  geolocation_source        888 non-null    object \n",
      " 16  wepp_id                   0 non-null      float64\n",
      " 17  year_of_capacity_data     519 non-null    float64\n",
      " 18  generation_gwh_2013       0 non-null      float64\n",
      " 19  generation_gwh_2014       398 non-null    float64\n",
      " 20  generation_gwh_2015       422 non-null    float64\n",
      " 21  generation_gwh_2016       434 non-null    float64\n",
      " 22  generation_gwh_2017       440 non-null    float64\n",
      " 23  generation_gwh_2018       448 non-null    float64\n",
      " 24  generation_gwh_2019       0 non-null      float64\n",
      " 25  generation_data_source    449 non-null    object \n",
      " 26  estimated_generation_gwh  0 non-null      float64\n",
      "dtypes: float64(15), object(12)\n",
      "memory usage: 191.4+ KB\n"
     ]
    }
   ],
   "source": [
    "df.info()"
   ]
  },
  {
   "cell_type": "code",
   "execution_count": 732,
   "id": "bdb4ad89",
   "metadata": {},
   "outputs": [],
   "source": [
    "# out of 27 columns 15 columns are continuous type and 12 are categorical type."
   ]
  },
  {
   "cell_type": "markdown",
   "id": "405a43e0",
   "metadata": {},
   "source": [
    "# Preprocessing and EDA"
   ]
  },
  {
   "cell_type": "code",
   "execution_count": 733,
   "id": "fa5123c1",
   "metadata": {},
   "outputs": [
    {
     "data": {
      "text/plain": [
       "country                       0\n",
       "country_long                  0\n",
       "name                          0\n",
       "gppd_idnr                     0\n",
       "capacity_mw                   0\n",
       "latitude                     46\n",
       "longitude                    46\n",
       "primary_fuel                  0\n",
       "other_fuel1                 709\n",
       "other_fuel2                 906\n",
       "other_fuel3                 907\n",
       "commissioning_year          380\n",
       "owner                       565\n",
       "source                        0\n",
       "url                           0\n",
       "geolocation_source           19\n",
       "wepp_id                     907\n",
       "year_of_capacity_data       388\n",
       "generation_gwh_2013         907\n",
       "generation_gwh_2014         509\n",
       "generation_gwh_2015         485\n",
       "generation_gwh_2016         473\n",
       "generation_gwh_2017         467\n",
       "generation_gwh_2018         459\n",
       "generation_gwh_2019         907\n",
       "generation_data_source      458\n",
       "estimated_generation_gwh    907\n",
       "dtype: int64"
      ]
     },
     "execution_count": 733,
     "metadata": {},
     "output_type": "execute_result"
    }
   ],
   "source": [
    "df.isnull().sum()"
   ]
  },
  {
   "cell_type": "code",
   "execution_count": 734,
   "id": "554d8c34",
   "metadata": {},
   "outputs": [],
   "source": [
    "# we have found that maximum columns are having null values."
   ]
  },
  {
   "cell_type": "code",
   "execution_count": 735,
   "id": "2e8474bb",
   "metadata": {},
   "outputs": [
    {
     "data": {
      "text/plain": [
       "Index(['country', 'country_long', 'name', 'gppd_idnr', 'capacity_mw',\n",
       "       'latitude', 'longitude', 'primary_fuel', 'other_fuel1', 'other_fuel2',\n",
       "       'other_fuel3', 'commissioning_year', 'owner', 'source', 'url',\n",
       "       'geolocation_source', 'wepp_id', 'year_of_capacity_data',\n",
       "       'generation_gwh_2013', 'generation_gwh_2014', 'generation_gwh_2015',\n",
       "       'generation_gwh_2016', 'generation_gwh_2017', 'generation_gwh_2018',\n",
       "       'generation_gwh_2019', 'generation_data_source',\n",
       "       'estimated_generation_gwh'],\n",
       "      dtype='object')"
      ]
     },
     "execution_count": 735,
     "metadata": {},
     "output_type": "execute_result"
    }
   ],
   "source": [
    "df.columns # Checking column name"
   ]
  },
  {
   "cell_type": "code",
   "execution_count": 736,
   "id": "4fac958e",
   "metadata": {},
   "outputs": [
    {
     "data": {
      "text/html": [
       "<div>\n",
       "<style scoped>\n",
       "    .dataframe tbody tr th:only-of-type {\n",
       "        vertical-align: middle;\n",
       "    }\n",
       "\n",
       "    .dataframe tbody tr th {\n",
       "        vertical-align: top;\n",
       "    }\n",
       "\n",
       "    .dataframe thead th {\n",
       "        text-align: right;\n",
       "    }\n",
       "</style>\n",
       "<table border=\"1\" class=\"dataframe\">\n",
       "  <thead>\n",
       "    <tr style=\"text-align: right;\">\n",
       "      <th></th>\n",
       "      <th>count</th>\n",
       "      <th>mean</th>\n",
       "      <th>std</th>\n",
       "      <th>min</th>\n",
       "      <th>25%</th>\n",
       "      <th>50%</th>\n",
       "      <th>75%</th>\n",
       "      <th>max</th>\n",
       "    </tr>\n",
       "  </thead>\n",
       "  <tbody>\n",
       "    <tr>\n",
       "      <th>capacity_mw</th>\n",
       "      <td>907.0</td>\n",
       "      <td>326.223755</td>\n",
       "      <td>590.085456</td>\n",
       "      <td>0.0000</td>\n",
       "      <td>16.725000</td>\n",
       "      <td>59.200000</td>\n",
       "      <td>385.250000</td>\n",
       "      <td>4760.000</td>\n",
       "    </tr>\n",
       "    <tr>\n",
       "      <th>latitude</th>\n",
       "      <td>861.0</td>\n",
       "      <td>21.197918</td>\n",
       "      <td>6.239612</td>\n",
       "      <td>8.1689</td>\n",
       "      <td>16.773900</td>\n",
       "      <td>21.780000</td>\n",
       "      <td>25.512400</td>\n",
       "      <td>34.649</td>\n",
       "    </tr>\n",
       "    <tr>\n",
       "      <th>longitude</th>\n",
       "      <td>861.0</td>\n",
       "      <td>77.464907</td>\n",
       "      <td>4.939316</td>\n",
       "      <td>68.6447</td>\n",
       "      <td>74.256200</td>\n",
       "      <td>76.719500</td>\n",
       "      <td>79.440800</td>\n",
       "      <td>95.408</td>\n",
       "    </tr>\n",
       "    <tr>\n",
       "      <th>other_fuel3</th>\n",
       "      <td>0.0</td>\n",
       "      <td>NaN</td>\n",
       "      <td>NaN</td>\n",
       "      <td>NaN</td>\n",
       "      <td>NaN</td>\n",
       "      <td>NaN</td>\n",
       "      <td>NaN</td>\n",
       "      <td>NaN</td>\n",
       "    </tr>\n",
       "    <tr>\n",
       "      <th>commissioning_year</th>\n",
       "      <td>527.0</td>\n",
       "      <td>1997.091082</td>\n",
       "      <td>17.082868</td>\n",
       "      <td>1927.0000</td>\n",
       "      <td>1988.000000</td>\n",
       "      <td>2001.000000</td>\n",
       "      <td>2012.000000</td>\n",
       "      <td>2018.000</td>\n",
       "    </tr>\n",
       "    <tr>\n",
       "      <th>wepp_id</th>\n",
       "      <td>0.0</td>\n",
       "      <td>NaN</td>\n",
       "      <td>NaN</td>\n",
       "      <td>NaN</td>\n",
       "      <td>NaN</td>\n",
       "      <td>NaN</td>\n",
       "      <td>NaN</td>\n",
       "      <td>NaN</td>\n",
       "    </tr>\n",
       "    <tr>\n",
       "      <th>year_of_capacity_data</th>\n",
       "      <td>519.0</td>\n",
       "      <td>2019.000000</td>\n",
       "      <td>0.000000</td>\n",
       "      <td>2019.0000</td>\n",
       "      <td>2019.000000</td>\n",
       "      <td>2019.000000</td>\n",
       "      <td>2019.000000</td>\n",
       "      <td>2019.000</td>\n",
       "    </tr>\n",
       "    <tr>\n",
       "      <th>generation_gwh_2013</th>\n",
       "      <td>0.0</td>\n",
       "      <td>NaN</td>\n",
       "      <td>NaN</td>\n",
       "      <td>NaN</td>\n",
       "      <td>NaN</td>\n",
       "      <td>NaN</td>\n",
       "      <td>NaN</td>\n",
       "      <td>NaN</td>\n",
       "    </tr>\n",
       "    <tr>\n",
       "      <th>generation_gwh_2014</th>\n",
       "      <td>398.0</td>\n",
       "      <td>2431.823590</td>\n",
       "      <td>4026.440035</td>\n",
       "      <td>0.0000</td>\n",
       "      <td>223.557672</td>\n",
       "      <td>801.123775</td>\n",
       "      <td>3035.306250</td>\n",
       "      <td>28127.000</td>\n",
       "    </tr>\n",
       "    <tr>\n",
       "      <th>generation_gwh_2015</th>\n",
       "      <td>422.0</td>\n",
       "      <td>2428.226946</td>\n",
       "      <td>4194.596959</td>\n",
       "      <td>0.0000</td>\n",
       "      <td>176.381063</td>\n",
       "      <td>711.181225</td>\n",
       "      <td>3084.121250</td>\n",
       "      <td>30539.000</td>\n",
       "    </tr>\n",
       "    <tr>\n",
       "      <th>generation_gwh_2016</th>\n",
       "      <td>434.0</td>\n",
       "      <td>2467.936859</td>\n",
       "      <td>4162.884308</td>\n",
       "      <td>0.0000</td>\n",
       "      <td>188.285252</td>\n",
       "      <td>737.205450</td>\n",
       "      <td>3282.861313</td>\n",
       "      <td>30015.000</td>\n",
       "    </tr>\n",
       "    <tr>\n",
       "      <th>generation_gwh_2017</th>\n",
       "      <td>440.0</td>\n",
       "      <td>2547.759305</td>\n",
       "      <td>4196.991169</td>\n",
       "      <td>0.0000</td>\n",
       "      <td>177.874930</td>\n",
       "      <td>817.977250</td>\n",
       "      <td>3275.690475</td>\n",
       "      <td>35116.000</td>\n",
       "    </tr>\n",
       "    <tr>\n",
       "      <th>generation_gwh_2018</th>\n",
       "      <td>448.0</td>\n",
       "      <td>2600.804099</td>\n",
       "      <td>4314.880456</td>\n",
       "      <td>0.0000</td>\n",
       "      <td>193.378250</td>\n",
       "      <td>751.644375</td>\n",
       "      <td>3143.535900</td>\n",
       "      <td>35136.000</td>\n",
       "    </tr>\n",
       "    <tr>\n",
       "      <th>generation_gwh_2019</th>\n",
       "      <td>0.0</td>\n",
       "      <td>NaN</td>\n",
       "      <td>NaN</td>\n",
       "      <td>NaN</td>\n",
       "      <td>NaN</td>\n",
       "      <td>NaN</td>\n",
       "      <td>NaN</td>\n",
       "      <td>NaN</td>\n",
       "    </tr>\n",
       "    <tr>\n",
       "      <th>estimated_generation_gwh</th>\n",
       "      <td>0.0</td>\n",
       "      <td>NaN</td>\n",
       "      <td>NaN</td>\n",
       "      <td>NaN</td>\n",
       "      <td>NaN</td>\n",
       "      <td>NaN</td>\n",
       "      <td>NaN</td>\n",
       "      <td>NaN</td>\n",
       "    </tr>\n",
       "  </tbody>\n",
       "</table>\n",
       "</div>"
      ],
      "text/plain": [
       "                          count         mean          std        min  \\\n",
       "capacity_mw               907.0   326.223755   590.085456     0.0000   \n",
       "latitude                  861.0    21.197918     6.239612     8.1689   \n",
       "longitude                 861.0    77.464907     4.939316    68.6447   \n",
       "other_fuel3                 0.0          NaN          NaN        NaN   \n",
       "commissioning_year        527.0  1997.091082    17.082868  1927.0000   \n",
       "wepp_id                     0.0          NaN          NaN        NaN   \n",
       "year_of_capacity_data     519.0  2019.000000     0.000000  2019.0000   \n",
       "generation_gwh_2013         0.0          NaN          NaN        NaN   \n",
       "generation_gwh_2014       398.0  2431.823590  4026.440035     0.0000   \n",
       "generation_gwh_2015       422.0  2428.226946  4194.596959     0.0000   \n",
       "generation_gwh_2016       434.0  2467.936859  4162.884308     0.0000   \n",
       "generation_gwh_2017       440.0  2547.759305  4196.991169     0.0000   \n",
       "generation_gwh_2018       448.0  2600.804099  4314.880456     0.0000   \n",
       "generation_gwh_2019         0.0          NaN          NaN        NaN   \n",
       "estimated_generation_gwh    0.0          NaN          NaN        NaN   \n",
       "\n",
       "                                  25%          50%          75%        max  \n",
       "capacity_mw                 16.725000    59.200000   385.250000   4760.000  \n",
       "latitude                    16.773900    21.780000    25.512400     34.649  \n",
       "longitude                   74.256200    76.719500    79.440800     95.408  \n",
       "other_fuel3                       NaN          NaN          NaN        NaN  \n",
       "commissioning_year        1988.000000  2001.000000  2012.000000   2018.000  \n",
       "wepp_id                           NaN          NaN          NaN        NaN  \n",
       "year_of_capacity_data     2019.000000  2019.000000  2019.000000   2019.000  \n",
       "generation_gwh_2013               NaN          NaN          NaN        NaN  \n",
       "generation_gwh_2014        223.557672   801.123775  3035.306250  28127.000  \n",
       "generation_gwh_2015        176.381063   711.181225  3084.121250  30539.000  \n",
       "generation_gwh_2016        188.285252   737.205450  3282.861313  30015.000  \n",
       "generation_gwh_2017        177.874930   817.977250  3275.690475  35116.000  \n",
       "generation_gwh_2018        193.378250   751.644375  3143.535900  35136.000  \n",
       "generation_gwh_2019               NaN          NaN          NaN        NaN  \n",
       "estimated_generation_gwh          NaN          NaN          NaN        NaN  "
      ]
     },
     "execution_count": 736,
     "metadata": {},
     "output_type": "execute_result"
    }
   ],
   "source": [
    "df.describe().T # hecking  stats of this data set>"
   ]
  },
  {
   "cell_type": "code",
   "execution_count": 737,
   "id": "4f615d8b",
   "metadata": {},
   "outputs": [],
   "source": [
    "# from above stats we can say that\n",
    "# 1. std deviation is higher than mean in capacity_mw column which is not looking normal. this is our target variable.\n",
    "# 2. nan present in latitude column. \n",
    "# 3. nan present in longitude column. \n",
    "# 4. There is no data available in columns other_fuel3, wepp_id, generation_gwh_2013, generation_gwh_2019, estimated_generation_gwh.\n",
    "# 5. further nan present in generation_gwh_2014, generation_gwh_2015, generation_gwh_2016, generation_gwh_2017, generation_gwh_2018 etc.\n"
   ]
  },
  {
   "cell_type": "code",
   "execution_count": 738,
   "id": "13099e91",
   "metadata": {},
   "outputs": [
    {
     "data": {
      "text/plain": [
       "country                       1\n",
       "country_long                  1\n",
       "name                        907\n",
       "gppd_idnr                   907\n",
       "capacity_mw                 361\n",
       "latitude                    836\n",
       "longitude                   827\n",
       "primary_fuel                  8\n",
       "other_fuel1                   3\n",
       "other_fuel2                   1\n",
       "other_fuel3                   0\n",
       "commissioning_year           73\n",
       "owner                       280\n",
       "source                      191\n",
       "url                         304\n",
       "geolocation_source            3\n",
       "wepp_id                       0\n",
       "year_of_capacity_data         1\n",
       "generation_gwh_2013           0\n",
       "generation_gwh_2014         371\n",
       "generation_gwh_2015         396\n",
       "generation_gwh_2016         403\n",
       "generation_gwh_2017         408\n",
       "generation_gwh_2018         410\n",
       "generation_gwh_2019           0\n",
       "generation_data_source        1\n",
       "estimated_generation_gwh      0\n",
       "dtype: int64"
      ]
     },
     "execution_count": 738,
     "metadata": {},
     "output_type": "execute_result"
    }
   ],
   "source": [
    "df.nunique() # Checking Total no of unique values in each column."
   ]
  },
  {
   "cell_type": "code",
   "execution_count": 739,
   "id": "a5e12200",
   "metadata": {},
   "outputs": [],
   "source": [
    "# We can drop some features:\n",
    "\n",
    "# estimated_generation_gwh: No Data Present.\n",
    "# generation_data_source: Nominal data\n",
    "# generation_gwh_2019: No Data Present.\n",
    "# generation_gwh_2013: No Data Present.\n",
    "# year_of_capacity_data: Nominal data\n",
    "# wepp_id: No Data Present.\n",
    "# and so on:\n",
    "# geolocation_source, commissioning_year,other_fuel2,other_fuel3,country_long,country,url,name,gppd_idnr,owner,source: All are having either very less data or no any data or categorical and nominal data."
   ]
  },
  {
   "cell_type": "code",
   "execution_count": 740,
   "id": "c4848f78",
   "metadata": {},
   "outputs": [
    {
     "data": {
      "text/html": [
       "<div>\n",
       "<style scoped>\n",
       "    .dataframe tbody tr th:only-of-type {\n",
       "        vertical-align: middle;\n",
       "    }\n",
       "\n",
       "    .dataframe tbody tr th {\n",
       "        vertical-align: top;\n",
       "    }\n",
       "\n",
       "    .dataframe thead th {\n",
       "        text-align: right;\n",
       "    }\n",
       "</style>\n",
       "<table border=\"1\" class=\"dataframe\">\n",
       "  <thead>\n",
       "    <tr style=\"text-align: right;\">\n",
       "      <th></th>\n",
       "      <th>capacity_mw</th>\n",
       "      <th>latitude</th>\n",
       "      <th>longitude</th>\n",
       "      <th>primary_fuel</th>\n",
       "      <th>other_fuel1</th>\n",
       "      <th>generation_gwh_2014</th>\n",
       "      <th>generation_gwh_2015</th>\n",
       "      <th>generation_gwh_2016</th>\n",
       "      <th>generation_gwh_2017</th>\n",
       "      <th>generation_gwh_2018</th>\n",
       "    </tr>\n",
       "  </thead>\n",
       "  <tbody>\n",
       "    <tr>\n",
       "      <th>0</th>\n",
       "      <td>2.5</td>\n",
       "      <td>28.1839</td>\n",
       "      <td>73.2407</td>\n",
       "      <td>Solar</td>\n",
       "      <td>NaN</td>\n",
       "      <td>NaN</td>\n",
       "      <td>NaN</td>\n",
       "      <td>NaN</td>\n",
       "      <td>NaN</td>\n",
       "      <td>NaN</td>\n",
       "    </tr>\n",
       "    <tr>\n",
       "      <th>1</th>\n",
       "      <td>98.0</td>\n",
       "      <td>24.7663</td>\n",
       "      <td>74.6090</td>\n",
       "      <td>Coal</td>\n",
       "      <td>NaN</td>\n",
       "      <td>NaN</td>\n",
       "      <td>NaN</td>\n",
       "      <td>NaN</td>\n",
       "      <td>NaN</td>\n",
       "      <td>NaN</td>\n",
       "    </tr>\n",
       "    <tr>\n",
       "      <th>2</th>\n",
       "      <td>39.2</td>\n",
       "      <td>21.9038</td>\n",
       "      <td>69.3732</td>\n",
       "      <td>Wind</td>\n",
       "      <td>NaN</td>\n",
       "      <td>NaN</td>\n",
       "      <td>NaN</td>\n",
       "      <td>NaN</td>\n",
       "      <td>NaN</td>\n",
       "      <td>NaN</td>\n",
       "    </tr>\n",
       "    <tr>\n",
       "      <th>3</th>\n",
       "      <td>135.0</td>\n",
       "      <td>23.8712</td>\n",
       "      <td>91.3602</td>\n",
       "      <td>Gas</td>\n",
       "      <td>NaN</td>\n",
       "      <td>617.789264</td>\n",
       "      <td>843.747</td>\n",
       "      <td>886.004428</td>\n",
       "      <td>663.774500</td>\n",
       "      <td>626.239128</td>\n",
       "    </tr>\n",
       "    <tr>\n",
       "      <th>4</th>\n",
       "      <td>1800.0</td>\n",
       "      <td>21.9603</td>\n",
       "      <td>82.4091</td>\n",
       "      <td>Coal</td>\n",
       "      <td>Oil</td>\n",
       "      <td>3035.550000</td>\n",
       "      <td>5916.370</td>\n",
       "      <td>6243.000000</td>\n",
       "      <td>5385.579736</td>\n",
       "      <td>7279.000000</td>\n",
       "    </tr>\n",
       "  </tbody>\n",
       "</table>\n",
       "</div>"
      ],
      "text/plain": [
       "   capacity_mw  latitude  longitude primary_fuel other_fuel1  \\\n",
       "0          2.5   28.1839    73.2407        Solar         NaN   \n",
       "1         98.0   24.7663    74.6090         Coal         NaN   \n",
       "2         39.2   21.9038    69.3732         Wind         NaN   \n",
       "3        135.0   23.8712    91.3602          Gas         NaN   \n",
       "4       1800.0   21.9603    82.4091         Coal         Oil   \n",
       "\n",
       "   generation_gwh_2014  generation_gwh_2015  generation_gwh_2016  \\\n",
       "0                  NaN                  NaN                  NaN   \n",
       "1                  NaN                  NaN                  NaN   \n",
       "2                  NaN                  NaN                  NaN   \n",
       "3           617.789264              843.747           886.004428   \n",
       "4          3035.550000             5916.370          6243.000000   \n",
       "\n",
       "   generation_gwh_2017  generation_gwh_2018  \n",
       "0                  NaN                  NaN  \n",
       "1                  NaN                  NaN  \n",
       "2                  NaN                  NaN  \n",
       "3           663.774500           626.239128  \n",
       "4          5385.579736          7279.000000  "
      ]
     },
     "execution_count": 740,
     "metadata": {},
     "output_type": "execute_result"
    }
   ],
   "source": [
    "col=['estimated_generation_gwh','generation_data_source','generation_gwh_2019','generation_gwh_2013','year_of_capacity_data','wepp_id','geolocation_source','commissioning_year','other_fuel2','other_fuel3','country_long','country','url','name','gppd_idnr','owner','source']\n",
    "df=df.drop(columns=col,axis=1)\n",
    "df.head()\n",
    "# Dropping the said column and check again.\n"
   ]
  },
  {
   "cell_type": "code",
   "execution_count": 741,
   "id": "11de1b0f",
   "metadata": {},
   "outputs": [
    {
     "data": {
      "text/plain": [
       "(907, 10)"
      ]
     },
     "execution_count": 741,
     "metadata": {},
     "output_type": "execute_result"
    }
   ],
   "source": [
    "df.shape # Checking shape again."
   ]
  },
  {
   "cell_type": "code",
   "execution_count": 742,
   "id": "9544e02a",
   "metadata": {},
   "outputs": [
    {
     "data": {
      "text/plain": [
       "capacity_mw            361\n",
       "latitude               836\n",
       "longitude              827\n",
       "primary_fuel             8\n",
       "other_fuel1              3\n",
       "generation_gwh_2014    371\n",
       "generation_gwh_2015    396\n",
       "generation_gwh_2016    403\n",
       "generation_gwh_2017    408\n",
       "generation_gwh_2018    410\n",
       "dtype: int64"
      ]
     },
     "execution_count": 742,
     "metadata": {},
     "output_type": "execute_result"
    }
   ],
   "source": [
    "df.nunique() # Checking no of total unique in each column after dropping the columns."
   ]
  },
  {
   "cell_type": "code",
   "execution_count": 743,
   "id": "cd6d49c4",
   "metadata": {},
   "outputs": [
    {
     "name": "stdout",
     "output_type": "stream",
     "text": [
      "<class 'pandas.core.frame.DataFrame'>\n",
      "RangeIndex: 907 entries, 0 to 906\n",
      "Data columns (total 10 columns):\n",
      " #   Column               Non-Null Count  Dtype  \n",
      "---  ------               --------------  -----  \n",
      " 0   capacity_mw          907 non-null    float64\n",
      " 1   latitude             861 non-null    float64\n",
      " 2   longitude            861 non-null    float64\n",
      " 3   primary_fuel         907 non-null    object \n",
      " 4   other_fuel1          198 non-null    object \n",
      " 5   generation_gwh_2014  398 non-null    float64\n",
      " 6   generation_gwh_2015  422 non-null    float64\n",
      " 7   generation_gwh_2016  434 non-null    float64\n",
      " 8   generation_gwh_2017  440 non-null    float64\n",
      " 9   generation_gwh_2018  448 non-null    float64\n",
      "dtypes: float64(8), object(2)\n",
      "memory usage: 71.0+ KB\n"
     ]
    }
   ],
   "source": [
    "df.info()"
   ]
  },
  {
   "cell_type": "code",
   "execution_count": 744,
   "id": "91092d50",
   "metadata": {},
   "outputs": [],
   "source": [
    "# from above information, checked that there are nan present approx each column.\n",
    "# we will deal nan in catergorical column with mode method and with mean method in continuoud column."
   ]
  },
  {
   "cell_type": "code",
   "execution_count": 745,
   "id": "9b316794",
   "metadata": {},
   "outputs": [],
   "source": [
    "df['latitude']=df['latitude'].fillna(df['latitude'].mean())\n",
    "df['longitude']=df['longitude'].fillna(df['longitude'].mean())\n",
    "df['generation_gwh_2014']=df['generation_gwh_2014'].fillna(df['generation_gwh_2014'].mean())\n",
    "df['generation_gwh_2015']=df['generation_gwh_2015'].fillna(df['generation_gwh_2015'].mean())\n",
    "df['generation_gwh_2016']=df['generation_gwh_2016'].fillna(df['generation_gwh_2016'].mean())\n",
    "df['generation_gwh_2017']=df['generation_gwh_2017'].fillna(df['generation_gwh_2017'].mean())\n",
    "df['generation_gwh_2018']=df['generation_gwh_2018'].fillna(df['generation_gwh_2018'].mean())\n",
    "df['other_fuel1']=df['other_fuel1'].fillna(df['other_fuel1'].mode()[0])"
   ]
  },
  {
   "cell_type": "code",
   "execution_count": 746,
   "id": "ef8b8611",
   "metadata": {},
   "outputs": [
    {
     "data": {
      "text/plain": [
       "capacity_mw            0\n",
       "latitude               0\n",
       "longitude              0\n",
       "primary_fuel           0\n",
       "other_fuel1            0\n",
       "generation_gwh_2014    0\n",
       "generation_gwh_2015    0\n",
       "generation_gwh_2016    0\n",
       "generation_gwh_2017    0\n",
       "generation_gwh_2018    0\n",
       "dtype: int64"
      ]
     },
     "execution_count": 746,
     "metadata": {},
     "output_type": "execute_result"
    }
   ],
   "source": [
    "df.isnull().sum()\n",
    "# checking null values again. now there is no null in columns."
   ]
  },
  {
   "cell_type": "code",
   "execution_count": 747,
   "id": "93df1fca",
   "metadata": {},
   "outputs": [
    {
     "data": {
      "text/plain": [
       "(901, 10)"
      ]
     },
     "execution_count": 747,
     "metadata": {},
     "output_type": "execute_result"
    }
   ],
   "source": [
    "df.drop_duplicates(inplace=True)\n",
    "df.shape\n",
    "# Remove duplicates"
   ]
  },
  {
   "cell_type": "markdown",
   "id": "d1160885",
   "metadata": {},
   "source": [
    "# Visualization"
   ]
  },
  {
   "cell_type": "code",
   "execution_count": 748,
   "id": "03bd28d3",
   "metadata": {},
   "outputs": [
    {
     "name": "stdout",
     "output_type": "stream",
     "text": [
      "Coal       258\n",
      "Hydro      247\n",
      "Solar      126\n",
      "Wind       122\n",
      "Gas         69\n",
      "Biomass     50\n",
      "Oil         20\n",
      "Nuclear      9\n",
      "Name: primary_fuel, dtype: int64\n"
     ]
    },
    {
     "data": {
      "image/png": "[encoded data removed]",
      "text/plain": [
       "<Figure size 432x288 with 1 Axes>"
      ]
     },
     "metadata": {
      "needs_background": "light"
     },
     "output_type": "display_data"
    }
   ],
   "source": [
    "# Checking counts of categorical columns with count plot\n",
    "\n",
    "sns.countplot(x='primary_fuel',data=df) # Checking target variable.\n",
    "print(df['primary_fuel'].value_counts())"
   ]
  },
  {
   "cell_type": "code",
   "execution_count": 749,
   "id": "f03d05a0",
   "metadata": {},
   "outputs": [],
   "source": [
    "# Founda that most of the time Coal and Hydro are using as primany fuel."
   ]
  },
  {
   "cell_type": "code",
   "execution_count": 750,
   "id": "4ee42ebc",
   "metadata": {},
   "outputs": [
    {
     "name": "stdout",
     "output_type": "stream",
     "text": [
      "Oil             898\n",
      "Gas               2\n",
      "Cogeneration      1\n",
      "Name: other_fuel1, dtype: int64\n"
     ]
    },
    {
     "data": {
      "image/png": "[encoded data removed]",
      "text/plain": [
       "<Figure size 432x288 with 1 Axes>"
      ]
     },
     "metadata": {
      "needs_background": "light"
     },
     "output_type": "display_data"
    }
   ],
   "source": [
    "sns.countplot(x='other_fuel1',data=df)\n",
    "print(df['other_fuel1'].value_counts())"
   ]
  },
  {
   "cell_type": "code",
   "execution_count": 751,
   "id": "fa6f74be",
   "metadata": {},
   "outputs": [],
   "source": [
    "# Found that almost maximum time oil is using as other fuel."
   ]
  },
  {
   "cell_type": "code",
   "execution_count": 752,
   "id": "04682a1e",
   "metadata": {},
   "outputs": [
    {
     "data": {
      "text/plain": [
       "<AxesSubplot:xlabel='capacity_mw', ylabel='Density'>"
      ]
     },
     "execution_count": 752,
     "metadata": {},
     "output_type": "execute_result"
    },
    {
     "data": {
      "image/png": "[encoded data removed]",
      "text/plain": [
       "<Figure size 432x288 with 1 Axes>"
      ]
     },
     "metadata": {
      "needs_background": "light"
     },
     "output_type": "display_data"
    }
   ],
   "source": [
    "# Now we will visualize continuous column with the help of distplot.\n",
    "sns.distplot(df['capacity_mw']) # Checking target variable (Capacity_mw)"
   ]
  },
  {
   "cell_type": "code",
   "execution_count": 753,
   "id": "caf66489",
   "metadata": {},
   "outputs": [],
   "source": [
    "# This plot is  looking abnormal as the maximum no are showing for zero mw which is not possible. also data is righ side skewed."
   ]
  },
  {
   "cell_type": "code",
   "execution_count": 754,
   "id": "2cfd5a98",
   "metadata": {},
   "outputs": [
    {
     "data": {
      "text/plain": [
       "<AxesSubplot:xlabel='latitude', ylabel='Density'>"
      ]
     },
     "execution_count": 754,
     "metadata": {},
     "output_type": "execute_result"
    },
    {
     "data": {
      "image/png": "[encoded data removed]",
      "text/plain": [
       "<Figure size 432x288 with 1 Axes>"
      ]
     },
     "metadata": {
      "needs_background": "light"
     },
     "output_type": "display_data"
    }
   ],
   "source": [
    "sns.distplot(df['latitude'])"
   ]
  },
  {
   "cell_type": "code",
   "execution_count": 755,
   "id": "33c88aee",
   "metadata": {},
   "outputs": [],
   "source": [
    "# This plot is looking quite normal."
   ]
  },
  {
   "cell_type": "code",
   "execution_count": 756,
   "id": "e0f7a890",
   "metadata": {},
   "outputs": [
    {
     "data": {
      "text/plain": [
       "<AxesSubplot:xlabel='longitude', ylabel='Density'>"
      ]
     },
     "execution_count": 756,
     "metadata": {},
     "output_type": "execute_result"
    },
    {
     "data": {
      "image/png": "[encoded data removed]",
      "text/plain": [
       "<Figure size 432x288 with 1 Axes>"
      ]
     },
     "metadata": {
      "needs_background": "light"
     },
     "output_type": "display_data"
    }
   ],
   "source": [
    "sns.distplot(df['longitude'])"
   ]
  },
  {
   "cell_type": "code",
   "execution_count": 757,
   "id": "dc1f32bf",
   "metadata": {},
   "outputs": [],
   "source": [
    "# Data is looking right skewed. however looking slight normal."
   ]
  },
  {
   "cell_type": "code",
   "execution_count": 758,
   "id": "e5d10009",
   "metadata": {},
   "outputs": [
    {
     "data": {
      "text/plain": [
       "<AxesSubplot:xlabel='generation_gwh_2014', ylabel='Density'>"
      ]
     },
     "execution_count": 758,
     "metadata": {},
     "output_type": "execute_result"
    },
    {
     "data": {
      "image/png": "[encoded data removed]",
      "text/plain": [
       "<Figure size 432x288 with 1 Axes>"
      ]
     },
     "metadata": {
      "needs_background": "light"
     },
     "output_type": "display_data"
    }
   ],
   "source": [
    "sns.distplot(df['generation_gwh_2014'])"
   ]
  },
  {
   "cell_type": "code",
   "execution_count": 759,
   "id": "d377497d",
   "metadata": {},
   "outputs": [],
   "source": [
    "# This plot is  looking abnormal as data is righ side skewed."
   ]
  },
  {
   "cell_type": "code",
   "execution_count": 760,
   "id": "add4e9d1",
   "metadata": {},
   "outputs": [
    {
     "data": {
      "text/plain": [
       "<AxesSubplot:xlabel='generation_gwh_2015', ylabel='Density'>"
      ]
     },
     "execution_count": 760,
     "metadata": {},
     "output_type": "execute_result"
    },
    {
     "data": {
      "image/png": "[encoded data removed]",
      "text/plain": [
       "<Figure size 432x288 with 1 Axes>"
      ]
     },
     "metadata": {
      "needs_background": "light"
     },
     "output_type": "display_data"
    }
   ],
   "source": [
    "sns.distplot(df['generation_gwh_2015'])"
   ]
  },
  {
   "cell_type": "code",
   "execution_count": 761,
   "id": "2bcc56a3",
   "metadata": {},
   "outputs": [],
   "source": [
    "# This plot is  looking abnormal as data is righ side skewed."
   ]
  },
  {
   "cell_type": "code",
   "execution_count": 762,
   "id": "e6a0b000",
   "metadata": {},
   "outputs": [
    {
     "data": {
      "text/plain": [
       "<AxesSubplot:xlabel='generation_gwh_2016', ylabel='Density'>"
      ]
     },
     "execution_count": 762,
     "metadata": {},
     "output_type": "execute_result"
    },
    {
     "data": {
      "image/png": "[encoded data removed]",
      "text/plain": [
       "<Figure size 432x288 with 1 Axes>"
      ]
     },
     "metadata": {
      "needs_background": "light"
     },
     "output_type": "display_data"
    }
   ],
   "source": [
    "sns.distplot(df['generation_gwh_2016'])"
   ]
  },
  {
   "cell_type": "code",
   "execution_count": 763,
   "id": "dc8b7e7c",
   "metadata": {},
   "outputs": [],
   "source": [
    "# This plot is  looking abnormal as data is righ side skewed."
   ]
  },
  {
   "cell_type": "code",
   "execution_count": 764,
   "id": "eba43dc6",
   "metadata": {},
   "outputs": [
    {
     "data": {
      "text/plain": [
       "<AxesSubplot:xlabel='generation_gwh_2017', ylabel='Density'>"
      ]
     },
     "execution_count": 764,
     "metadata": {},
     "output_type": "execute_result"
    },
    {
     "data": {
      "image/png": "[encoded data removed]",
      "text/plain": [
       "<Figure size 432x288 with 1 Axes>"
      ]
     },
     "metadata": {
      "needs_background": "light"
     },
     "output_type": "display_data"
    }
   ],
   "source": [
    "sns.distplot(df['generation_gwh_2017'])"
   ]
  },
  {
   "cell_type": "code",
   "execution_count": 765,
   "id": "4a24f0eb",
   "metadata": {},
   "outputs": [
    {
     "data": {
      "text/plain": [
       "<AxesSubplot:xlabel='generation_gwh_2018', ylabel='Density'>"
      ]
     },
     "execution_count": 765,
     "metadata": {},
     "output_type": "execute_result"
    },
    {
     "data": {
      "image/png": "[encoded data removed]",
      "text/plain": [
       "<Figure size 432x288 with 1 Axes>"
      ]
     },
     "metadata": {
      "needs_background": "light"
     },
     "output_type": "display_data"
    }
   ],
   "source": [
    "sns.distplot(df['generation_gwh_2018'])"
   ]
  },
  {
   "cell_type": "markdown",
   "id": "1e9e1fff",
   "metadata": {},
   "source": [
    "# Now we will check relationship of every year (continuous data) with target variable. (Capacity_mw)"
   ]
  },
  {
   "cell_type": "code",
   "execution_count": 766,
   "id": "ebe438fa",
   "metadata": {},
   "outputs": [
    {
     "data": {
      "text/plain": [
       "<AxesSubplot:xlabel='generation_gwh_2014', ylabel='capacity_mw'>"
      ]
     },
     "execution_count": 766,
     "metadata": {},
     "output_type": "execute_result"
    },
    {
     "data": {
      "image/png": "[encoded data removed]",
      "text/plain": [
       "<Figure size 432x288 with 1 Axes>"
      ]
     },
     "metadata": {
      "needs_background": "light"
     },
     "output_type": "display_data"
    }
   ],
   "source": [
    "sns.scatterplot(x='generation_gwh_2014',y='capacity_mw', data = df)"
   ]
  },
  {
   "cell_type": "code",
   "execution_count": 767,
   "id": "ca334828",
   "metadata": {},
   "outputs": [
    {
     "data": {
      "text/plain": [
       "<AxesSubplot:xlabel='generation_gwh_2015', ylabel='capacity_mw'>"
      ]
     },
     "execution_count": 767,
     "metadata": {},
     "output_type": "execute_result"
    },
    {
     "data": {
      "image/png": "[encoded data removed]",
      "text/plain": [
       "<Figure size 432x288 with 1 Axes>"
      ]
     },
     "metadata": {
      "needs_background": "light"
     },
     "output_type": "display_data"
    }
   ],
   "source": [
    "sns.scatterplot(x='generation_gwh_2015',y='capacity_mw', data = df)"
   ]
  },
  {
   "cell_type": "code",
   "execution_count": 768,
   "id": "1d467a5c",
   "metadata": {},
   "outputs": [
    {
     "data": {
      "text/plain": [
       "<AxesSubplot:xlabel='generation_gwh_2016', ylabel='capacity_mw'>"
      ]
     },
     "execution_count": 768,
     "metadata": {},
     "output_type": "execute_result"
    },
    {
     "data": {
      "image/png": "[encoded data removed]",
      "text/plain": [
       "<Figure size 432x288 with 1 Axes>"
      ]
     },
     "metadata": {
      "needs_background": "light"
     },
     "output_type": "display_data"
    }
   ],
   "source": [
    "sns.scatterplot(x='generation_gwh_2016',y='capacity_mw', data = df)"
   ]
  },
  {
   "cell_type": "code",
   "execution_count": 769,
   "id": "da14c895",
   "metadata": {},
   "outputs": [
    {
     "data": {
      "text/plain": [
       "<AxesSubplot:xlabel='generation_gwh_2017', ylabel='capacity_mw'>"
      ]
     },
     "execution_count": 769,
     "metadata": {},
     "output_type": "execute_result"
    },
    {
     "data": {
      "image/png": "[encoded data removed]",
      "text/plain": [
       "<Figure size 432x288 with 1 Axes>"
      ]
     },
     "metadata": {
      "needs_background": "light"
     },
     "output_type": "display_data"
    }
   ],
   "source": [
    "sns.scatterplot(x='generation_gwh_2017',y='capacity_mw', data = df)"
   ]
  },
  {
   "cell_type": "code",
   "execution_count": 770,
   "id": "9675857b",
   "metadata": {},
   "outputs": [
    {
     "data": {
      "text/plain": [
       "<AxesSubplot:xlabel='generation_gwh_2018', ylabel='capacity_mw'>"
      ]
     },
     "execution_count": 770,
     "metadata": {},
     "output_type": "execute_result"
    },
    {
     "data": {
      "image/png": "[encoded data removed]",
      "text/plain": [
       "<Figure size 432x288 with 1 Axes>"
      ]
     },
     "metadata": {
      "needs_background": "light"
     },
     "output_type": "display_data"
    }
   ],
   "source": [
    "sns.scatterplot(x='generation_gwh_2018',y='capacity_mw', data = df)"
   ]
  },
  {
   "cell_type": "code",
   "execution_count": 771,
   "id": "d26bf742",
   "metadata": {},
   "outputs": [
    {
     "data": {
      "text/plain": [
       "<AxesSubplot:xlabel='latitude', ylabel='capacity_mw'>"
      ]
     },
     "execution_count": 771,
     "metadata": {},
     "output_type": "execute_result"
    },
    {
     "data": {
      "image/png": "[encoded data removed]",
      "text/plain": [
       "<Figure size 432x288 with 1 Axes>"
      ]
     },
     "metadata": {
      "needs_background": "light"
     },
     "output_type": "display_data"
    }
   ],
   "source": [
    "sns.scatterplot(x='latitude',y='capacity_mw',data=df) "
   ]
  },
  {
   "cell_type": "code",
   "execution_count": 772,
   "id": "96b66d1d",
   "metadata": {},
   "outputs": [],
   "source": [
    "# We can check all the year data are positive correlate with our target variable.\n",
    "# latitude column having less relationship. will check this from heatmap."
   ]
  },
  {
   "cell_type": "code",
   "execution_count": 773,
   "id": "69faf358",
   "metadata": {},
   "outputs": [
    {
     "data": {
      "text/plain": [
       "<AxesSubplot:xlabel='generation_gwh_2018', ylabel='primary_fuel'>"
      ]
     },
     "execution_count": 773,
     "metadata": {},
     "output_type": "execute_result"
    },
    {
     "data": {
      "image/png": "[encoded data removed]",
      "text/plain": [
       "<Figure size 432x288 with 1 Axes>"
      ]
     },
     "metadata": {
      "needs_background": "light"
     },
     "output_type": "display_data"
    }
   ],
   "source": [
    "# Now checking relationship with primary fuel\n",
    "\n",
    "sns.scatterplot(x='generation_gwh_2018',y='primary_fuel',data=df)"
   ]
  },
  {
   "cell_type": "code",
   "execution_count": 774,
   "id": "885531a2",
   "metadata": {},
   "outputs": [
    {
     "data": {
      "text/plain": [
       "<AxesSubplot:xlabel='generation_gwh_2017', ylabel='primary_fuel'>"
      ]
     },
     "execution_count": 774,
     "metadata": {},
     "output_type": "execute_result"
    },
    {
     "data": {
      "image/png": "[encoded data removed]",
      "text/plain": [
       "<Figure size 432x288 with 1 Axes>"
      ]
     },
     "metadata": {
      "needs_background": "light"
     },
     "output_type": "display_data"
    }
   ],
   "source": [
    "sns.scatterplot(x='generation_gwh_2017',y='primary_fuel',data=df)"
   ]
  },
  {
   "cell_type": "code",
   "execution_count": 775,
   "id": "c00a6946",
   "metadata": {},
   "outputs": [
    {
     "data": {
      "text/plain": [
       "<AxesSubplot:xlabel='generation_gwh_2016', ylabel='primary_fuel'>"
      ]
     },
     "execution_count": 775,
     "metadata": {},
     "output_type": "execute_result"
    },
    {
     "data": {
      "image/png": "[encoded data removed]",
      "text/plain": [
       "<Figure size 432x288 with 1 Axes>"
      ]
     },
     "metadata": {
      "needs_background": "light"
     },
     "output_type": "display_data"
    }
   ],
   "source": [
    "sns.scatterplot(x='generation_gwh_2016',y='primary_fuel',data=df)"
   ]
  },
  {
   "cell_type": "code",
   "execution_count": 776,
   "id": "2a74fce0",
   "metadata": {},
   "outputs": [
    {
     "data": {
      "text/plain": [
       "<AxesSubplot:xlabel='generation_gwh_2015', ylabel='primary_fuel'>"
      ]
     },
     "execution_count": 776,
     "metadata": {},
     "output_type": "execute_result"
    },
    {
     "data": {
      "image/png": "[encoded data removed]",
      "text/plain": [
       "<Figure size 432x288 with 1 Axes>"
      ]
     },
     "metadata": {
      "needs_background": "light"
     },
     "output_type": "display_data"
    }
   ],
   "source": [
    "sns.scatterplot(x='generation_gwh_2015',y='primary_fuel',data=df)"
   ]
  },
  {
   "cell_type": "code",
   "execution_count": 777,
   "id": "44c6d735",
   "metadata": {},
   "outputs": [
    {
     "data": {
      "text/plain": [
       "<AxesSubplot:xlabel='generation_gwh_2014', ylabel='primary_fuel'>"
      ]
     },
     "execution_count": 777,
     "metadata": {},
     "output_type": "execute_result"
    },
    {
     "data": {
      "image/png": "[encoded data removed]",
      "text/plain": [
       "<Figure size 432x288 with 1 Axes>"
      ]
     },
     "metadata": {
      "needs_background": "light"
     },
     "output_type": "display_data"
    }
   ],
   "source": [
    "sns.scatterplot(x='generation_gwh_2014',y='primary_fuel',data=df)"
   ]
  },
  {
   "cell_type": "code",
   "execution_count": 778,
   "id": "ac21342d",
   "metadata": {},
   "outputs": [],
   "source": [
    "# from above plots, we can say that all the year's data having positive relationship with primary fuel type."
   ]
  },
  {
   "cell_type": "markdown",
   "id": "ce8e4f24",
   "metadata": {},
   "source": [
    "# Cor-relation with Heatmap"
   ]
  },
  {
   "cell_type": "code",
   "execution_count": 779,
   "id": "daa722e9",
   "metadata": {},
   "outputs": [
    {
     "data": {
      "image/png": "[encoded data removed]",
      "text/plain": [
       "<Figure size 1440x1080 with 2 Axes>"
      ]
     },
     "metadata": {
      "needs_background": "light"
     },
     "output_type": "display_data"
    }
   ],
   "source": [
    "df_corr=df.corr().abs()\n",
    "plt.figure(figsize=(20,15))\n",
    "sns.heatmap(df_corr,annot=True, annot_kws={'size':15})\n",
    "plt.show()"
   ]
  },
  {
   "cell_type": "code",
   "execution_count": 780,
   "id": "53fabc5b",
   "metadata": {},
   "outputs": [],
   "source": [
    "# from above heatmap, we can say that Mostly all the years having positive relationship with target variable(Capacity-mw). also all the years have positive relation with primary fuel.\n"
   ]
  },
  {
   "cell_type": "code",
   "execution_count": 781,
   "id": "95c446b3",
   "metadata": {},
   "outputs": [
    {
     "data": {
      "text/plain": [
       "array(['Solar', 'Coal', 'Wind', 'Gas', 'Hydro', 'Biomass', 'Oil',\n",
       "       'Nuclear'], dtype=object)"
      ]
     },
     "execution_count": 781,
     "metadata": {},
     "output_type": "execute_result"
    }
   ],
   "source": [
    "df['primary_fuel'].unique() # Checking unique values of Primary Fuel."
   ]
  },
  {
   "cell_type": "code",
   "execution_count": 782,
   "id": "e14ebd97",
   "metadata": {},
   "outputs": [
    {
     "data": {
      "text/plain": [
       "array(['Oil', 'Cogeneration', 'Gas'], dtype=object)"
      ]
     },
     "execution_count": 782,
     "metadata": {},
     "output_type": "execute_result"
    }
   ],
   "source": [
    "df['other_fuel1'].unique() # Checking unique values of other fuel column."
   ]
  },
  {
   "cell_type": "markdown",
   "id": "8156b607",
   "metadata": {},
   "source": [
    "# Encoding of Categorical column with Label Encoder"
   ]
  },
  {
   "cell_type": "code",
   "execution_count": 783,
   "id": "3a8818a3",
   "metadata": {},
   "outputs": [],
   "source": [
    "from sklearn.preprocessing import LabelEncoder\n",
    "encoder = LabelEncoder()\n",
    "df['primary_fuel'] = encoder.fit_transform(df['primary_fuel'])\n",
    "df['other_fuel1'] = encoder.fit_transform(df['other_fuel1'])"
   ]
  },
  {
   "cell_type": "code",
   "execution_count": 784,
   "id": "393f1b3b",
   "metadata": {},
   "outputs": [
    {
     "name": "stdout",
     "output_type": "stream",
     "text": [
      "<class 'pandas.core.frame.DataFrame'>\n",
      "Int64Index: 901 entries, 0 to 906\n",
      "Data columns (total 10 columns):\n",
      " #   Column               Non-Null Count  Dtype  \n",
      "---  ------               --------------  -----  \n",
      " 0   capacity_mw          901 non-null    float64\n",
      " 1   latitude             901 non-null    float64\n",
      " 2   longitude            901 non-null    float64\n",
      " 3   primary_fuel         901 non-null    int32  \n",
      " 4   other_fuel1          901 non-null    int32  \n",
      " 5   generation_gwh_2014  901 non-null    float64\n",
      " 6   generation_gwh_2015  901 non-null    float64\n",
      " 7   generation_gwh_2016  901 non-null    float64\n",
      " 8   generation_gwh_2017  901 non-null    float64\n",
      " 9   generation_gwh_2018  901 non-null    float64\n",
      "dtypes: float64(8), int32(2)\n",
      "memory usage: 70.4 KB\n"
     ]
    }
   ],
   "source": [
    "df.info() # Checking again after encoding the categorical column."
   ]
  },
  {
   "cell_type": "markdown",
   "id": "c0be0ddc",
   "metadata": {},
   "source": [
    "# Data Normalization and Standardization"
   ]
  },
  {
   "cell_type": "code",
   "execution_count": 785,
   "id": "1668a795",
   "metadata": {},
   "outputs": [
    {
     "data": {
      "text/html": [
       "<div>\n",
       "<style scoped>\n",
       "    .dataframe tbody tr th:only-of-type {\n",
       "        vertical-align: middle;\n",
       "    }\n",
       "\n",
       "    .dataframe tbody tr th {\n",
       "        vertical-align: top;\n",
       "    }\n",
       "\n",
       "    .dataframe thead th {\n",
       "        text-align: right;\n",
       "    }\n",
       "</style>\n",
       "<table border=\"1\" class=\"dataframe\">\n",
       "  <thead>\n",
       "    <tr style=\"text-align: right;\">\n",
       "      <th></th>\n",
       "      <th>capacity_mw</th>\n",
       "      <th>latitude</th>\n",
       "      <th>longitude</th>\n",
       "      <th>primary_fuel</th>\n",
       "      <th>other_fuel1</th>\n",
       "      <th>generation_gwh_2014</th>\n",
       "      <th>generation_gwh_2015</th>\n",
       "      <th>generation_gwh_2016</th>\n",
       "      <th>generation_gwh_2017</th>\n",
       "      <th>generation_gwh_2018</th>\n",
       "    </tr>\n",
       "  </thead>\n",
       "  <tbody>\n",
       "    <tr>\n",
       "      <th>0</th>\n",
       "      <td>0.551087</td>\n",
       "      <td>1.145996</td>\n",
       "      <td>0.875370</td>\n",
       "      <td>1.227345</td>\n",
       "      <td>0.054484</td>\n",
       "      <td>1.701438e-16</td>\n",
       "      <td>0.000000</td>\n",
       "      <td>1.575775e-16</td>\n",
       "      <td>0.000000</td>\n",
       "      <td>0.000000</td>\n",
       "    </tr>\n",
       "    <tr>\n",
       "      <th>1</th>\n",
       "      <td>0.389544</td>\n",
       "      <td>0.585365</td>\n",
       "      <td>0.591821</td>\n",
       "      <td>0.964169</td>\n",
       "      <td>0.054484</td>\n",
       "      <td>1.701438e-16</td>\n",
       "      <td>0.000000</td>\n",
       "      <td>1.575775e-16</td>\n",
       "      <td>0.000000</td>\n",
       "      <td>0.000000</td>\n",
       "    </tr>\n",
       "    <tr>\n",
       "      <th>2</th>\n",
       "      <td>0.489007</td>\n",
       "      <td>0.115794</td>\n",
       "      <td>1.676820</td>\n",
       "      <td>1.665647</td>\n",
       "      <td>0.054484</td>\n",
       "      <td>1.701438e-16</td>\n",
       "      <td>0.000000</td>\n",
       "      <td>1.575775e-16</td>\n",
       "      <td>0.000000</td>\n",
       "      <td>0.000000</td>\n",
       "    </tr>\n",
       "    <tr>\n",
       "      <th>3</th>\n",
       "      <td>0.326957</td>\n",
       "      <td>0.438531</td>\n",
       "      <td>2.879480</td>\n",
       "      <td>0.525866</td>\n",
       "      <td>0.054484</td>\n",
       "      <td>6.787212e-01</td>\n",
       "      <td>0.552609</td>\n",
       "      <td>5.481659e-01</td>\n",
       "      <td>0.643087</td>\n",
       "      <td>0.649698</td>\n",
       "    </tr>\n",
       "    <tr>\n",
       "      <th>4</th>\n",
       "      <td>2.489472</td>\n",
       "      <td>0.125063</td>\n",
       "      <td>1.024570</td>\n",
       "      <td>0.964169</td>\n",
       "      <td>0.054484</td>\n",
       "      <td>2.258843e-01</td>\n",
       "      <td>1.216537</td>\n",
       "      <td>1.308122e+00</td>\n",
       "      <td>0.968673</td>\n",
       "      <td>1.539282</td>\n",
       "    </tr>\n",
       "    <tr>\n",
       "      <th>...</th>\n",
       "      <td>...</td>\n",
       "      <td>...</td>\n",
       "      <td>...</td>\n",
       "      <td>...</td>\n",
       "      <td>...</td>\n",
       "      <td>...</td>\n",
       "      <td>...</td>\n",
       "      <td>...</td>\n",
       "      <td>...</td>\n",
       "      <td>...</td>\n",
       "    </tr>\n",
       "    <tr>\n",
       "      <th>902</th>\n",
       "      <td>2.151162</td>\n",
       "      <td>0.804302</td>\n",
       "      <td>0.022403</td>\n",
       "      <td>0.964169</td>\n",
       "      <td>0.054484</td>\n",
       "      <td>1.701438e-16</td>\n",
       "      <td>0.846530</td>\n",
       "      <td>7.742361e-01</td>\n",
       "      <td>0.574263</td>\n",
       "      <td>0.629870</td>\n",
       "    </tr>\n",
       "    <tr>\n",
       "      <th>903</th>\n",
       "      <td>0.550241</td>\n",
       "      <td>1.362324</td>\n",
       "      <td>0.145161</td>\n",
       "      <td>1.227345</td>\n",
       "      <td>0.054484</td>\n",
       "      <td>1.701438e-16</td>\n",
       "      <td>0.000000</td>\n",
       "      <td>1.575775e-16</td>\n",
       "      <td>0.000000</td>\n",
       "      <td>0.000000</td>\n",
       "    </tr>\n",
       "    <tr>\n",
       "      <th>904</th>\n",
       "      <td>0.512181</td>\n",
       "      <td>0.971477</td>\n",
       "      <td>0.390376</td>\n",
       "      <td>1.665647</td>\n",
       "      <td>0.054484</td>\n",
       "      <td>1.701438e-16</td>\n",
       "      <td>0.000000</td>\n",
       "      <td>1.575775e-16</td>\n",
       "      <td>0.000000</td>\n",
       "      <td>0.000000</td>\n",
       "    </tr>\n",
       "    <tr>\n",
       "      <th>905</th>\n",
       "      <td>0.419992</td>\n",
       "      <td>0.517074</td>\n",
       "      <td>0.770306</td>\n",
       "      <td>0.964169</td>\n",
       "      <td>0.054484</td>\n",
       "      <td>1.701438e-16</td>\n",
       "      <td>0.000000</td>\n",
       "      <td>1.575775e-16</td>\n",
       "      <td>0.000000</td>\n",
       "      <td>0.000000</td>\n",
       "    </tr>\n",
       "    <tr>\n",
       "      <th>906</th>\n",
       "      <td>0.527405</td>\n",
       "      <td>1.847692</td>\n",
       "      <td>0.002465</td>\n",
       "      <td>1.665647</td>\n",
       "      <td>0.054484</td>\n",
       "      <td>1.701438e-16</td>\n",
       "      <td>0.000000</td>\n",
       "      <td>1.575775e-16</td>\n",
       "      <td>0.000000</td>\n",
       "      <td>0.000000</td>\n",
       "    </tr>\n",
       "  </tbody>\n",
       "</table>\n",
       "<p>901 rows × 10 columns</p>\n",
       "</div>"
      ],
      "text/plain": [
       "     capacity_mw  latitude  longitude  primary_fuel  other_fuel1  \\\n",
       "0       0.551087  1.145996   0.875370      1.227345     0.054484   \n",
       "1       0.389544  0.585365   0.591821      0.964169     0.054484   \n",
       "2       0.489007  0.115794   1.676820      1.665647     0.054484   \n",
       "3       0.326957  0.438531   2.879480      0.525866     0.054484   \n",
       "4       2.489472  0.125063   1.024570      0.964169     0.054484   \n",
       "..           ...       ...        ...           ...          ...   \n",
       "902     2.151162  0.804302   0.022403      0.964169     0.054484   \n",
       "903     0.550241  1.362324   0.145161      1.227345     0.054484   \n",
       "904     0.512181  0.971477   0.390376      1.665647     0.054484   \n",
       "905     0.419992  0.517074   0.770306      0.964169     0.054484   \n",
       "906     0.527405  1.847692   0.002465      1.665647     0.054484   \n",
       "\n",
       "     generation_gwh_2014  generation_gwh_2015  generation_gwh_2016  \\\n",
       "0           1.701438e-16             0.000000         1.575775e-16   \n",
       "1           1.701438e-16             0.000000         1.575775e-16   \n",
       "2           1.701438e-16             0.000000         1.575775e-16   \n",
       "3           6.787212e-01             0.552609         5.481659e-01   \n",
       "4           2.258843e-01             1.216537         1.308122e+00   \n",
       "..                   ...                  ...                  ...   \n",
       "902         1.701438e-16             0.846530         7.742361e-01   \n",
       "903         1.701438e-16             0.000000         1.575775e-16   \n",
       "904         1.701438e-16             0.000000         1.575775e-16   \n",
       "905         1.701438e-16             0.000000         1.575775e-16   \n",
       "906         1.701438e-16             0.000000         1.575775e-16   \n",
       "\n",
       "     generation_gwh_2017  generation_gwh_2018  \n",
       "0               0.000000             0.000000  \n",
       "1               0.000000             0.000000  \n",
       "2               0.000000             0.000000  \n",
       "3               0.643087             0.649698  \n",
       "4               0.968673             1.539282  \n",
       "..                   ...                  ...  \n",
       "902             0.574263             0.629870  \n",
       "903             0.000000             0.000000  \n",
       "904             0.000000             0.000000  \n",
       "905             0.000000             0.000000  \n",
       "906             0.000000             0.000000  \n",
       "\n",
       "[901 rows x 10 columns]"
      ]
     },
     "execution_count": 785,
     "metadata": {},
     "output_type": "execute_result"
    }
   ],
   "source": [
    "# wew will use Z score method.\n",
    "\n",
    "from scipy.stats import zscore\n",
    "z=np.abs(zscore(df))\n",
    "z"
   ]
  },
  {
   "cell_type": "code",
   "execution_count": 786,
   "id": "e941c8b3",
   "metadata": {},
   "outputs": [
    {
     "name": "stdout",
     "output_type": "stream",
     "text": [
      "(array([ 15,  15,  15,  15,  15, 143, 143, 143, 143, 143, 143, 147, 158,\n",
      "       179, 183, 209, 209, 209, 209, 209, 244, 308, 308, 308, 308, 308,\n",
      "       308, 323, 333, 340, 360, 363, 364, 364, 364, 364, 364, 364, 375,\n",
      "       416, 427, 481, 492, 492, 492, 492, 492, 492, 493, 493, 493, 493,\n",
      "       493, 493, 498, 517, 543, 574, 635, 645, 645, 645, 645, 645, 645,\n",
      "       654, 654, 654, 654, 654, 654, 691, 691, 691, 691, 691, 691, 717,\n",
      "       717, 717, 720, 720, 720, 720, 720, 722, 722, 722, 722, 722, 722,\n",
      "       761, 780, 780, 780, 780, 780, 780, 782, 802, 802, 802, 802, 802,\n",
      "       802, 805, 807, 811, 812, 874, 874, 874, 874, 874, 874], dtype=int64), array([0, 6, 7, 8, 9, 0, 5, 6, 7, 8, 9, 0, 5, 2, 2, 5, 6, 7, 8, 9, 2, 0,\n",
      "       5, 6, 7, 8, 9, 2, 2, 2, 2, 0, 0, 5, 6, 7, 8, 9, 0, 2, 2, 0, 0, 5,\n",
      "       6, 7, 8, 9, 0, 5, 6, 7, 8, 9, 2, 2, 2, 2, 2, 0, 5, 6, 7, 8, 9, 0,\n",
      "       5, 6, 7, 8, 9, 0, 5, 6, 7, 8, 9, 5, 6, 7, 5, 6, 7, 8, 9, 0, 5, 6,\n",
      "       7, 8, 9, 0, 0, 5, 6, 7, 8, 9, 0, 0, 5, 6, 7, 8, 9, 4, 4, 4, 2, 0,\n",
      "       5, 6, 7, 8, 9], dtype=int64))\n"
     ]
    }
   ],
   "source": [
    "threshold=3 # taking thresold 3 & Checking outliers.\n",
    "print(np.where(z>3))"
   ]
  },
  {
   "cell_type": "code",
   "execution_count": 787,
   "id": "69100df7",
   "metadata": {},
   "outputs": [],
   "source": [
    "df_new=df[(z<3).all(axis=1)]  # Filter the outliers from data set."
   ]
  },
  {
   "cell_type": "code",
   "execution_count": 788,
   "id": "b8798566",
   "metadata": {},
   "outputs": [
    {
     "data": {
      "text/plain": [
       "(901, 10)"
      ]
     },
     "execution_count": 788,
     "metadata": {},
     "output_type": "execute_result"
    }
   ],
   "source": [
    "df.shape # Checking shape again"
   ]
  },
  {
   "cell_type": "code",
   "execution_count": 789,
   "id": "a417ee8f",
   "metadata": {},
   "outputs": [
    {
     "data": {
      "text/plain": [
       "(860, 10)"
      ]
     },
     "execution_count": 789,
     "metadata": {},
     "output_type": "execute_result"
    }
   ],
   "source": [
    "df_new.shape # Checking shape after filtering the outliers."
   ]
  },
  {
   "cell_type": "code",
   "execution_count": 790,
   "id": "e365c071",
   "metadata": {},
   "outputs": [
    {
     "name": "stdout",
     "output_type": "stream",
     "text": [
      "Data Loss is  4.550499445061043 %\n"
     ]
    }
   ],
   "source": [
    "Data_loss=(901-860)*100/901\n",
    "print ('Data Loss is ',Data_loss,'%')"
   ]
  },
  {
   "cell_type": "markdown",
   "id": "a6ade103",
   "metadata": {},
   "source": [
    "# Now Spliting the data set in features ans columns"
   ]
  },
  {
   "cell_type": "code",
   "execution_count": 791,
   "id": "160abf0e",
   "metadata": {},
   "outputs": [],
   "source": [
    "x=df.drop(['capacity_mw'],axis=1) # First we will check continuous target variable.\n",
    "y=df['capacity_mw']"
   ]
  },
  {
   "cell_type": "markdown",
   "id": "a462dee3",
   "metadata": {},
   "source": [
    "# Train Test Split"
   ]
  },
  {
   "cell_type": "code",
   "execution_count": 792,
   "id": "2af8d7b8",
   "metadata": {},
   "outputs": [],
   "source": [
    "from sklearn.model_selection import train_test_split\n",
    "x_train,x_test,y_train,y_test=train_test_split(x,y,test_size=0.25,random_state=421)"
   ]
  },
  {
   "cell_type": "code",
   "execution_count": 793,
   "id": "e29c9432",
   "metadata": {},
   "outputs": [
    {
     "data": {
      "text/plain": [
       "(675, 9)"
      ]
     },
     "execution_count": 793,
     "metadata": {},
     "output_type": "execute_result"
    }
   ],
   "source": [
    "x_train.shape # Checking shape of training data."
   ]
  },
  {
   "cell_type": "code",
   "execution_count": 794,
   "id": "124fcec8",
   "metadata": {},
   "outputs": [
    {
     "data": {
      "text/plain": [
       "(226, 9)"
      ]
     },
     "execution_count": 794,
     "metadata": {},
     "output_type": "execute_result"
    }
   ],
   "source": [
    "x_test.shape # Checking shape of test data."
   ]
  },
  {
   "cell_type": "code",
   "execution_count": 795,
   "id": "f1012e6c",
   "metadata": {},
   "outputs": [],
   "source": [
    "# Importing necessary library for Regression model\n",
    "\n",
    "from sklearn.model_selection import cross_val_score\n",
    "from sklearn.metrics import mean_squared_error,mean_absolute_error\n",
    "from sklearn.metrics import r2_score"
   ]
  },
  {
   "cell_type": "code",
   "execution_count": 796,
   "id": "d2d1f4b7",
   "metadata": {},
   "outputs": [
    {
     "name": "stdout",
     "output_type": "stream",
     "text": [
      "0.7184648924182736\n"
     ]
    }
   ],
   "source": [
    "# Predict with Linear Regression\n",
    "\n",
    "from sklearn.linear_model import LinearRegression\n",
    "LR=LinearRegression()\n",
    "LR.fit(x_train,y_train)\n",
    "print(LR.score(x_train,y_train))\n",
    "LR_predict=LR.predict(x_test)"
   ]
  },
  {
   "cell_type": "code",
   "execution_count": 797,
   "id": "5d621161",
   "metadata": {},
   "outputs": [
    {
     "name": "stdout",
     "output_type": "stream",
     "text": [
      "121078.77472001623\n",
      "247.57524955572632\n",
      "0.04390634462349963\n"
     ]
    }
   ],
   "source": [
    "print(mean_squared_error(LR_predict,y_test))\n",
    "print(mean_absolute_error(LR_predict,y_test))\n",
    "print(r2_score(LR_predict,y_test))"
   ]
  },
  {
   "cell_type": "code",
   "execution_count": 798,
   "id": "a7a83b6b",
   "metadata": {},
   "outputs": [
    {
     "name": "stdout",
     "output_type": "stream",
     "text": [
      "0.7184593469817501\n"
     ]
    }
   ],
   "source": [
    "# Predict with Ridge Model\n",
    "\n",
    "from sklearn.linear_model import Ridge\n",
    "R=Ridge()\n",
    "R.fit(x_train,y_train)\n",
    "print(R.score(x_train,y_train))\n",
    "R_predict=R.predict(x_test)"
   ]
  },
  {
   "cell_type": "code",
   "execution_count": 799,
   "id": "1d1afde1",
   "metadata": {},
   "outputs": [
    {
     "name": "stdout",
     "output_type": "stream",
     "text": [
      "0.9801634710166185\n"
     ]
    }
   ],
   "source": [
    "# Predict with Random Forest Regressor\n",
    "\n",
    "from sklearn.ensemble import RandomForestRegressor\n",
    "\n",
    "RF=RandomForestRegressor()\n",
    "RF.fit(x_train,y_train)\n",
    "print(RF.score(x_train,y_train))\n",
    "RF_PRED=RF.predict(x_test)"
   ]
  },
  {
   "cell_type": "code",
   "execution_count": 800,
   "id": "b6a7b2da",
   "metadata": {},
   "outputs": [
    {
     "name": "stdout",
     "output_type": "stream",
     "text": [
      "121078.77472001623\n",
      "247.57524955572632\n",
      "0.04390634462349963\n"
     ]
    }
   ],
   "source": [
    "print(mean_squared_error(LR_predict,y_test))\n",
    "print(mean_absolute_error(LR_predict,y_test))\n",
    "print(r2_score(LR_predict,y_test))"
   ]
  },
  {
   "cell_type": "code",
   "execution_count": 801,
   "id": "a8c9c1eb",
   "metadata": {},
   "outputs": [
    {
     "name": "stdout",
     "output_type": "stream",
     "text": [
      "0.9704664414605476\n"
     ]
    }
   ],
   "source": [
    "# Predict with Gradient Boost\n",
    "\n",
    "from sklearn.ensemble import GradientBoostingRegressor\n",
    "\n",
    "GBR=GradientBoostingRegressor()\n",
    "GBR.fit(x_train,y_train)\n",
    "print(GBR.score(x_train,y_train))\n",
    "GBR_PRED=GBR.predict(x_test)"
   ]
  },
  {
   "cell_type": "code",
   "execution_count": 802,
   "id": "683b429c",
   "metadata": {},
   "outputs": [
    {
     "name": "stdout",
     "output_type": "stream",
     "text": [
      "121078.77472001623\n",
      "247.57524955572632\n",
      "0.04390634462349963\n"
     ]
    }
   ],
   "source": [
    "print(mean_squared_error(LR_predict,y_test))\n",
    "print(mean_absolute_error(LR_predict,y_test))\n",
    "print(r2_score(LR_predict,y_test))"
   ]
  },
  {
   "cell_type": "code",
   "execution_count": 803,
   "id": "e6eb165c",
   "metadata": {},
   "outputs": [
    {
     "name": "stdout",
     "output_type": "stream",
     "text": [
      "0.9999785836233961\n"
     ]
    }
   ],
   "source": [
    "# Predict with Decision Tree Regressor\n",
    "\n",
    "from sklearn.tree import DecisionTreeRegressor\n",
    "\n",
    "DTR=DecisionTreeRegressor()\n",
    "DTR.fit(x_train,y_train)\n",
    "print(DTR.score(x_train,y_train))\n",
    "DTR_PRED=DTR.predict(x_test)"
   ]
  },
  {
   "cell_type": "code",
   "execution_count": 804,
   "id": "b38f7725",
   "metadata": {},
   "outputs": [
    {
     "name": "stdout",
     "output_type": "stream",
     "text": [
      "121078.77472001623\n",
      "247.57524955572632\n",
      "0.04390634462349963\n"
     ]
    }
   ],
   "source": [
    "print(mean_squared_error(LR_predict,y_test))\n",
    "print(mean_absolute_error(LR_predict,y_test))\n",
    "print(r2_score(LR_predict,y_test))"
   ]
  },
  {
   "cell_type": "markdown",
   "id": "b8f6200a",
   "metadata": {},
   "source": [
    "# Cross Validation"
   ]
  },
  {
   "cell_type": "code",
   "execution_count": 805,
   "id": "6b97f601",
   "metadata": {},
   "outputs": [
    {
     "name": "stdout",
     "output_type": "stream",
     "text": [
      "0.632559414609467\n"
     ]
    }
   ],
   "source": [
    "#Linear reagression\n",
    "\n",
    "from sklearn.model_selection import cross_val_score\n",
    "\n",
    "print(cross_val_score(LR,x,y,cv=5).mean())"
   ]
  },
  {
   "cell_type": "code",
   "execution_count": 806,
   "id": "2c1357e9",
   "metadata": {},
   "outputs": [
    {
     "name": "stdout",
     "output_type": "stream",
     "text": [
      "0.7568104891374079\n"
     ]
    }
   ],
   "source": [
    "#Decision Tree Regressor\n",
    "\n",
    "from sklearn.model_selection import cross_val_score\n",
    "\n",
    "print(cross_val_score(DTR,x,y,cv=5).mean())"
   ]
  },
  {
   "cell_type": "code",
   "execution_count": 807,
   "id": "80c55daa",
   "metadata": {},
   "outputs": [
    {
     "name": "stdout",
     "output_type": "stream",
     "text": [
      "0.6325721372649888\n"
     ]
    }
   ],
   "source": [
    "# Ridge regression\n",
    "\n",
    "from sklearn.model_selection import cross_val_score\n",
    "\n",
    "print(cross_val_score(R,x,y,cv=5).mean())"
   ]
  },
  {
   "cell_type": "code",
   "execution_count": 808,
   "id": "67107cc1",
   "metadata": {},
   "outputs": [
    {
     "name": "stdout",
     "output_type": "stream",
     "text": [
      "0.850452622422497\n"
     ]
    }
   ],
   "source": [
    "# Random Forest Regressor\n",
    "\n",
    "from sklearn.model_selection import cross_val_score\n",
    "\n",
    "print(cross_val_score(RF,x,y,cv=5).mean())"
   ]
  },
  {
   "cell_type": "code",
   "execution_count": 809,
   "id": "0cc5fca2",
   "metadata": {},
   "outputs": [],
   "source": [
    "from sklearn.model_selection import GridSearchCV"
   ]
  },
  {
   "cell_type": "code",
   "execution_count": 810,
   "id": "f83c82a5",
   "metadata": {},
   "outputs": [],
   "source": [
    "GF=GradientBoostingRegressor()\n",
    "param={\n",
    "     'criterion':['mse','mae'],\n",
    "     'n_estimators':[100, 200],\n",
    "    }"
   ]
  },
  {
   "cell_type": "code",
   "execution_count": 811,
   "id": "7224c59a",
   "metadata": {},
   "outputs": [],
   "source": [
    "GF_grid=GridSearchCV(RandomForestRegressor(),param,cv=10,scoring='accuracy',n_jobs=-1,verbose=2)"
   ]
  },
  {
   "cell_type": "code",
   "execution_count": 812,
   "id": "d71d96f4",
   "metadata": {},
   "outputs": [
    {
     "name": "stdout",
     "output_type": "stream",
     "text": [
      "Fitting 10 folds for each of 4 candidates, totalling 40 fits\n"
     ]
    }
   ],
   "source": [
    "GF_grid.fit(x_train,y_train)\n",
    "GF_grid_pred=GF_grid.best_estimator_.predict(x_test)"
   ]
  },
  {
   "cell_type": "code",
   "execution_count": 813,
   "id": "38aee64b",
   "metadata": {},
   "outputs": [
    {
     "data": {
      "text/plain": [
       "{'criterion': 'mse', 'n_estimators': 100}"
      ]
     },
     "execution_count": 813,
     "metadata": {},
     "output_type": "execute_result"
    }
   ],
   "source": [
    "GF_grid.best_params_"
   ]
  },
  {
   "cell_type": "code",
   "execution_count": 814,
   "id": "e26ddae6",
   "metadata": {},
   "outputs": [
    {
     "name": "stdout",
     "output_type": "stream",
     "text": [
      "MSE: 47836.01045440653\n",
      "MAE: 108.02238659960932\n",
      "r2_score: 0.7459519305356914\n"
     ]
    }
   ],
   "source": [
    "print('MSE:',mean_squared_error(GF_grid_pred,y_test))\n",
    "print('MAE:',mean_absolute_error(GF_grid_pred,y_test))\n",
    "print('r2_score:',r2_score(GF_grid_pred,y_test))"
   ]
  },
  {
   "cell_type": "markdown",
   "id": "242c9676",
   "metadata": {},
   "source": [
    "# Primary_Fuel AS TARGET"
   ]
  },
  {
   "cell_type": "code",
   "execution_count": 815,
   "id": "7c1d2f51",
   "metadata": {},
   "outputs": [],
   "source": [
    "x=df.drop(['primary_fuel'],axis=1)\n",
    "y=df['primary_fuel']"
   ]
  },
  {
   "cell_type": "code",
   "execution_count": 816,
   "id": "0260c14d",
   "metadata": {},
   "outputs": [
    {
     "data": {
      "text/plain": [
       "(901, 9)"
      ]
     },
     "execution_count": 816,
     "metadata": {},
     "output_type": "execute_result"
    }
   ],
   "source": [
    "x.shape"
   ]
  },
  {
   "cell_type": "code",
   "execution_count": 817,
   "id": "eeb870dc",
   "metadata": {},
   "outputs": [
    {
     "data": {
      "text/plain": [
       "(901,)"
      ]
     },
     "execution_count": 817,
     "metadata": {},
     "output_type": "execute_result"
    }
   ],
   "source": [
    "y.shape"
   ]
  },
  {
   "cell_type": "code",
   "execution_count": 818,
   "id": "70562afe",
   "metadata": {},
   "outputs": [],
   "source": [
    "x_train,x_test,y_train,y_test=train_test_split(x,y,test_size=.25,random_state=42)"
   ]
  },
  {
   "cell_type": "code",
   "execution_count": 819,
   "id": "9ce32d59",
   "metadata": {},
   "outputs": [
    {
     "data": {
      "text/plain": [
       "(675, 9)"
      ]
     },
     "execution_count": 819,
     "metadata": {},
     "output_type": "execute_result"
    }
   ],
   "source": [
    "x_train.shape"
   ]
  },
  {
   "cell_type": "code",
   "execution_count": 820,
   "id": "b6c90b56",
   "metadata": {},
   "outputs": [
    {
     "data": {
      "text/plain": [
       "(226, 9)"
      ]
     },
     "execution_count": 820,
     "metadata": {},
     "output_type": "execute_result"
    }
   ],
   "source": [
    "x_test.shape"
   ]
  },
  {
   "cell_type": "code",
   "execution_count": 821,
   "id": "a6fe6d20",
   "metadata": {},
   "outputs": [
    {
     "name": "stdout",
     "output_type": "stream",
     "text": [
      "0.4469026548672566\n",
      "[[ 0  0  0  0  0  0 15  0]\n",
      " [ 0 33  2 16  0  0  8  1]\n",
      " [ 0  4  1 10  0  1  1  0]\n",
      " [ 0  3  0 41  1  0 22  0]\n",
      " [ 0  2  0  1  0  0  0  0]\n",
      " [ 0  2  0  2  0  1  2  0]\n",
      " [ 0  1  0  0  0  0 23  1]\n",
      " [ 0  8  0  0  0  0 22  2]]\n",
      "              precision    recall  f1-score   support\n",
      "\n",
      "           0       0.00      0.00      0.00        15\n",
      "           1       0.62      0.55      0.58        60\n",
      "           2       0.33      0.06      0.10        17\n",
      "           3       0.59      0.61      0.60        67\n",
      "           4       0.00      0.00      0.00         3\n",
      "           5       0.50      0.14      0.22         7\n",
      "           6       0.25      0.92      0.39        25\n",
      "           7       0.50      0.06      0.11        32\n",
      "\n",
      "    accuracy                           0.45       226\n",
      "   macro avg       0.35      0.29      0.25       226\n",
      "weighted avg       0.48      0.45      0.41       226\n",
      "\n",
      "Training accuracy:: 0.5125925925925926\n",
      "Test accuracy:: 0.4469026548672566\n"
     ]
    }
   ],
   "source": [
    "from sklearn.linear_model import LogisticRegression\n",
    "from sklearn.metrics import accuracy_score,confusion_matrix,classification_report\n",
    "\n",
    "lg=LogisticRegression()\n",
    "lg.fit(x_train,y_train)\n",
    "LR_predicted=lg.predict(x_test)\n",
    "\n",
    "print(accuracy_score(y_test,LR_predicted))\n",
    "print(confusion_matrix(y_test,LR_predicted))\n",
    "print(classification_report(y_test,LR_predicted))\n",
    "print(\"Training accuracy::\",lg.score(x_train,y_train))\n",
    "print(\"Test accuracy::\",lg.score(x_test,y_test))"
   ]
  },
  {
   "cell_type": "code",
   "execution_count": 822,
   "id": "8be4f7bb",
   "metadata": {},
   "outputs": [
    {
     "name": "stdout",
     "output_type": "stream",
     "text": [
      "0.6415929203539823\n",
      "[[ 9  2  0  1  0  0  1  2]\n",
      " [ 1 34  9  8  2  1  1  4]\n",
      " [ 0  3 10  2  0  2  0  0]\n",
      " [ 2  5  2 50  0  0  3  5]\n",
      " [ 0  1  0  2  0  0  0  0]\n",
      " [ 1  1  2  0  0  3  0  0]\n",
      " [ 2  1  0  0  0  0 20  2]\n",
      " [ 1  5  0  4  0  0  3 19]]\n",
      "              precision    recall  f1-score   support\n",
      "\n",
      "           0       0.56      0.60      0.58        15\n",
      "           1       0.65      0.57      0.61        60\n",
      "           2       0.43      0.59      0.50        17\n",
      "           3       0.75      0.75      0.75        67\n",
      "           4       0.00      0.00      0.00         3\n",
      "           5       0.50      0.43      0.46         7\n",
      "           6       0.71      0.80      0.75        25\n",
      "           7       0.59      0.59      0.59        32\n",
      "\n",
      "    accuracy                           0.64       226\n",
      "   macro avg       0.53      0.54      0.53       226\n",
      "weighted avg       0.64      0.64      0.64       226\n",
      "\n",
      "Training accuracy:: 1.0\n",
      "Test accuracy:: 0.6415929203539823\n"
     ]
    }
   ],
   "source": [
    "from sklearn.tree import DecisionTreeClassifier\n",
    "dtc=DecisionTreeClassifier()\n",
    "\n",
    "dtc.fit(x_train,y_train)\n",
    "predicted_dtc=dtc.predict(x_test)\n",
    "print(accuracy_score(y_test,predicted_dtc))\n",
    "print(confusion_matrix(y_test,predicted_dtc))\n",
    "print(classification_report(y_test,predicted_dtc))\n",
    "print(\"Training accuracy::\",dtc.score(x_train,y_train))\n",
    "print(\"Test accuracy::\",dtc.score(x_test,y_test))"
   ]
  },
  {
   "cell_type": "code",
   "execution_count": 823,
   "id": "8e624613",
   "metadata": {},
   "outputs": [
    {
     "name": "stdout",
     "output_type": "stream",
     "text": [
      "0.5398230088495575\n",
      "[[ 8  2  0  1  0  0  1  3]\n",
      " [ 2 44  6  6  0  0  0  2]\n",
      " [ 0  8  2  6  0  1  0  0]\n",
      " [ 6  9  0 42  0  0  4  6]\n",
      " [ 0  2  1  0  0  0  0  0]\n",
      " [ 0  2  0  2  0  1  0  2]\n",
      " [ 1  6  0  3  0  0 13  2]\n",
      " [ 2 10  0  5  0  1  2 12]]\n",
      "              precision    recall  f1-score   support\n",
      "\n",
      "           0       0.42      0.53      0.47        15\n",
      "           1       0.53      0.73      0.62        60\n",
      "           2       0.22      0.12      0.15        17\n",
      "           3       0.65      0.63      0.64        67\n",
      "           4       0.00      0.00      0.00         3\n",
      "           5       0.33      0.14      0.20         7\n",
      "           6       0.65      0.52      0.58        25\n",
      "           7       0.44      0.38      0.41        32\n",
      "\n",
      "    accuracy                           0.54       226\n",
      "   macro avg       0.41      0.38      0.38       226\n",
      "weighted avg       0.52      0.54      0.52       226\n",
      "\n",
      "Training accuracy:: 0.7244444444444444\n",
      "Test accuracy:: 0.5398230088495575\n"
     ]
    }
   ],
   "source": [
    "from sklearn.neighbors import KNeighborsClassifier\n",
    "\n",
    "knn=KNeighborsClassifier()\n",
    "\n",
    "knn.fit(x_train,y_train)\n",
    "predicted_knn=knn.predict(x_test)\n",
    "print(accuracy_score(y_test,predicted_knn))\n",
    "print(confusion_matrix(y_test,predicted_knn))\n",
    "print(classification_report(y_test,predicted_knn))\n",
    "print(\"Training accuracy::\",knn.score(x_train,y_train))\n",
    "print(\"Test accuracy::\",knn.score(x_test,y_test))"
   ]
  },
  {
   "cell_type": "code",
   "execution_count": 824,
   "id": "360370fb",
   "metadata": {},
   "outputs": [
    {
     "name": "stdout",
     "output_type": "stream",
     "text": [
      "0.6991150442477876\n",
      "[[10  1  0  0  0  0  1  3]\n",
      " [ 1 43  6  5  0  1  0  4]\n",
      " [ 0  4  7  3  0  3  0  0]\n",
      " [ 1  3  0 53  0  0  3  7]\n",
      " [ 0  3  0  0  0  0  0  0]\n",
      " [ 1  1  2  0  0  3  0  0]\n",
      " [ 1  1  0  0  0  0 20  3]\n",
      " [ 1  1  0  4  0  0  4 22]]\n",
      "              precision    recall  f1-score   support\n",
      "\n",
      "           0       0.67      0.67      0.67        15\n",
      "           1       0.75      0.72      0.74        60\n",
      "           2       0.47      0.41      0.44        17\n",
      "           3       0.82      0.79      0.80        67\n",
      "           4       0.00      0.00      0.00         3\n",
      "           5       0.43      0.43      0.43         7\n",
      "           6       0.71      0.80      0.75        25\n",
      "           7       0.56      0.69      0.62        32\n",
      "\n",
      "    accuracy                           0.70       226\n",
      "   macro avg       0.55      0.56      0.56       226\n",
      "weighted avg       0.69      0.70      0.69       226\n",
      "\n",
      "Training accuracy:: 1.0\n",
      "Test accuracy:: 0.6991150442477876\n"
     ]
    }
   ],
   "source": [
    "from sklearn.ensemble import RandomForestClassifier\n",
    "rfc=RandomForestClassifier()\n",
    "\n",
    "rfc.fit(x_train,y_train)\n",
    "predicted_rfc=rfc.predict(x_test)\n",
    "print(accuracy_score(y_test,predicted_rfc))\n",
    "print(confusion_matrix(y_test,predicted_rfc))\n",
    "print(classification_report(y_test,predicted_rfc))\n",
    "print(\"Training accuracy::\",rfc.score(x_train,y_train))\n",
    "print(\"Test accuracy::\",rfc.score(x_test,y_test))"
   ]
  },
  {
   "cell_type": "code",
   "execution_count": null,
   "id": "cbe2c028",
   "metadata": {},
   "outputs": [],
   "source": []
  }
 ],
 "metadata": {
  "kernelspec": {
   "display_name": "Python 3 (ipykernel)",
   "language": "python",
   "name": "python3"
  },
  "language_info": {
   "codemirror_mode": {
    "name": "ipython",
    "version": 3
   },
   "file_extension": ".py",
   "mimetype": "text/x-python",
   "name": "python",
   "nbconvert_exporter": "python",
   "pygments_lexer": "ipython3",
   "version": "3.9.12"
  }
 },
 "nbformat": 4,
 "nbformat_minor": 5
}

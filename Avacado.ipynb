{
 "cells": [
  {
   "cell_type": "markdown",
   "id": "652658c0",
   "metadata": {},
   "source": [
    "# Avacado Project"
   ]
  },
  {
   "cell_type": "markdown",
   "id": "1db01306",
   "metadata": {},
   "source": [
    "# Importing necessary libraries :"
   ]
  },
  {
   "cell_type": "code",
   "execution_count": 185,
   "id": "a8f1d1bf",
   "metadata": {},
   "outputs": [],
   "source": [
    "import numpy as np\n",
    "import pandas as pd\n",
    "import seaborn as sns\n",
    "import matplotlib.pyplot as plt\n",
    "%matplotlib inline\n"
   ]
  },
  {
   "cell_type": "markdown",
   "id": "20b3ae3d",
   "metadata": {},
   "source": [
    "# Importing dataset from GitHub Raw link"
   ]
  },
  {
   "cell_type": "code",
   "execution_count": 186,
   "id": "b243cc90",
   "metadata": {},
   "outputs": [
    {
     "data": {
      "text/html": [
       "<div>\n",
       "<style scoped>\n",
       "    .dataframe tbody tr th:only-of-type {\n",
       "        vertical-align: middle;\n",
       "    }\n",
       "\n",
       "    .dataframe tbody tr th {\n",
       "        vertical-align: top;\n",
       "    }\n",
       "\n",
       "    .dataframe thead th {\n",
       "        text-align: right;\n",
       "    }\n",
       "</style>\n",
       "<table border=\"1\" class=\"dataframe\">\n",
       "  <thead>\n",
       "    <tr style=\"text-align: right;\">\n",
       "      <th></th>\n",
       "      <th>Unnamed: 0</th>\n",
       "      <th>Date</th>\n",
       "      <th>AveragePrice</th>\n",
       "      <th>Total Volume</th>\n",
       "      <th>4046</th>\n",
       "      <th>4225</th>\n",
       "      <th>4770</th>\n",
       "      <th>Total Bags</th>\n",
       "      <th>Small Bags</th>\n",
       "      <th>Large Bags</th>\n",
       "      <th>XLarge Bags</th>\n",
       "      <th>type</th>\n",
       "      <th>year</th>\n",
       "      <th>region</th>\n",
       "    </tr>\n",
       "  </thead>\n",
       "  <tbody>\n",
       "    <tr>\n",
       "      <th>0</th>\n",
       "      <td>0.0</td>\n",
       "      <td>27-12-2015</td>\n",
       "      <td>1.33</td>\n",
       "      <td>64236.62</td>\n",
       "      <td>1036.74</td>\n",
       "      <td>54454.85</td>\n",
       "      <td>48.16</td>\n",
       "      <td>8696.87</td>\n",
       "      <td>8603.62</td>\n",
       "      <td>93.25</td>\n",
       "      <td>0.0</td>\n",
       "      <td>conventional</td>\n",
       "      <td>2015.0</td>\n",
       "      <td>Albany</td>\n",
       "    </tr>\n",
       "    <tr>\n",
       "      <th>1</th>\n",
       "      <td>1.0</td>\n",
       "      <td>20-12-2015</td>\n",
       "      <td>1.35</td>\n",
       "      <td>54876.98</td>\n",
       "      <td>674.28</td>\n",
       "      <td>44638.81</td>\n",
       "      <td>58.33</td>\n",
       "      <td>9505.56</td>\n",
       "      <td>9408.07</td>\n",
       "      <td>97.49</td>\n",
       "      <td>0.0</td>\n",
       "      <td>conventional</td>\n",
       "      <td>2015.0</td>\n",
       "      <td>Albany</td>\n",
       "    </tr>\n",
       "    <tr>\n",
       "      <th>2</th>\n",
       "      <td>2.0</td>\n",
       "      <td>13-12-2015</td>\n",
       "      <td>0.93</td>\n",
       "      <td>118220.22</td>\n",
       "      <td>794.70</td>\n",
       "      <td>109149.67</td>\n",
       "      <td>130.50</td>\n",
       "      <td>8145.35</td>\n",
       "      <td>8042.21</td>\n",
       "      <td>103.14</td>\n",
       "      <td>0.0</td>\n",
       "      <td>conventional</td>\n",
       "      <td>2015.0</td>\n",
       "      <td>Albany</td>\n",
       "    </tr>\n",
       "    <tr>\n",
       "      <th>3</th>\n",
       "      <td>3.0</td>\n",
       "      <td>06-12-2015</td>\n",
       "      <td>1.08</td>\n",
       "      <td>78992.15</td>\n",
       "      <td>1132.00</td>\n",
       "      <td>71976.41</td>\n",
       "      <td>72.58</td>\n",
       "      <td>5811.16</td>\n",
       "      <td>5677.40</td>\n",
       "      <td>133.76</td>\n",
       "      <td>0.0</td>\n",
       "      <td>conventional</td>\n",
       "      <td>2015.0</td>\n",
       "      <td>Albany</td>\n",
       "    </tr>\n",
       "    <tr>\n",
       "      <th>4</th>\n",
       "      <td>4.0</td>\n",
       "      <td>29-11-2015</td>\n",
       "      <td>1.28</td>\n",
       "      <td>51039.60</td>\n",
       "      <td>941.48</td>\n",
       "      <td>43838.39</td>\n",
       "      <td>75.78</td>\n",
       "      <td>6183.95</td>\n",
       "      <td>5986.26</td>\n",
       "      <td>197.69</td>\n",
       "      <td>0.0</td>\n",
       "      <td>conventional</td>\n",
       "      <td>2015.0</td>\n",
       "      <td>Albany</td>\n",
       "    </tr>\n",
       "  </tbody>\n",
       "</table>\n",
       "</div>"
      ],
      "text/plain": [
       "   Unnamed: 0        Date  AveragePrice  Total Volume     4046       4225  \\\n",
       "0         0.0  27-12-2015          1.33      64236.62  1036.74   54454.85   \n",
       "1         1.0  20-12-2015          1.35      54876.98   674.28   44638.81   \n",
       "2         2.0  13-12-2015          0.93     118220.22   794.70  109149.67   \n",
       "3         3.0  06-12-2015          1.08      78992.15  1132.00   71976.41   \n",
       "4         4.0  29-11-2015          1.28      51039.60   941.48   43838.39   \n",
       "\n",
       "     4770  Total Bags  Small Bags  Large Bags  XLarge Bags          type  \\\n",
       "0   48.16     8696.87     8603.62       93.25          0.0  conventional   \n",
       "1   58.33     9505.56     9408.07       97.49          0.0  conventional   \n",
       "2  130.50     8145.35     8042.21      103.14          0.0  conventional   \n",
       "3   72.58     5811.16     5677.40      133.76          0.0  conventional   \n",
       "4   75.78     6183.95     5986.26      197.69          0.0  conventional   \n",
       "\n",
       "     year  region  \n",
       "0  2015.0  Albany  \n",
       "1  2015.0  Albany  \n",
       "2  2015.0  Albany  \n",
       "3  2015.0  Albany  \n",
       "4  2015.0  Albany  "
      ]
     },
     "execution_count": 186,
     "metadata": {},
     "output_type": "execute_result"
    }
   ],
   "source": [
    "df=pd.read_csv('https://raw.githubusercontent.com/dsrscientist/Data-Science-ML-Capstone-Projects/master/avocado.csv')\n",
    "df.head()  #  Checking top 5 rows."
   ]
  },
  {
   "cell_type": "code",
   "execution_count": 187,
   "id": "3c11d963",
   "metadata": {},
   "outputs": [
    {
     "data": {
      "text/plain": [
       "(16468, 14)"
      ]
     },
     "execution_count": 187,
     "metadata": {},
     "output_type": "execute_result"
    }
   ],
   "source": [
    "df.shape # Checking the shape of data set "
   ]
  },
  {
   "cell_type": "raw",
   "id": "56b2e91f",
   "metadata": {},
   "source": [
    "There are 16468 rows and 14 columns in our dataset."
   ]
  },
  {
   "cell_type": "markdown",
   "id": "d1f98230",
   "metadata": {},
   "source": [
    "# Exploratory Data Analysis (EDA)"
   ]
  },
  {
   "cell_type": "code",
   "execution_count": 188,
   "id": "f68d5cde",
   "metadata": {},
   "outputs": [
    {
     "name": "stdout",
     "output_type": "stream",
     "text": [
      "<class 'pandas.core.frame.DataFrame'>\n",
      "RangeIndex: 16468 entries, 0 to 16467\n",
      "Data columns (total 14 columns):\n",
      " #   Column        Non-Null Count  Dtype  \n",
      "---  ------        --------------  -----  \n",
      " 0   Unnamed: 0    1517 non-null   float64\n",
      " 1   Date          1517 non-null   object \n",
      " 2   AveragePrice  1517 non-null   float64\n",
      " 3   Total Volume  1517 non-null   float64\n",
      " 4   4046          1517 non-null   float64\n",
      " 5   4225          1517 non-null   float64\n",
      " 6   4770          1517 non-null   float64\n",
      " 7   Total Bags    1517 non-null   float64\n",
      " 8   Small Bags    1517 non-null   float64\n",
      " 9   Large Bags    1517 non-null   float64\n",
      " 10  XLarge Bags   1517 non-null   float64\n",
      " 11  type          1517 non-null   object \n",
      " 12  year          1517 non-null   float64\n",
      " 13  region        1517 non-null   object \n",
      "dtypes: float64(11), object(3)\n",
      "memory usage: 1.8+ MB\n"
     ]
    }
   ],
   "source": [
    "df.info() # checking some information and data type of data set."
   ]
  },
  {
   "cell_type": "raw",
   "id": "aa947c7d",
   "metadata": {},
   "source": [
    "1. There are total 14 coumns in dataset including target varibale.  region and average price.\n",
    "2. Fruits avacado type and date is only object. all the other columns are have continuous data.\n",
    "3. total dataset using 1.8 mb memory"
   ]
  },
  {
   "cell_type": "code",
   "execution_count": 189,
   "id": "fbff0e0d",
   "metadata": {},
   "outputs": [
    {
     "data": {
      "text/plain": [
       "Index(['Unnamed: 0', 'Date', 'AveragePrice', 'Total Volume', '4046', '4225',\n",
       "       '4770', 'Total Bags', 'Small Bags', 'Large Bags', 'XLarge Bags', 'type',\n",
       "       'year', 'region'],\n",
       "      dtype='object')"
      ]
     },
     "execution_count": 189,
     "metadata": {},
     "output_type": "execute_result"
    }
   ],
   "source": [
    "df.columns # Checking column name in data set."
   ]
  },
  {
   "cell_type": "code",
   "execution_count": 190,
   "id": "99d2939f",
   "metadata": {},
   "outputs": [
    {
     "data": {
      "text/html": [
       "<div>\n",
       "<style scoped>\n",
       "    .dataframe tbody tr th:only-of-type {\n",
       "        vertical-align: middle;\n",
       "    }\n",
       "\n",
       "    .dataframe tbody tr th {\n",
       "        vertical-align: top;\n",
       "    }\n",
       "\n",
       "    .dataframe thead th {\n",
       "        text-align: right;\n",
       "    }\n",
       "</style>\n",
       "<table border=\"1\" class=\"dataframe\">\n",
       "  <thead>\n",
       "    <tr style=\"text-align: right;\">\n",
       "      <th></th>\n",
       "      <th>Date</th>\n",
       "      <th>AveragePrice</th>\n",
       "      <th>Total Volume</th>\n",
       "      <th>4046</th>\n",
       "      <th>4225</th>\n",
       "      <th>4770</th>\n",
       "      <th>Total Bags</th>\n",
       "      <th>Small Bags</th>\n",
       "      <th>Large Bags</th>\n",
       "      <th>XLarge Bags</th>\n",
       "      <th>type</th>\n",
       "      <th>year</th>\n",
       "      <th>region</th>\n",
       "    </tr>\n",
       "  </thead>\n",
       "  <tbody>\n",
       "    <tr>\n",
       "      <th>0</th>\n",
       "      <td>27-12-2015</td>\n",
       "      <td>1.33</td>\n",
       "      <td>64236.62</td>\n",
       "      <td>1036.74</td>\n",
       "      <td>54454.85</td>\n",
       "      <td>48.16</td>\n",
       "      <td>8696.87</td>\n",
       "      <td>8603.62</td>\n",
       "      <td>93.25</td>\n",
       "      <td>0.0</td>\n",
       "      <td>conventional</td>\n",
       "      <td>2015.0</td>\n",
       "      <td>Albany</td>\n",
       "    </tr>\n",
       "    <tr>\n",
       "      <th>1</th>\n",
       "      <td>20-12-2015</td>\n",
       "      <td>1.35</td>\n",
       "      <td>54876.98</td>\n",
       "      <td>674.28</td>\n",
       "      <td>44638.81</td>\n",
       "      <td>58.33</td>\n",
       "      <td>9505.56</td>\n",
       "      <td>9408.07</td>\n",
       "      <td>97.49</td>\n",
       "      <td>0.0</td>\n",
       "      <td>conventional</td>\n",
       "      <td>2015.0</td>\n",
       "      <td>Albany</td>\n",
       "    </tr>\n",
       "    <tr>\n",
       "      <th>2</th>\n",
       "      <td>13-12-2015</td>\n",
       "      <td>0.93</td>\n",
       "      <td>118220.22</td>\n",
       "      <td>794.70</td>\n",
       "      <td>109149.67</td>\n",
       "      <td>130.50</td>\n",
       "      <td>8145.35</td>\n",
       "      <td>8042.21</td>\n",
       "      <td>103.14</td>\n",
       "      <td>0.0</td>\n",
       "      <td>conventional</td>\n",
       "      <td>2015.0</td>\n",
       "      <td>Albany</td>\n",
       "    </tr>\n",
       "    <tr>\n",
       "      <th>3</th>\n",
       "      <td>06-12-2015</td>\n",
       "      <td>1.08</td>\n",
       "      <td>78992.15</td>\n",
       "      <td>1132.00</td>\n",
       "      <td>71976.41</td>\n",
       "      <td>72.58</td>\n",
       "      <td>5811.16</td>\n",
       "      <td>5677.40</td>\n",
       "      <td>133.76</td>\n",
       "      <td>0.0</td>\n",
       "      <td>conventional</td>\n",
       "      <td>2015.0</td>\n",
       "      <td>Albany</td>\n",
       "    </tr>\n",
       "    <tr>\n",
       "      <th>4</th>\n",
       "      <td>29-11-2015</td>\n",
       "      <td>1.28</td>\n",
       "      <td>51039.60</td>\n",
       "      <td>941.48</td>\n",
       "      <td>43838.39</td>\n",
       "      <td>75.78</td>\n",
       "      <td>6183.95</td>\n",
       "      <td>5986.26</td>\n",
       "      <td>197.69</td>\n",
       "      <td>0.0</td>\n",
       "      <td>conventional</td>\n",
       "      <td>2015.0</td>\n",
       "      <td>Albany</td>\n",
       "    </tr>\n",
       "  </tbody>\n",
       "</table>\n",
       "</div>"
      ],
      "text/plain": [
       "         Date  AveragePrice  Total Volume     4046       4225    4770  \\\n",
       "0  27-12-2015          1.33      64236.62  1036.74   54454.85   48.16   \n",
       "1  20-12-2015          1.35      54876.98   674.28   44638.81   58.33   \n",
       "2  13-12-2015          0.93     118220.22   794.70  109149.67  130.50   \n",
       "3  06-12-2015          1.08      78992.15  1132.00   71976.41   72.58   \n",
       "4  29-11-2015          1.28      51039.60   941.48   43838.39   75.78   \n",
       "\n",
       "   Total Bags  Small Bags  Large Bags  XLarge Bags          type    year  \\\n",
       "0     8696.87     8603.62       93.25          0.0  conventional  2015.0   \n",
       "1     9505.56     9408.07       97.49          0.0  conventional  2015.0   \n",
       "2     8145.35     8042.21      103.14          0.0  conventional  2015.0   \n",
       "3     5811.16     5677.40      133.76          0.0  conventional  2015.0   \n",
       "4     6183.95     5986.26      197.69          0.0  conventional  2015.0   \n",
       "\n",
       "   region  \n",
       "0  Albany  \n",
       "1  Albany  \n",
       "2  Albany  \n",
       "3  Albany  \n",
       "4  Albany  "
      ]
     },
     "execution_count": 190,
     "metadata": {},
     "output_type": "execute_result"
    }
   ],
   "source": [
    "df=df.drop(['Unnamed: 0'],axis=1) # as Unnamed column is nominal data and just for indentification. So we are deleting the same\n",
    "df.head() # Checking again after delete the unammed column."
   ]
  },
  {
   "cell_type": "code",
   "execution_count": 191,
   "id": "5756cc46",
   "metadata": {},
   "outputs": [
    {
     "data": {
      "text/plain": [
       "14950"
      ]
     },
     "execution_count": 191,
     "metadata": {},
     "output_type": "execute_result"
    }
   ],
   "source": [
    "df.duplicated().sum() # Checking duplicate data this data set."
   ]
  },
  {
   "cell_type": "code",
   "execution_count": 192,
   "id": "48276eba",
   "metadata": {},
   "outputs": [
    {
     "data": {
      "text/plain": [
       "(1517, 13)"
      ]
     },
     "execution_count": 192,
     "metadata": {},
     "output_type": "execute_result"
    }
   ],
   "source": [
    "df=df.drop_duplicates(keep=False)\n",
    "df.shape"
   ]
  },
  {
   "cell_type": "code",
   "execution_count": 193,
   "id": "f17da583",
   "metadata": {},
   "outputs": [
    {
     "data": {
      "text/plain": [
       "Date            0\n",
       "AveragePrice    0\n",
       "Total Volume    0\n",
       "4046            0\n",
       "4225            0\n",
       "4770            0\n",
       "Total Bags      0\n",
       "Small Bags      0\n",
       "Large Bags      0\n",
       "XLarge Bags     0\n",
       "type            0\n",
       "year            0\n",
       "region          0\n",
       "dtype: int64"
      ]
     },
     "execution_count": 193,
     "metadata": {},
     "output_type": "execute_result"
    }
   ],
   "source": [
    "df.isnull().sum() # Checking null values in data set after dropping duplicate data."
   ]
  },
  {
   "cell_type": "code",
   "execution_count": 194,
   "id": "a248e62e",
   "metadata": {},
   "outputs": [],
   "source": [
    "# there is no any null value in data set."
   ]
  },
  {
   "cell_type": "code",
   "execution_count": 195,
   "id": "52260e1a",
   "metadata": {},
   "outputs": [
    {
     "data": {
      "text/html": [
       "<div>\n",
       "<style scoped>\n",
       "    .dataframe tbody tr th:only-of-type {\n",
       "        vertical-align: middle;\n",
       "    }\n",
       "\n",
       "    .dataframe tbody tr th {\n",
       "        vertical-align: top;\n",
       "    }\n",
       "\n",
       "    .dataframe thead th {\n",
       "        text-align: right;\n",
       "    }\n",
       "</style>\n",
       "<table border=\"1\" class=\"dataframe\">\n",
       "  <thead>\n",
       "    <tr style=\"text-align: right;\">\n",
       "      <th></th>\n",
       "      <th>AveragePrice</th>\n",
       "      <th>Total Volume</th>\n",
       "      <th>4046</th>\n",
       "      <th>4225</th>\n",
       "      <th>4770</th>\n",
       "      <th>Total Bags</th>\n",
       "      <th>Small Bags</th>\n",
       "      <th>Large Bags</th>\n",
       "      <th>XLarge Bags</th>\n",
       "      <th>type</th>\n",
       "      <th>year</th>\n",
       "      <th>region</th>\n",
       "    </tr>\n",
       "  </thead>\n",
       "  <tbody>\n",
       "    <tr>\n",
       "      <th>0</th>\n",
       "      <td>1.33</td>\n",
       "      <td>64236.62</td>\n",
       "      <td>1036.74</td>\n",
       "      <td>54454.85</td>\n",
       "      <td>48.16</td>\n",
       "      <td>8696.87</td>\n",
       "      <td>8603.62</td>\n",
       "      <td>93.25</td>\n",
       "      <td>0.0</td>\n",
       "      <td>conventional</td>\n",
       "      <td>2015.0</td>\n",
       "      <td>Albany</td>\n",
       "    </tr>\n",
       "    <tr>\n",
       "      <th>1</th>\n",
       "      <td>1.35</td>\n",
       "      <td>54876.98</td>\n",
       "      <td>674.28</td>\n",
       "      <td>44638.81</td>\n",
       "      <td>58.33</td>\n",
       "      <td>9505.56</td>\n",
       "      <td>9408.07</td>\n",
       "      <td>97.49</td>\n",
       "      <td>0.0</td>\n",
       "      <td>conventional</td>\n",
       "      <td>2015.0</td>\n",
       "      <td>Albany</td>\n",
       "    </tr>\n",
       "    <tr>\n",
       "      <th>2</th>\n",
       "      <td>0.93</td>\n",
       "      <td>118220.22</td>\n",
       "      <td>794.70</td>\n",
       "      <td>109149.67</td>\n",
       "      <td>130.50</td>\n",
       "      <td>8145.35</td>\n",
       "      <td>8042.21</td>\n",
       "      <td>103.14</td>\n",
       "      <td>0.0</td>\n",
       "      <td>conventional</td>\n",
       "      <td>2015.0</td>\n",
       "      <td>Albany</td>\n",
       "    </tr>\n",
       "    <tr>\n",
       "      <th>3</th>\n",
       "      <td>1.08</td>\n",
       "      <td>78992.15</td>\n",
       "      <td>1132.00</td>\n",
       "      <td>71976.41</td>\n",
       "      <td>72.58</td>\n",
       "      <td>5811.16</td>\n",
       "      <td>5677.40</td>\n",
       "      <td>133.76</td>\n",
       "      <td>0.0</td>\n",
       "      <td>conventional</td>\n",
       "      <td>2015.0</td>\n",
       "      <td>Albany</td>\n",
       "    </tr>\n",
       "    <tr>\n",
       "      <th>4</th>\n",
       "      <td>1.28</td>\n",
       "      <td>51039.60</td>\n",
       "      <td>941.48</td>\n",
       "      <td>43838.39</td>\n",
       "      <td>75.78</td>\n",
       "      <td>6183.95</td>\n",
       "      <td>5986.26</td>\n",
       "      <td>197.69</td>\n",
       "      <td>0.0</td>\n",
       "      <td>conventional</td>\n",
       "      <td>2015.0</td>\n",
       "      <td>Albany</td>\n",
       "    </tr>\n",
       "  </tbody>\n",
       "</table>\n",
       "</div>"
      ],
      "text/plain": [
       "   AveragePrice  Total Volume     4046       4225    4770  Total Bags  \\\n",
       "0          1.33      64236.62  1036.74   54454.85   48.16     8696.87   \n",
       "1          1.35      54876.98   674.28   44638.81   58.33     9505.56   \n",
       "2          0.93     118220.22   794.70  109149.67  130.50     8145.35   \n",
       "3          1.08      78992.15  1132.00   71976.41   72.58     5811.16   \n",
       "4          1.28      51039.60   941.48   43838.39   75.78     6183.95   \n",
       "\n",
       "   Small Bags  Large Bags  XLarge Bags          type    year  region  \n",
       "0     8603.62       93.25          0.0  conventional  2015.0  Albany  \n",
       "1     9408.07       97.49          0.0  conventional  2015.0  Albany  \n",
       "2     8042.21      103.14          0.0  conventional  2015.0  Albany  \n",
       "3     5677.40      133.76          0.0  conventional  2015.0  Albany  \n",
       "4     5986.26      197.69          0.0  conventional  2015.0  Albany  "
      ]
     },
     "execution_count": 195,
     "metadata": {},
     "output_type": "execute_result"
    }
   ],
   "source": [
    "# We will drop the date column as the year column is also present.\n",
    "df=df.drop(['Date'],axis=1)\n",
    "df.head()"
   ]
  },
  {
   "cell_type": "code",
   "execution_count": 196,
   "id": "13ec398f",
   "metadata": {},
   "outputs": [
    {
     "data": {
      "text/plain": [
       "array(['conventional'], dtype=object)"
      ]
     },
     "execution_count": 196,
     "metadata": {},
     "output_type": "execute_result"
    }
   ],
   "source": [
    "# Checking unique values of column\n",
    "df['type'].unique()"
   ]
  },
  {
   "cell_type": "code",
   "execution_count": 197,
   "id": "1a8c4f11",
   "metadata": {},
   "outputs": [],
   "source": [
    "# we can also delete this type column as there is only variable in this column and we can not do any comparison with one variable.\n"
   ]
  },
  {
   "cell_type": "code",
   "execution_count": 198,
   "id": "1149fb47",
   "metadata": {},
   "outputs": [
    {
     "data": {
      "text/html": [
       "<div>\n",
       "<style scoped>\n",
       "    .dataframe tbody tr th:only-of-type {\n",
       "        vertical-align: middle;\n",
       "    }\n",
       "\n",
       "    .dataframe tbody tr th {\n",
       "        vertical-align: top;\n",
       "    }\n",
       "\n",
       "    .dataframe thead th {\n",
       "        text-align: right;\n",
       "    }\n",
       "</style>\n",
       "<table border=\"1\" class=\"dataframe\">\n",
       "  <thead>\n",
       "    <tr style=\"text-align: right;\">\n",
       "      <th></th>\n",
       "      <th>AveragePrice</th>\n",
       "      <th>Total Volume</th>\n",
       "      <th>4046</th>\n",
       "      <th>4225</th>\n",
       "      <th>4770</th>\n",
       "      <th>Total Bags</th>\n",
       "      <th>Small Bags</th>\n",
       "      <th>Large Bags</th>\n",
       "      <th>XLarge Bags</th>\n",
       "      <th>year</th>\n",
       "      <th>region</th>\n",
       "    </tr>\n",
       "  </thead>\n",
       "  <tbody>\n",
       "    <tr>\n",
       "      <th>0</th>\n",
       "      <td>1.33</td>\n",
       "      <td>64236.62</td>\n",
       "      <td>1036.74</td>\n",
       "      <td>54454.85</td>\n",
       "      <td>48.16</td>\n",
       "      <td>8696.87</td>\n",
       "      <td>8603.62</td>\n",
       "      <td>93.25</td>\n",
       "      <td>0.0</td>\n",
       "      <td>2015.0</td>\n",
       "      <td>Albany</td>\n",
       "    </tr>\n",
       "    <tr>\n",
       "      <th>1</th>\n",
       "      <td>1.35</td>\n",
       "      <td>54876.98</td>\n",
       "      <td>674.28</td>\n",
       "      <td>44638.81</td>\n",
       "      <td>58.33</td>\n",
       "      <td>9505.56</td>\n",
       "      <td>9408.07</td>\n",
       "      <td>97.49</td>\n",
       "      <td>0.0</td>\n",
       "      <td>2015.0</td>\n",
       "      <td>Albany</td>\n",
       "    </tr>\n",
       "    <tr>\n",
       "      <th>2</th>\n",
       "      <td>0.93</td>\n",
       "      <td>118220.22</td>\n",
       "      <td>794.70</td>\n",
       "      <td>109149.67</td>\n",
       "      <td>130.50</td>\n",
       "      <td>8145.35</td>\n",
       "      <td>8042.21</td>\n",
       "      <td>103.14</td>\n",
       "      <td>0.0</td>\n",
       "      <td>2015.0</td>\n",
       "      <td>Albany</td>\n",
       "    </tr>\n",
       "    <tr>\n",
       "      <th>3</th>\n",
       "      <td>1.08</td>\n",
       "      <td>78992.15</td>\n",
       "      <td>1132.00</td>\n",
       "      <td>71976.41</td>\n",
       "      <td>72.58</td>\n",
       "      <td>5811.16</td>\n",
       "      <td>5677.40</td>\n",
       "      <td>133.76</td>\n",
       "      <td>0.0</td>\n",
       "      <td>2015.0</td>\n",
       "      <td>Albany</td>\n",
       "    </tr>\n",
       "    <tr>\n",
       "      <th>4</th>\n",
       "      <td>1.28</td>\n",
       "      <td>51039.60</td>\n",
       "      <td>941.48</td>\n",
       "      <td>43838.39</td>\n",
       "      <td>75.78</td>\n",
       "      <td>6183.95</td>\n",
       "      <td>5986.26</td>\n",
       "      <td>197.69</td>\n",
       "      <td>0.0</td>\n",
       "      <td>2015.0</td>\n",
       "      <td>Albany</td>\n",
       "    </tr>\n",
       "  </tbody>\n",
       "</table>\n",
       "</div>"
      ],
      "text/plain": [
       "   AveragePrice  Total Volume     4046       4225    4770  Total Bags  \\\n",
       "0          1.33      64236.62  1036.74   54454.85   48.16     8696.87   \n",
       "1          1.35      54876.98   674.28   44638.81   58.33     9505.56   \n",
       "2          0.93     118220.22   794.70  109149.67  130.50     8145.35   \n",
       "3          1.08      78992.15  1132.00   71976.41   72.58     5811.16   \n",
       "4          1.28      51039.60   941.48   43838.39   75.78     6183.95   \n",
       "\n",
       "   Small Bags  Large Bags  XLarge Bags    year  region  \n",
       "0     8603.62       93.25          0.0  2015.0  Albany  \n",
       "1     9408.07       97.49          0.0  2015.0  Albany  \n",
       "2     8042.21      103.14          0.0  2015.0  Albany  \n",
       "3     5677.40      133.76          0.0  2015.0  Albany  \n",
       "4     5986.26      197.69          0.0  2015.0  Albany  "
      ]
     },
     "execution_count": 198,
     "metadata": {},
     "output_type": "execute_result"
    }
   ],
   "source": [
    "    df=df.drop(['type'],axis=1)\n",
    "    df.head()"
   ]
  },
  {
   "cell_type": "code",
   "execution_count": 199,
   "id": "cb238c5d",
   "metadata": {},
   "outputs": [
    {
     "data": {
      "text/plain": [
       "array(['Albany', 'Atlanta', 'BaltimoreWashington', 'Boise', 'Boston',\n",
       "       'BuffaloRochester', 'California', 'Charlotte', 'Chicago',\n",
       "       'Columbus', 'DallasFtWorth', 'Denver', 'Detroit', 'GrandRapids',\n",
       "       'GreatLakes', 'HarrisburgScranton', 'HartfordSpringfield',\n",
       "       'Houston', 'Indianapolis', 'Jacksonville', 'LasVegas',\n",
       "       'LosAngeles', 'Louisville', 'MiamiFtLauderdale', 'Midsouth',\n",
       "       'Nashville', 'NewYork', 'Northeast', 'NorthernNewEngland',\n",
       "       'Orlando', 'Philadelphia', 'PhoenixTucson', 'Pittsburgh', 'Plains',\n",
       "       'Portland', 'RaleighGreensboro', 'RichmondNorfolk', 'Roanoke',\n",
       "       'SanDiego', 'SanFrancisco', 'Seattle', 'SouthCarolina',\n",
       "       'SouthCentral', 'Southeast', 'Spokane', 'StLouis', 'Syracuse',\n",
       "       'Tampa', 'TotalUS', 'West', 'WestTexNewMexico'], dtype=object)"
      ]
     },
     "execution_count": 199,
     "metadata": {},
     "output_type": "execute_result"
    }
   ],
   "source": [
    "# Checking unique values of column\n",
    "df['region'].unique()\n"
   ]
  },
  {
   "cell_type": "code",
   "execution_count": 200,
   "id": "3817ef5b",
   "metadata": {},
   "outputs": [
    {
     "data": {
      "text/plain": [
       "51"
      ]
     },
     "execution_count": 200,
     "metadata": {},
     "output_type": "execute_result"
    }
   ],
   "source": [
    "# Checking total number of region column\n",
    "df['region'].nunique()"
   ]
  },
  {
   "cell_type": "raw",
   "id": "13905835",
   "metadata": {},
   "source": [
    "# There is total 51 region from where data is taken.\n"
   ]
  },
  {
   "cell_type": "code",
   "execution_count": 201,
   "id": "9b7c354e",
   "metadata": {},
   "outputs": [
    {
     "data": {
      "text/plain": [
       "year\n",
       "2015.0    1.060110\n",
       "2016.0    1.151498\n",
       "Name: AveragePrice, dtype: float64"
      ]
     },
     "execution_count": 201,
     "metadata": {},
     "output_type": "execute_result"
    }
   ],
   "source": [
    "# Checking Year wise Average Price \n",
    "\n",
    "df.groupby('year')['AveragePrice'].mean()"
   ]
  },
  {
   "cell_type": "code",
   "execution_count": 202,
   "id": "ea00f6a0",
   "metadata": {},
   "outputs": [
    {
     "data": {
      "text/plain": [
       "<AxesSubplot:xlabel='year', ylabel='AveragePrice'>"
      ]
     },
     "execution_count": 202,
     "metadata": {},
     "output_type": "execute_result"
    },
    {
     "data": {
      "image/png": "[encoded data removed]",
      "text/plain": [
       "<Figure size 432x288 with 1 Axes>"
      ]
     },
     "metadata": {
      "needs_background": "light"
     },
     "output_type": "display_data"
    }
   ],
   "source": [
    "sns.barplot(x='year',y='AveragePrice',data=df)"
   ]
  },
  {
   "cell_type": "raw",
   "id": "2fba099d",
   "metadata": {},
   "source": [
    "# We can cheque that in 2016, Avacado Friut has higher price than in 2015"
   ]
  },
  {
   "cell_type": "code",
   "execution_count": 203,
   "id": "291a2fa1",
   "metadata": {},
   "outputs": [
    {
     "name": "stdout",
     "output_type": "stream",
     "text": [
      "California             76\n",
      "Albany                 67\n",
      "BaltimoreWashington    65\n",
      "Boise                  65\n",
      "Boston                 62\n",
      "Atlanta                54\n",
      "PhoenixTucson          52\n",
      "BuffaloRochester       51\n",
      "Spokane                49\n",
      "Columbus               47\n",
      "NewYork                44\n",
      "Jacksonville           41\n",
      "Detroit                40\n",
      "SouthCentral           39\n",
      "SanDiego               38\n",
      "West                   36\n",
      "Tampa                  34\n",
      "Louisville             34\n",
      "Charlotte              31\n",
      "Portland               30\n",
      "Houston                29\n",
      "NorthernNewEngland     29\n",
      "WestTexNewMexico       27\n",
      "Nashville              25\n",
      "TotalUS                25\n",
      "Denver                 24\n",
      "SouthCarolina          24\n",
      "Chicago                23\n",
      "GrandRapids            23\n",
      "Pittsburgh             22\n",
      "Orlando                21\n",
      "RichmondNorfolk        21\n",
      "Syracuse               19\n",
      "HarrisburgScranton     19\n",
      "Midsouth               18\n",
      "GreatLakes             18\n",
      "DallasFtWorth          17\n",
      "MiamiFtLauderdale      17\n",
      "Roanoke                17\n",
      "RaleighGreensboro      16\n",
      "StLouis                16\n",
      "Indianapolis           16\n",
      "SanFrancisco           15\n",
      "HartfordSpringfield    13\n",
      "Philadelphia           13\n",
      "Plains                 12\n",
      "Northeast              12\n",
      "LasVegas               10\n",
      "Seattle                 9\n",
      "Southeast               9\n",
      "LosAngeles              3\n",
      "Name: region, dtype: int64\n"
     ]
    },
    {
     "data": {
      "image/png": "[encoded data removed]",
      "text/plain": [
       "<Figure size 432x288 with 1 Axes>"
      ]
     },
     "metadata": {
      "needs_background": "light"
     },
     "output_type": "display_data"
    }
   ],
   "source": [
    "sns.countplot(x=df['region'],data=df)\n",
    "print(df['region'].value_counts())"
   ]
  },
  {
   "cell_type": "raw",
   "id": "c9b3f830",
   "metadata": {},
   "source": [
    "City California  has maximum sale of this fruit and Losangeles has leat sale."
   ]
  },
  {
   "cell_type": "code",
   "execution_count": 204,
   "id": "31bc4243",
   "metadata": {},
   "outputs": [
    {
     "data": {
      "text/html": [
       "<div>\n",
       "<style scoped>\n",
       "    .dataframe tbody tr th:only-of-type {\n",
       "        vertical-align: middle;\n",
       "    }\n",
       "\n",
       "    .dataframe tbody tr th {\n",
       "        vertical-align: top;\n",
       "    }\n",
       "\n",
       "    .dataframe thead th {\n",
       "        text-align: right;\n",
       "    }\n",
       "</style>\n",
       "<table border=\"1\" class=\"dataframe\">\n",
       "  <thead>\n",
       "    <tr style=\"text-align: right;\">\n",
       "      <th></th>\n",
       "      <th>AveragePrice</th>\n",
       "      <th>Total Volume</th>\n",
       "      <th>4046</th>\n",
       "      <th>4225</th>\n",
       "      <th>4770</th>\n",
       "      <th>Total Bags</th>\n",
       "      <th>Small Bags</th>\n",
       "      <th>Large Bags</th>\n",
       "      <th>XLarge Bags</th>\n",
       "      <th>year</th>\n",
       "    </tr>\n",
       "  </thead>\n",
       "  <tbody>\n",
       "    <tr>\n",
       "      <th>count</th>\n",
       "      <td>1517.000000</td>\n",
       "      <td>1.517000e+03</td>\n",
       "      <td>1.517000e+03</td>\n",
       "      <td>1.517000e+03</td>\n",
       "      <td>1.517000e+03</td>\n",
       "      <td>1.517000e+03</td>\n",
       "      <td>1.517000e+03</td>\n",
       "      <td>1.517000e+03</td>\n",
       "      <td>1517.000000</td>\n",
       "      <td>1517.000000</td>\n",
       "    </tr>\n",
       "    <tr>\n",
       "      <th>mean</th>\n",
       "      <td>1.074990</td>\n",
       "      <td>1.601879e+06</td>\n",
       "      <td>6.464387e+05</td>\n",
       "      <td>6.114375e+05</td>\n",
       "      <td>5.040550e+04</td>\n",
       "      <td>2.935974e+05</td>\n",
       "      <td>2.487736e+05</td>\n",
       "      <td>4.264205e+04</td>\n",
       "      <td>2181.771074</td>\n",
       "      <td>2015.162821</td>\n",
       "    </tr>\n",
       "    <tr>\n",
       "      <th>std</th>\n",
       "      <td>0.188891</td>\n",
       "      <td>4.433143e+06</td>\n",
       "      <td>1.947614e+06</td>\n",
       "      <td>1.672906e+06</td>\n",
       "      <td>1.377812e+05</td>\n",
       "      <td>7.579765e+05</td>\n",
       "      <td>6.474765e+05</td>\n",
       "      <td>1.182157e+05</td>\n",
       "      <td>7455.712144</td>\n",
       "      <td>0.369324</td>\n",
       "    </tr>\n",
       "    <tr>\n",
       "      <th>min</th>\n",
       "      <td>0.490000</td>\n",
       "      <td>3.875074e+04</td>\n",
       "      <td>4.677200e+02</td>\n",
       "      <td>1.783770e+03</td>\n",
       "      <td>0.000000e+00</td>\n",
       "      <td>3.311770e+03</td>\n",
       "      <td>3.311770e+03</td>\n",
       "      <td>0.000000e+00</td>\n",
       "      <td>0.000000</td>\n",
       "      <td>2015.000000</td>\n",
       "    </tr>\n",
       "    <tr>\n",
       "      <th>25%</th>\n",
       "      <td>0.980000</td>\n",
       "      <td>1.474700e+05</td>\n",
       "      <td>2.040034e+04</td>\n",
       "      <td>4.147606e+04</td>\n",
       "      <td>9.112500e+02</td>\n",
       "      <td>3.620689e+04</td>\n",
       "      <td>2.972722e+04</td>\n",
       "      <td>5.407400e+02</td>\n",
       "      <td>0.000000</td>\n",
       "      <td>2015.000000</td>\n",
       "    </tr>\n",
       "    <tr>\n",
       "      <th>50%</th>\n",
       "      <td>1.080000</td>\n",
       "      <td>4.027919e+05</td>\n",
       "      <td>8.175117e+04</td>\n",
       "      <td>1.186649e+05</td>\n",
       "      <td>7.688170e+03</td>\n",
       "      <td>7.397906e+04</td>\n",
       "      <td>6.237569e+04</td>\n",
       "      <td>5.044350e+03</td>\n",
       "      <td>0.000000</td>\n",
       "      <td>2015.000000</td>\n",
       "    </tr>\n",
       "    <tr>\n",
       "      <th>75%</th>\n",
       "      <td>1.190000</td>\n",
       "      <td>9.819751e+05</td>\n",
       "      <td>3.775785e+05</td>\n",
       "      <td>4.851503e+05</td>\n",
       "      <td>2.916730e+04</td>\n",
       "      <td>1.576097e+05</td>\n",
       "      <td>1.461994e+05</td>\n",
       "      <td>2.926767e+04</td>\n",
       "      <td>401.480000</td>\n",
       "      <td>2015.000000</td>\n",
       "    </tr>\n",
       "    <tr>\n",
       "      <th>max</th>\n",
       "      <td>1.680000</td>\n",
       "      <td>4.465546e+07</td>\n",
       "      <td>1.893304e+07</td>\n",
       "      <td>1.895648e+07</td>\n",
       "      <td>1.381516e+06</td>\n",
       "      <td>6.736304e+06</td>\n",
       "      <td>5.893642e+06</td>\n",
       "      <td>1.121076e+06</td>\n",
       "      <td>108072.790000</td>\n",
       "      <td>2016.000000</td>\n",
       "    </tr>\n",
       "  </tbody>\n",
       "</table>\n",
       "</div>"
      ],
      "text/plain": [
       "       AveragePrice  Total Volume          4046          4225          4770  \\\n",
       "count   1517.000000  1.517000e+03  1.517000e+03  1.517000e+03  1.517000e+03   \n",
       "mean       1.074990  1.601879e+06  6.464387e+05  6.114375e+05  5.040550e+04   \n",
       "std        0.188891  4.433143e+06  1.947614e+06  1.672906e+06  1.377812e+05   \n",
       "min        0.490000  3.875074e+04  4.677200e+02  1.783770e+03  0.000000e+00   \n",
       "25%        0.980000  1.474700e+05  2.040034e+04  4.147606e+04  9.112500e+02   \n",
       "50%        1.080000  4.027919e+05  8.175117e+04  1.186649e+05  7.688170e+03   \n",
       "75%        1.190000  9.819751e+05  3.775785e+05  4.851503e+05  2.916730e+04   \n",
       "max        1.680000  4.465546e+07  1.893304e+07  1.895648e+07  1.381516e+06   \n",
       "\n",
       "         Total Bags    Small Bags    Large Bags    XLarge Bags         year  \n",
       "count  1.517000e+03  1.517000e+03  1.517000e+03    1517.000000  1517.000000  \n",
       "mean   2.935974e+05  2.487736e+05  4.264205e+04    2181.771074  2015.162821  \n",
       "std    7.579765e+05  6.474765e+05  1.182157e+05    7455.712144     0.369324  \n",
       "min    3.311770e+03  3.311770e+03  0.000000e+00       0.000000  2015.000000  \n",
       "25%    3.620689e+04  2.972722e+04  5.407400e+02       0.000000  2015.000000  \n",
       "50%    7.397906e+04  6.237569e+04  5.044350e+03       0.000000  2015.000000  \n",
       "75%    1.576097e+05  1.461994e+05  2.926767e+04     401.480000  2015.000000  \n",
       "max    6.736304e+06  5.893642e+06  1.121076e+06  108072.790000  2016.000000  "
      ]
     },
     "execution_count": 204,
     "metadata": {},
     "output_type": "execute_result"
    }
   ],
   "source": [
    "# Checking the stats of this dataset with describe method.\n",
    "df.describe()"
   ]
  },
  {
   "cell_type": "raw",
   "id": "205f5c7d",
   "metadata": {},
   "source": [
    "# from above method it is showing that\n",
    "# 1. There is many outliers in XLarge Bags column\n",
    "# 2. Std deviation is looking abnormal in XLarge Bags column.\n",
    "# 3. All the Quantiles having zero values which is looking abnormal.\n",
    "#4. All the others columns looking normal as of now."
   ]
  },
  {
   "cell_type": "markdown",
   "id": "115d021b",
   "metadata": {},
   "source": [
    "# Visualization:"
   ]
  },
  {
   "cell_type": "code",
   "execution_count": 205,
   "id": "b3e2f497",
   "metadata": {},
   "outputs": [],
   "source": [
    "# First need to import necessary libray\n",
    "import seaborn as sns\n",
    "import matplotlib.pyplot as plt\n",
    "import warnings\n",
    "warnings.filterwarnings('ignore')\n"
   ]
  },
  {
   "cell_type": "code",
   "execution_count": 206,
   "id": "05234a99",
   "metadata": {},
   "outputs": [],
   "source": [
    "#Now will check the data distribution with distplot."
   ]
  },
  {
   "cell_type": "code",
   "execution_count": 207,
   "id": "15e425a6",
   "metadata": {},
   "outputs": [
    {
     "data": {
      "image/png": "[encoded data removed]",
      "text/plain": [
       "<Figure size 1080x720 with 10 Axes>"
      ]
     },
     "metadata": {},
     "output_type": "display_data"
    }
   ],
   "source": [
    "plt.figure(figsize=(15,10),facecolor='yellow')\n",
    "plotnumber=1\n",
    "\n",
    "for column in df:\n",
    "    if plotnumber<=10:\n",
    "        ax=plt.subplot(2,5,plotnumber)\n",
    "        sns.distplot(df[column])\n",
    "        plt.xlabel(column,fontsize=10)\n",
    "    \n",
    "    plotnumber+=1\n",
    "    \n",
    "plt.show()"
   ]
  },
  {
   "cell_type": "raw",
   "id": "ba1cff3d",
   "metadata": {},
   "source": [
    "# from above distplot found that skewness is available in each and every column.\n",
    "# Average Price is looking normally disributed.\n",
    "# Total Volume, 4046, 4225, 4770 and total bags showing maximum at zero which is not possible that means data is not standardzation."
   ]
  },
  {
   "cell_type": "code",
   "execution_count": 208,
   "id": "a4d7d497",
   "metadata": {},
   "outputs": [
    {
     "data": {
      "text/plain": [
       "AveragePrice   -0.109444\n",
       "Total Volume    6.200138\n",
       "4046            6.051830\n",
       "4225            6.394926\n",
       "4770            5.405164\n",
       "Total Bags      5.366378\n",
       "Small Bags      5.355185\n",
       "Large Bags      5.144495\n",
       "XLarge Bags     5.775077\n",
       "year            1.828332\n",
       "dtype: float64"
      ]
     },
     "execution_count": 208,
     "metadata": {},
     "output_type": "execute_result"
    }
   ],
   "source": [
    "df.skew() # Checking skewness."
   ]
  },
  {
   "cell_type": "raw",
   "id": "a2e37602",
   "metadata": {},
   "source": [
    "found that every column has skewness. we will deal with it."
   ]
  },
  {
   "cell_type": "code",
   "execution_count": 209,
   "id": "51c5cc6b",
   "metadata": {},
   "outputs": [],
   "source": [
    "# Checking number of unique values in all the columns."
   ]
  },
  {
   "cell_type": "code",
   "execution_count": 210,
   "id": "790ea2e0",
   "metadata": {},
   "outputs": [
    {
     "data": {
      "text/plain": [
       "AveragePrice     113\n",
       "Total Volume    1517\n",
       "4046            1517\n",
       "4225            1517\n",
       "4770            1516\n",
       "Total Bags      1517\n",
       "Small Bags      1517\n",
       "Large Bags      1377\n",
       "XLarge Bags      711\n",
       "year               2\n",
       "region            51\n",
       "dtype: int64"
      ]
     },
     "execution_count": 210,
     "metadata": {},
     "output_type": "execute_result"
    }
   ],
   "source": [
    "df.nunique()"
   ]
  },
  {
   "cell_type": "code",
   "execution_count": 211,
   "id": "def487fe",
   "metadata": {},
   "outputs": [
    {
     "data": {
      "image/png": "[encoded data removed]",
      "text/plain": [
       "<Figure size 1080x720 with 2 Axes>"
      ]
     },
     "metadata": {
      "needs_background": "light"
     },
     "output_type": "display_data"
    }
   ],
   "source": [
    "# Plotting heatmap for checking correlation.\n",
    "\n",
    "plt.figure(figsize=(15,10))\n",
    "sns.heatmap(df.corr(), annot=True, annot_kws={'size': 10})\n",
    "plt.xticks(fontsize=10)\n",
    "plt.yticks(fontsize=10)\n",
    "plt.show()"
   ]
  },
  {
   "cell_type": "markdown",
   "id": "18bb5c2a",
   "metadata": {},
   "source": [
    "# Standardization of Features"
   ]
  },
  {
   "cell_type": "code",
   "execution_count": 212,
   "id": "c6928f30",
   "metadata": {},
   "outputs": [],
   "source": [
    "from sklearn.preprocessing import StandardScaler\n",
    "scaler=StandardScaler() #intiliazed"
   ]
  },
  {
   "cell_type": "code",
   "execution_count": 213,
   "id": "44ec5bfb",
   "metadata": {},
   "outputs": [],
   "source": [
    "from sklearn.preprocessing import LabelEncoder # Importing labelencoder for encode the categorical features.\n",
    "le=LabelEncoder() # intiliazed label encoder."
   ]
  },
  {
   "cell_type": "code",
   "execution_count": 214,
   "id": "394c621e",
   "metadata": {},
   "outputs": [
    {
     "data": {
      "text/plain": [
       "array([ 0,  1,  2,  3,  4,  5,  6,  7,  8,  9, 10, 11, 12, 13, 14, 15, 16,\n",
       "       17, 18, 19, 20, 21, 22, 23, 24, 25, 26, 27, 28, 29, 30, 31, 32, 33,\n",
       "       34, 35, 36, 37, 38, 39, 40, 41, 42, 43, 44, 45, 46, 47, 48, 49, 50])"
      ]
     },
     "execution_count": 214,
     "metadata": {},
     "output_type": "execute_result"
    }
   ],
   "source": [
    "df['region']=le.fit_transform(df['region']) # Encoding of region (Categorical Column)\n",
    "df['region'].unique()"
   ]
  },
  {
   "cell_type": "markdown",
   "id": "cdb3413d",
   "metadata": {},
   "source": [
    "# Splitting the dataset into 2 variables namely 'X' and 'Y' for feature and label"
   ]
  },
  {
   "cell_type": "code",
   "execution_count": 215,
   "id": "97a008bc",
   "metadata": {},
   "outputs": [],
   "source": [
    "x=df.drop(['AveragePrice'],axis=1) \n",
    "y=df['AveragePrice']"
   ]
  },
  {
   "cell_type": "code",
   "execution_count": 216,
   "id": "22d82bd1",
   "metadata": {},
   "outputs": [
    {
     "data": {
      "text/html": [
       "<div>\n",
       "<style scoped>\n",
       "    .dataframe tbody tr th:only-of-type {\n",
       "        vertical-align: middle;\n",
       "    }\n",
       "\n",
       "    .dataframe tbody tr th {\n",
       "        vertical-align: top;\n",
       "    }\n",
       "\n",
       "    .dataframe thead th {\n",
       "        text-align: right;\n",
       "    }\n",
       "</style>\n",
       "<table border=\"1\" class=\"dataframe\">\n",
       "  <thead>\n",
       "    <tr style=\"text-align: right;\">\n",
       "      <th></th>\n",
       "      <th>Total Volume</th>\n",
       "      <th>4046</th>\n",
       "      <th>4225</th>\n",
       "      <th>4770</th>\n",
       "      <th>Total Bags</th>\n",
       "      <th>Small Bags</th>\n",
       "      <th>Large Bags</th>\n",
       "      <th>XLarge Bags</th>\n",
       "      <th>year</th>\n",
       "      <th>region</th>\n",
       "    </tr>\n",
       "  </thead>\n",
       "  <tbody>\n",
       "    <tr>\n",
       "      <th>0</th>\n",
       "      <td>-0.346966</td>\n",
       "      <td>-0.331490</td>\n",
       "      <td>-0.333053</td>\n",
       "      <td>-0.365608</td>\n",
       "      <td>-0.375994</td>\n",
       "      <td>-0.371055</td>\n",
       "      <td>-0.360044</td>\n",
       "      <td>-0.292727</td>\n",
       "      <td>-0.441008</td>\n",
       "      <td>-1.314338</td>\n",
       "    </tr>\n",
       "    <tr>\n",
       "      <th>1</th>\n",
       "      <td>-0.349078</td>\n",
       "      <td>-0.331676</td>\n",
       "      <td>-0.338923</td>\n",
       "      <td>-0.365534</td>\n",
       "      <td>-0.374927</td>\n",
       "      <td>-0.369812</td>\n",
       "      <td>-0.360008</td>\n",
       "      <td>-0.292727</td>\n",
       "      <td>-0.441008</td>\n",
       "      <td>-1.314338</td>\n",
       "    </tr>\n",
       "    <tr>\n",
       "      <th>2</th>\n",
       "      <td>-0.334785</td>\n",
       "      <td>-0.331614</td>\n",
       "      <td>-0.300348</td>\n",
       "      <td>-0.365010</td>\n",
       "      <td>-0.376722</td>\n",
       "      <td>-0.371922</td>\n",
       "      <td>-0.359960</td>\n",
       "      <td>-0.292727</td>\n",
       "      <td>-0.441008</td>\n",
       "      <td>-1.314338</td>\n",
       "    </tr>\n",
       "    <tr>\n",
       "      <th>3</th>\n",
       "      <td>-0.343636</td>\n",
       "      <td>-0.331441</td>\n",
       "      <td>-0.322576</td>\n",
       "      <td>-0.365431</td>\n",
       "      <td>-0.379802</td>\n",
       "      <td>-0.375576</td>\n",
       "      <td>-0.359701</td>\n",
       "      <td>-0.292727</td>\n",
       "      <td>-0.441008</td>\n",
       "      <td>-1.314338</td>\n",
       "    </tr>\n",
       "    <tr>\n",
       "      <th>4</th>\n",
       "      <td>-0.349944</td>\n",
       "      <td>-0.331539</td>\n",
       "      <td>-0.339401</td>\n",
       "      <td>-0.365408</td>\n",
       "      <td>-0.379310</td>\n",
       "      <td>-0.375098</td>\n",
       "      <td>-0.359160</td>\n",
       "      <td>-0.292727</td>\n",
       "      <td>-0.441008</td>\n",
       "      <td>-1.314338</td>\n",
       "    </tr>\n",
       "  </tbody>\n",
       "</table>\n",
       "</div>"
      ],
      "text/plain": [
       "   Total Volume      4046      4225      4770  Total Bags  Small Bags  \\\n",
       "0     -0.346966 -0.331490 -0.333053 -0.365608   -0.375994   -0.371055   \n",
       "1     -0.349078 -0.331676 -0.338923 -0.365534   -0.374927   -0.369812   \n",
       "2     -0.334785 -0.331614 -0.300348 -0.365010   -0.376722   -0.371922   \n",
       "3     -0.343636 -0.331441 -0.322576 -0.365431   -0.379802   -0.375576   \n",
       "4     -0.349944 -0.331539 -0.339401 -0.365408   -0.379310   -0.375098   \n",
       "\n",
       "   Large Bags  XLarge Bags      year    region  \n",
       "0   -0.360044    -0.292727 -0.441008 -1.314338  \n",
       "1   -0.360008    -0.292727 -0.441008 -1.314338  \n",
       "2   -0.359960    -0.292727 -0.441008 -1.314338  \n",
       "3   -0.359701    -0.292727 -0.441008 -1.314338  \n",
       "4   -0.359160    -0.292727 -0.441008 -1.314338  "
      ]
     },
     "execution_count": 216,
     "metadata": {},
     "output_type": "execute_result"
    }
   ],
   "source": [
    "x=pd.DataFrame(scaler.fit_transform(x),columns=x.columns)\n",
    "x.head()"
   ]
  },
  {
   "cell_type": "markdown",
   "id": "aefb37ea",
   "metadata": {},
   "source": [
    "# Outlier Removal using Z-score method"
   ]
  },
  {
   "cell_type": "code",
   "execution_count": 217,
   "id": "3269dac0",
   "metadata": {},
   "outputs": [
    {
     "name": "stdout",
     "output_type": "stream",
     "text": [
      "(array([ 398,  401,  409,  412,  412, 1016, 1017, 1059, 1182, 1182, 1182,\n",
      "       1182, 1182, 1182, 1182, 1182, 1183, 1183, 1183, 1183, 1183, 1183,\n",
      "       1183, 1184, 1184, 1184, 1184, 1184, 1184, 1184, 1184, 1185, 1185,\n",
      "       1185, 1185, 1185, 1185, 1185, 1186, 1186, 1186, 1186, 1186, 1186,\n",
      "       1186, 1187, 1187, 1187, 1187, 1187, 1187, 1187, 1187, 1188, 1188,\n",
      "       1188, 1188, 1188, 1188, 1188, 1189, 1189, 1189, 1189, 1189, 1189,\n",
      "       1189, 1189, 1190, 1190, 1190, 1190, 1190, 1190, 1190, 1190, 1191,\n",
      "       1191, 1191, 1191, 1191, 1191, 1191, 1191, 1192, 1192, 1192, 1192,\n",
      "       1192, 1192, 1192, 1193, 1193, 1193, 1193, 1193, 1193, 1193, 1194,\n",
      "       1194, 1194, 1194, 1194, 1194, 1194, 1195, 1195, 1195, 1195, 1195,\n",
      "       1195, 1195, 1195, 1196, 1196, 1196, 1196, 1196, 1196, 1196, 1197,\n",
      "       1197, 1197, 1197, 1197, 1197, 1197, 1198, 1198, 1198, 1198, 1198,\n",
      "       1198, 1198, 1198, 1199, 1199, 1199, 1199, 1199, 1199, 1199, 1200,\n",
      "       1200, 1200, 1200, 1200, 1200, 1200, 1201, 1201, 1201, 1201, 1201,\n",
      "       1201, 1201, 1202, 1202, 1202, 1202, 1202, 1202, 1202, 1202, 1203,\n",
      "       1203, 1203, 1203, 1203, 1203, 1203, 1204, 1204, 1204, 1204, 1204,\n",
      "       1204, 1204, 1205, 1205, 1205, 1205, 1205, 1205, 1205, 1206, 1206,\n",
      "       1206, 1206, 1206, 1206, 1206, 1207, 1208, 1209, 1210, 1212, 1213,\n",
      "       1215, 1216, 1217, 1218, 1222, 1450, 1451, 1452, 1453, 1454, 1455,\n",
      "       1456, 1457, 1459, 1460, 1461, 1462, 1463, 1464, 1465, 1466, 1467,\n",
      "       1468, 1469, 1470, 1471, 1472, 1473, 1474, 1475, 1476, 1477, 1478,\n",
      "       1479, 1480, 1481, 1483, 1483, 1484, 1495, 1496, 1496], dtype=int64), array([7, 7, 7, 3, 7, 7, 7, 6, 0, 1, 2, 3, 4, 5, 6, 7, 0, 1, 2, 3, 4, 5,\n",
      "       6, 0, 1, 2, 3, 4, 5, 6, 7, 0, 1, 2, 3, 4, 5, 6, 0, 1, 2, 3, 4, 5,\n",
      "       6, 0, 1, 2, 3, 4, 5, 6, 7, 0, 1, 2, 3, 4, 5, 6, 0, 1, 2, 3, 4, 5,\n",
      "       6, 7, 0, 1, 2, 3, 4, 5, 6, 7, 0, 1, 2, 3, 4, 5, 6, 7, 0, 1, 2, 3,\n",
      "       4, 5, 6, 0, 1, 2, 3, 4, 5, 6, 0, 1, 2, 3, 4, 5, 6, 0, 1, 2, 3, 4,\n",
      "       5, 6, 7, 0, 1, 2, 3, 4, 5, 6, 0, 1, 2, 3, 4, 5, 6, 0, 1, 2, 3, 4,\n",
      "       5, 6, 7, 0, 1, 2, 3, 4, 5, 6, 0, 1, 2, 3, 4, 5, 6, 0, 1, 2, 3, 4,\n",
      "       5, 6, 0, 1, 2, 3, 4, 5, 6, 7, 0, 1, 2, 3, 4, 5, 6, 0, 1, 2, 3, 4,\n",
      "       5, 6, 0, 1, 2, 3, 4, 5, 6, 0, 1, 2, 3, 4, 5, 6, 6, 6, 6, 6, 6, 6,\n",
      "       6, 6, 6, 6, 6, 7, 7, 7, 7, 7, 7, 7, 7, 7, 7, 7, 7, 7, 7, 7, 7, 7,\n",
      "       7, 7, 7, 7, 7, 7, 7, 7, 7, 7, 7, 7, 7, 7, 6, 7, 6, 5, 4, 5],\n",
      "      dtype=int64))\n"
     ]
    },
    {
     "data": {
      "text/plain": [
       "(1517, 11)"
      ]
     },
     "execution_count": 217,
     "metadata": {},
     "output_type": "execute_result"
    }
   ],
   "source": [
    "from scipy.stats import zscore\n",
    "z=np.abs(zscore(x))\n",
    "threshold=3 # taking thresold 3 & Checking outliers.\n",
    "print(np.where(z>3))\n",
    "df.shape"
   ]
  },
  {
   "cell_type": "code",
   "execution_count": 218,
   "id": "ba89fa19",
   "metadata": {},
   "outputs": [
    {
     "data": {
      "text/plain": [
       "(1517, 11)"
      ]
     },
     "execution_count": 218,
     "metadata": {},
     "output_type": "execute_result"
    }
   ],
   "source": [
    "df.shape  # Checking shape original dataset"
   ]
  },
  {
   "cell_type": "code",
   "execution_count": 219,
   "id": "693caeac",
   "metadata": {},
   "outputs": [
    {
     "name": "stdout",
     "output_type": "stream",
     "text": [
      "Data Loss is  5.1417270929466055 %\n"
     ]
    }
   ],
   "source": [
    "Data_loss=(1517-1439)*100/1517\n",
    "print ('Data Loss is ',Data_loss,'%')"
   ]
  },
  {
   "cell_type": "code",
   "execution_count": 220,
   "id": "b9170c6c",
   "metadata": {},
   "outputs": [
    {
     "data": {
      "text/html": [
       "<div>\n",
       "<style scoped>\n",
       "    .dataframe tbody tr th:only-of-type {\n",
       "        vertical-align: middle;\n",
       "    }\n",
       "\n",
       "    .dataframe tbody tr th {\n",
       "        vertical-align: top;\n",
       "    }\n",
       "\n",
       "    .dataframe thead th {\n",
       "        text-align: right;\n",
       "    }\n",
       "</style>\n",
       "<table border=\"1\" class=\"dataframe\">\n",
       "  <thead>\n",
       "    <tr style=\"text-align: right;\">\n",
       "      <th></th>\n",
       "      <th>AveragePrice</th>\n",
       "      <th>Total Volume</th>\n",
       "      <th>4046</th>\n",
       "      <th>4225</th>\n",
       "      <th>4770</th>\n",
       "      <th>Total Bags</th>\n",
       "      <th>Small Bags</th>\n",
       "      <th>Large Bags</th>\n",
       "      <th>XLarge Bags</th>\n",
       "      <th>year</th>\n",
       "      <th>region</th>\n",
       "    </tr>\n",
       "  </thead>\n",
       "  <tbody>\n",
       "    <tr>\n",
       "      <th>AveragePrice</th>\n",
       "      <td>1.000000</td>\n",
       "      <td>-0.140470</td>\n",
       "      <td>-0.190096</td>\n",
       "      <td>-0.092084</td>\n",
       "      <td>-0.100567</td>\n",
       "      <td>-0.111597</td>\n",
       "      <td>-0.097682</td>\n",
       "      <td>-0.177480</td>\n",
       "      <td>-0.048284</td>\n",
       "      <td>0.178683</td>\n",
       "      <td>-0.229408</td>\n",
       "    </tr>\n",
       "    <tr>\n",
       "      <th>Total Volume</th>\n",
       "      <td>-0.140470</td>\n",
       "      <td>1.000000</td>\n",
       "      <td>0.985568</td>\n",
       "      <td>0.987154</td>\n",
       "      <td>0.934347</td>\n",
       "      <td>0.967689</td>\n",
       "      <td>0.960642</td>\n",
       "      <td>0.910226</td>\n",
       "      <td>0.521717</td>\n",
       "      <td>-0.004189</td>\n",
       "      <td>0.236579</td>\n",
       "    </tr>\n",
       "    <tr>\n",
       "      <th>4046</th>\n",
       "      <td>-0.190096</td>\n",
       "      <td>0.985568</td>\n",
       "      <td>1.000000</td>\n",
       "      <td>0.951952</td>\n",
       "      <td>0.898570</td>\n",
       "      <td>0.930395</td>\n",
       "      <td>0.922278</td>\n",
       "      <td>0.884229</td>\n",
       "      <td>0.474063</td>\n",
       "      <td>-0.040439</td>\n",
       "      <td>0.269481</td>\n",
       "    </tr>\n",
       "    <tr>\n",
       "      <th>4225</th>\n",
       "      <td>-0.092084</td>\n",
       "      <td>0.987154</td>\n",
       "      <td>0.951952</td>\n",
       "      <td>1.000000</td>\n",
       "      <td>0.927757</td>\n",
       "      <td>0.951779</td>\n",
       "      <td>0.943988</td>\n",
       "      <td>0.900496</td>\n",
       "      <td>0.504718</td>\n",
       "      <td>-0.007254</td>\n",
       "      <td>0.215733</td>\n",
       "    </tr>\n",
       "    <tr>\n",
       "      <th>4770</th>\n",
       "      <td>-0.100567</td>\n",
       "      <td>0.934347</td>\n",
       "      <td>0.898570</td>\n",
       "      <td>0.927757</td>\n",
       "      <td>1.000000</td>\n",
       "      <td>0.926405</td>\n",
       "      <td>0.923607</td>\n",
       "      <td>0.840523</td>\n",
       "      <td>0.646053</td>\n",
       "      <td>0.029222</td>\n",
       "      <td>0.138092</td>\n",
       "    </tr>\n",
       "    <tr>\n",
       "      <th>Total Bags</th>\n",
       "      <td>-0.111597</td>\n",
       "      <td>0.967689</td>\n",
       "      <td>0.930395</td>\n",
       "      <td>0.951779</td>\n",
       "      <td>0.926405</td>\n",
       "      <td>1.000000</td>\n",
       "      <td>0.997341</td>\n",
       "      <td>0.911336</td>\n",
       "      <td>0.601856</td>\n",
       "      <td>0.090108</td>\n",
       "      <td>0.190001</td>\n",
       "    </tr>\n",
       "    <tr>\n",
       "      <th>Small Bags</th>\n",
       "      <td>-0.097682</td>\n",
       "      <td>0.960642</td>\n",
       "      <td>0.922278</td>\n",
       "      <td>0.943988</td>\n",
       "      <td>0.923607</td>\n",
       "      <td>0.997341</td>\n",
       "      <td>1.000000</td>\n",
       "      <td>0.879131</td>\n",
       "      <td>0.611300</td>\n",
       "      <td>0.106382</td>\n",
       "      <td>0.168650</td>\n",
       "    </tr>\n",
       "    <tr>\n",
       "      <th>Large Bags</th>\n",
       "      <td>-0.177480</td>\n",
       "      <td>0.910226</td>\n",
       "      <td>0.884229</td>\n",
       "      <td>0.900496</td>\n",
       "      <td>0.840523</td>\n",
       "      <td>0.911336</td>\n",
       "      <td>0.879131</td>\n",
       "      <td>1.000000</td>\n",
       "      <td>0.447779</td>\n",
       "      <td>-0.018678</td>\n",
       "      <td>0.297452</td>\n",
       "    </tr>\n",
       "    <tr>\n",
       "      <th>XLarge Bags</th>\n",
       "      <td>-0.048284</td>\n",
       "      <td>0.521717</td>\n",
       "      <td>0.474063</td>\n",
       "      <td>0.504718</td>\n",
       "      <td>0.646053</td>\n",
       "      <td>0.601856</td>\n",
       "      <td>0.611300</td>\n",
       "      <td>0.447779</td>\n",
       "      <td>1.000000</td>\n",
       "      <td>0.218342</td>\n",
       "      <td>-0.046144</td>\n",
       "    </tr>\n",
       "    <tr>\n",
       "      <th>year</th>\n",
       "      <td>0.178683</td>\n",
       "      <td>-0.004189</td>\n",
       "      <td>-0.040439</td>\n",
       "      <td>-0.007254</td>\n",
       "      <td>0.029222</td>\n",
       "      <td>0.090108</td>\n",
       "      <td>0.106382</td>\n",
       "      <td>-0.018678</td>\n",
       "      <td>0.218342</td>\n",
       "      <td>1.000000</td>\n",
       "      <td>-0.470472</td>\n",
       "    </tr>\n",
       "    <tr>\n",
       "      <th>region</th>\n",
       "      <td>-0.229408</td>\n",
       "      <td>0.236579</td>\n",
       "      <td>0.269481</td>\n",
       "      <td>0.215733</td>\n",
       "      <td>0.138092</td>\n",
       "      <td>0.190001</td>\n",
       "      <td>0.168650</td>\n",
       "      <td>0.297452</td>\n",
       "      <td>-0.046144</td>\n",
       "      <td>-0.470472</td>\n",
       "      <td>1.000000</td>\n",
       "    </tr>\n",
       "  </tbody>\n",
       "</table>\n",
       "</div>"
      ],
      "text/plain": [
       "              AveragePrice  Total Volume      4046      4225      4770  \\\n",
       "AveragePrice      1.000000     -0.140470 -0.190096 -0.092084 -0.100567   \n",
       "Total Volume     -0.140470      1.000000  0.985568  0.987154  0.934347   \n",
       "4046             -0.190096      0.985568  1.000000  0.951952  0.898570   \n",
       "4225             -0.092084      0.987154  0.951952  1.000000  0.927757   \n",
       "4770             -0.100567      0.934347  0.898570  0.927757  1.000000   \n",
       "Total Bags       -0.111597      0.967689  0.930395  0.951779  0.926405   \n",
       "Small Bags       -0.097682      0.960642  0.922278  0.943988  0.923607   \n",
       "Large Bags       -0.177480      0.910226  0.884229  0.900496  0.840523   \n",
       "XLarge Bags      -0.048284      0.521717  0.474063  0.504718  0.646053   \n",
       "year              0.178683     -0.004189 -0.040439 -0.007254  0.029222   \n",
       "region           -0.229408      0.236579  0.269481  0.215733  0.138092   \n",
       "\n",
       "              Total Bags  Small Bags  Large Bags  XLarge Bags      year  \\\n",
       "AveragePrice   -0.111597   -0.097682   -0.177480    -0.048284  0.178683   \n",
       "Total Volume    0.967689    0.960642    0.910226     0.521717 -0.004189   \n",
       "4046            0.930395    0.922278    0.884229     0.474063 -0.040439   \n",
       "4225            0.951779    0.943988    0.900496     0.504718 -0.007254   \n",
       "4770            0.926405    0.923607    0.840523     0.646053  0.029222   \n",
       "Total Bags      1.000000    0.997341    0.911336     0.601856  0.090108   \n",
       "Small Bags      0.997341    1.000000    0.879131     0.611300  0.106382   \n",
       "Large Bags      0.911336    0.879131    1.000000     0.447779 -0.018678   \n",
       "XLarge Bags     0.601856    0.611300    0.447779     1.000000  0.218342   \n",
       "year            0.090108    0.106382   -0.018678     0.218342  1.000000   \n",
       "region          0.190001    0.168650    0.297452    -0.046144 -0.470472   \n",
       "\n",
       "                region  \n",
       "AveragePrice -0.229408  \n",
       "Total Volume  0.236579  \n",
       "4046          0.269481  \n",
       "4225          0.215733  \n",
       "4770          0.138092  \n",
       "Total Bags    0.190001  \n",
       "Small Bags    0.168650  \n",
       "Large Bags    0.297452  \n",
       "XLarge Bags  -0.046144  \n",
       "year         -0.470472  \n",
       "region        1.000000  "
      ]
     },
     "execution_count": 220,
     "metadata": {},
     "output_type": "execute_result"
    }
   ],
   "source": [
    "df.corr() # Checking correlation of new dataset after outlier removal."
   ]
  },
  {
   "cell_type": "raw",
   "id": "81ffd20b",
   "metadata": {},
   "source": [
    " Now all the features has no correlation problem."
   ]
  },
  {
   "cell_type": "markdown",
   "id": "ba23d46d",
   "metadata": {},
   "source": [
    "# Train Test Split of New Data Set"
   ]
  },
  {
   "cell_type": "code",
   "execution_count": 221,
   "id": "54816ebf",
   "metadata": {},
   "outputs": [],
   "source": [
    "x=df.drop(['AveragePrice'],axis=1)  # SPlit the data set into x and y variable to predict the Average Price.\n",
    "y=df['AveragePrice']"
   ]
  },
  {
   "cell_type": "code",
   "execution_count": 222,
   "id": "411afe65",
   "metadata": {},
   "outputs": [],
   "source": [
    "from sklearn.model_selection import train_test_split # Import Train Test Split"
   ]
  },
  {
   "cell_type": "markdown",
   "id": "d4e5fe8e",
   "metadata": {},
   "source": [
    "# Load other Models to predict Average Price"
   ]
  },
  {
   "cell_type": "code",
   "execution_count": 223,
   "id": "01dca082",
   "metadata": {},
   "outputs": [],
   "source": [
    "from sklearn.metrics import accuracy_score,r2_score,mean_absolute_error,mean_squared_error\n",
    "from sklearn.linear_model import LinearRegression\n",
    "from sklearn.neighbors import KNeighborsRegressor\n",
    "from sklearn.tree import DecisionTreeRegressor\n",
    "from sklearn.model_selection import GridSearchCV"
   ]
  },
  {
   "cell_type": "markdown",
   "id": "5a860bda",
   "metadata": {},
   "source": [
    "# Model Building"
   ]
  },
  {
   "cell_type": "code",
   "execution_count": 224,
   "id": "5a24dc93",
   "metadata": {},
   "outputs": [
    {
     "name": "stdout",
     "output_type": "stream",
     "text": [
      "R2 Score correspond to random state 40 is 0.7027389416807521\n",
      "R2 Score correspond to random state 40 is 0.733410306462463\n",
      "R2 Score correspond to random state 40 is 0.198978363207868\n",
      "R2 Score correspond to random state 41 is 0.7207446383162475\n",
      "R2 Score correspond to random state 41 is 0.7303097861723735\n",
      "R2 Score correspond to random state 41 is 0.0989561630902881\n",
      "R2 Score correspond to random state 42 is 0.6947888750347363\n",
      "R2 Score correspond to random state 42 is 0.6883977764041445\n",
      "R2 Score correspond to random state 42 is 0.14676225659398412\n",
      "R2 Score correspond to random state 43 is 0.6842624238975401\n",
      "R2 Score correspond to random state 43 is 0.7792753084327009\n",
      "R2 Score correspond to random state 43 is 0.17157574144474574\n",
      "R2 Score correspond to random state 44 is 0.4114626624936808\n",
      "R2 Score correspond to random state 44 is 0.6803738900151723\n",
      "R2 Score correspond to random state 44 is 0.11429134129793728\n",
      "R2 Score correspond to random state 45 is 0.6000294063290266\n",
      "R2 Score correspond to random state 45 is 0.635001759589984\n",
      "R2 Score correspond to random state 45 is 0.12719403065873947\n",
      "R2 Score correspond to random state 46 is 0.6743104395320014\n",
      "R2 Score correspond to random state 46 is 0.7024475824943022\n",
      "R2 Score correspond to random state 46 is 0.21128683495619338\n",
      "R2 Score correspond to random state 47 is 0.5923428216164872\n",
      "R2 Score correspond to random state 47 is 0.7593107666760653\n",
      "R2 Score correspond to random state 47 is 0.1823309718093894\n",
      "R2 Score correspond to random state 48 is 0.53178541792218\n",
      "R2 Score correspond to random state 48 is 0.7264055758943332\n",
      "R2 Score correspond to random state 48 is 0.10232497045949218\n",
      "R2 Score correspond to random state 49 is 0.7354933019210463\n",
      "R2 Score correspond to random state 49 is 0.7610292279386155\n",
      "R2 Score correspond to random state 49 is 0.15795408047448967\n",
      "R2 Score correspond to random state 50 is 0.6427278378976821\n",
      "R2 Score correspond to random state 50 is 0.6862885058211241\n",
      "R2 Score correspond to random state 50 is 0.12520106033301437\n",
      "R2 Score correspond to random state 51 is 0.6350048224755787\n",
      "R2 Score correspond to random state 51 is 0.7429616820665798\n",
      "R2 Score correspond to random state 51 is 0.20119081630213054\n",
      "R2 Score correspond to random state 52 is 0.6624097064234842\n",
      "R2 Score correspond to random state 52 is 0.7342458653535804\n",
      "R2 Score correspond to random state 52 is 0.20436487351459454\n",
      "R2 Score correspond to random state 53 is 0.6379250012907075\n",
      "R2 Score correspond to random state 53 is 0.6942863381959542\n",
      "R2 Score correspond to random state 53 is 0.17152647768812734\n",
      "R2 Score correspond to random state 54 is 0.6646236138868303\n",
      "R2 Score correspond to random state 54 is 0.7178620547682167\n",
      "R2 Score correspond to random state 54 is 0.18966244805466925\n",
      "R2 Score correspond to random state 55 is 0.6391984943385438\n",
      "R2 Score correspond to random state 55 is 0.7725030827659862\n",
      "R2 Score correspond to random state 55 is 0.22142256773613578\n",
      "R2 Score correspond to random state 56 is 0.46345815982064464\n",
      "R2 Score correspond to random state 56 is 0.6711504544719729\n",
      "R2 Score correspond to random state 56 is 0.07708550029832995\n",
      "R2 Score correspond to random state 57 is 0.7135057468414931\n",
      "R2 Score correspond to random state 57 is 0.7240548277732439\n",
      "R2 Score correspond to random state 57 is 0.1700586238050471\n",
      "R2 Score correspond to random state 58 is 0.6216312946107854\n",
      "R2 Score correspond to random state 58 is 0.7307111104109749\n",
      "R2 Score correspond to random state 58 is 0.13078604456993004\n",
      "R2 Score correspond to random state 59 is 0.6635131246923032\n",
      "R2 Score correspond to random state 59 is 0.6890770847598199\n",
      "R2 Score correspond to random state 59 is 0.19253070580604192\n",
      "R2 Score correspond to random state 60 is 0.6760687574513552\n",
      "R2 Score correspond to random state 60 is 0.7444091588457438\n",
      "R2 Score correspond to random state 60 is 0.1888401452463243\n",
      "R2 Score correspond to random state 61 is 0.6174509515258733\n",
      "R2 Score correspond to random state 61 is 0.6587317288371595\n",
      "R2 Score correspond to random state 61 is 0.17608277702401742\n",
      "R2 Score correspond to random state 62 is 0.669725956098683\n",
      "R2 Score correspond to random state 62 is 0.6726977345821088\n",
      "R2 Score correspond to random state 62 is 0.17304664570718897\n",
      "R2 Score correspond to random state 63 is 0.729201121267679\n",
      "R2 Score correspond to random state 63 is 0.7370958546727377\n",
      "R2 Score correspond to random state 63 is 0.15180641738492706\n",
      "R2 Score correspond to random state 64 is 0.5707026749800752\n",
      "R2 Score correspond to random state 64 is 0.7326606633585142\n",
      "R2 Score correspond to random state 64 is 0.11571776406450551\n",
      "R2 Score correspond to random state 65 is 0.6010515934954606\n",
      "R2 Score correspond to random state 65 is 0.6915957674386726\n",
      "R2 Score correspond to random state 65 is 0.1785601175422944\n",
      "R2 Score correspond to random state 66 is 0.6782700498956673\n",
      "R2 Score correspond to random state 66 is 0.7380084663470734\n",
      "R2 Score correspond to random state 66 is 0.15256005547274665\n",
      "R2 Score correspond to random state 67 is 0.6249281267946702\n",
      "R2 Score correspond to random state 67 is 0.7436312143275192\n",
      "R2 Score correspond to random state 67 is 0.17500833070156896\n",
      "R2 Score correspond to random state 68 is 0.7369215452277889\n",
      "R2 Score correspond to random state 68 is 0.7396589265543625\n",
      "R2 Score correspond to random state 68 is 0.15613825533419934\n",
      "R2 Score correspond to random state 69 is 0.680866576706358\n",
      "R2 Score correspond to random state 69 is 0.6671055593613531\n",
      "R2 Score correspond to random state 69 is 0.0918257335680015\n",
      "R2 Score correspond to random state 70 is 0.6759999181219289\n",
      "R2 Score correspond to random state 70 is 0.6939938340924199\n",
      "R2 Score correspond to random state 70 is 0.1677832348028404\n",
      "R2 Score correspond to random state 71 is 0.5495873118956297\n",
      "R2 Score correspond to random state 71 is 0.6827288287426159\n",
      "R2 Score correspond to random state 71 is 0.17300915817785345\n",
      "R2 Score correspond to random state 72 is 0.5880529324095629\n",
      "R2 Score correspond to random state 72 is 0.7115024639097207\n",
      "R2 Score correspond to random state 72 is 0.08937906787732186\n",
      "R2 Score correspond to random state 73 is 0.5252198347569585\n",
      "R2 Score correspond to random state 73 is 0.7333125498035815\n",
      "R2 Score correspond to random state 73 is 0.149462633255794\n",
      "R2 Score correspond to random state 74 is 0.7562255363804185\n",
      "R2 Score correspond to random state 74 is 0.6997313707951625\n",
      "R2 Score correspond to random state 74 is 0.16925858668317495\n",
      "R2 Score correspond to random state 75 is 0.5880654717517642\n",
      "R2 Score correspond to random state 75 is 0.7355842437590032\n",
      "R2 Score correspond to random state 75 is 0.13981224985378615\n",
      "R2 Score correspond to random state 76 is 0.6873847376808\n",
      "R2 Score correspond to random state 76 is 0.718289436440601\n",
      "R2 Score correspond to random state 76 is 0.14803622600454291\n",
      "R2 Score correspond to random state 77 is 0.7247592653046863\n",
      "R2 Score correspond to random state 77 is 0.7077488292324704\n",
      "R2 Score correspond to random state 77 is 0.14716298095488867\n",
      "R2 Score correspond to random state 78 is 0.6836333079413841\n",
      "R2 Score correspond to random state 78 is 0.6911048589994679\n",
      "R2 Score correspond to random state 78 is 0.13432391177847158\n",
      "R2 Score correspond to random state 79 is 0.6110679515330051\n",
      "R2 Score correspond to random state 79 is 0.753930190888853\n",
      "R2 Score correspond to random state 79 is 0.18136248002374078\n",
      "R2 Score correspond to random state 80 is 0.6464399813460981\n",
      "R2 Score correspond to random state 80 is 0.6811859474019251\n",
      "R2 Score correspond to random state 80 is 0.19444047376075702\n",
      "R2 Score correspond to random state 81 is 0.6514141668313154\n",
      "R2 Score correspond to random state 81 is 0.7075305170111361\n",
      "R2 Score correspond to random state 81 is 0.12221571344966409\n",
      "R2 Score correspond to random state 82 is 0.6360226077729685\n",
      "R2 Score correspond to random state 82 is 0.7620686725704333\n",
      "R2 Score correspond to random state 82 is 0.18988614418112926\n",
      "R2 Score correspond to random state 83 is 0.5948714585533679\n",
      "R2 Score correspond to random state 83 is 0.7275798413043855\n",
      "R2 Score correspond to random state 83 is 0.09709743989502495\n",
      "R2 Score correspond to random state 84 is 0.7322853026700488\n",
      "R2 Score correspond to random state 84 is 0.7561616672659804\n",
      "R2 Score correspond to random state 84 is 0.19728619252889112\n",
      "R2 Score correspond to random state 85 is 0.7086019798116174\n",
      "R2 Score correspond to random state 85 is 0.7191094243491964\n",
      "R2 Score correspond to random state 85 is 0.11600358671830246\n",
      "R2 Score correspond to random state 86 is 0.5639894607476112\n",
      "R2 Score correspond to random state 86 is 0.6807707100144382\n",
      "R2 Score correspond to random state 86 is 0.15407809920551319\n",
      "R2 Score correspond to random state 87 is 0.7383000021084526\n",
      "R2 Score correspond to random state 87 is 0.7798822964782394\n",
      "R2 Score correspond to random state 87 is 0.15595613686570964\n",
      "R2 Score correspond to random state 88 is 0.6315129729063105\n",
      "R2 Score correspond to random state 88 is 0.7236262347310799\n",
      "R2 Score correspond to random state 88 is 0.2147794272623499\n",
      "R2 Score correspond to random state 89 is 0.6581191022345037\n",
      "R2 Score correspond to random state 89 is 0.7662534367037286\n",
      "R2 Score correspond to random state 89 is 0.1632317325495929\n",
      "\n",
      "\n",
      "\n",
      "\n",
      "max R2 Score correspond to random state 87 is 0.7798822964782394 and model is KNeighborsRegressor()\n"
     ]
    }
   ],
   "source": [
    "model=[DecisionTreeRegressor(),KNeighborsRegressor(),LinearRegression()]\n",
    "max_r2_score=0\n",
    "for r_state in range (40,90):\n",
    "    x_train,x_test,y_train,y_test=train_test_split(x,y,random_state=r_state,test_size=.25)\n",
    "    for i in model:\n",
    "        i.fit(x_train,y_train)\n",
    "        pre=i.predict(x_test)\n",
    "        r2_sc=r2_score(y_test,pre)\n",
    "        print('R2 Score correspond to random state',r_state,'is',r2_sc)\n",
    "        if r2_sc> max_r2_score:\n",
    "            max_r2_score=r2_sc\n",
    "            final_state=r_state\n",
    "            final_model=i\n",
    "            \n",
    "print()\n",
    "print()\n",
    "print()\n",
    "print()\n",
    "print('max R2 Score correspond to random state',final_state, 'is',max_r2_score,'and model is',final_model)\n",
    "            "
   ]
  },
  {
   "cell_type": "code",
   "execution_count": 225,
   "id": "bc277929",
   "metadata": {},
   "outputs": [
    {
     "data": {
      "text/plain": [
       "{'n_neighbors': 2}"
      ]
     },
     "execution_count": 225,
     "metadata": {},
     "output_type": "execute_result"
    }
   ],
   "source": [
    "# Checking the best parameter for prediction of KNeighborsRegressor algorithm using Grid Search CV.\n",
    "x_train,x_test,y_train,y_test=train_test_split(x,y,random_state=87,test_size=0.25)\n",
    "KN=KNeighborsRegressor()\n",
    "parameters={'n_neighbors':range(1,30)}\n",
    "gridsearch=GridSearchCV(KN,parameters)\n",
    "gridsearch.fit(x_train,y_train)\n",
    "gridsearch.best_params_"
   ]
  },
  {
   "cell_type": "code",
   "execution_count": 226,
   "id": "f7465bad",
   "metadata": {},
   "outputs": [
    {
     "name": "stdout",
     "output_type": "stream",
     "text": [
      "R2 Score: 76.85141986873914\n"
     ]
    }
   ],
   "source": [
    "KNN=KNeighborsRegressor(n_neighbors=2) # Predict the Score\n",
    "KNN.fit(x_train,y_train)\n",
    "pred=KNN.predict(x_test)\n",
    "r2_sc=r2_score(y_test,pred)\n",
    "print('R2 Score:',r2_sc*100)"
   ]
  },
  {
   "cell_type": "code",
   "execution_count": 227,
   "id": "b4b3f832",
   "metadata": {},
   "outputs": [
    {
     "name": "stdout",
     "output_type": "stream",
     "text": [
      "Mean_Absolute_error 0.06464473684210527\n",
      "Mean_Squared_error 0.009024934210526315\n",
      "Root Mean_absolute_error 0.09499965373898114\n"
     ]
    }
   ],
   "source": [
    "print('Mean_Absolute_error',mean_absolute_error(y_test,pred))\n",
    "print('Mean_Squared_error',mean_squared_error(y_test,pred))\n",
    "print('Root Mean_absolute_error',np.sqrt(mean_squared_error(y_test,pred)))"
   ]
  },
  {
   "cell_type": "code",
   "execution_count": 228,
   "id": "1b7f4d03",
   "metadata": {},
   "outputs": [
    {
     "data": {
      "text/plain": [
       "Text(0.5, 1.0, 'Average Price (Actual Vs Predcited)')"
      ]
     },
     "execution_count": 228,
     "metadata": {},
     "output_type": "execute_result"
    },
    {
     "data": {
      "image/png": "[encoded data removed]",
      "text/plain": [
       "<Figure size 432x288 with 1 Axes>"
      ]
     },
     "metadata": {
      "needs_background": "light"
     },
     "output_type": "display_data"
    }
   ],
   "source": [
    "# Checking the diff between Actual and Predicted Score using Graph\n",
    "plt.scatter(x=y_test,y=pred)\n",
    "plt.xlabel('Y_test',fontsize=12)\n",
    "plt.ylabel('Predicted_Y',fontsize=12)\n",
    "plt.title('Average Price (Actual Vs Predcited)', fontsize=16)"
   ]
  },
  {
   "cell_type": "markdown",
   "id": "7bcb20be",
   "metadata": {},
   "source": [
    "Observation:we can see that the actual value and predicted values are very close to each other, so the line is best fit line."
   ]
  },
  {
   "cell_type": "markdown",
   "id": "9e0593a5",
   "metadata": {},
   "source": [
    "# Prediction with Region (By Classification Model)"
   ]
  },
  {
   "cell_type": "code",
   "execution_count": 229,
   "id": "b3b04030",
   "metadata": {},
   "outputs": [],
   "source": [
    "# Importing library for Classification Model\n",
    "from sklearn.metrics import accuracy_score, classification_report,confusion_matrix,roc_auc_score,roc_curve\n",
    "from sklearn.linear_model import LogisticRegression\n",
    "from sklearn.neighbors import KNeighborsClassifier\n",
    "from sklearn.svm import SVC\n",
    "from sklearn.tree import DecisionTreeClassifier\n",
    "from sklearn.ensemble import GradientBoostingClassifier\n"
   ]
  },
  {
   "cell_type": "code",
   "execution_count": 230,
   "id": "1f676b8e",
   "metadata": {},
   "outputs": [
    {
     "data": {
      "text/html": [
       "<div>\n",
       "<style scoped>\n",
       "    .dataframe tbody tr th:only-of-type {\n",
       "        vertical-align: middle;\n",
       "    }\n",
       "\n",
       "    .dataframe tbody tr th {\n",
       "        vertical-align: top;\n",
       "    }\n",
       "\n",
       "    .dataframe thead th {\n",
       "        text-align: right;\n",
       "    }\n",
       "</style>\n",
       "<table border=\"1\" class=\"dataframe\">\n",
       "  <thead>\n",
       "    <tr style=\"text-align: right;\">\n",
       "      <th></th>\n",
       "      <th>AveragePrice</th>\n",
       "      <th>Total Volume</th>\n",
       "      <th>4046</th>\n",
       "      <th>4225</th>\n",
       "      <th>4770</th>\n",
       "      <th>Total Bags</th>\n",
       "      <th>Small Bags</th>\n",
       "      <th>Large Bags</th>\n",
       "      <th>XLarge Bags</th>\n",
       "      <th>year</th>\n",
       "      <th>region</th>\n",
       "    </tr>\n",
       "  </thead>\n",
       "  <tbody>\n",
       "    <tr>\n",
       "      <th>0</th>\n",
       "      <td>1.33</td>\n",
       "      <td>64236.62</td>\n",
       "      <td>1036.74</td>\n",
       "      <td>54454.85</td>\n",
       "      <td>48.16</td>\n",
       "      <td>8696.87</td>\n",
       "      <td>8603.62</td>\n",
       "      <td>93.25</td>\n",
       "      <td>0.00</td>\n",
       "      <td>2015.0</td>\n",
       "      <td>0</td>\n",
       "    </tr>\n",
       "    <tr>\n",
       "      <th>1</th>\n",
       "      <td>1.35</td>\n",
       "      <td>54876.98</td>\n",
       "      <td>674.28</td>\n",
       "      <td>44638.81</td>\n",
       "      <td>58.33</td>\n",
       "      <td>9505.56</td>\n",
       "      <td>9408.07</td>\n",
       "      <td>97.49</td>\n",
       "      <td>0.00</td>\n",
       "      <td>2015.0</td>\n",
       "      <td>0</td>\n",
       "    </tr>\n",
       "    <tr>\n",
       "      <th>2</th>\n",
       "      <td>0.93</td>\n",
       "      <td>118220.22</td>\n",
       "      <td>794.70</td>\n",
       "      <td>109149.67</td>\n",
       "      <td>130.50</td>\n",
       "      <td>8145.35</td>\n",
       "      <td>8042.21</td>\n",
       "      <td>103.14</td>\n",
       "      <td>0.00</td>\n",
       "      <td>2015.0</td>\n",
       "      <td>0</td>\n",
       "    </tr>\n",
       "    <tr>\n",
       "      <th>3</th>\n",
       "      <td>1.08</td>\n",
       "      <td>78992.15</td>\n",
       "      <td>1132.00</td>\n",
       "      <td>71976.41</td>\n",
       "      <td>72.58</td>\n",
       "      <td>5811.16</td>\n",
       "      <td>5677.40</td>\n",
       "      <td>133.76</td>\n",
       "      <td>0.00</td>\n",
       "      <td>2015.0</td>\n",
       "      <td>0</td>\n",
       "    </tr>\n",
       "    <tr>\n",
       "      <th>4</th>\n",
       "      <td>1.28</td>\n",
       "      <td>51039.60</td>\n",
       "      <td>941.48</td>\n",
       "      <td>43838.39</td>\n",
       "      <td>75.78</td>\n",
       "      <td>6183.95</td>\n",
       "      <td>5986.26</td>\n",
       "      <td>197.69</td>\n",
       "      <td>0.00</td>\n",
       "      <td>2015.0</td>\n",
       "      <td>0</td>\n",
       "    </tr>\n",
       "    <tr>\n",
       "      <th>...</th>\n",
       "      <td>...</td>\n",
       "      <td>...</td>\n",
       "      <td>...</td>\n",
       "      <td>...</td>\n",
       "      <td>...</td>\n",
       "      <td>...</td>\n",
       "      <td>...</td>\n",
       "      <td>...</td>\n",
       "      <td>...</td>\n",
       "      <td>...</td>\n",
       "      <td>...</td>\n",
       "    </tr>\n",
       "    <tr>\n",
       "      <th>1512</th>\n",
       "      <td>1.39</td>\n",
       "      <td>190846.01</td>\n",
       "      <td>57529.11</td>\n",
       "      <td>56366.66</td>\n",
       "      <td>17531.78</td>\n",
       "      <td>59418.46</td>\n",
       "      <td>48823.53</td>\n",
       "      <td>10354.65</td>\n",
       "      <td>240.28</td>\n",
       "      <td>2016.0</td>\n",
       "      <td>7</td>\n",
       "    </tr>\n",
       "    <tr>\n",
       "      <th>1513</th>\n",
       "      <td>1.51</td>\n",
       "      <td>178235.75</td>\n",
       "      <td>43325.87</td>\n",
       "      <td>52189.61</td>\n",
       "      <td>19419.57</td>\n",
       "      <td>63300.70</td>\n",
       "      <td>54704.14</td>\n",
       "      <td>8596.56</td>\n",
       "      <td>0.00</td>\n",
       "      <td>2016.0</td>\n",
       "      <td>7</td>\n",
       "    </tr>\n",
       "    <tr>\n",
       "      <th>1514</th>\n",
       "      <td>1.48</td>\n",
       "      <td>178410.82</td>\n",
       "      <td>46364.75</td>\n",
       "      <td>52893.38</td>\n",
       "      <td>16736.92</td>\n",
       "      <td>62415.77</td>\n",
       "      <td>53332.61</td>\n",
       "      <td>8258.16</td>\n",
       "      <td>825.00</td>\n",
       "      <td>2016.0</td>\n",
       "      <td>7</td>\n",
       "    </tr>\n",
       "    <tr>\n",
       "      <th>1515</th>\n",
       "      <td>1.47</td>\n",
       "      <td>189131.52</td>\n",
       "      <td>54110.79</td>\n",
       "      <td>53593.58</td>\n",
       "      <td>17495.42</td>\n",
       "      <td>63931.73</td>\n",
       "      <td>55653.47</td>\n",
       "      <td>8278.26</td>\n",
       "      <td>0.00</td>\n",
       "      <td>2016.0</td>\n",
       "      <td>7</td>\n",
       "    </tr>\n",
       "    <tr>\n",
       "      <th>1516</th>\n",
       "      <td>1.43</td>\n",
       "      <td>182978.30</td>\n",
       "      <td>43116.41</td>\n",
       "      <td>54193.42</td>\n",
       "      <td>16563.91</td>\n",
       "      <td>69104.56</td>\n",
       "      <td>57456.21</td>\n",
       "      <td>11648.35</td>\n",
       "      <td>0.00</td>\n",
       "      <td>2016.0</td>\n",
       "      <td>7</td>\n",
       "    </tr>\n",
       "  </tbody>\n",
       "</table>\n",
       "<p>1517 rows × 11 columns</p>\n",
       "</div>"
      ],
      "text/plain": [
       "      AveragePrice  Total Volume      4046       4225      4770  Total Bags  \\\n",
       "0             1.33      64236.62   1036.74   54454.85     48.16     8696.87   \n",
       "1             1.35      54876.98    674.28   44638.81     58.33     9505.56   \n",
       "2             0.93     118220.22    794.70  109149.67    130.50     8145.35   \n",
       "3             1.08      78992.15   1132.00   71976.41     72.58     5811.16   \n",
       "4             1.28      51039.60    941.48   43838.39     75.78     6183.95   \n",
       "...            ...           ...       ...        ...       ...         ...   \n",
       "1512          1.39     190846.01  57529.11   56366.66  17531.78    59418.46   \n",
       "1513          1.51     178235.75  43325.87   52189.61  19419.57    63300.70   \n",
       "1514          1.48     178410.82  46364.75   52893.38  16736.92    62415.77   \n",
       "1515          1.47     189131.52  54110.79   53593.58  17495.42    63931.73   \n",
       "1516          1.43     182978.30  43116.41   54193.42  16563.91    69104.56   \n",
       "\n",
       "      Small Bags  Large Bags  XLarge Bags    year  region  \n",
       "0        8603.62       93.25         0.00  2015.0       0  \n",
       "1        9408.07       97.49         0.00  2015.0       0  \n",
       "2        8042.21      103.14         0.00  2015.0       0  \n",
       "3        5677.40      133.76         0.00  2015.0       0  \n",
       "4        5986.26      197.69         0.00  2015.0       0  \n",
       "...          ...         ...          ...     ...     ...  \n",
       "1512    48823.53    10354.65       240.28  2016.0       7  \n",
       "1513    54704.14     8596.56         0.00  2016.0       7  \n",
       "1514    53332.61     8258.16       825.00  2016.0       7  \n",
       "1515    55653.47     8278.26         0.00  2016.0       7  \n",
       "1516    57456.21    11648.35         0.00  2016.0       7  \n",
       "\n",
       "[1517 rows x 11 columns]"
      ]
     },
     "execution_count": 230,
     "metadata": {},
     "output_type": "execute_result"
    }
   ],
   "source": [
    "df"
   ]
  },
  {
   "cell_type": "code",
   "execution_count": 231,
   "id": "60f966c4",
   "metadata": {},
   "outputs": [],
   "source": [
    "# split the dataframe into x and y considering region as target variable.\n",
    "x_c=df.drop(['region'],axis=1)\n",
    "y_c=df['region']"
   ]
  },
  {
   "cell_type": "code",
   "execution_count": 237,
   "id": "c904d0b5",
   "metadata": {},
   "outputs": [
    {
     "data": {
      "text/plain": [
       "(1517, 10)"
      ]
     },
     "execution_count": 237,
     "metadata": {},
     "output_type": "execute_result"
    }
   ],
   "source": [
    "x_c.shape"
   ]
  },
  {
   "cell_type": "code",
   "execution_count": 238,
   "id": "c7646c53",
   "metadata": {},
   "outputs": [
    {
     "data": {
      "text/plain": [
       "(1517,)"
      ]
     },
     "execution_count": 238,
     "metadata": {},
     "output_type": "execute_result"
    }
   ],
   "source": [
    "y_c.shape"
   ]
  },
  {
   "cell_type": "code",
   "execution_count": 236,
   "id": "1445cab3",
   "metadata": {},
   "outputs": [
    {
     "data": {
      "text/plain": [
       "array([[ 1.35048079, -0.34696593, -0.33149016, ..., -0.36004386,\n",
       "        -0.29272731, -0.44100815],\n",
       "       [ 1.45639674, -0.34907791, -0.33167633, ..., -0.36000798,\n",
       "        -0.29272731, -0.44100815],\n",
       "       [-0.76783831, -0.33478463, -0.33161448, ..., -0.35996017,\n",
       "        -0.29272731, -0.44100815],\n",
       "       ...,\n",
       "       [ 2.14485045, -0.32120275, -0.30820887, ..., -0.29095317,\n",
       "        -0.1820374 ,  2.26753179],\n",
       "       [ 2.09189247, -0.31878364, -0.30423037, ..., -0.29078309,\n",
       "        -0.29272731,  2.26753179],\n",
       "       [ 1.88006056, -0.3201721 , -0.30987728, ..., -0.26226571,\n",
       "        -0.29272731,  2.26753179]])"
      ]
     },
     "execution_count": 236,
     "metadata": {},
     "output_type": "execute_result"
    }
   ],
   "source": [
    "# standardize of features :\n",
    "scaler.fit_transform(x_c)\n"
   ]
  },
  {
   "cell_type": "markdown",
   "id": "4a6a1b51",
   "metadata": {},
   "source": [
    "# Model Building"
   ]
  },
  {
   "cell_type": "code",
   "execution_count": 254,
   "id": "4a671197",
   "metadata": {},
   "outputs": [
    {
     "name": "stdout",
     "output_type": "stream",
     "text": [
      "Accuracy Score correspond to random state 40 is 0.8368421052631579\n",
      "Accuracy Score correspond to random state 40 is 0.8842105263157894\n",
      "Accuracy Score correspond to random state 41 is 0.8210526315789474\n",
      "Accuracy Score correspond to random state 41 is 0.8394736842105263\n",
      "Accuracy Score correspond to random state 42 is 0.8131578947368421\n",
      "Accuracy Score correspond to random state 42 is 0.8315789473684211\n",
      "Accuracy Score correspond to random state 43 is 0.85\n",
      "Accuracy Score correspond to random state 43 is 0.9\n",
      "Accuracy Score correspond to random state 44 is 0.8026315789473685\n",
      "Accuracy Score correspond to random state 44 is 0.8631578947368421\n",
      "Accuracy Score correspond to random state 45 is 0.7973684210526316\n",
      "Accuracy Score correspond to random state 45 is 0.8605263157894737\n",
      "Accuracy Score correspond to random state 46 is 0.7789473684210526\n",
      "Accuracy Score correspond to random state 46 is 0.8789473684210526\n",
      "Accuracy Score correspond to random state 47 is 0.8447368421052631\n",
      "Accuracy Score correspond to random state 47 is 0.8605263157894737\n",
      "Accuracy Score correspond to random state 48 is 0.8026315789473685\n",
      "Accuracy Score correspond to random state 48 is 0.8894736842105263\n",
      "Accuracy Score correspond to random state 49 is 0.8105263157894737\n",
      "Accuracy Score correspond to random state 49 is 0.8973684210526316\n",
      "Accuracy Score correspond to random state 50 is 0.8078947368421052\n",
      "Accuracy Score correspond to random state 50 is 0.8868421052631579\n",
      "Accuracy Score correspond to random state 51 is 0.8026315789473685\n",
      "Accuracy Score correspond to random state 51 is 0.8842105263157894\n",
      "Accuracy Score correspond to random state 52 is 0.8052631578947368\n",
      "Accuracy Score correspond to random state 52 is 0.8578947368421053\n",
      "Accuracy Score correspond to random state 53 is 0.7921052631578948\n",
      "Accuracy Score correspond to random state 53 is 0.881578947368421\n",
      "Accuracy Score correspond to random state 54 is 0.8236842105263158\n",
      "Accuracy Score correspond to random state 54 is 0.8447368421052631\n",
      "Accuracy Score correspond to random state 55 is 0.8421052631578947\n",
      "Accuracy Score correspond to random state 55 is 0.8710526315789474\n",
      "Accuracy Score correspond to random state 56 is 0.8157894736842105\n",
      "Accuracy Score correspond to random state 56 is 0.8763157894736842\n",
      "Accuracy Score correspond to random state 57 is 0.8105263157894737\n",
      "Accuracy Score correspond to random state 57 is 0.8631578947368421\n",
      "Accuracy Score correspond to random state 58 is 0.8052631578947368\n",
      "Accuracy Score correspond to random state 58 is 0.8789473684210526\n",
      "Accuracy Score correspond to random state 59 is 0.8289473684210527\n",
      "Accuracy Score correspond to random state 59 is 0.8868421052631579\n",
      "Accuracy Score correspond to random state 60 is 0.8368421052631579\n",
      "Accuracy Score correspond to random state 60 is 0.8973684210526316\n",
      "Accuracy Score correspond to random state 61 is 0.7657894736842106\n",
      "Accuracy Score correspond to random state 61 is 0.8421052631578947\n",
      "Accuracy Score correspond to random state 62 is 0.8131578947368421\n",
      "Accuracy Score correspond to random state 62 is 0.8894736842105263\n",
      "Accuracy Score correspond to random state 63 is 0.8342105263157895\n",
      "Accuracy Score correspond to random state 63 is 0.8921052631578947\n",
      "Accuracy Score correspond to random state 64 is 0.85\n",
      "Accuracy Score correspond to random state 64 is 0.8842105263157894\n",
      "Accuracy Score correspond to random state 65 is 0.8342105263157895\n",
      "Accuracy Score correspond to random state 65 is 0.8789473684210526\n",
      "Accuracy Score correspond to random state 66 is 0.8263157894736842\n",
      "Accuracy Score correspond to random state 66 is 0.8842105263157894\n",
      "Accuracy Score correspond to random state 67 is 0.8184210526315789\n",
      "Accuracy Score correspond to random state 67 is 0.8973684210526316\n",
      "Accuracy Score correspond to random state 68 is 0.8263157894736842\n",
      "Accuracy Score correspond to random state 68 is 0.8789473684210526\n",
      "Accuracy Score correspond to random state 69 is 0.8394736842105263\n",
      "Accuracy Score correspond to random state 69 is 0.9026315789473685\n",
      "Accuracy Score correspond to random state 70 is 0.8078947368421052\n",
      "Accuracy Score correspond to random state 70 is 0.8315789473684211\n",
      "Accuracy Score correspond to random state 71 is 0.8026315789473685\n",
      "Accuracy Score correspond to random state 71 is 0.8736842105263158\n",
      "Accuracy Score correspond to random state 72 is 0.7973684210526316\n",
      "Accuracy Score correspond to random state 72 is 0.8710526315789474\n",
      "Accuracy Score correspond to random state 73 is 0.7710526315789473\n",
      "Accuracy Score correspond to random state 73 is 0.8526315789473684\n",
      "Accuracy Score correspond to random state 74 is 0.8078947368421052\n",
      "Accuracy Score correspond to random state 74 is 0.8710526315789474\n",
      "Accuracy Score correspond to random state 75 is 0.7842105263157895\n",
      "Accuracy Score correspond to random state 75 is 0.881578947368421\n",
      "Accuracy Score correspond to random state 76 is 0.8315789473684211\n",
      "Accuracy Score correspond to random state 76 is 0.9236842105263158\n",
      "Accuracy Score correspond to random state 77 is 0.8236842105263158\n",
      "Accuracy Score correspond to random state 77 is 0.85\n",
      "Accuracy Score correspond to random state 78 is 0.8105263157894737\n",
      "Accuracy Score correspond to random state 78 is 0.8789473684210526\n",
      "Accuracy Score correspond to random state 79 is 0.8026315789473685\n",
      "Accuracy Score correspond to random state 79 is 0.8631578947368421\n",
      "Accuracy Score correspond to random state 80 is 0.8184210526315789\n",
      "Accuracy Score correspond to random state 80 is 0.8947368421052632\n",
      "Accuracy Score correspond to random state 81 is 0.8078947368421052\n",
      "Accuracy Score correspond to random state 81 is 0.8657894736842106\n",
      "Accuracy Score correspond to random state 82 is 0.7921052631578948\n",
      "Accuracy Score correspond to random state 82 is 0.8289473684210527\n",
      "Accuracy Score correspond to random state 83 is 0.8131578947368421\n",
      "Accuracy Score correspond to random state 83 is 0.8789473684210526\n",
      "Accuracy Score correspond to random state 84 is 0.8157894736842105\n",
      "Accuracy Score correspond to random state 84 is 0.881578947368421\n",
      "Accuracy Score correspond to random state 85 is 0.8263157894736842\n",
      "Accuracy Score correspond to random state 85 is 0.8789473684210526\n",
      "Accuracy Score correspond to random state 86 is 0.8052631578947368\n",
      "Accuracy Score correspond to random state 86 is 0.8868421052631579\n",
      "Accuracy Score correspond to random state 87 is 0.8210526315789474\n",
      "Accuracy Score correspond to random state 87 is 0.868421052631579\n",
      "Accuracy Score correspond to random state 88 is 0.8052631578947368\n",
      "Accuracy Score correspond to random state 88 is 0.8973684210526316\n",
      "Accuracy Score correspond to random state 89 is 0.8210526315789474\n",
      "Accuracy Score correspond to random state 89 is 0.8578947368421053\n",
      "\n",
      "\n",
      "\n",
      "\n",
      "max Accuracy Score correspond to random state 76 is 0.9236842105263158 and model is DecisionTreeClassifier()\n"
     ]
    }
   ],
   "source": [
    "model=[KNeighborsClassifier(),DecisionTreeClassifier()]\n",
    "max_accuracy_score=0\n",
    "for r_state in range (40,90):\n",
    "    xc_train,xc_test,yc_train,yc_test=train_test_split(x_c,y_c,random_state=r_state,test_size=.25)\n",
    "    for i_c in model:\n",
    "        i_c.fit(xc_train,yc_train)\n",
    "        pre_c=i_c.predict(xc_test)\n",
    "        acc_score=accuracy_score(yc_test,pre_c)\n",
    "        print('Accuracy Score correspond to random state',r_state,'is',acc_score)\n",
    "        if acc_score> max_accuracy_score:\n",
    "            max_accuracy_score=acc_score\n",
    "            final_state=r_state\n",
    "            final_model=i_c\n",
    "            \n",
    "print()\n",
    "print()\n",
    "print()\n",
    "print()\n",
    "print('max Accuracy Score correspond to random state',final_state, 'is',max_accuracy_score,'and model is',final_model)\n",
    "            "
   ]
  },
  {
   "cell_type": "code",
   "execution_count": 256,
   "id": "a8265e69",
   "metadata": {},
   "outputs": [
    {
     "data": {
      "text/plain": [
       "{'criterion': 'entropy',\n",
       " 'max_depth': 8,\n",
       " 'min_samples_split': 2,\n",
       " 'random_state': 42,\n",
       " 'splitter': 'best'}"
      ]
     },
     "execution_count": 256,
     "metadata": {},
     "output_type": "execute_result"
    }
   ],
   "source": [
    "# Checking the best parameter for prediction of DecisionTreeClassifier algorithm using Grid Search CV.\n",
    "xc_train,xc_test,yc_train,yc_test=train_test_split(x_c,y_c,random_state=76,test_size=0.25)\n",
    "DTC=DecisionTreeClassifier()\n",
    "parameters_c={'criterion' : [\"gini\", \"entropy\"],\n",
    "              'splitter' : [\"best\", \"random\"],\n",
    "              'min_samples_split' : [2, 3, 4],\n",
    "              'max_depth' : [4, 6, 8],\n",
    "              'random_state' : [42, 111, 759,76]}\n",
    "gridsearch=GridSearchCV(DTC,parameters_c)\n",
    "gridsearch.fit(xc_train,yc_train)\n",
    "gridsearch.best_params_"
   ]
  },
  {
   "cell_type": "code",
   "execution_count": 257,
   "id": "8101e174",
   "metadata": {},
   "outputs": [],
   "source": [
    "GSCV = GridSearchCV(DecisionTreeClassifier(), parameters_c, cv=5)"
   ]
  },
  {
   "cell_type": "code",
   "execution_count": 258,
   "id": "5841ff64",
   "metadata": {},
   "outputs": [
    {
     "data": {
      "text/html": [
       "<style>#sk-container-id-7 {color: black;background-color: white;}#sk-container-id-7 pre{padding: 0;}#sk-container-id-7 div.sk-toggleable {background-color: white;}#sk-container-id-7 label.sk-toggleable__label {cursor: pointer;display: block;width: 100%;margin-bottom: 0;padding: 0.3em;box-sizing: border-box;text-align: center;}#sk-container-id-7 label.sk-toggleable__label-arrow:before {content: \"▸\";float: left;margin-right: 0.25em;color: #696969;}#sk-container-id-7 label.sk-toggleable__label-arrow:hover:before {color: black;}#sk-container-id-7 div.sk-estimator:hover label.sk-toggleable__label-arrow:before {color: black;}#sk-container-id-7 div.sk-toggleable__content {max-height: 0;max-width: 0;overflow: hidden;text-align: left;background-color: #f0f8ff;}#sk-container-id-7 div.sk-toggleable__content pre {margin: 0.2em;color: black;border-radius: 0.25em;background-color: #f0f8ff;}#sk-container-id-7 input.sk-toggleable__control:checked~div.sk-toggleable__content {max-height: 200px;max-width: 100%;overflow: auto;}#sk-container-id-7 input.sk-toggleable__control:checked~label.sk-toggleable__label-arrow:before {content: \"▾\";}#sk-container-id-7 div.sk-estimator input.sk-toggleable__control:checked~label.sk-toggleable__label {background-color: #d4ebff;}#sk-container-id-7 div.sk-label input.sk-toggleable__control:checked~label.sk-toggleable__label {background-color: #d4ebff;}#sk-container-id-7 input.sk-hidden--visually {border: 0;clip: rect(1px 1px 1px 1px);clip: rect(1px, 1px, 1px, 1px);height: 1px;margin: -1px;overflow: hidden;padding: 0;position: absolute;width: 1px;}#sk-container-id-7 div.sk-estimator {font-family: monospace;background-color: #f0f8ff;border: 1px dotted black;border-radius: 0.25em;box-sizing: border-box;margin-bottom: 0.5em;}#sk-container-id-7 div.sk-estimator:hover {background-color: #d4ebff;}#sk-container-id-7 div.sk-parallel-item::after {content: \"\";width: 100%;border-bottom: 1px solid gray;flex-grow: 1;}#sk-container-id-7 div.sk-label:hover label.sk-toggleable__label {background-color: #d4ebff;}#sk-container-id-7 div.sk-serial::before {content: \"\";position: absolute;border-left: 1px solid gray;box-sizing: border-box;top: 0;bottom: 0;left: 50%;z-index: 0;}#sk-container-id-7 div.sk-serial {display: flex;flex-direction: column;align-items: center;background-color: white;padding-right: 0.2em;padding-left: 0.2em;position: relative;}#sk-container-id-7 div.sk-item {position: relative;z-index: 1;}#sk-container-id-7 div.sk-parallel {display: flex;align-items: stretch;justify-content: center;background-color: white;position: relative;}#sk-container-id-7 div.sk-item::before, #sk-container-id-7 div.sk-parallel-item::before {content: \"\";position: absolute;border-left: 1px solid gray;box-sizing: border-box;top: 0;bottom: 0;left: 50%;z-index: -1;}#sk-container-id-7 div.sk-parallel-item {display: flex;flex-direction: column;z-index: 1;position: relative;background-color: white;}#sk-container-id-7 div.sk-parallel-item:first-child::after {align-self: flex-end;width: 50%;}#sk-container-id-7 div.sk-parallel-item:last-child::after {align-self: flex-start;width: 50%;}#sk-container-id-7 div.sk-parallel-item:only-child::after {width: 0;}#sk-container-id-7 div.sk-dashed-wrapped {border: 1px dashed gray;margin: 0 0.4em 0.5em 0.4em;box-sizing: border-box;padding-bottom: 0.4em;background-color: white;}#sk-container-id-7 div.sk-label label {font-family: monospace;font-weight: bold;display: inline-block;line-height: 1.2em;}#sk-container-id-7 div.sk-label-container {text-align: center;}#sk-container-id-7 div.sk-container {/* jupyter's `normalize.less` sets `[hidden] { display: none; }` but bootstrap.min.css set `[hidden] { display: none !important; }` so we also need the `!important` here to be able to override the default hidden behavior on the sphinx rendered scikit-learn.org. See: https://github.com/scikit-learn/scikit-learn/issues/21755 */display: inline-block !important;position: relative;}#sk-container-id-7 div.sk-text-repr-fallback {display: none;}</style><div id=\"sk-container-id-7\" class=\"sk-top-container\"><div class=\"sk-text-repr-fallback\"><pre>GridSearchCV(cv=5, estimator=DecisionTreeClassifier(),\n",
       "             param_grid={&#x27;criterion&#x27;: [&#x27;gini&#x27;, &#x27;entropy&#x27;],\n",
       "                         &#x27;max_depth&#x27;: [4, 6, 8], &#x27;min_samples_split&#x27;: [2, 3, 4],\n",
       "                         &#x27;random_state&#x27;: [42, 111, 759, 76],\n",
       "                         &#x27;splitter&#x27;: [&#x27;best&#x27;, &#x27;random&#x27;]})</pre><b>In a Jupyter environment, please rerun this cell to show the HTML representation or trust the notebook. <br />On GitHub, the HTML representation is unable to render, please try loading this page with nbviewer.org.</b></div><div class=\"sk-container\" hidden><div class=\"sk-item sk-dashed-wrapped\"><div class=\"sk-label-container\"><div class=\"sk-label sk-toggleable\"><input class=\"sk-toggleable__control sk-hidden--visually\" id=\"sk-estimator-id-7\" type=\"checkbox\" ><label for=\"sk-estimator-id-7\" class=\"sk-toggleable__label sk-toggleable__label-arrow\">GridSearchCV</label><div class=\"sk-toggleable__content\"><pre>GridSearchCV(cv=5, estimator=DecisionTreeClassifier(),\n",
       "             param_grid={&#x27;criterion&#x27;: [&#x27;gini&#x27;, &#x27;entropy&#x27;],\n",
       "                         &#x27;max_depth&#x27;: [4, 6, 8], &#x27;min_samples_split&#x27;: [2, 3, 4],\n",
       "                         &#x27;random_state&#x27;: [42, 111, 759, 76],\n",
       "                         &#x27;splitter&#x27;: [&#x27;best&#x27;, &#x27;random&#x27;]})</pre></div></div></div><div class=\"sk-parallel\"><div class=\"sk-parallel-item\"><div class=\"sk-item\"><div class=\"sk-label-container\"><div class=\"sk-label sk-toggleable\"><input class=\"sk-toggleable__control sk-hidden--visually\" id=\"sk-estimator-id-8\" type=\"checkbox\" ><label for=\"sk-estimator-id-8\" class=\"sk-toggleable__label sk-toggleable__label-arrow\">estimator: DecisionTreeClassifier</label><div class=\"sk-toggleable__content\"><pre>DecisionTreeClassifier()</pre></div></div></div><div class=\"sk-serial\"><div class=\"sk-item\"><div class=\"sk-estimator sk-toggleable\"><input class=\"sk-toggleable__control sk-hidden--visually\" id=\"sk-estimator-id-9\" type=\"checkbox\" ><label for=\"sk-estimator-id-9\" class=\"sk-toggleable__label sk-toggleable__label-arrow\">DecisionTreeClassifier</label><div class=\"sk-toggleable__content\"><pre>DecisionTreeClassifier()</pre></div></div></div></div></div></div></div></div></div></div>"
      ],
      "text/plain": [
       "GridSearchCV(cv=5, estimator=DecisionTreeClassifier(),\n",
       "             param_grid={'criterion': ['gini', 'entropy'],\n",
       "                         'max_depth': [4, 6, 8], 'min_samples_split': [2, 3, 4],\n",
       "                         'random_state': [42, 111, 759, 76],\n",
       "                         'splitter': ['best', 'random']})"
      ]
     },
     "execution_count": 258,
     "metadata": {},
     "output_type": "execute_result"
    }
   ],
   "source": [
    "GSCV.fit(xc_train,yc_train)  # Trained the model."
   ]
  },
  {
   "cell_type": "code",
   "execution_count": 260,
   "id": "9574ba3f",
   "metadata": {},
   "outputs": [
    {
     "name": "stdout",
     "output_type": "stream",
     "text": [
      "Accuracy score for the Best Model is: 90.78947368421053\n"
     ]
    }
   ],
   "source": [
    "Final_Model = DecisionTreeClassifier(criterion=\"entropy\", max_depth=8, min_samples_split=2,  # Again Trained the model with best parameter\n",
    "                                     random_state=42, splitter=\"best\")\n",
    "Classifier = Final_Model.fit(xc_train, yc_train)\n",
    "fmod_pred = Final_Model.predict(xc_test)\n",
    "fmod_acc = (accuracy_score(yc_test, fmod_pred))*100\n",
    "print(\"Accuracy score for the Best Model is:\", fmod_acc)"
   ]
  },
  {
   "cell_type": "markdown",
   "id": "fea7c104",
   "metadata": {},
   "source": [
    "I have successfully incorporated the Hyper Parameter Tuning on my Final Model and received the accuracy score for it."
   ]
  },
  {
   "cell_type": "markdown",
   "id": "0b812215",
   "metadata": {},
   "source": [
    "# Calculating the Cross Validation Score"
   ]
  },
  {
   "cell_type": "code",
   "execution_count": 272,
   "id": "9eb923f3",
   "metadata": {},
   "outputs": [
    {
     "name": "stdout",
     "output_type": "stream",
     "text": [
      "Cross Val Score 86.94210526315791\n"
     ]
    }
   ],
   "source": [
    "score=cross_val_score(DTC,x_c,y_c,cv=20,scoring='accuracy').mean()\n",
    "print('Cross Val Score',score*100)"
   ]
  },
  {
   "cell_type": "code",
   "execution_count": null,
   "id": "d7870a42",
   "metadata": {},
   "outputs": [],
   "source": []
  }
 ],
 "metadata": {
  "kernelspec": {
   "display_name": "Python 3 (ipykernel)",
   "language": "python",
   "name": "python3"
  },
  "language_info": {
   "codemirror_mode": {
    "name": "ipython",
    "version": 3
   },
   "file_extension": ".py",
   "mimetype": "text/x-python",
   "name": "python",
   "nbconvert_exporter": "python",
   "pygments_lexer": "ipython3",
   "version": "3.9.12"
  }
 },
 "nbformat": 4,
 "nbformat_minor": 5
}
